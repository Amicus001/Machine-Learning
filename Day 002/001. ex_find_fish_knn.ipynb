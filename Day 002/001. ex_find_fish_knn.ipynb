{
 "cells": [
  {
   "cell_type": "markdown",
   "source": [
    "### 목표: 생선 품종 분류 모델\n",
    " - 데 이 터 : 2가지 품종의 생선 데이터 fish.csv\n",
    "  - feature : Weight, Length\n",
    "  - target  : Species\n",
    "  - 유    형: 지도학습 / 분류\n",
    "   "
   ],
   "metadata": {
    "collapsed": false
   },
   "id": "d57614be076a71d5"
  },
  {
   "cell_type": "markdown",
   "source": [
    "1. 모듈 로딩, 데이터 준비"
   ],
   "metadata": {
    "collapsed": false
   },
   "id": "5afc12d3131bc4b8"
  },
  {
   "cell_type": "code",
   "outputs": [],
   "source": [
    "import pandas as pd                                 #데이터파일 관련모듈\n",
    "from sklearn.neighbors import KNeighborsClassifier  #기계학습 관련 모듈"
   ],
   "metadata": {
    "collapsed": false,
    "ExecuteTime": {
     "end_time": "2024-02-26T04:35:42.920721300Z",
     "start_time": "2024-02-26T04:35:42.816814100Z"
    }
   },
   "id": "528f072e7c716aea",
   "execution_count": 155
  },
  {
   "cell_type": "code",
   "outputs": [
    {
     "name": "stdout",
     "output_type": "stream",
     "text": [
      "<class 'pandas.core.frame.DataFrame'>\n",
      "RangeIndex: 159 entries, 0 to 158\n",
      "Data columns (total 3 columns):\n",
      " #   Column   Non-Null Count  Dtype  \n",
      "---  ------   --------------  -----  \n",
      " 0   Species  159 non-null    object \n",
      " 1   Weight   159 non-null    float64\n",
      " 2   Length   159 non-null    float64\n",
      "dtypes: float64(2), object(1)\n",
      "memory usage: 3.9+ KB\n"
     ]
    }
   ],
   "source": [
    "data = '../data/fish.csv'\n",
    "\n",
    "#5개의 feature/특성 중 2개 선택\n",
    "fishDF = pd.read_csv(data, usecols=[0,1,2])\n",
    "\n",
    "fishDF.info()"
   ],
   "metadata": {
    "collapsed": false,
    "ExecuteTime": {
     "end_time": "2024-02-26T04:35:50.865590100Z",
     "start_time": "2024-02-26T04:35:50.853588200Z"
    }
   },
   "id": "9d55de28c118141c",
   "execution_count": 180
  },
  {
   "cell_type": "code",
   "outputs": [],
   "source": [
    "# Bream, Smelt 품종 행만 추출\n",
    "mask = fishDF.Species.isin(['Bream', 'Smelt']) # Boolean indexing\n",
    "\n",
    "# 해당 행만 도출\n",
    "twoFishDF=fishDF[mask] # species가 bream, smelt인 것만 필터링 하여 도출\n",
    "\n",
    "# 인덱스 정리\n",
    "twoFishDF.reset_index(drop=True, inplace=True)"
   ],
   "metadata": {
    "collapsed": false,
    "ExecuteTime": {
     "end_time": "2024-02-26T04:36:00.869709500Z",
     "start_time": "2024-02-26T04:36:00.848941700Z"
    }
   },
   "id": "68c8a3ac43e1b9ab",
   "execution_count": 183
  },
  {
   "cell_type": "code",
   "outputs": [
    {
     "data": {
      "text/plain": "  Species  Weight  Length\n0       0   242.0    25.4\n1       0   290.0    26.3\n2       0   340.0    26.5\n3       0   363.0    29.0\n4       0   430.0    29.0",
      "text/html": "<div>\n<style scoped>\n    .dataframe tbody tr th:only-of-type {\n        vertical-align: middle;\n    }\n\n    .dataframe tbody tr th {\n        vertical-align: top;\n    }\n\n    .dataframe thead th {\n        text-align: right;\n    }\n</style>\n<table border=\"1\" class=\"dataframe\">\n  <thead>\n    <tr style=\"text-align: right;\">\n      <th></th>\n      <th>Species</th>\n      <th>Weight</th>\n      <th>Length</th>\n    </tr>\n  </thead>\n  <tbody>\n    <tr>\n      <th>0</th>\n      <td>0</td>\n      <td>242.0</td>\n      <td>25.4</td>\n    </tr>\n    <tr>\n      <th>1</th>\n      <td>0</td>\n      <td>290.0</td>\n      <td>26.3</td>\n    </tr>\n    <tr>\n      <th>2</th>\n      <td>0</td>\n      <td>340.0</td>\n      <td>26.5</td>\n    </tr>\n    <tr>\n      <th>3</th>\n      <td>0</td>\n      <td>363.0</td>\n      <td>29.0</td>\n    </tr>\n    <tr>\n      <th>4</th>\n      <td>0</td>\n      <td>430.0</td>\n      <td>29.0</td>\n    </tr>\n  </tbody>\n</table>\n</div>"
     },
     "execution_count": 184,
     "metadata": {},
     "output_type": "execute_result"
    }
   ],
   "source": [
    "# Bream, Smelt 품종명 수치화\n",
    "# twoFishDF['Species']=twoFishDF['Species'].replace({'Bream':0, 'Smelt':1})\n",
    "twoFishDF.loc[:,'Species'] = twoFishDF['Species'].replace({'Bream':0, 'Smelt':1}).copy()\n",
    "twoFishDF.head()\n"
   ],
   "metadata": {
    "collapsed": false,
    "ExecuteTime": {
     "end_time": "2024-02-26T04:36:13.122167500Z",
     "start_time": "2024-02-26T04:36:13.086539400Z"
    }
   },
   "id": "38f8dd408cb638fc",
   "execution_count": 184
  },
  {
   "cell_type": "code",
   "outputs": [
    {
     "name": "stderr",
     "output_type": "stream",
     "text": [
      "C:\\Users\\kdp\\AppData\\Local\\Temp\\ipykernel_13500\\3450856886.py:1: SettingWithCopyWarning: \n",
      "A value is trying to be set on a copy of a slice from a DataFrame.\n",
      "Try using .loc[row_indexer,col_indexer] = value instead\n",
      "\n",
      "See the caveats in the documentation: https://pandas.pydata.org/pandas-docs/stable/user_guide/indexing.html#returning-a-view-versus-a-copy\n",
      "  twoFishDF['Species'] = twoFishDF['Species'].astype(int).copy()\n"
     ]
    },
    {
     "data": {
      "text/plain": "Species      int32\nWeight     float64\nLength     float64\ndtype: object"
     },
     "execution_count": 186,
     "metadata": {},
     "output_type": "execute_result"
    }
   ],
   "source": [
    "twoFishDF['Species'] = twoFishDF['Species'].astype(int).copy()\n",
    "twoFishDF.dtypes"
   ],
   "metadata": {
    "collapsed": false,
    "ExecuteTime": {
     "end_time": "2024-02-26T04:36:33.550812Z",
     "start_time": "2024-02-26T04:36:33.521537300Z"
    }
   },
   "id": "d708473a8ce51647",
   "execution_count": 186
  },
  {
   "cell_type": "code",
   "outputs": [
    {
     "data": {
      "text/plain": "<matplotlib.collections.PathCollection at 0x1fc71cf6a30>"
     },
     "execution_count": 187,
     "metadata": {},
     "output_type": "execute_result"
    },
    {
     "data": {
      "text/plain": "<Figure size 640x480 with 1 Axes>",
      "image/png": "[encoded data removed]"
     },
     "metadata": {},
     "output_type": "display_data"
    }
   ],
   "source": [
    "#Weight, Length로 품종 구별이 가능한지 시각화 확인\n",
    "import matplotlib.pyplot as plt\n",
    "\n",
    "plt.scatter(twoFishDF['Weight'], twoFishDF['Length'], c = twoFishDF.Species, alpha=0.7)"
   ],
   "metadata": {
    "collapsed": false,
    "ExecuteTime": {
     "end_time": "2024-02-26T04:36:45.748042100Z",
     "start_time": "2024-02-26T04:36:45.652274400Z"
    }
   },
   "id": "4d6ebef5a08bd79a",
   "execution_count": 187
  },
  {
   "cell_type": "markdown",
   "source": [
    "    3. 기계학습을 위한 데이터 준비\n",
    " - feature / 특성 + target/label/class\n",
    "  - 학습용 데이터셋 : 80 %\n",
    "    - 테스트용      : 20 % "
   ],
   "metadata": {
    "collapsed": false
   },
   "id": "badc93781059e829"
  },
  {
   "cell_type": "markdown",
   "source": [
    "3-1. 직접 target / label 컬럼의 비율을 고려하여 학습 & 테스트 데이터셋 준비"
   ],
   "metadata": {
    "collapsed": false
   },
   "id": "fbbc03310c64363a"
  },
  {
   "cell_type": "code",
   "outputs": [
    {
     "name": "stdout",
     "output_type": "stream",
     "text": [
      "trainDF.shape: (40, 3)\n",
      "testDF.shape: (10, 3)\n"
     ]
    }
   ],
   "source": [
    "#학습과 테스트비율 조절갯수 계산\n",
    "num = round(twoFishDF.shape[0] * 0.8)\n",
    "\n",
    "# 학습 데이터셋 추출\n",
    "trainDF = twoFishDF.iloc[:num+1]\n",
    "print(f\"trainDF.shape: {trainDF.shape}\")\n",
    "\n",
    "# 테스트 데이터셋 추출\n",
    "testDF = twoFishDF.iloc[num:]\n",
    "print(f\"testDF.shape: {testDF.shape}\")"
   ],
   "metadata": {
    "collapsed": false,
    "ExecuteTime": {
     "end_time": "2024-02-26T04:36:48.350148200Z",
     "start_time": "2024-02-26T04:36:48.325257600Z"
    }
   },
   "id": "774602936f3dc7b9",
   "execution_count": 188
  },
  {
   "cell_type": "code",
   "outputs": [
    {
     "data": {
      "text/plain": "    Species  Weight  Length\n10        0   475.0    31.0\n29        0  1000.0    37.0\n30        0   920.0    38.5\n23        0   680.0    35.0\n13        0   340.0    32.0\n26        0   720.0    35.0\n19        0   650.0    33.5\n39        1     9.8    11.2\n35        1     6.7     9.8\n27        0   714.0    36.0\n31        0   955.0    38.5\n25        0   725.0    35.0\n1         0   290.0    26.3\n32        0   925.0    39.5\n43        1     9.8    12.0\n6         0   500.0    29.7\n33        0   975.0    41.0\n48        1    19.9    15.0\n17        0   700.0    33.0\n40        1     8.7    11.3\n15        0   600.0    32.0\n41        1    10.0    11.8\n4         0   430.0    29.0\n8         0   450.0    30.0\n0         0   242.0    25.4\n20        0   575.0    34.0\n16        0   700.0    33.0\n7         0   390.0    30.0\n37        1     7.0    10.6\n38        1     9.7    11.0\n9         0   500.0    30.7\n12        0   500.0    31.5\n46        1    12.2    13.0\n14        0   600.0    32.0\n3         0   363.0    29.0\n18        0   610.0    33.5\n45        1    13.4    12.4\n11        0   500.0    31.0\n28        0   850.0    36.0\n34        0   950.0    41.0\n44        1    12.2    12.2\n24        0   700.0    35.0\n2         0   340.0    26.5\n47        1    19.7    14.3\n21        0   685.0    34.0\n42        1     9.9    11.8\n5         0   450.0    29.7\n22        0   620.0    34.5\n36        1     7.5    10.5",
      "text/html": "<div>\n<style scoped>\n    .dataframe tbody tr th:only-of-type {\n        vertical-align: middle;\n    }\n\n    .dataframe tbody tr th {\n        vertical-align: top;\n    }\n\n    .dataframe thead th {\n        text-align: right;\n    }\n</style>\n<table border=\"1\" class=\"dataframe\">\n  <thead>\n    <tr style=\"text-align: right;\">\n      <th></th>\n      <th>Species</th>\n      <th>Weight</th>\n      <th>Length</th>\n    </tr>\n  </thead>\n  <tbody>\n    <tr>\n      <th>10</th>\n      <td>0</td>\n      <td>475.0</td>\n      <td>31.0</td>\n    </tr>\n    <tr>\n      <th>29</th>\n      <td>0</td>\n      <td>1000.0</td>\n      <td>37.0</td>\n    </tr>\n    <tr>\n      <th>30</th>\n      <td>0</td>\n      <td>920.0</td>\n      <td>38.5</td>\n    </tr>\n    <tr>\n      <th>23</th>\n      <td>0</td>\n      <td>680.0</td>\n      <td>35.0</td>\n    </tr>\n    <tr>\n      <th>13</th>\n      <td>0</td>\n      <td>340.0</td>\n      <td>32.0</td>\n    </tr>\n    <tr>\n      <th>26</th>\n      <td>0</td>\n      <td>720.0</td>\n      <td>35.0</td>\n    </tr>\n    <tr>\n      <th>19</th>\n      <td>0</td>\n      <td>650.0</td>\n      <td>33.5</td>\n    </tr>\n    <tr>\n      <th>39</th>\n      <td>1</td>\n      <td>9.8</td>\n      <td>11.2</td>\n    </tr>\n    <tr>\n      <th>35</th>\n      <td>1</td>\n      <td>6.7</td>\n      <td>9.8</td>\n    </tr>\n    <tr>\n      <th>27</th>\n      <td>0</td>\n      <td>714.0</td>\n      <td>36.0</td>\n    </tr>\n    <tr>\n      <th>31</th>\n      <td>0</td>\n      <td>955.0</td>\n      <td>38.5</td>\n    </tr>\n    <tr>\n      <th>25</th>\n      <td>0</td>\n      <td>725.0</td>\n      <td>35.0</td>\n    </tr>\n    <tr>\n      <th>1</th>\n      <td>0</td>\n      <td>290.0</td>\n      <td>26.3</td>\n    </tr>\n    <tr>\n      <th>32</th>\n      <td>0</td>\n      <td>925.0</td>\n      <td>39.5</td>\n    </tr>\n    <tr>\n      <th>43</th>\n      <td>1</td>\n      <td>9.8</td>\n      <td>12.0</td>\n    </tr>\n    <tr>\n      <th>6</th>\n      <td>0</td>\n      <td>500.0</td>\n      <td>29.7</td>\n    </tr>\n    <tr>\n      <th>33</th>\n      <td>0</td>\n      <td>975.0</td>\n      <td>41.0</td>\n    </tr>\n    <tr>\n      <th>48</th>\n      <td>1</td>\n      <td>19.9</td>\n      <td>15.0</td>\n    </tr>\n    <tr>\n      <th>17</th>\n      <td>0</td>\n      <td>700.0</td>\n      <td>33.0</td>\n    </tr>\n    <tr>\n      <th>40</th>\n      <td>1</td>\n      <td>8.7</td>\n      <td>11.3</td>\n    </tr>\n    <tr>\n      <th>15</th>\n      <td>0</td>\n      <td>600.0</td>\n      <td>32.0</td>\n    </tr>\n    <tr>\n      <th>41</th>\n      <td>1</td>\n      <td>10.0</td>\n      <td>11.8</td>\n    </tr>\n    <tr>\n      <th>4</th>\n      <td>0</td>\n      <td>430.0</td>\n      <td>29.0</td>\n    </tr>\n    <tr>\n      <th>8</th>\n      <td>0</td>\n      <td>450.0</td>\n      <td>30.0</td>\n    </tr>\n    <tr>\n      <th>0</th>\n      <td>0</td>\n      <td>242.0</td>\n      <td>25.4</td>\n    </tr>\n    <tr>\n      <th>20</th>\n      <td>0</td>\n      <td>575.0</td>\n      <td>34.0</td>\n    </tr>\n    <tr>\n      <th>16</th>\n      <td>0</td>\n      <td>700.0</td>\n      <td>33.0</td>\n    </tr>\n    <tr>\n      <th>7</th>\n      <td>0</td>\n      <td>390.0</td>\n      <td>30.0</td>\n    </tr>\n    <tr>\n      <th>37</th>\n      <td>1</td>\n      <td>7.0</td>\n      <td>10.6</td>\n    </tr>\n    <tr>\n      <th>38</th>\n      <td>1</td>\n      <td>9.7</td>\n      <td>11.0</td>\n    </tr>\n    <tr>\n      <th>9</th>\n      <td>0</td>\n      <td>500.0</td>\n      <td>30.7</td>\n    </tr>\n    <tr>\n      <th>12</th>\n      <td>0</td>\n      <td>500.0</td>\n      <td>31.5</td>\n    </tr>\n    <tr>\n      <th>46</th>\n      <td>1</td>\n      <td>12.2</td>\n      <td>13.0</td>\n    </tr>\n    <tr>\n      <th>14</th>\n      <td>0</td>\n      <td>600.0</td>\n      <td>32.0</td>\n    </tr>\n    <tr>\n      <th>3</th>\n      <td>0</td>\n      <td>363.0</td>\n      <td>29.0</td>\n    </tr>\n    <tr>\n      <th>18</th>\n      <td>0</td>\n      <td>610.0</td>\n      <td>33.5</td>\n    </tr>\n    <tr>\n      <th>45</th>\n      <td>1</td>\n      <td>13.4</td>\n      <td>12.4</td>\n    </tr>\n    <tr>\n      <th>11</th>\n      <td>0</td>\n      <td>500.0</td>\n      <td>31.0</td>\n    </tr>\n    <tr>\n      <th>28</th>\n      <td>0</td>\n      <td>850.0</td>\n      <td>36.0</td>\n    </tr>\n    <tr>\n      <th>34</th>\n      <td>0</td>\n      <td>950.0</td>\n      <td>41.0</td>\n    </tr>\n    <tr>\n      <th>44</th>\n      <td>1</td>\n      <td>12.2</td>\n      <td>12.2</td>\n    </tr>\n    <tr>\n      <th>24</th>\n      <td>0</td>\n      <td>700.0</td>\n      <td>35.0</td>\n    </tr>\n    <tr>\n      <th>2</th>\n      <td>0</td>\n      <td>340.0</td>\n      <td>26.5</td>\n    </tr>\n    <tr>\n      <th>47</th>\n      <td>1</td>\n      <td>19.7</td>\n      <td>14.3</td>\n    </tr>\n    <tr>\n      <th>21</th>\n      <td>0</td>\n      <td>685.0</td>\n      <td>34.0</td>\n    </tr>\n    <tr>\n      <th>42</th>\n      <td>1</td>\n      <td>9.9</td>\n      <td>11.8</td>\n    </tr>\n    <tr>\n      <th>5</th>\n      <td>0</td>\n      <td>450.0</td>\n      <td>29.7</td>\n    </tr>\n    <tr>\n      <th>22</th>\n      <td>0</td>\n      <td>620.0</td>\n      <td>34.5</td>\n    </tr>\n    <tr>\n      <th>36</th>\n      <td>1</td>\n      <td>7.5</td>\n      <td>10.5</td>\n    </tr>\n  </tbody>\n</table>\n</div>"
     },
     "execution_count": 189,
     "metadata": {},
     "output_type": "execute_result"
    }
   ],
   "source": [
    "#데이터 섞기: 100% 모두 섞기\n",
    "#안 섞으면 학습은 Bream 위주로 해버림: 테스트는 다른 종 위주로 할 거라서 의미가 없긔. \n",
    "\n",
    "twofishDF = twoFishDF.sample(frac = 1.)\n",
    "twofishDF"
   ],
   "metadata": {
    "collapsed": false,
    "ExecuteTime": {
     "end_time": "2024-02-26T04:36:49.031217500Z",
     "start_time": "2024-02-26T04:36:49.011032Z"
    }
   },
   "id": "e0f332785a9a9e5c",
   "execution_count": 189
  },
  {
   "cell_type": "markdown",
   "source": [
    "3-2. scikit - learn 모듈 활용한 학습용 테스트용 데이터셋 준비\n",
    "- 추가모듈로딩"
   ],
   "metadata": {
    "collapsed": false
   },
   "id": "5eb1c35a792d8478"
  },
  {
   "cell_type": "code",
   "outputs": [],
   "source": [],
   "metadata": {
    "collapsed": false
   },
   "id": "42b6605038359442"
  },
  {
   "cell_type": "code",
   "outputs": [],
   "source": [
    "from sklearn.model_selection import train_test_split"
   ],
   "metadata": {
    "collapsed": false,
    "ExecuteTime": {
     "end_time": "2024-02-26T04:36:50.658497600Z",
     "start_time": "2024-02-26T04:36:50.633811700Z"
    }
   },
   "id": "21ba066bc5892dc7",
   "execution_count": 190
  },
  {
   "cell_type": "code",
   "outputs": [
    {
     "name": "stdout",
     "output_type": "stream",
     "text": [
      "featureDF = (49, 2)\n",
      "    Weight  Length\n",
      "0   242.0    25.4\n",
      "1   290.0    26.3\n",
      "targetSR = (49,) \n",
      " 0    0\n",
      "1    0\n",
      "Name: Species, dtype: int32\n"
     ]
    }
   ],
   "source": [
    "featureDF = twoFishDF[twoFishDF.columns[1:]]\n",
    "targetSR = twoFishDF.Species\n",
    "\n",
    "print(f'featureDF = {featureDF.shape}\\n {featureDF.head(2)}')\n",
    "print(f'targetSR = {targetSR.shape} \\n {targetSR.head(2)}')"
   ],
   "metadata": {
    "collapsed": false,
    "ExecuteTime": {
     "end_time": "2024-02-26T04:36:51.275602800Z",
     "start_time": "2024-02-26T04:36:51.238362600Z"
    }
   },
   "id": "4801ea0901513203",
   "execution_count": 191
  },
  {
   "cell_type": "code",
   "outputs": [],
   "source": [
    "#비율 설정 없이 학습/테스트셋 분리\n",
    "#[전달]: feature data, target data\n",
    "#[기본] shuffle = True, train:test = 0.75 : 0.25\n",
    "#[반환] 학습용 feature, 테스트용 feature, 학습용 target, 테스트용 target\n",
    "\n",
    "X_train, X_test, Y_train, Y_test = train_test_split(featureDF, targetSR)"
   ],
   "metadata": {
    "collapsed": false,
    "ExecuteTime": {
     "end_time": "2024-02-26T04:36:51.840509Z",
     "start_time": "2024-02-26T04:36:51.821749900Z"
    }
   },
   "id": "742d85fec965c642",
   "execution_count": 192
  },
  {
   "cell_type": "code",
   "outputs": [
    {
     "name": "stdout",
     "output_type": "stream",
     "text": [
      "X_train:(36, 2), Y_train:(36,)\n",
      "    Weight  Length\n",
      "45    13.4    12.4\n",
      "13   340.0    32.0\n",
      "45    1\n",
      "13    0\n",
      "Name: Species, dtype: int32\n",
      "X_test:(13, 2), Y_test:(13,)\n",
      "    Weight  Length\n",
      "19   650.0    33.5\n",
      "22   620.0    34.5\n",
      "19    0\n",
      "22    0\n",
      "Name: Species, dtype: int32\n"
     ]
    }
   ],
   "source": [
    "print(f'X_train:{X_train.shape}, Y_train:{Y_train.shape}')\n",
    "print(X_train.head(2), Y_train.head(2),sep='\\n')\n",
    "print(f'X_test:{X_test.shape}, Y_test:{Y_test.shape}')\n",
    "print(X_test.head(2), Y_test.head(2), sep='\\n')"
   ],
   "metadata": {
    "collapsed": false,
    "ExecuteTime": {
     "end_time": "2024-02-26T04:36:52.632257Z",
     "start_time": "2024-02-26T04:36:52.604595500Z"
    }
   },
   "id": "95bc8992b524709d",
   "execution_count": 193
  },
  {
   "cell_type": "code",
   "outputs": [
    {
     "name": "stdout",
     "output_type": "stream",
     "text": [
      "x_train : (36, 2), y_train : (36,)\n",
      "\n",
      "    Weight  Length\n",
      "37     7.0    10.6\n",
      "28   850.0    36.0\n",
      "37    1\n",
      "28    0\n",
      "Name: Species, dtype: int32\n",
      "\n",
      "x_test : (13, 2), y_test : (13,)\n",
      "\n",
      "    Weight  Length\n",
      "44    12.2    12.2\n",
      "16   700.0    33.0\n",
      "44    1\n",
      "16    0\n",
      "Name: Species, dtype: int32\n"
     ]
    }
   ],
   "source": [
    "#비율 설정하여 학습/테스트셋 분리\n",
    "#[전달]: feature data, target data\n",
    "#[기본] shuffle = True, train:test = 0.8 : 0.2\n",
    "#[설정] train:test = 0.8 : 0.2 -> test_size, train_size 설정\n",
    "#       분류의 경우: target이 불균형일 때 비율 지정하는 매개변수 statify 매개변수를 target으로 설정\n",
    "#[반환] 학습용 feature, 테스트용 feature, 학습용 target, 테스트용 target\n",
    "\n",
    "x_train, x_test, y_train, y_test = train_test_split(featureDF, targetSR)\n",
    "\n",
    "print(f'x_train : {x_train.shape}, y_train : {y_train.shape}')\n",
    "print()\n",
    "print(x_train.head(2), y_train.head(2), sep='\\n')\n",
    "print()\n",
    "print(f'x_test : {x_test.shape}, y_test : {y_test.shape}')\n",
    "print()\n",
    "print(x_test.head(2), y_test.head(2), sep='\\n')"
   ],
   "metadata": {
    "collapsed": false,
    "ExecuteTime": {
     "end_time": "2024-02-26T04:36:53.083343300Z",
     "start_time": "2024-02-26T04:36:53.064726200Z"
    }
   },
   "id": "dd186ea3e6be1826",
   "execution_count": 194
  },
  {
   "cell_type": "code",
   "outputs": [
    {
     "name": "stdout",
     "output_type": "stream",
     "text": [
      "Species\n",
      "0    0.694444\n",
      "1    0.305556\n",
      "Name: count, dtype: float64\n",
      "Species\n",
      "0    0.769231\n",
      "1    0.230769\n",
      "Name: count, dtype: float64\n"
     ]
    }
   ],
   "source": [
    "# 타겟/클래스 비율\n",
    "print(y_train.value_counts()/y_train.shape[0])\n",
    "print(y_test.value_counts()/y_test.shape[0])"
   ],
   "metadata": {
    "collapsed": false,
    "ExecuteTime": {
     "end_time": "2024-02-26T04:36:53.586925100Z",
     "start_time": "2024-02-26T04:36:53.553938200Z"
    }
   },
   "id": "51315eec0b193dad",
   "execution_count": 195
  },
  {
   "cell_type": "code",
   "outputs": [],
   "source": [
    "## -- 비율 설정과 함께 학습/테스트 셋 분리 - 1\n",
    "## -- [전달] 피쳐 데이터, 타겟 데이터\n",
    "## -- [기본] shuffle = True\n",
    "## -- [설정] train:test = 0.9:0.1 => test_size, train_size 매개변수 값 설정\n",
    "## -- [반환] 학습용 피쳐, 태스트용 피쳐, 학습용 타겟, 테스트용 타겟\n",
    "X_train, X_test, y_train, y_test = train_test_split(featureDF, targetSR, test_size = 0.1)\n",
    "\n",
    "#test_size 나 train_size 중 1개의 값을 정해주면 거기서 뺀 거를 다른 거의 사이즈로 자동 설정됨\n",
    "#근데 이렇게 해도 종 종류별로 그 비율을 맞춰주지는 않는다는 문제점이 발생"
   ],
   "metadata": {
    "collapsed": false,
    "ExecuteTime": {
     "end_time": "2024-02-26T04:36:54.109209Z",
     "start_time": "2024-02-26T04:36:54.068634700Z"
    }
   },
   "id": "810916874454f6be",
   "execution_count": 196
  },
  {
   "cell_type": "code",
   "outputs": [
    {
     "name": "stdout",
     "output_type": "stream",
     "text": [
      "X_train:(44, 2), Y_train:(36,)\n",
      "X_test:(5, 2), Y_test:(13,)\n",
      "\n",
      "X_test : (5, 2), Y_test : (13,)\n"
     ]
    }
   ],
   "source": [
    "print(f'X_train:{X_train.shape}, Y_train:{Y_train.shape}')\n",
    "#print(X_train.head(2), Y_train.head(2),sep='\\n')\n",
    "print(f'X_test:{X_test.shape}, Y_test:{Y_test.shape}')\n",
    "#print(X_test.head(2), Y_test.head(2), sep='\\n')\n",
    "print(f'\\nX_test : {X_test.shape}, Y_test : {Y_test.shape}')"
   ],
   "metadata": {
    "collapsed": false,
    "ExecuteTime": {
     "end_time": "2024-02-26T04:36:54.617817800Z",
     "start_time": "2024-02-26T04:36:54.605968500Z"
    }
   },
   "id": "d694a62101d042f9",
   "execution_count": 197
  },
  {
   "cell_type": "code",
   "outputs": [
    {
     "name": "stdout",
     "output_type": "stream",
     "text": [
      "X_train : (44, 2)\n",
      "    Weight  Length\n",
      "21   685.0    34.0\n",
      "15   600.0    32.0\n",
      "\n",
      "y_train : (44,)\n",
      "21    0\n",
      "15    0\n",
      "Name: Species, dtype: int32\n",
      "\n",
      "X_test : (5, 2)\n",
      "    Weight  Length\n",
      "5    450.0    29.7\n",
      "39     9.8    11.2\n",
      "\n",
      "y_test : (5,)\n",
      "5     0\n",
      "39    1\n",
      "Name: Species, dtype: int32\n"
     ]
    }
   ],
   "source": [
    "## -- 비율 설정과 함께 학습/테스트 셋 분리 - 2\n",
    "## -- [전달] 피쳐 데이터, 타겟 데이터\n",
    "## -- [기본] shuffle = True\n",
    "## -- [설정] train:test = 0.9:0.1 => test_size, train_size 매개변수 값 설정\n",
    "## --       분류의 경우 target이 불균형일 경우 비율 지정하는 stratify 매개변수를 target으로 설정\n",
    "## -- [반환] 학습용 피쳐, 태스트용 피쳐, 학습용 타겟, 테스트용 타겟\n",
    "X_train, X_test, y_train, y_test = train_test_split(featureDF, targetSR, test_size=0.1, stratify=targetSR)\n",
    "print(f\"X_train : {X_train.shape}\")\n",
    "print(X_train.head(2))\n",
    "print()\n",
    "print(f\"y_train : {y_train.shape}\")\n",
    "print(y_train.head(2))\n",
    "print()\n",
    "print(f\"X_test : {X_test.shape}\")\n",
    "print(X_test.head(2))\n",
    "print()\n",
    "print(f\"y_test : {y_test.shape}\")\n",
    "print(y_test.head(2))"
   ],
   "metadata": {
    "collapsed": false,
    "ExecuteTime": {
     "end_time": "2024-02-26T04:36:55.086633700Z",
     "start_time": "2024-02-26T04:36:55.075013900Z"
    }
   },
   "id": "973e514e5668eb7c",
   "execution_count": 198
  },
  {
   "cell_type": "code",
   "outputs": [
    {
     "name": "stdout",
     "output_type": "stream",
     "text": [
      "Species\n",
      "0    0.704545\n",
      "1    0.295455\n",
      "Name: count, dtype: float64\n",
      "Species\n",
      "0    0.8\n",
      "1    0.2\n",
      "Name: count, dtype: float64\n"
     ]
    }
   ],
   "source": [
    "# 타겟/클래스 비율\n",
    "print(y_train.value_counts()/y_train.shape[0])\n",
    "print(y_test.value_counts()/y_test.shape[0])"
   ],
   "metadata": {
    "collapsed": false,
    "ExecuteTime": {
     "end_time": "2024-02-26T04:36:55.592110Z",
     "start_time": "2024-02-26T04:36:55.569804Z"
    }
   },
   "id": "e77e510b2bd1a58",
   "execution_count": 199
  },
  {
   "cell_type": "code",
   "outputs": [
    {
     "name": "stdout",
     "output_type": "stream",
     "text": [
      "X_train : (39, 2)\n",
      "    Weight  Length\n",
      "3    363.0    29.0\n",
      "18   610.0    33.5\n",
      "\n",
      "y_train : (39,)\n",
      "3     0\n",
      "18    0\n",
      "Name: Species, dtype: int32\n",
      "\n",
      "X_val : (5, 2)\n",
      "    Weight  Length\n",
      "5    450.0    29.7\n",
      "39     9.8    11.2\n",
      "\n",
      "y_val : (5,)\n",
      "5     0\n",
      "39    1\n",
      "Name: Species, dtype: int32\n"
     ]
    }
   ],
   "source": [
    "### 검증용 데이터셋 준비 ==> 학습용 데이터셋에서 분리\n",
    "X_train, X_val, y_train, y_val = train_test_split(X_train, y_train, test_size=0.1, stratify=y_train)\n",
    "print(f\"X_train : {X_train.shape}\")\n",
    "print(X_train.head(2))\n",
    "print()\n",
    "print(f\"y_train : {y_train.shape}\")\n",
    "print(y_train.head(2))\n",
    "print()\n",
    "print(f\"X_val : {X_val.shape}\")\n",
    "print(X_test.head(2))\n",
    "print()\n",
    "print(f\"y_val : {y_val.shape}\")\n",
    "print(y_test.head(2))"
   ],
   "metadata": {
    "collapsed": false,
    "ExecuteTime": {
     "end_time": "2024-02-26T04:36:56.172546200Z",
     "start_time": "2024-02-26T04:36:56.145789900Z"
    }
   },
   "id": "76157ca56a9f4cf0",
   "execution_count": 200
  },
  {
   "cell_type": "markdown",
   "source": [
    "4. 학습 진행\n",
    "- 학습 방법: 지도학습 / 분류 => KNN\n",
    "- 모델 인스턴스 생성=> fit() 메서드"
   ],
   "metadata": {
    "collapsed": false
   },
   "id": "f17b33b1810e712"
  },
  {
   "cell_type": "code",
   "outputs": [
    {
     "data": {
      "text/plain": "KNeighborsClassifier()",
      "text/html": "<style>#sk-container-id-13 {color: black;}#sk-container-id-13 pre{padding: 0;}#sk-container-id-13 div.sk-toggleable {background-color: white;}#sk-container-id-13 label.sk-toggleable__label {cursor: pointer;display: block;width: 100%;margin-bottom: 0;padding: 0.3em;box-sizing: border-box;text-align: center;}#sk-container-id-13 label.sk-toggleable__label-arrow:before {content: \"▸\";float: left;margin-right: 0.25em;color: #696969;}#sk-container-id-13 label.sk-toggleable__label-arrow:hover:before {color: black;}#sk-container-id-13 div.sk-estimator:hover label.sk-toggleable__label-arrow:before {color: black;}#sk-container-id-13 div.sk-toggleable__content {max-height: 0;max-width: 0;overflow: hidden;text-align: left;background-color: #f0f8ff;}#sk-container-id-13 div.sk-toggleable__content pre {margin: 0.2em;color: black;border-radius: 0.25em;background-color: #f0f8ff;}#sk-container-id-13 input.sk-toggleable__control:checked~div.sk-toggleable__content {max-height: 200px;max-width: 100%;overflow: auto;}#sk-container-id-13 input.sk-toggleable__control:checked~label.sk-toggleable__label-arrow:before {content: \"▾\";}#sk-container-id-13 div.sk-estimator input.sk-toggleable__control:checked~label.sk-toggleable__label {background-color: #d4ebff;}#sk-container-id-13 div.sk-label input.sk-toggleable__control:checked~label.sk-toggleable__label {background-color: #d4ebff;}#sk-container-id-13 input.sk-hidden--visually {border: 0;clip: rect(1px 1px 1px 1px);clip: rect(1px, 1px, 1px, 1px);height: 1px;margin: -1px;overflow: hidden;padding: 0;position: absolute;width: 1px;}#sk-container-id-13 div.sk-estimator {font-family: monospace;background-color: #f0f8ff;border: 1px dotted black;border-radius: 0.25em;box-sizing: border-box;margin-bottom: 0.5em;}#sk-container-id-13 div.sk-estimator:hover {background-color: #d4ebff;}#sk-container-id-13 div.sk-parallel-item::after {content: \"\";width: 100%;border-bottom: 1px solid gray;flex-grow: 1;}#sk-container-id-13 div.sk-label:hover label.sk-toggleable__label {background-color: #d4ebff;}#sk-container-id-13 div.sk-serial::before {content: \"\";position: absolute;border-left: 1px solid gray;box-sizing: border-box;top: 0;bottom: 0;left: 50%;z-index: 0;}#sk-container-id-13 div.sk-serial {display: flex;flex-direction: column;align-items: center;background-color: white;padding-right: 0.2em;padding-left: 0.2em;position: relative;}#sk-container-id-13 div.sk-item {position: relative;z-index: 1;}#sk-container-id-13 div.sk-parallel {display: flex;align-items: stretch;justify-content: center;background-color: white;position: relative;}#sk-container-id-13 div.sk-item::before, #sk-container-id-13 div.sk-parallel-item::before {content: \"\";position: absolute;border-left: 1px solid gray;box-sizing: border-box;top: 0;bottom: 0;left: 50%;z-index: -1;}#sk-container-id-13 div.sk-parallel-item {display: flex;flex-direction: column;z-index: 1;position: relative;background-color: white;}#sk-container-id-13 div.sk-parallel-item:first-child::after {align-self: flex-end;width: 50%;}#sk-container-id-13 div.sk-parallel-item:last-child::after {align-self: flex-start;width: 50%;}#sk-container-id-13 div.sk-parallel-item:only-child::after {width: 0;}#sk-container-id-13 div.sk-dashed-wrapped {border: 1px dashed gray;margin: 0 0.4em 0.5em 0.4em;box-sizing: border-box;padding-bottom: 0.4em;background-color: white;}#sk-container-id-13 div.sk-label label {font-family: monospace;font-weight: bold;display: inline-block;line-height: 1.2em;}#sk-container-id-13 div.sk-label-container {text-align: center;}#sk-container-id-13 div.sk-container {/* jupyter's `normalize.less` sets `[hidden] { display: none; }` but bootstrap.min.css set `[hidden] { display: none !important; }` so we also need the `!important` here to be able to override the default hidden behavior on the sphinx rendered scikit-learn.org. See: https://github.com/scikit-learn/scikit-learn/issues/21755 */display: inline-block !important;position: relative;}#sk-container-id-13 div.sk-text-repr-fallback {display: none;}</style><div id=\"sk-container-id-13\" class=\"sk-top-container\"><div class=\"sk-text-repr-fallback\"><pre>KNeighborsClassifier()</pre><b>In a Jupyter environment, please rerun this cell to show the HTML representation or trust the notebook. <br />On GitHub, the HTML representation is unable to render, please try loading this page with nbviewer.org.</b></div><div class=\"sk-container\" hidden><div class=\"sk-item\"><div class=\"sk-estimator sk-toggleable\"><input class=\"sk-toggleable__control sk-hidden--visually\" id=\"sk-estimator-id-13\" type=\"checkbox\" checked><label for=\"sk-estimator-id-13\" class=\"sk-toggleable__label sk-toggleable__label-arrow\">KNeighborsClassifier</label><div class=\"sk-toggleable__content\"><pre>KNeighborsClassifier()</pre></div></div></div></div></div>"
     },
     "execution_count": 201,
     "metadata": {},
     "output_type": "execute_result"
    }
   ],
   "source": [
    "# 모델 인스턴스 생성\n",
    "model = KNeighborsClassifier()\n",
    "model"
   ],
   "metadata": {
    "collapsed": false,
    "ExecuteTime": {
     "end_time": "2024-02-26T04:36:57.408633600Z",
     "start_time": "2024-02-26T04:36:57.381606200Z"
    }
   },
   "id": "9c1d94e8cac550a9",
   "execution_count": 201
  },
  {
   "cell_type": "code",
   "outputs": [
    {
     "data": {
      "text/plain": "KNeighborsClassifier()",
      "text/html": "<style>#sk-container-id-14 {color: black;}#sk-container-id-14 pre{padding: 0;}#sk-container-id-14 div.sk-toggleable {background-color: white;}#sk-container-id-14 label.sk-toggleable__label {cursor: pointer;display: block;width: 100%;margin-bottom: 0;padding: 0.3em;box-sizing: border-box;text-align: center;}#sk-container-id-14 label.sk-toggleable__label-arrow:before {content: \"▸\";float: left;margin-right: 0.25em;color: #696969;}#sk-container-id-14 label.sk-toggleable__label-arrow:hover:before {color: black;}#sk-container-id-14 div.sk-estimator:hover label.sk-toggleable__label-arrow:before {color: black;}#sk-container-id-14 div.sk-toggleable__content {max-height: 0;max-width: 0;overflow: hidden;text-align: left;background-color: #f0f8ff;}#sk-container-id-14 div.sk-toggleable__content pre {margin: 0.2em;color: black;border-radius: 0.25em;background-color: #f0f8ff;}#sk-container-id-14 input.sk-toggleable__control:checked~div.sk-toggleable__content {max-height: 200px;max-width: 100%;overflow: auto;}#sk-container-id-14 input.sk-toggleable__control:checked~label.sk-toggleable__label-arrow:before {content: \"▾\";}#sk-container-id-14 div.sk-estimator input.sk-toggleable__control:checked~label.sk-toggleable__label {background-color: #d4ebff;}#sk-container-id-14 div.sk-label input.sk-toggleable__control:checked~label.sk-toggleable__label {background-color: #d4ebff;}#sk-container-id-14 input.sk-hidden--visually {border: 0;clip: rect(1px 1px 1px 1px);clip: rect(1px, 1px, 1px, 1px);height: 1px;margin: -1px;overflow: hidden;padding: 0;position: absolute;width: 1px;}#sk-container-id-14 div.sk-estimator {font-family: monospace;background-color: #f0f8ff;border: 1px dotted black;border-radius: 0.25em;box-sizing: border-box;margin-bottom: 0.5em;}#sk-container-id-14 div.sk-estimator:hover {background-color: #d4ebff;}#sk-container-id-14 div.sk-parallel-item::after {content: \"\";width: 100%;border-bottom: 1px solid gray;flex-grow: 1;}#sk-container-id-14 div.sk-label:hover label.sk-toggleable__label {background-color: #d4ebff;}#sk-container-id-14 div.sk-serial::before {content: \"\";position: absolute;border-left: 1px solid gray;box-sizing: border-box;top: 0;bottom: 0;left: 50%;z-index: 0;}#sk-container-id-14 div.sk-serial {display: flex;flex-direction: column;align-items: center;background-color: white;padding-right: 0.2em;padding-left: 0.2em;position: relative;}#sk-container-id-14 div.sk-item {position: relative;z-index: 1;}#sk-container-id-14 div.sk-parallel {display: flex;align-items: stretch;justify-content: center;background-color: white;position: relative;}#sk-container-id-14 div.sk-item::before, #sk-container-id-14 div.sk-parallel-item::before {content: \"\";position: absolute;border-left: 1px solid gray;box-sizing: border-box;top: 0;bottom: 0;left: 50%;z-index: -1;}#sk-container-id-14 div.sk-parallel-item {display: flex;flex-direction: column;z-index: 1;position: relative;background-color: white;}#sk-container-id-14 div.sk-parallel-item:first-child::after {align-self: flex-end;width: 50%;}#sk-container-id-14 div.sk-parallel-item:last-child::after {align-self: flex-start;width: 50%;}#sk-container-id-14 div.sk-parallel-item:only-child::after {width: 0;}#sk-container-id-14 div.sk-dashed-wrapped {border: 1px dashed gray;margin: 0 0.4em 0.5em 0.4em;box-sizing: border-box;padding-bottom: 0.4em;background-color: white;}#sk-container-id-14 div.sk-label label {font-family: monospace;font-weight: bold;display: inline-block;line-height: 1.2em;}#sk-container-id-14 div.sk-label-container {text-align: center;}#sk-container-id-14 div.sk-container {/* jupyter's `normalize.less` sets `[hidden] { display: none; }` but bootstrap.min.css set `[hidden] { display: none !important; }` so we also need the `!important` here to be able to override the default hidden behavior on the sphinx rendered scikit-learn.org. See: https://github.com/scikit-learn/scikit-learn/issues/21755 */display: inline-block !important;position: relative;}#sk-container-id-14 div.sk-text-repr-fallback {display: none;}</style><div id=\"sk-container-id-14\" class=\"sk-top-container\"><div class=\"sk-text-repr-fallback\"><pre>KNeighborsClassifier()</pre><b>In a Jupyter environment, please rerun this cell to show the HTML representation or trust the notebook. <br />On GitHub, the HTML representation is unable to render, please try loading this page with nbviewer.org.</b></div><div class=\"sk-container\" hidden><div class=\"sk-item\"><div class=\"sk-estimator sk-toggleable\"><input class=\"sk-toggleable__control sk-hidden--visually\" id=\"sk-estimator-id-14\" type=\"checkbox\" checked><label for=\"sk-estimator-id-14\" class=\"sk-toggleable__label sk-toggleable__label-arrow\">KNeighborsClassifier</label><div class=\"sk-toggleable__content\"><pre>KNeighborsClassifier()</pre></div></div></div></div></div>"
     },
     "execution_count": 202,
     "metadata": {},
     "output_type": "execute_result"
    }
   ],
   "source": [
    "# 학습 진행: 학습용 데이터 진행\n",
    "model.fit(X_train, y_train)"
   ],
   "metadata": {
    "collapsed": false,
    "ExecuteTime": {
     "end_time": "2024-02-26T04:36:58.197725400Z",
     "start_time": "2024-02-26T04:36:58.167307200Z"
    }
   },
   "id": "e75e39d583803298",
   "execution_count": 202
  },
  {
   "cell_type": "markdown",
   "source": [
    "5. test: 학습에 사용되지 않은 데이터로 진행"
   ],
   "metadata": {
    "collapsed": false
   },
   "id": "1644488bca2800bd"
  },
  {
   "cell_type": "code",
   "outputs": [
    {
     "data": {
      "text/plain": "1.0"
     },
     "execution_count": 203,
     "metadata": {},
     "output_type": "execute_result"
    }
   ],
   "source": [
    "model.score(X_val, y_val)"
   ],
   "metadata": {
    "collapsed": false,
    "ExecuteTime": {
     "end_time": "2024-02-26T04:36:59.181679100Z",
     "start_time": "2024-02-26T04:36:59.163611200Z"
    }
   },
   "id": "73622b41626ff549",
   "execution_count": 203
  },
  {
   "cell_type": "code",
   "outputs": [
    {
     "data": {
      "text/plain": "array([0, 1, 0, 0, 0])"
     },
     "execution_count": 204,
     "metadata": {},
     "output_type": "execute_result"
    }
   ],
   "source": [
    "model.predict(X_test)"
   ],
   "metadata": {
    "collapsed": false,
    "ExecuteTime": {
     "end_time": "2024-02-26T04:36:59.602875300Z",
     "start_time": "2024-02-26T04:36:59.579253900Z"
    }
   },
   "id": "4a081278547d4630",
   "execution_count": 204
  },
  {
   "cell_type": "code",
   "outputs": [
    {
     "data": {
      "text/plain": "5     0\n39    1\n14    0\n6     0\n9     0\nName: Species, dtype: int32"
     },
     "execution_count": 205,
     "metadata": {},
     "output_type": "execute_result"
    }
   ],
   "source": [
    "y_test"
   ],
   "metadata": {
    "collapsed": false,
    "ExecuteTime": {
     "end_time": "2024-02-26T04:37:00.031700Z",
     "start_time": "2024-02-26T04:36:59.994788700Z"
    }
   },
   "id": "a23dc6dd5a4c284a",
   "execution_count": 205
  },
  {
   "cell_type": "markdown",
   "source": [
    "6-1. 사용자로부터 전달받은 새로운 데이터에 대한 예측-> 학습할 때 전달되는 feature와 동일한 형태"
   ],
   "metadata": {
    "collapsed": false
   },
   "id": "55746a4b768fb09e"
  },
  {
   "cell_type": "code",
   "outputs": [],
   "source": [
    "# 길이 25, 무게 160인 생선의 품종 예측\n",
    "newdata = pd.DataFrame([[160,25]], columns= twoFishDF.columns[1:])"
   ],
   "metadata": {
    "collapsed": false,
    "ExecuteTime": {
     "end_time": "2024-02-26T04:37:00.900622Z",
     "start_time": "2024-02-26T04:37:00.876455600Z"
    }
   },
   "id": "3688c54777c3b9d9",
   "execution_count": 206
  },
  {
   "cell_type": "code",
   "outputs": [],
   "source": [
    "import matplotlib.pyplot as plt"
   ],
   "metadata": {
    "collapsed": false,
    "ExecuteTime": {
     "end_time": "2024-02-26T04:38:23.727543800Z",
     "start_time": "2024-02-26T04:38:23.708534700Z"
    }
   },
   "id": "8e0773b86503d1ee",
   "execution_count": 208
  },
  {
   "cell_type": "code",
   "outputs": [
    {
     "data": {
      "text/plain": "<Figure size 640x480 with 1 Axes>",
      "image/png": "[encoded data removed]"
     },
     "metadata": {},
     "output_type": "display_data"
    }
   ],
   "source": [
    "# 새로운 데이터 시각화\n",
    "plt.plot(newdata.Weight, newdata.Length, 'ro')\n",
    "\n",
    "# 학습 데이터 시각화\n",
    "plt.scatter(twoFishDF.Weight, twoFishDF.Length, c = twoFishDF.Species)\n",
    "plt.xlabel('Weight')\n",
    "plt.ylabel('Length')\n",
    "plt.ylim(0,1000)\n",
    "plt.show()"
   ],
   "metadata": {
    "collapsed": false,
    "ExecuteTime": {
     "end_time": "2024-02-26T04:44:38.837591900Z",
     "start_time": "2024-02-26T04:44:38.747561500Z"
    }
   },
   "id": "50bb6d3dd15724f",
   "execution_count": 216
  },
  {
   "cell_type": "code",
   "outputs": [
    {
     "data": {
      "text/plain": "array([1])"
     },
     "execution_count": 210,
     "metadata": {},
     "output_type": "execute_result"
    }
   ],
   "source": [
    "# 생성된 모델로 새로운 데이터 품종 예측\n",
    "model.predict(newdata)"
   ],
   "metadata": {
    "collapsed": false,
    "ExecuteTime": {
     "end_time": "2024-02-26T04:38:42.078196Z",
     "start_time": "2024-02-26T04:38:42.056150800Z"
    }
   },
   "id": "1d08d8e0515ae3bb",
   "execution_count": 210
  },
  {
   "cell_type": "code",
   "outputs": [
    {
     "data": {
      "text/plain": "[16, 26, 38, 18, 35]"
     },
     "execution_count": 214,
     "metadata": {},
     "output_type": "execute_result"
    }
   ],
   "source": [
    "# 새로운 데이터의 최근접 데이터 추출\n",
    "_, index = model.kneighbors(newdata) #둘 중 어느 하나만 알고 싶을 때는 필요없는 정보를 _로 치환.\n",
    "\n",
    "index.tolist()[0] #index는 2차원 데이터이기때문에 [0]으로 추출.\n",
    "#index는 2차원 데이터이기때문에 [0]으로 추출."
   ],
   "metadata": {
    "collapsed": false,
    "ExecuteTime": {
     "end_time": "2024-02-26T04:42:35.437936300Z",
     "start_time": "2024-02-26T04:42:35.408912800Z"
    }
   },
   "id": "1de47a175e673a21",
   "execution_count": 214
  },
  {
   "cell_type": "code",
   "outputs": [
    {
     "data": {
      "text/plain": "    Species  Weight  Length\n16        0   700.0    33.0\n26        0   720.0    35.0\n38        1     9.7    11.0\n18        0   610.0    33.5\n35        1     6.7     9.8",
      "text/html": "<div>\n<style scoped>\n    .dataframe tbody tr th:only-of-type {\n        vertical-align: middle;\n    }\n\n    .dataframe tbody tr th {\n        vertical-align: top;\n    }\n\n    .dataframe thead th {\n        text-align: right;\n    }\n</style>\n<table border=\"1\" class=\"dataframe\">\n  <thead>\n    <tr style=\"text-align: right;\">\n      <th></th>\n      <th>Species</th>\n      <th>Weight</th>\n      <th>Length</th>\n    </tr>\n  </thead>\n  <tbody>\n    <tr>\n      <th>16</th>\n      <td>0</td>\n      <td>700.0</td>\n      <td>33.0</td>\n    </tr>\n    <tr>\n      <th>26</th>\n      <td>0</td>\n      <td>720.0</td>\n      <td>35.0</td>\n    </tr>\n    <tr>\n      <th>38</th>\n      <td>1</td>\n      <td>9.7</td>\n      <td>11.0</td>\n    </tr>\n    <tr>\n      <th>18</th>\n      <td>0</td>\n      <td>610.0</td>\n      <td>33.5</td>\n    </tr>\n    <tr>\n      <th>35</th>\n      <td>1</td>\n      <td>6.7</td>\n      <td>9.8</td>\n    </tr>\n  </tbody>\n</table>\n</div>"
     },
     "execution_count": 215,
     "metadata": {},
     "output_type": "execute_result"
    }
   ],
   "source": [
    "twoFishDF.iloc[index.tolist()[0]]"
   ],
   "metadata": {
    "collapsed": false,
    "ExecuteTime": {
     "end_time": "2024-02-26T04:42:37.747157500Z",
     "start_time": "2024-02-26T04:42:37.713059800Z"
    }
   },
   "id": "6623b6c57077ec3b",
   "execution_count": 215
  },
  {
   "cell_type": "code",
   "outputs": [],
   "source": [],
   "metadata": {
    "collapsed": false
   },
   "id": "b24af2d2f9137670"
  }
 ],
 "metadata": {
  "kernelspec": {
   "display_name": "Python 3",
   "language": "python",
   "name": "python3"
  },
  "language_info": {
   "codemirror_mode": {
    "name": "ipython",
    "version": 2
   },
   "file_extension": ".py",
   "mimetype": "text/x-python",
   "name": "python",
   "nbconvert_exporter": "python",
   "pygments_lexer": "ipython2",
   "version": "2.7.6"
  }
 },
 "nbformat": 4,
 "nbformat_minor": 5
}
