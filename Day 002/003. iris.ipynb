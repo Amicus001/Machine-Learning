{
 "cells": [
  {
   "cell_type": "markdown",
   "source": [
    "### 목표 : 붓꽃 품종 식별 모델\n",
    "- 데이터  :  3개 품종을 가진 iris.csv\n",
    "- feature :  \n",
    "- target  :\n",
    "- 유  형  :\n"
   ],
   "metadata": {
    "collapsed": false
   },
   "id": "de87603127416bfe"
  },
  {
   "cell_type": "markdown",
   "source": [
    "모듈 로딩 & 데이터셋 준비"
   ],
   "metadata": {
    "collapsed": false
   },
   "id": "aef6e908871d5fe2"
  },
  {
   "cell_type": "code",
   "outputs": [],
   "source": [
    "import pandas as pd\n",
    "from sklearn.neighbors import KNeighborsClassifier\n",
    "from sklearn.model_selection import train_test_split\n"
   ],
   "metadata": {
    "collapsed": false,
    "ExecuteTime": {
     "end_time": "2024-02-26T02:24:05.239733200Z",
     "start_time": "2024-02-26T02:24:05.215750100Z"
    }
   },
   "id": "67c919f88bb4909a",
   "execution_count": 4
  },
  {
   "cell_type": "code",
   "outputs": [
    {
     "data": {
      "text/plain": "0      False\n1      False\n2      False\n3      False\n4      False\n       ...  \n145    False\n146    False\n147    False\n148    False\n149    False\nLength: 150, dtype: bool"
     },
     "execution_count": 9,
     "metadata": {},
     "output_type": "execute_result"
    }
   ],
   "source": [
    "iris = pd.read_csv('../data/iris.csv')\n",
    "#iris.info\n",
    "iris.duplicated()\n",
    "#iris.head()"
   ],
   "metadata": {
    "collapsed": false,
    "ExecuteTime": {
     "end_time": "2024-02-26T02:27:10.437902900Z",
     "start_time": "2024-02-26T02:27:10.429903200Z"
    }
   },
   "id": "3e869e7799a920a5",
   "execution_count": 9
  },
  {
   "cell_type": "code",
   "outputs": [],
   "source": [
    "iris['variety'] = iris['variety'].replace({'setosa': 0, 'versicolor': 1, 'virginica':2})"
   ],
   "metadata": {
    "collapsed": false,
    "ExecuteTime": {
     "end_time": "2024-02-26T02:25:52.473791400Z",
     "start_time": "2024-02-26T02:25:52.456529800Z"
    }
   },
   "id": "32c87f488e746e27",
   "execution_count": 6
  },
  {
   "cell_type": "code",
   "outputs": [],
   "source": [],
   "metadata": {
    "collapsed": false
   },
   "id": "fcf8c3b6a347e62b"
  }
 ],
 "metadata": {
  "kernelspec": {
   "display_name": "Python 3",
   "language": "python",
   "name": "python3"
  },
  "language_info": {
   "codemirror_mode": {
    "name": "ipython",
    "version": 2
   },
   "file_extension": ".py",
   "mimetype": "text/x-python",
   "name": "python",
   "nbconvert_exporter": "python",
   "pygments_lexer": "ipython2",
   "version": "2.7.6"
  }
 },
 "nbformat": 4,
 "nbformat_minor": 5
}
