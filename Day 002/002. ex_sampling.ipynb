{
 "cells": [
  {
   "cell_type": "markdown",
   "source": [
    "### 표본추출 / 샘플링\n",
    "- 전체 데이터에서 일부 데이터를 추출\n",
    "- pd.DataFrame.sample\n",
    "- 복원추출  : 추출된 데이터를 다시 추가하여 추출\n",
    "- 비복원추출: 추출된 데이터 제거 후 남은 데이터에서 추출"
   ],
   "metadata": {
    "collapsed": false
   },
   "id": "52cbef81a4040642"
  },
  {
   "cell_type": "code",
   "outputs": [],
   "source": [
    "import pandas as pd\n"
   ],
   "metadata": {
    "collapsed": false,
    "ExecuteTime": {
     "end_time": "2024-02-26T01:16:05.899623100Z",
     "start_time": "2024-02-26T01:16:05.578385300Z"
    }
   },
   "id": "f6161d18f5d96808",
   "execution_count": 1
  },
  {
   "cell_type": "code",
   "outputs": [
    {
     "data": {
      "text/plain": "   kor  math  eng\n0   10    11  111\n1   20    22  222\n2   30    33  333",
      "text/html": "<div>\n<style scoped>\n    .dataframe tbody tr th:only-of-type {\n        vertical-align: middle;\n    }\n\n    .dataframe tbody tr th {\n        vertical-align: top;\n    }\n\n    .dataframe thead th {\n        text-align: right;\n    }\n</style>\n<table border=\"1\" class=\"dataframe\">\n  <thead>\n    <tr style=\"text-align: right;\">\n      <th></th>\n      <th>kor</th>\n      <th>math</th>\n      <th>eng</th>\n    </tr>\n  </thead>\n  <tbody>\n    <tr>\n      <th>0</th>\n      <td>10</td>\n      <td>11</td>\n      <td>111</td>\n    </tr>\n    <tr>\n      <th>1</th>\n      <td>20</td>\n      <td>22</td>\n      <td>222</td>\n    </tr>\n    <tr>\n      <th>2</th>\n      <td>30</td>\n      <td>33</td>\n      <td>333</td>\n    </tr>\n  </tbody>\n</table>\n</div>"
     },
     "execution_count": 3,
     "metadata": {},
     "output_type": "execute_result"
    }
   ],
   "source": [
    "# 임시 데이터 생성\n",
    "dataDF= pd.DataFrame({'kor': [10, 20, 30],\n",
    "                    'math': [11, 22, 33],\n",
    "                     'eng': [111,222,333]})\n",
    "\n",
    "dataDF"
   ],
   "metadata": {
    "collapsed": false,
    "ExecuteTime": {
     "end_time": "2024-02-26T01:17:57.564642200Z",
     "start_time": "2024-02-26T01:17:57.545065100Z"
    }
   },
   "id": "59c9cf820e76f211",
   "execution_count": 3
  },
  {
   "cell_type": "code",
   "outputs": [
    {
     "name": "stdout",
     "output_type": "stream",
     "text": [
      "\n",
      "1회\n",
      "   math  eng  kor\n",
      "0    11  111   10\n",
      "1    22  222   20\n",
      "2    33  333   30\n",
      "\n",
      "2회\n",
      "   kor  math  eng\n",
      "0   10    11  111\n",
      "1   20    22  222\n",
      "2   30    33  333\n",
      "\n",
      "3회\n",
      "   kor  math  eng\n",
      "0   10    11  111\n",
      "1   20    22  222\n",
      "2   30    33  333\n",
      "\n",
      "4회\n",
      "   kor  math  eng\n",
      "0   10    11  111\n",
      "1   20    22  222\n",
      "2   30    33  333\n",
      "\n",
      "5회\n",
      "   kor  math  eng\n",
      "0   10    11  111\n",
      "1   20    22  222\n",
      "2   30    33  333\n"
     ]
    }
   ],
   "source": [
    "#1개의 샘플 / 표본데이터 추출: 기본 비복원 - 전체 데이터 수 초과 불가\n",
    "# 추출의 기준이 되는 축을 axis로 설정\n",
    "\n",
    "for cnt in range(1,6):\n",
    "    print(f'\\n{cnt}회')\n",
    "    print(dataDF.sample(n = 3, axis = 'columns'))"
   ],
   "metadata": {
    "collapsed": false,
    "ExecuteTime": {
     "end_time": "2024-02-26T01:21:00.689809100Z",
     "start_time": "2024-02-26T01:21:00.672777100Z"
    }
   },
   "id": "eb48d4be2d2ea7e3",
   "execution_count": 6
  },
  {
   "cell_type": "code",
   "outputs": [
    {
     "name": "stdout",
     "output_type": "stream",
     "text": [
      "\n",
      "1회\n",
      "   eng  eng  math\n",
      "0  111  111    11\n",
      "1  222  222    22\n",
      "2  333  333    33\n",
      "\n",
      "2회\n",
      "   kor  kor  kor\n",
      "0   10   10   10\n",
      "1   20   20   20\n",
      "2   30   30   30\n",
      "\n",
      "3회\n",
      "   math  math  math\n",
      "0    11    11    11\n",
      "1    22    22    22\n",
      "2    33    33    33\n",
      "\n",
      "4회\n",
      "   kor  math  kor\n",
      "0   10    11   10\n",
      "1   20    22   20\n",
      "2   30    33   30\n",
      "\n",
      "5회\n",
      "   eng  kor  eng\n",
      "0  111   10  111\n",
      "1  222   20  222\n",
      "2  333   30  333\n"
     ]
    }
   ],
   "source": [
    "#1개의 샘플 / 표본데이터 추출: 복원 - replace 매개변수 True 설정\n",
    "# 추출의 기준이 되는 축을 axis로 설정\n",
    "\n",
    "for cnt in range(1,6):\n",
    "    print(f'\\n{cnt}회')\n",
    "    print(dataDF.sample(n = 3, axis = 'columns', replace = True))"
   ],
   "metadata": {
    "collapsed": false,
    "ExecuteTime": {
     "end_time": "2024-02-26T01:23:51.347387700Z",
     "start_time": "2024-02-26T01:23:51.312377400Z"
    }
   },
   "id": "d12fcb27b512536d",
   "execution_count": 7
  },
  {
   "cell_type": "code",
   "outputs": [],
   "source": [
    "#데이터섞기"
   ],
   "metadata": {
    "collapsed": false
   },
   "id": "4e2acf890eb667da"
  }
 ],
 "metadata": {
  "kernelspec": {
   "display_name": "Python 3",
   "language": "python",
   "name": "python3"
  },
  "language_info": {
   "codemirror_mode": {
    "name": "ipython",
    "version": 2
   },
   "file_extension": ".py",
   "mimetype": "text/x-python",
   "name": "python",
   "nbconvert_exporter": "python",
   "pygments_lexer": "ipython2",
   "version": "2.7.6"
  }
 },
 "nbformat": 4,
 "nbformat_minor": 5
}
