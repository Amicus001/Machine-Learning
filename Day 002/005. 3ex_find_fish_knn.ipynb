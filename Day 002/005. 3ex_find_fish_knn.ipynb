{
 "cells": [
  {
   "cell_type": "markdown",
   "source": [
    "### 목표: 생선 품종 분류 모델\n",
    " - 데 이 터 : 2가지 품종의 생선 데이터 fish.csv\n",
    "  - feature : Weight, Length\n",
    "  - target  : Species\n",
    "  - 유    형: 지도학습 / 분류\n",
    "  - 최적의 K찾기 \n",
    "   "
   ],
   "metadata": {
    "collapsed": false
   },
   "id": "d57614be076a71d5"
  },
  {
   "cell_type": "markdown",
   "source": [
    "1. 모듈 로딩, 데이터 준비"
   ],
   "metadata": {
    "collapsed": false
   },
   "id": "5afc12d3131bc4b8"
  },
  {
   "cell_type": "code",
   "outputs": [],
   "source": [
    "import pandas as pd                                 #데이터파일 관련모듈\n",
    "from sklearn.neighbors import KNeighborsClassifier  #기계학습 관련 모듈"
   ],
   "metadata": {
    "collapsed": false,
    "ExecuteTime": {
     "end_time": "2024-02-26T07:07:10.819819300Z",
     "start_time": "2024-02-26T07:07:09.815412500Z"
    }
   },
   "id": "528f072e7c716aea",
   "execution_count": 1
  },
  {
   "cell_type": "code",
   "outputs": [
    {
     "name": "stdout",
     "output_type": "stream",
     "text": [
      "<class 'pandas.core.frame.DataFrame'>\n",
      "RangeIndex: 159 entries, 0 to 158\n",
      "Data columns (total 3 columns):\n",
      " #   Column   Non-Null Count  Dtype  \n",
      "---  ------   --------------  -----  \n",
      " 0   Species  159 non-null    object \n",
      " 1   Weight   159 non-null    float64\n",
      " 2   Length   159 non-null    float64\n",
      "dtypes: float64(2), object(1)\n",
      "memory usage: 3.9+ KB\n"
     ]
    }
   ],
   "source": [
    "data = '../data/fish.csv'\n",
    "\n",
    "#5개의 feature/특성 중 2개 선택\n",
    "fishDF = pd.read_csv(data, usecols=[0,1,2])\n",
    "\n",
    "fishDF.info()"
   ],
   "metadata": {
    "collapsed": false,
    "ExecuteTime": {
     "end_time": "2024-02-26T07:07:10.841905900Z",
     "start_time": "2024-02-26T07:07:10.822895400Z"
    }
   },
   "id": "9d55de28c118141c",
   "execution_count": 2
  },
  {
   "cell_type": "code",
   "outputs": [],
   "source": [
    "# Bream, Smelt 품종 행만 추출\n",
    "mask = fishDF.Species.isin(['Bream', 'Smelt']) # Boolean indexing\n",
    "\n",
    "# 해당 행만 도출\n",
    "twoFishDF=fishDF[mask] # species가 bream, smelt인 것만 필터링 하여 도출\n",
    "\n",
    "# 인덱스 정리\n",
    "twoFishDF.reset_index(drop=True, inplace=True)"
   ],
   "metadata": {
    "collapsed": false,
    "ExecuteTime": {
     "end_time": "2024-02-26T07:07:10.860895500Z",
     "start_time": "2024-02-26T07:07:10.837895Z"
    }
   },
   "id": "68c8a3ac43e1b9ab",
   "execution_count": 3
  },
  {
   "cell_type": "code",
   "outputs": [
    {
     "data": {
      "text/plain": "  Species  Weight  Length\n0       0   242.0    25.4\n1       0   290.0    26.3\n2       0   340.0    26.5\n3       0   363.0    29.0\n4       0   430.0    29.0",
      "text/html": "<div>\n<style scoped>\n    .dataframe tbody tr th:only-of-type {\n        vertical-align: middle;\n    }\n\n    .dataframe tbody tr th {\n        vertical-align: top;\n    }\n\n    .dataframe thead th {\n        text-align: right;\n    }\n</style>\n<table border=\"1\" class=\"dataframe\">\n  <thead>\n    <tr style=\"text-align: right;\">\n      <th></th>\n      <th>Species</th>\n      <th>Weight</th>\n      <th>Length</th>\n    </tr>\n  </thead>\n  <tbody>\n    <tr>\n      <th>0</th>\n      <td>0</td>\n      <td>242.0</td>\n      <td>25.4</td>\n    </tr>\n    <tr>\n      <th>1</th>\n      <td>0</td>\n      <td>290.0</td>\n      <td>26.3</td>\n    </tr>\n    <tr>\n      <th>2</th>\n      <td>0</td>\n      <td>340.0</td>\n      <td>26.5</td>\n    </tr>\n    <tr>\n      <th>3</th>\n      <td>0</td>\n      <td>363.0</td>\n      <td>29.0</td>\n    </tr>\n    <tr>\n      <th>4</th>\n      <td>0</td>\n      <td>430.0</td>\n      <td>29.0</td>\n    </tr>\n  </tbody>\n</table>\n</div>"
     },
     "execution_count": 4,
     "metadata": {},
     "output_type": "execute_result"
    }
   ],
   "source": [
    "# Bream, Smelt 품종명 수치화\n",
    "# twoFishDF['Species']=twoFishDF['Species'].replace({'Bream':0, 'Smelt':1})\n",
    "twoFishDF.loc[:,'Species'] = twoFishDF['Species'].replace({'Bream':0, 'Smelt':1}).copy()\n",
    "twoFishDF.head()\n"
   ],
   "metadata": {
    "collapsed": false,
    "ExecuteTime": {
     "end_time": "2024-02-26T07:07:10.874898100Z",
     "start_time": "2024-02-26T07:07:10.852894900Z"
    }
   },
   "id": "38f8dd408cb638fc",
   "execution_count": 4
  },
  {
   "cell_type": "code",
   "outputs": [
    {
     "name": "stderr",
     "output_type": "stream",
     "text": [
      "C:\\Users\\kdp\\AppData\\Local\\Temp\\ipykernel_14940\\3450856886.py:1: SettingWithCopyWarning: \n",
      "A value is trying to be set on a copy of a slice from a DataFrame.\n",
      "Try using .loc[row_indexer,col_indexer] = value instead\n",
      "\n",
      "See the caveats in the documentation: https://pandas.pydata.org/pandas-docs/stable/user_guide/indexing.html#returning-a-view-versus-a-copy\n",
      "  twoFishDF['Species'] = twoFishDF['Species'].astype(int).copy()\n"
     ]
    },
    {
     "data": {
      "text/plain": "Species      int32\nWeight     float64\nLength     float64\ndtype: object"
     },
     "execution_count": 5,
     "metadata": {},
     "output_type": "execute_result"
    }
   ],
   "source": [
    "twoFishDF['Species'] = twoFishDF['Species'].astype(int).copy()\n",
    "twoFishDF.dtypes"
   ],
   "metadata": {
    "collapsed": false,
    "ExecuteTime": {
     "end_time": "2024-02-26T07:07:10.915885400Z",
     "start_time": "2024-02-26T07:07:10.869894400Z"
    }
   },
   "id": "d708473a8ce51647",
   "execution_count": 5
  },
  {
   "cell_type": "markdown",
   "source": [
    "2. 데이터 전처리<hr>\n",
    "- 정제: 결측치, 중복데이터, 이상치 처리\n",
    "- 정규화: feature 스케일링"
   ],
   "metadata": {
    "collapsed": false
   },
   "id": "e98931e52764359c"
  },
  {
   "cell_type": "markdown",
   "source": [
    "3. 기계학습 데이터셋 준비=> 피처와 타겟 분리 <hr>"
   ],
   "metadata": {
    "collapsed": false
   },
   "id": "95742d6df6f00f87"
  },
  {
   "cell_type": "code",
   "outputs": [
    {
     "data": {
      "text/plain": "   Weight  Length\n0   242.0    25.4\n1   290.0    26.3\n2   340.0    26.5\n3   363.0    29.0\n4   430.0    29.0",
      "text/html": "<div>\n<style scoped>\n    .dataframe tbody tr th:only-of-type {\n        vertical-align: middle;\n    }\n\n    .dataframe tbody tr th {\n        vertical-align: top;\n    }\n\n    .dataframe thead th {\n        text-align: right;\n    }\n</style>\n<table border=\"1\" class=\"dataframe\">\n  <thead>\n    <tr style=\"text-align: right;\">\n      <th></th>\n      <th>Weight</th>\n      <th>Length</th>\n    </tr>\n  </thead>\n  <tbody>\n    <tr>\n      <th>0</th>\n      <td>242.0</td>\n      <td>25.4</td>\n    </tr>\n    <tr>\n      <th>1</th>\n      <td>290.0</td>\n      <td>26.3</td>\n    </tr>\n    <tr>\n      <th>2</th>\n      <td>340.0</td>\n      <td>26.5</td>\n    </tr>\n    <tr>\n      <th>3</th>\n      <td>363.0</td>\n      <td>29.0</td>\n    </tr>\n    <tr>\n      <th>4</th>\n      <td>430.0</td>\n      <td>29.0</td>\n    </tr>\n  </tbody>\n</table>\n</div>"
     },
     "execution_count": 6,
     "metadata": {},
     "output_type": "execute_result"
    }
   ],
   "source": [
    "#피처/특성/속성 데이터 추출\n",
    "featureDF = twoFishDF[twoFishDF.columns[1:]]\n",
    "featureDF.head()"
   ],
   "metadata": {
    "collapsed": false,
    "ExecuteTime": {
     "end_time": "2024-02-26T07:07:10.918886300Z",
     "start_time": "2024-02-26T07:07:10.891414400Z"
    }
   },
   "id": "cf20a4f7a5726111",
   "execution_count": 6
  },
  {
   "cell_type": "markdown",
   "source": [],
   "metadata": {
    "collapsed": false
   },
   "id": "c1c45852817dd864"
  },
  {
   "cell_type": "code",
   "outputs": [
    {
     "data": {
      "text/plain": "0    0\n1    0\nName: Species, dtype: int32"
     },
     "execution_count": 7,
     "metadata": {},
     "output_type": "execute_result"
    }
   ],
   "source": [
    "#class/ target/ label data extract  -> 수치화, \"정수 인코딩\"\n",
    "\n",
    "targetDF = twoFishDF['Species']\n",
    "targetDF.head(2)"
   ],
   "metadata": {
    "collapsed": false,
    "ExecuteTime": {
     "end_time": "2024-02-26T07:07:11.006419100Z",
     "start_time": "2024-02-26T07:07:10.902663Z"
    }
   },
   "id": "90e91a34c3a1fed9",
   "execution_count": 7
  },
  {
   "cell_type": "code",
   "outputs": [],
   "source": [
    "targetDF = targetDF.replace({'Bream':0, 'Smelt':1})"
   ],
   "metadata": {
    "collapsed": false,
    "ExecuteTime": {
     "end_time": "2024-02-26T07:07:11.010080500Z",
     "start_time": "2024-02-26T07:07:10.916886Z"
    }
   },
   "id": "3d3067a4ec30f243",
   "execution_count": 8
  },
  {
   "cell_type": "markdown",
   "source": [
    "3 - 1. 학습 / 테스트 데이터셋 분리 <hr>\n",
    "- 지도학습 중 분류: [고려] 타깃의 비율\n",
    "- 학습: 테스트 = 80 : 20 "
   ],
   "metadata": {
    "collapsed": false
   },
   "id": "bc4591e110b1653e"
  },
  {
   "cell_type": "code",
   "outputs": [],
   "source": [
    "#모듈 로딩\n",
    "from sklearn.model_selection import train_test_split"
   ],
   "metadata": {
    "collapsed": false,
    "ExecuteTime": {
     "end_time": "2024-02-26T07:07:11.011598500Z",
     "start_time": "2024-02-26T07:07:10.930885400Z"
    }
   },
   "id": "b576e57f337c1392",
   "execution_count": 9
  },
  {
   "cell_type": "code",
   "outputs": [],
   "source": [
    "X_train, X_test, y_train, y_test = train_test_split(featureDF, targetDF, test_size = 0.2, stratify= targetDF)"
   ],
   "metadata": {
    "collapsed": false,
    "ExecuteTime": {
     "end_time": "2024-02-26T07:07:11.028798800Z",
     "start_time": "2024-02-26T07:07:10.947885400Z"
    }
   },
   "id": "68743794b284d71a",
   "execution_count": 10
  },
  {
   "cell_type": "code",
   "outputs": [
    {
     "name": "stdout",
     "output_type": "stream",
     "text": [
      "학습용 데이터셋: \n",
      "(39, 2), 42    1\n",
      "28    0\n",
      "34    0\n",
      "0     0\n",
      "27    0\n",
      "20    0\n",
      "2     0\n",
      "12    0\n",
      "30    0\n",
      "46    1\n",
      "5     0\n",
      "25    0\n",
      "47    1\n",
      "23    0\n",
      "31    0\n",
      "36    1\n",
      "22    0\n",
      "18    0\n",
      "4     0\n",
      "15    0\n",
      "9     0\n",
      "29    0\n",
      "10    0\n",
      "39    1\n",
      "33    0\n",
      "19    0\n",
      "21    0\n",
      "40    1\n",
      "1     0\n",
      "8     0\n",
      "3     0\n",
      "7     0\n",
      "38    1\n",
      "37    1\n",
      "41    1\n",
      "16    0\n",
      "45    1\n",
      "11    0\n",
      "35    1\n",
      "Name: Species, dtype: int32\n",
      "\n",
      " Species\n",
      "0    0.717949\n",
      "1    0.282051\n",
      "Name: count, dtype: float64\n",
      "테스트용 데이터셋: \n",
      "(10, 2), 13    0\n",
      "44    1\n",
      "17    0\n",
      "14    0\n",
      "32    0\n",
      "43    1\n",
      "6     0\n",
      "24    0\n",
      "26    0\n",
      "48    1\n",
      "Name: Species, dtype: int32\n"
     ]
    }
   ],
   "source": [
    "# 학습, 테스트 데이터셋 확인\n",
    "print(f'학습용 데이터셋: \\n{X_train.shape}, {y_train}')\n",
    "print(f'\\n {y_train.value_counts()/y_train.shape[0]}')\n",
    "print(f'테스트용 데이터셋: \\n{X_test.shape}, {y_test}')\n"
   ],
   "metadata": {
    "collapsed": false,
    "ExecuteTime": {
     "end_time": "2024-02-26T07:07:11.045799600Z",
     "start_time": "2024-02-26T07:07:10.967885600Z"
    }
   },
   "id": "b8bc9c14b4b44cf8",
   "execution_count": 11
  },
  {
   "cell_type": "markdown",
   "source": [
    "3 - 2. feature dataset scaling\n",
    "<hr> : feature 값 범위 통일"
   ],
   "metadata": {
    "collapsed": false
   },
   "id": "52b11dbd8743287c"
  },
  {
   "cell_type": "code",
   "outputs": [],
   "source": [
    "# import module\n",
    "from sklearn.preprocessing import StandardScaler"
   ],
   "metadata": {
    "collapsed": false,
    "ExecuteTime": {
     "end_time": "2024-02-26T07:07:11.090449300Z",
     "start_time": "2024-02-26T07:07:10.979891200Z"
    }
   },
   "id": "24c34babfd92a2ad",
   "execution_count": 12
  },
  {
   "cell_type": "code",
   "outputs": [],
   "source": [
    "#표준정규분포 스케일링: 평균 0, 편차 1\n",
    "# 1. 스케일러 인스턴스 생성\n",
    "# 2. 데이터에 대한 평균과 표준편차 계산 진행: fit()\n",
    "# 3. 데이터에 대한 스케일링 진행: transform()"
   ],
   "metadata": {
    "collapsed": false,
    "ExecuteTime": {
     "end_time": "2024-02-26T07:07:11.091450900Z",
     "start_time": "2024-02-26T07:07:10.996420Z"
    }
   },
   "id": "5301a7d8228c122",
   "execution_count": 13
  },
  {
   "cell_type": "code",
   "outputs": [],
   "source": [
    "scaler = StandardScaler()"
   ],
   "metadata": {
    "collapsed": false,
    "ExecuteTime": {
     "end_time": "2024-02-26T07:07:11.093450400Z",
     "start_time": "2024-02-26T07:07:11.010595200Z"
    }
   },
   "id": "ac75be5a44bd3bad",
   "execution_count": 14
  },
  {
   "cell_type": "code",
   "outputs": [
    {
     "data": {
      "text/plain": "StandardScaler()",
      "text/html": "<style>#sk-container-id-1 {color: black;}#sk-container-id-1 pre{padding: 0;}#sk-container-id-1 div.sk-toggleable {background-color: white;}#sk-container-id-1 label.sk-toggleable__label {cursor: pointer;display: block;width: 100%;margin-bottom: 0;padding: 0.3em;box-sizing: border-box;text-align: center;}#sk-container-id-1 label.sk-toggleable__label-arrow:before {content: \"▸\";float: left;margin-right: 0.25em;color: #696969;}#sk-container-id-1 label.sk-toggleable__label-arrow:hover:before {color: black;}#sk-container-id-1 div.sk-estimator:hover label.sk-toggleable__label-arrow:before {color: black;}#sk-container-id-1 div.sk-toggleable__content {max-height: 0;max-width: 0;overflow: hidden;text-align: left;background-color: #f0f8ff;}#sk-container-id-1 div.sk-toggleable__content pre {margin: 0.2em;color: black;border-radius: 0.25em;background-color: #f0f8ff;}#sk-container-id-1 input.sk-toggleable__control:checked~div.sk-toggleable__content {max-height: 200px;max-width: 100%;overflow: auto;}#sk-container-id-1 input.sk-toggleable__control:checked~label.sk-toggleable__label-arrow:before {content: \"▾\";}#sk-container-id-1 div.sk-estimator input.sk-toggleable__control:checked~label.sk-toggleable__label {background-color: #d4ebff;}#sk-container-id-1 div.sk-label input.sk-toggleable__control:checked~label.sk-toggleable__label {background-color: #d4ebff;}#sk-container-id-1 input.sk-hidden--visually {border: 0;clip: rect(1px 1px 1px 1px);clip: rect(1px, 1px, 1px, 1px);height: 1px;margin: -1px;overflow: hidden;padding: 0;position: absolute;width: 1px;}#sk-container-id-1 div.sk-estimator {font-family: monospace;background-color: #f0f8ff;border: 1px dotted black;border-radius: 0.25em;box-sizing: border-box;margin-bottom: 0.5em;}#sk-container-id-1 div.sk-estimator:hover {background-color: #d4ebff;}#sk-container-id-1 div.sk-parallel-item::after {content: \"\";width: 100%;border-bottom: 1px solid gray;flex-grow: 1;}#sk-container-id-1 div.sk-label:hover label.sk-toggleable__label {background-color: #d4ebff;}#sk-container-id-1 div.sk-serial::before {content: \"\";position: absolute;border-left: 1px solid gray;box-sizing: border-box;top: 0;bottom: 0;left: 50%;z-index: 0;}#sk-container-id-1 div.sk-serial {display: flex;flex-direction: column;align-items: center;background-color: white;padding-right: 0.2em;padding-left: 0.2em;position: relative;}#sk-container-id-1 div.sk-item {position: relative;z-index: 1;}#sk-container-id-1 div.sk-parallel {display: flex;align-items: stretch;justify-content: center;background-color: white;position: relative;}#sk-container-id-1 div.sk-item::before, #sk-container-id-1 div.sk-parallel-item::before {content: \"\";position: absolute;border-left: 1px solid gray;box-sizing: border-box;top: 0;bottom: 0;left: 50%;z-index: -1;}#sk-container-id-1 div.sk-parallel-item {display: flex;flex-direction: column;z-index: 1;position: relative;background-color: white;}#sk-container-id-1 div.sk-parallel-item:first-child::after {align-self: flex-end;width: 50%;}#sk-container-id-1 div.sk-parallel-item:last-child::after {align-self: flex-start;width: 50%;}#sk-container-id-1 div.sk-parallel-item:only-child::after {width: 0;}#sk-container-id-1 div.sk-dashed-wrapped {border: 1px dashed gray;margin: 0 0.4em 0.5em 0.4em;box-sizing: border-box;padding-bottom: 0.4em;background-color: white;}#sk-container-id-1 div.sk-label label {font-family: monospace;font-weight: bold;display: inline-block;line-height: 1.2em;}#sk-container-id-1 div.sk-label-container {text-align: center;}#sk-container-id-1 div.sk-container {/* jupyter's `normalize.less` sets `[hidden] { display: none; }` but bootstrap.min.css set `[hidden] { display: none !important; }` so we also need the `!important` here to be able to override the default hidden behavior on the sphinx rendered scikit-learn.org. See: https://github.com/scikit-learn/scikit-learn/issues/21755 */display: inline-block !important;position: relative;}#sk-container-id-1 div.sk-text-repr-fallback {display: none;}</style><div id=\"sk-container-id-1\" class=\"sk-top-container\"><div class=\"sk-text-repr-fallback\"><pre>StandardScaler()</pre><b>In a Jupyter environment, please rerun this cell to show the HTML representation or trust the notebook. <br />On GitHub, the HTML representation is unable to render, please try loading this page with nbviewer.org.</b></div><div class=\"sk-container\" hidden><div class=\"sk-item\"><div class=\"sk-estimator sk-toggleable\"><input class=\"sk-toggleable__control sk-hidden--visually\" id=\"sk-estimator-id-1\" type=\"checkbox\" checked><label for=\"sk-estimator-id-1\" class=\"sk-toggleable__label sk-toggleable__label-arrow\">StandardScaler</label><div class=\"sk-toggleable__content\"><pre>StandardScaler()</pre></div></div></div></div></div>"
     },
     "execution_count": 15,
     "metadata": {},
     "output_type": "execute_result"
    }
   ],
   "source": [
    "scaler.fit(X_train)"
   ],
   "metadata": {
    "collapsed": false,
    "ExecuteTime": {
     "end_time": "2024-02-26T07:07:11.115939500Z",
     "start_time": "2024-02-26T07:07:11.029799700Z"
    }
   },
   "id": "7e8de9fecb7c5109",
   "execution_count": 15
  },
  {
   "cell_type": "code",
   "outputs": [
    {
     "data": {
      "text/plain": "array([442.4       ,  26.93076923])"
     },
     "execution_count": 16,
     "metadata": {},
     "output_type": "execute_result"
    }
   ],
   "source": [
    "scaler.mean_"
   ],
   "metadata": {
    "collapsed": false,
    "ExecuteTime": {
     "end_time": "2024-02-26T07:07:11.120944300Z",
     "start_time": "2024-02-26T07:07:11.041800100Z"
    }
   },
   "id": "d0ff022cd589bbd",
   "execution_count": 16
  },
  {
   "cell_type": "code",
   "outputs": [
    {
     "data": {
      "text/plain": "array([[-1.3279769 , -1.48108484],\n       [ 1.25152227,  0.88774735],\n       [ 1.55856895,  1.37717548],\n       [-0.61532155, -0.14984031],\n       [ 0.83393879,  0.88774735],\n       [ 0.4071439 ,  0.69197609],\n       [-0.3144158 , -0.04216612],\n       [ 0.17685889,  0.44726202],\n       [ 1.46645495,  1.13246141],\n       [-1.32091482, -1.36362209],\n       [ 0.02333555,  0.27106789],\n       [ 0.86771392,  0.78986172],\n       [-1.29788632, -1.23637077],\n       [ 0.72954291,  0.78986172],\n       [ 1.57392129,  1.13246141],\n       [-1.33534602, -1.60833616],\n       [ 0.54531491,  0.7409189 ],\n       [ 0.51461024,  0.64303328],\n       [-0.03807379,  0.20254795],\n       [ 0.48390557,  0.49620483],\n       [ 0.17685889,  0.36895352],\n       [ 1.71209229,  0.98563297],\n       [ 0.10009722,  0.39831921],\n       [-1.32828394, -1.53981622],\n       [ 1.63533062,  1.37717548],\n       [ 0.63742891,  0.64303328],\n       [ 0.74489525,  0.69197609],\n       [-1.33166146, -1.53002766],\n       [-0.46793914, -0.06174324],\n       [ 0.02333555,  0.30043358],\n       [-0.24379506,  0.20254795],\n       [-0.16089246,  0.30043358],\n       [-1.32859099, -1.55939334],\n       [-1.33688125, -1.59854759],\n       [-1.32766985, -1.48108484],\n       [ 0.79095225,  0.59409046],\n       [-1.31723026, -1.42235346],\n       [ 0.17685889,  0.39831921],\n       [-1.33780239, -1.6768561 ]])"
     },
     "execution_count": 17,
     "metadata": {},
     "output_type": "execute_result"
    }
   ],
   "source": [
    "scaler.transform(X_train)"
   ],
   "metadata": {
    "collapsed": false,
    "ExecuteTime": {
     "end_time": "2024-02-26T07:07:11.124942800Z",
     "start_time": "2024-02-26T07:07:11.059798700Z"
    }
   },
   "id": "17587578b3fad6a0",
   "execution_count": 17
  },
  {
   "cell_type": "code",
   "outputs": [
    {
     "data": {
      "text/plain": "(39, 2)"
     },
     "execution_count": 18,
     "metadata": {},
     "output_type": "execute_result"
    }
   ],
   "source": [
    "# 학습용 데이터 피처 스케일링\n",
    "scaled_X_train = scaler.transform(X_train)\n",
    "scaled_X_train.shape"
   ],
   "metadata": {
    "collapsed": false,
    "ExecuteTime": {
     "end_time": "2024-02-26T07:07:11.174962200Z",
     "start_time": "2024-02-26T07:07:11.075801900Z"
    }
   },
   "id": "39166b1fc3cc82ba",
   "execution_count": 18
  },
  {
   "cell_type": "code",
   "outputs": [
    {
     "data": {
      "text/plain": "(10, 2)"
     },
     "execution_count": 19,
     "metadata": {},
     "output_type": "execute_result"
    }
   ],
   "source": [
    "#테스트용 데이터 피처 스케일링\n",
    "scaled_X_test = scaler.transform(X_test)\n",
    "scaled_X_test.shape"
   ],
   "metadata": {
    "collapsed": false,
    "ExecuteTime": {
     "end_time": "2024-02-26T07:07:11.177963600Z",
     "start_time": "2024-02-26T07:07:11.087329500Z"
    }
   },
   "id": "2ce0bcb2f1c70a52",
   "execution_count": 19
  },
  {
   "cell_type": "markdown",
   "source": [
    "3 - 3. 시각화"
   ],
   "metadata": {
    "collapsed": false
   },
   "id": "14b96909a08c95d3"
  },
  {
   "cell_type": "code",
   "outputs": [],
   "source": [
    "#모듈 로딩\n",
    "import matplotlib.pyplot as plt\n"
   ],
   "metadata": {
    "collapsed": false,
    "ExecuteTime": {
     "end_time": "2024-02-26T07:07:11.486095500Z",
     "start_time": "2024-02-26T07:07:11.100449100Z"
    }
   },
   "id": "73c4d6601d07a2bf",
   "execution_count": 20
  },
  {
   "cell_type": "code",
   "outputs": [
    {
     "data": {
      "text/plain": "Text(0, 0.5, 'Length')"
     },
     "execution_count": 21,
     "metadata": {},
     "output_type": "execute_result"
    },
    {
     "data": {
      "text/plain": "<Figure size 640x480 with 1 Axes>",
      "image/png": "[encoded data removed]"
     },
     "metadata": {},
     "output_type": "display_data"
    }
   ],
   "source": [
    "#원본데이터 시각화\n",
    "plt.scatter(X_train.Weight, X_train.Length, c=y_train)\n",
    "plt.xlabel('Weight')\n",
    "plt.ylabel('Length')"
   ],
   "metadata": {
    "collapsed": false,
    "ExecuteTime": {
     "end_time": "2024-02-26T07:07:11.628983900Z",
     "start_time": "2024-02-26T07:07:11.488105100Z"
    }
   },
   "id": "a4ee098f71afaf1a",
   "execution_count": 21
  },
  {
   "cell_type": "code",
   "outputs": [
    {
     "data": {
      "text/plain": "Text(0, 0.5, 'Length')"
     },
     "execution_count": 22,
     "metadata": {},
     "output_type": "execute_result"
    },
    {
     "data": {
      "text/plain": "<Figure size 640x480 with 1 Axes>",
      "image/png": "[encoded data removed]"
     },
     "metadata": {},
     "output_type": "display_data"
    }
   ],
   "source": [
    "#스케일링된 데이터 시각화\n",
    "plt.scatter(scaled_X_train[:,0], scaled_X_train[:,1], c= y_train)\n",
    "plt.xlabel('Weight')\n",
    "plt.ylabel('Length')"
   ],
   "metadata": {
    "collapsed": false,
    "ExecuteTime": {
     "end_time": "2024-02-26T07:07:11.749653100Z",
     "start_time": "2024-02-26T07:07:11.639505700Z"
    }
   },
   "id": "802efcef7919d8b8",
   "execution_count": 22
  },
  {
   "cell_type": "markdown",
   "source": [
    "4. 학습 진행"
   ],
   "metadata": {
    "collapsed": false
   },
   "id": "d44034ff168986f8"
  },
  {
   "cell_type": "code",
   "outputs": [],
   "source": [
    "# 방법 1: KNN\n",
    "# 모델 성능을 죄우하는 매개변수: hyper - parameter =  n_neighbors\n",
    "# n_neighbors (즉 K) 갯수 : 1 ~ 전체 데이터 수\n",
    "\n",
    "max_k = scaled_X_train.shape[0]\n",
    "\n",
    "test_scorelist= []\n",
    "train_scorelist = []\n",
    "for k in range(1, max_k+1):\n",
    "    \n",
    "    model = KNeighborsClassifier(n_neighbors=k)\n",
    "    model.fit(scaled_X_train, y_train)\n",
    "    \n",
    "    train_scorelist.append(model.score(scaled_X_train, y_train))\n",
    "    test_scorelist.append(model.score(scaled_X_test, y_test))\n",
    "#fishmodel = KNeighborsClassifier(n_neighbors=)\n",
    "#fishmodel"
   ],
   "metadata": {
    "collapsed": false,
    "ExecuteTime": {
     "end_time": "2024-02-26T07:08:44.745806200Z",
     "start_time": "2024-02-26T07:08:43.834529500Z"
    }
   },
   "id": "eb674a31c9f48359",
   "execution_count": 25
  },
  {
   "cell_type": "code",
   "outputs": [
    {
     "name": "stdout",
     "output_type": "stream",
     "text": [
      " train score: [1.0, 1.0, 1.0, 1.0, 1.0, 1.0, 1.0, 1.0, 1.0, 1.0, 1.0, 1.0, 1.0, 1.0, 1.0, 1.0, 1.0, 1.0, 1.0, 1.0, 1.0, 0.717948717948718, 0.717948717948718, 0.717948717948718, 0.717948717948718, 0.717948717948718, 0.717948717948718, 0.717948717948718, 0.717948717948718, 0.717948717948718, 0.717948717948718, 0.717948717948718, 0.717948717948718, 0.717948717948718, 0.717948717948718, 0.717948717948718, 0.717948717948718, 0.717948717948718, 0.717948717948718]\n",
      "test score: [1.0, 1.0, 1.0, 1.0, 1.0, 1.0, 1.0, 1.0, 1.0, 1.0, 1.0, 1.0, 1.0, 1.0, 1.0, 1.0, 1.0, 1.0, 1.0, 1.0, 1.0, 0.7, 0.7, 0.7, 0.7, 0.7, 0.7, 0.7, 0.7, 0.7, 0.7, 0.7, 0.7, 0.7, 0.7, 0.7, 0.7, 0.7, 0.7]\n"
     ]
    }
   ],
   "source": [
    "# 학습 및 테스트데이터에 대한 점수 확인\n",
    "print(f' train score: {train_scorelist}')\n",
    "print(f'test score: {test_scorelist}')"
   ],
   "metadata": {
    "collapsed": false,
    "ExecuteTime": {
     "end_time": "2024-02-26T07:10:10.535475500Z",
     "start_time": "2024-02-26T07:10:10.505760900Z"
    }
   },
   "id": "fef5779643018108",
   "execution_count": 26
  },
  {
   "cell_type": "code",
   "outputs": [
    {
     "data": {
      "text/plain": "<function matplotlib.pyplot.legend(*args, **kwargs) -> 'Legend'>"
     },
     "execution_count": 28,
     "metadata": {},
     "output_type": "execute_result"
    },
    {
     "data": {
      "text/plain": "<Figure size 640x480 with 1 Axes>",
      "image/png": "[encoded data removed]"
     },
     "metadata": {},
     "output_type": "display_data"
    }
   ],
   "source": [
    "#K 갯수에 따른 학습용 / 테스트용 점수 시각화\n",
    "plt.plot(train_scorelist, 'b--', label = 'Train Score')\n",
    "plt.plot(test_scorelist, 'r-', label = 'Test Score')\n",
    "plt.title(\"K&score\")\n",
    "plt.xlabel('K')\n",
    "plt.ylabel('score')\n",
    "plt.legend"
   ],
   "metadata": {
    "collapsed": false,
    "ExecuteTime": {
     "end_time": "2024-02-26T07:13:54.064981500Z",
     "start_time": "2024-02-26T07:13:53.941926200Z"
    }
   },
   "id": "58f1d7504e45c2be",
   "execution_count": 28
  },
  {
   "cell_type": "code",
   "outputs": [],
   "source": [
    "#SVC\n",
    "from sklearn.svm import SVC\n",
    "fishmodel2 = SVC()\n",
    "fishmodel2.fit(scaled_X_train, y_train)"
   ],
   "metadata": {
    "collapsed": false,
    "ExecuteTime": {
     "start_time": "2024-02-26T07:07:12.972334600Z"
    }
   },
   "id": "173a722e768b981e",
   "execution_count": null
  },
  {
   "cell_type": "markdown",
   "source": [
    "5. Test 진행"
   ],
   "metadata": {
    "collapsed": false
   },
   "id": "e2f892eca31377b"
  },
  {
   "cell_type": "markdown",
   "source": [
    "6. 예측 <hr>"
   ],
   "metadata": {
    "collapsed": false
   },
   "id": "6c417a61a891b0cd"
  },
  {
   "cell_type": "code",
   "outputs": [],
   "source": [
    "# 생선 무게, 길이 입력 후 결과 반환\n",
    "newdata = input(\"생선의 무게, 길이 입력(ex: 90,20):\")\n"
   ],
   "metadata": {
    "collapsed": false,
    "ExecuteTime": {
     "start_time": "2024-02-26T07:07:12.977337900Z"
    }
   },
   "id": "ba1fdc9a9778471e",
   "execution_count": null
  },
  {
   "cell_type": "code",
   "outputs": [],
   "source": [
    "#feature scaling proceed\n",
    "\n",
    "scaled_newdata = scaler.transform(newdata)"
   ],
   "metadata": {
    "collapsed": false,
    "ExecuteTime": {
     "start_time": "2024-02-26T07:07:12.978338500Z"
    }
   },
   "id": "230de01d77bf7c67",
   "execution_count": null
  },
  {
   "cell_type": "code",
   "outputs": [],
   "source": [
    "#예측\n",
    "ypre = fishmodel.predict(scaled_newdata)"
   ],
   "metadata": {
    "collapsed": false,
    "ExecuteTime": {
     "start_time": "2024-02-26T07:07:12.980338100Z"
    }
   },
   "id": "8c721ea28940ffc7",
   "execution_count": null
  },
  {
   "cell_type": "code",
   "outputs": [],
   "source": [],
   "metadata": {
    "collapsed": false,
    "ExecuteTime": {
     "end_time": "2024-02-26T07:07:12.982351100Z",
     "start_time": "2024-02-26T07:07:12.981338100Z"
    }
   },
   "id": "cd649c043aec8f33"
  }
 ],
 "metadata": {
  "kernelspec": {
   "display_name": "Python 3",
   "language": "python",
   "name": "python3"
  },
  "language_info": {
   "codemirror_mode": {
    "name": "ipython",
    "version": 2
   },
   "file_extension": ".py",
   "mimetype": "text/x-python",
   "name": "python",
   "nbconvert_exporter": "python",
   "pygments_lexer": "ipython2",
   "version": "2.7.6"
  }
 },
 "nbformat": 4,
 "nbformat_minor": 5
}
