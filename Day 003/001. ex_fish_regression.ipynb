{
 "cells": [
  {
   "cell_type": "markdown",
   "source": [
    "### 목표: 무게에 따른 길이 예측 모델\n",
    "- 데이터 : fish.csv\n",
    "- feature: Weight\n",
    "- target : length\n"
   ],
   "metadata": {
    "collapsed": false
   },
   "id": "d133338c0768d042"
  },
  {
   "cell_type": "markdown",
   "source": [
    "1. 모듈 로딩, 데이터 준비"
   ],
   "metadata": {
    "collapsed": false
   },
   "id": "d77dc2ca559cc910"
  },
  {
   "cell_type": "code",
   "outputs": [
    {
     "data": {
      "text/plain": "  Species  Weight  Length\n0   Bream   242.0    25.4\n1   Bream   290.0    26.3\n2   Bream   340.0    26.5\n3   Bream   363.0    29.0\n4   Bream   430.0    29.0",
      "text/html": "<div>\n<style scoped>\n    .dataframe tbody tr th:only-of-type {\n        vertical-align: middle;\n    }\n\n    .dataframe tbody tr th {\n        vertical-align: top;\n    }\n\n    .dataframe thead th {\n        text-align: right;\n    }\n</style>\n<table border=\"1\" class=\"dataframe\">\n  <thead>\n    <tr style=\"text-align: right;\">\n      <th></th>\n      <th>Species</th>\n      <th>Weight</th>\n      <th>Length</th>\n    </tr>\n  </thead>\n  <tbody>\n    <tr>\n      <th>0</th>\n      <td>Bream</td>\n      <td>242.0</td>\n      <td>25.4</td>\n    </tr>\n    <tr>\n      <th>1</th>\n      <td>Bream</td>\n      <td>290.0</td>\n      <td>26.3</td>\n    </tr>\n    <tr>\n      <th>2</th>\n      <td>Bream</td>\n      <td>340.0</td>\n      <td>26.5</td>\n    </tr>\n    <tr>\n      <th>3</th>\n      <td>Bream</td>\n      <td>363.0</td>\n      <td>29.0</td>\n    </tr>\n    <tr>\n      <th>4</th>\n      <td>Bream</td>\n      <td>430.0</td>\n      <td>29.0</td>\n    </tr>\n  </tbody>\n</table>\n</div>"
     },
     "execution_count": 33,
     "metadata": {},
     "output_type": "execute_result"
    }
   ],
   "source": [
    "import pandas as pd\n",
    "import matplotlib.pyplot as plt\n",
    "import seaborn as sns\n",
    "from sklearn.preprocessing import StandardScaler, MinMaxScaler\n",
    "from sklearn.linear_model import LinearRegression\n",
    "import numpy as np\n",
    "\n",
    "fish = pd.read_csv('../data/fish.csv', usecols=[0,1,2])\n",
    "fish.head()"
   ],
   "metadata": {
    "collapsed": false,
    "ExecuteTime": {
     "end_time": "2024-02-27T02:16:03.965407200Z",
     "start_time": "2024-02-27T02:16:03.909733900Z"
    }
   },
   "id": "5249e38d9b8f043e",
   "execution_count": 33
  },
  {
   "cell_type": "code",
   "outputs": [],
   "source": [
    "#학습에 사용할 데이터 추출하기: perch 행\n",
    "\n",
    "perch = fish[fish.Species == 'Perch']\n",
    "\n",
    "#인덱스 정리\n",
    "perch.reset_index(drop = True, inplace=True)"
   ],
   "metadata": {
    "collapsed": false,
    "ExecuteTime": {
     "end_time": "2024-02-27T02:16:03.968406900Z",
     "start_time": "2024-02-27T02:16:03.935269Z"
    }
   },
   "id": "b235044b1c34cf86",
   "execution_count": 34
  },
  {
   "cell_type": "code",
   "outputs": [
    {
     "data": {
      "text/plain": "            Weight     Length\ncount    56.000000  56.000000\nmean    382.239286  27.892857\nstd     347.617717   9.021668\nmin       5.900000   8.400000\n25%     120.000000  21.825000\n50%     207.500000  25.300000\n75%     692.500000  36.625000\nmax    1100.000000  44.000000",
      "text/html": "<div>\n<style scoped>\n    .dataframe tbody tr th:only-of-type {\n        vertical-align: middle;\n    }\n\n    .dataframe tbody tr th {\n        vertical-align: top;\n    }\n\n    .dataframe thead th {\n        text-align: right;\n    }\n</style>\n<table border=\"1\" class=\"dataframe\">\n  <thead>\n    <tr style=\"text-align: right;\">\n      <th></th>\n      <th>Weight</th>\n      <th>Length</th>\n    </tr>\n  </thead>\n  <tbody>\n    <tr>\n      <th>count</th>\n      <td>56.000000</td>\n      <td>56.000000</td>\n    </tr>\n    <tr>\n      <th>mean</th>\n      <td>382.239286</td>\n      <td>27.892857</td>\n    </tr>\n    <tr>\n      <th>std</th>\n      <td>347.617717</td>\n      <td>9.021668</td>\n    </tr>\n    <tr>\n      <th>min</th>\n      <td>5.900000</td>\n      <td>8.400000</td>\n    </tr>\n    <tr>\n      <th>25%</th>\n      <td>120.000000</td>\n      <td>21.825000</td>\n    </tr>\n    <tr>\n      <th>50%</th>\n      <td>207.500000</td>\n      <td>25.300000</td>\n    </tr>\n    <tr>\n      <th>75%</th>\n      <td>692.500000</td>\n      <td>36.625000</td>\n    </tr>\n    <tr>\n      <th>max</th>\n      <td>1100.000000</td>\n      <td>44.000000</td>\n    </tr>\n  </tbody>\n</table>\n</div>"
     },
     "execution_count": 35,
     "metadata": {},
     "output_type": "execute_result"
    }
   ],
   "source": [
    "#수치 컬럼의 데이터 정보 확인\n",
    "perch.describe()"
   ],
   "metadata": {
    "collapsed": false,
    "ExecuteTime": {
     "end_time": "2024-02-27T02:16:03.989407800Z",
     "start_time": "2024-02-27T02:16:03.952406500Z"
    }
   },
   "id": "62e99353bb750355",
   "execution_count": 35
  },
  {
   "cell_type": "markdown",
   "source": [
    "3. 데이터 전처리 <hr>\n",
    "- 결측치, 이상치, 중복값 처리\n",
    "- 데이터 분포, 컬럼 분포, 최빈값, 고유값 <- 산점도, 히스토그램"
   ],
   "metadata": {
    "collapsed": false
   },
   "id": "b7df318fa805246f"
  },
  {
   "cell_type": "markdown",
   "source": [
    "3-1. 데이터 분포"
   ],
   "metadata": {
    "collapsed": false
   },
   "id": "e2ddb787d4f45278"
  },
  {
   "cell_type": "code",
   "outputs": [
    {
     "data": {
      "text/plain": "<Figure size 640x480 with 1 Axes>",
      "image/png": "[encoded data removed]"
     },
     "metadata": {},
     "output_type": "display_data"
    }
   ],
   "source": [
    "#무게 - 길이 시각화\n",
    "\n",
    "plt.plot(perch.Weight, perch.Length, 'go')\n",
    "plt.xlabel('Weight')\n",
    "plt.ylabel('Length')\n",
    "plt.show()"
   ],
   "metadata": {
    "collapsed": false,
    "ExecuteTime": {
     "end_time": "2024-02-27T02:16:04.114374Z",
     "start_time": "2024-02-27T02:16:03.982406500Z"
    }
   },
   "id": "5faf0e52e9cb8844",
   "execution_count": 36
  },
  {
   "cell_type": "code",
   "outputs": [
    {
     "data": {
      "text/plain": "          Weight    Length\nWeight  1.000000  0.958656\nLength  0.958656  1.000000",
      "text/html": "<div>\n<style scoped>\n    .dataframe tbody tr th:only-of-type {\n        vertical-align: middle;\n    }\n\n    .dataframe tbody tr th {\n        vertical-align: top;\n    }\n\n    .dataframe thead th {\n        text-align: right;\n    }\n</style>\n<table border=\"1\" class=\"dataframe\">\n  <thead>\n    <tr style=\"text-align: right;\">\n      <th></th>\n      <th>Weight</th>\n      <th>Length</th>\n    </tr>\n  </thead>\n  <tbody>\n    <tr>\n      <th>Weight</th>\n      <td>1.000000</td>\n      <td>0.958656</td>\n    </tr>\n    <tr>\n      <th>Length</th>\n      <td>0.958656</td>\n      <td>1.000000</td>\n    </tr>\n  </tbody>\n</table>\n</div>"
     },
     "execution_count": 37,
     "metadata": {},
     "output_type": "execute_result"
    }
   ],
   "source": [
    "# 무게 - 길이 상관계수\n",
    "perch.corr(numeric_only=True)\n",
    "\n",
    "#강한 상관관계, 양의 상관관계."
   ],
   "metadata": {
    "collapsed": false,
    "ExecuteTime": {
     "end_time": "2024-02-27T02:16:04.134900Z",
     "start_time": "2024-02-27T02:16:04.078030800Z"
    }
   },
   "id": "b9ffce22d07e8ee1",
   "execution_count": 37
  },
  {
   "cell_type": "code",
   "outputs": [
    {
     "data": {
      "text/plain": "  Species  Weight  Length\n0   Perch     5.9     8.4\n1   Perch    32.0    13.7",
      "text/html": "<div>\n<style scoped>\n    .dataframe tbody tr th:only-of-type {\n        vertical-align: middle;\n    }\n\n    .dataframe tbody tr th {\n        vertical-align: top;\n    }\n\n    .dataframe thead th {\n        text-align: right;\n    }\n</style>\n<table border=\"1\" class=\"dataframe\">\n  <thead>\n    <tr style=\"text-align: right;\">\n      <th></th>\n      <th>Species</th>\n      <th>Weight</th>\n      <th>Length</th>\n    </tr>\n  </thead>\n  <tbody>\n    <tr>\n      <th>0</th>\n      <td>Perch</td>\n      <td>5.9</td>\n      <td>8.4</td>\n    </tr>\n    <tr>\n      <th>1</th>\n      <td>Perch</td>\n      <td>32.0</td>\n      <td>13.7</td>\n    </tr>\n  </tbody>\n</table>\n</div>"
     },
     "execution_count": 38,
     "metadata": {},
     "output_type": "execute_result"
    }
   ],
   "source": [
    "# [ 분석결과 ] 무게에 따른 길이는 비례관계\n",
    "# 무게 + 연산 --> 길이\n",
    "\n",
    "perch.iloc[:2]"
   ],
   "metadata": {
    "collapsed": false,
    "ExecuteTime": {
     "end_time": "2024-02-27T02:16:04.184551500Z",
     "start_time": "2024-02-27T02:16:04.092279800Z"
    }
   },
   "id": "fa235bb610f05355",
   "execution_count": 38
  },
  {
   "cell_type": "code",
   "outputs": [
    {
     "data": {
      "text/plain": "0     8.18\n1    13.40\n2    15.00\nName: Weight, dtype: float64"
     },
     "execution_count": 39,
     "metadata": {},
     "output_type": "execute_result"
    }
   ],
   "source": [
    "md = (perch.Weight * 1/5) + 7\n",
    "md[:3]"
   ],
   "metadata": {
    "collapsed": false,
    "ExecuteTime": {
     "end_time": "2024-02-27T02:16:04.186555200Z",
     "start_time": "2024-02-27T02:16:04.104373600Z"
    }
   },
   "id": "7698c70712ffad14",
   "execution_count": 39
  },
  {
   "cell_type": "code",
   "outputs": [
    {
     "data": {
      "text/plain": "3112.12"
     },
     "execution_count": 40,
     "metadata": {},
     "output_type": "execute_result"
    }
   ],
   "source": [
    "(perch.Length - md).abs().sum()"
   ],
   "metadata": {
    "collapsed": false,
    "ExecuteTime": {
     "end_time": "2024-02-27T02:16:04.189551600Z",
     "start_time": "2024-02-27T02:16:04.140901Z"
    }
   },
   "id": "9d86e887c5a925f1",
   "execution_count": 40
  },
  {
   "cell_type": "markdown",
   "source": [
    "4. 학습 진행 <hr>\n",
    "- 방법 : 지도 + 회귀 (예측) -> 선형 회귀(regression)\n",
    "- "
   ],
   "metadata": {
    "collapsed": false
   },
   "id": "bef628ad24dbaba2"
  },
  {
   "cell_type": "code",
   "outputs": [],
   "source": [
    "# 모델 인스턴스 생성\n",
    "md = LinearRegression()"
   ],
   "metadata": {
    "collapsed": false,
    "ExecuteTime": {
     "end_time": "2024-02-27T02:16:04.265627Z",
     "start_time": "2024-02-27T02:16:04.192552200Z"
    }
   },
   "id": "3646d1090a89c3ef",
   "execution_count": 41
  },
  {
   "cell_type": "code",
   "outputs": [
    {
     "data": {
      "text/plain": "LinearRegression()",
      "text/html": "<style>#sk-container-id-1 {color: black;}#sk-container-id-1 pre{padding: 0;}#sk-container-id-1 div.sk-toggleable {background-color: white;}#sk-container-id-1 label.sk-toggleable__label {cursor: pointer;display: block;width: 100%;margin-bottom: 0;padding: 0.3em;box-sizing: border-box;text-align: center;}#sk-container-id-1 label.sk-toggleable__label-arrow:before {content: \"▸\";float: left;margin-right: 0.25em;color: #696969;}#sk-container-id-1 label.sk-toggleable__label-arrow:hover:before {color: black;}#sk-container-id-1 div.sk-estimator:hover label.sk-toggleable__label-arrow:before {color: black;}#sk-container-id-1 div.sk-toggleable__content {max-height: 0;max-width: 0;overflow: hidden;text-align: left;background-color: #f0f8ff;}#sk-container-id-1 div.sk-toggleable__content pre {margin: 0.2em;color: black;border-radius: 0.25em;background-color: #f0f8ff;}#sk-container-id-1 input.sk-toggleable__control:checked~div.sk-toggleable__content {max-height: 200px;max-width: 100%;overflow: auto;}#sk-container-id-1 input.sk-toggleable__control:checked~label.sk-toggleable__label-arrow:before {content: \"▾\";}#sk-container-id-1 div.sk-estimator input.sk-toggleable__control:checked~label.sk-toggleable__label {background-color: #d4ebff;}#sk-container-id-1 div.sk-label input.sk-toggleable__control:checked~label.sk-toggleable__label {background-color: #d4ebff;}#sk-container-id-1 input.sk-hidden--visually {border: 0;clip: rect(1px 1px 1px 1px);clip: rect(1px, 1px, 1px, 1px);height: 1px;margin: -1px;overflow: hidden;padding: 0;position: absolute;width: 1px;}#sk-container-id-1 div.sk-estimator {font-family: monospace;background-color: #f0f8ff;border: 1px dotted black;border-radius: 0.25em;box-sizing: border-box;margin-bottom: 0.5em;}#sk-container-id-1 div.sk-estimator:hover {background-color: #d4ebff;}#sk-container-id-1 div.sk-parallel-item::after {content: \"\";width: 100%;border-bottom: 1px solid gray;flex-grow: 1;}#sk-container-id-1 div.sk-label:hover label.sk-toggleable__label {background-color: #d4ebff;}#sk-container-id-1 div.sk-serial::before {content: \"\";position: absolute;border-left: 1px solid gray;box-sizing: border-box;top: 0;bottom: 0;left: 50%;z-index: 0;}#sk-container-id-1 div.sk-serial {display: flex;flex-direction: column;align-items: center;background-color: white;padding-right: 0.2em;padding-left: 0.2em;position: relative;}#sk-container-id-1 div.sk-item {position: relative;z-index: 1;}#sk-container-id-1 div.sk-parallel {display: flex;align-items: stretch;justify-content: center;background-color: white;position: relative;}#sk-container-id-1 div.sk-item::before, #sk-container-id-1 div.sk-parallel-item::before {content: \"\";position: absolute;border-left: 1px solid gray;box-sizing: border-box;top: 0;bottom: 0;left: 50%;z-index: -1;}#sk-container-id-1 div.sk-parallel-item {display: flex;flex-direction: column;z-index: 1;position: relative;background-color: white;}#sk-container-id-1 div.sk-parallel-item:first-child::after {align-self: flex-end;width: 50%;}#sk-container-id-1 div.sk-parallel-item:last-child::after {align-self: flex-start;width: 50%;}#sk-container-id-1 div.sk-parallel-item:only-child::after {width: 0;}#sk-container-id-1 div.sk-dashed-wrapped {border: 1px dashed gray;margin: 0 0.4em 0.5em 0.4em;box-sizing: border-box;padding-bottom: 0.4em;background-color: white;}#sk-container-id-1 div.sk-label label {font-family: monospace;font-weight: bold;display: inline-block;line-height: 1.2em;}#sk-container-id-1 div.sk-label-container {text-align: center;}#sk-container-id-1 div.sk-container {/* jupyter's `normalize.less` sets `[hidden] { display: none; }` but bootstrap.min.css set `[hidden] { display: none !important; }` so we also need the `!important` here to be able to override the default hidden behavior on the sphinx rendered scikit-learn.org. See: https://github.com/scikit-learn/scikit-learn/issues/21755 */display: inline-block !important;position: relative;}#sk-container-id-1 div.sk-text-repr-fallback {display: none;}</style><div id=\"sk-container-id-1\" class=\"sk-top-container\"><div class=\"sk-text-repr-fallback\"><pre>LinearRegression()</pre><b>In a Jupyter environment, please rerun this cell to show the HTML representation or trust the notebook. <br />On GitHub, the HTML representation is unable to render, please try loading this page with nbviewer.org.</b></div><div class=\"sk-container\" hidden><div class=\"sk-item\"><div class=\"sk-estimator sk-toggleable\"><input class=\"sk-toggleable__control sk-hidden--visually\" id=\"sk-estimator-id-1\" type=\"checkbox\" checked><label for=\"sk-estimator-id-1\" class=\"sk-toggleable__label sk-toggleable__label-arrow\">LinearRegression</label><div class=\"sk-toggleable__content\"><pre>LinearRegression()</pre></div></div></div></div></div>"
     },
     "execution_count": 42,
     "metadata": {},
     "output_type": "execute_result"
    }
   ],
   "source": [
    "md.fit(perch[['Weight']], perch['Length'])"
   ],
   "metadata": {
    "collapsed": false,
    "ExecuteTime": {
     "end_time": "2024-02-27T02:16:04.337494700Z",
     "start_time": "2024-02-27T02:16:04.286333500Z"
    }
   },
   "id": "bdb5859a8a27bf6",
   "execution_count": 42
  },
  {
   "cell_type": "code",
   "outputs": [
    {
     "name": "stdout",
     "output_type": "stream",
     "text": [
      " 피처에 활당되는 가중치 : [0.02487985]\n",
      " 수식에 사용되는 절편 : 18.382802913636723\n"
     ]
    }
   ],
   "source": [
    "print(f' 피처에 활당되는 가중치 : {md.coef_}')\n",
    "print(f' 수식에 사용되는 절편 : {md.intercept_}')"
   ],
   "metadata": {
    "collapsed": false,
    "ExecuteTime": {
     "end_time": "2024-02-27T02:16:04.389230400Z",
     "start_time": "2024-02-27T02:16:04.341493300Z"
    }
   },
   "id": "d22d3ec6734af9d2",
   "execution_count": 43
  },
  {
   "cell_type": "code",
   "outputs": [
    {
     "data": {
      "text/plain": "0     18.529594\n1     19.178958\n2     19.377997\n3     19.664115\n4     20.124392\n5     20.870787\n6     20.323431\n7     20.373191\n8     20.497590\n9     20.497590\n10    21.119586\n11    21.243985\n12    21.492784\n13    21.617183\n14    21.368384\n15    21.368384\n16    21.617183\n17    21.741582\n18    21.119586\n19    21.617183\n20    22.114780\n21    21.990380\n22    22.114780\n23    22.612377\n24    23.980768\n25    21.990380\n26    23.060214\n27    22.861175\n28    23.284132\n29    23.806609\n30    25.846756\n31    24.851563\n32    24.975962\n33    24.602764\n34    24.602764\n35    25.846756\n36    26.344353\n37    31.171043\n38    32.215997\n39    39.281873\n40    35.425497\n41    35.798695\n42    35.798695\n43    35.549896\n44    40.774664\n45    34.554702\n46    38.784276\n47    39.530671\n48    40.774664\n49    43.635846\n50    38.784276\n51    45.750633\n52    43.262648\n53    45.750633\n54    43.262648\n55    43.262648\nName: Weight, dtype: float64"
     },
     "execution_count": 46,
     "metadata": {},
     "output_type": "execute_result"
    }
   ],
   "source": [
    "(perch.Weight * md.coef_ + md.intercept_)"
   ],
   "metadata": {
    "collapsed": false,
    "ExecuteTime": {
     "end_time": "2024-02-27T02:17:06.587751Z",
     "start_time": "2024-02-27T02:17:06.570102400Z"
    }
   },
   "id": "f4d5bddf4933e9ed",
   "execution_count": 46
  },
  {
   "cell_type": "markdown",
   "source": [
    "\n",
    "5, test\n"
   ],
   "metadata": {
    "collapsed": false
   },
   "id": "f59aa484dde77de5"
  },
  {
   "cell_type": "code",
   "outputs": [
    {
     "data": {
      "text/plain": "0.919021073244782"
     },
     "execution_count": 47,
     "metadata": {},
     "output_type": "execute_result"
    }
   ],
   "source": [
    "#결정계수 R2 : 얼마나 정답에 가깝게 결과를 예측해내는지를 나타내는 계수값\n",
    "#범위는 0.0 ~ 1.0\n",
    "#1에 가까울수록 잘 만들어진 모델\n",
    "md.score(perch[['Weight']], perch['Length'])"
   ],
   "metadata": {
    "collapsed": false,
    "ExecuteTime": {
     "end_time": "2024-02-27T02:22:23.213567100Z",
     "start_time": "2024-02-27T02:22:23.180167800Z"
    }
   },
   "id": "c0711bc29301a457",
   "execution_count": 47
  },
  {
   "cell_type": "code",
   "outputs": [],
   "source": [
    "y_pre = md.predict(perch[['Weight']])"
   ],
   "metadata": {
    "collapsed": false,
    "ExecuteTime": {
     "end_time": "2024-02-27T02:24:26.269999900Z",
     "start_time": "2024-02-27T02:24:26.264988Z"
    }
   },
   "id": "ee9dd0b36decdba5",
   "execution_count": 50
  },
  {
   "cell_type": "code",
   "outputs": [
    {
     "data": {
      "text/plain": "0     10.1\n1      5.5\n2      4.4\n3      3.5\n4      2.7\n5      2.9\n6      1.6\n7      1.4\n8      0.9\n9      0.5\n10     0.1\n11     0.2\n12     0.5\n13     0.3\n14    -0.6\n15    -0.6\n16    -0.4\n17    -0.3\n18    -0.9\n19    -0.9\n20    -0.4\n21    -0.7\n22    -0.9\n23    -0.9\n24     0.0\n25    -2.0\n26    -1.5\n27    -2.1\n28    -2.3\n29    -2.7\n30    -1.5\n31    -2.6\n32    -2.5\n33    -2.9\n34    -3.4\n35    -2.9\n36    -3.7\n37    -1.6\n38    -2.3\n39     4.3\n40    -1.1\n41    -0.2\n42    -1.2\n43    -1.5\n44     1.8\n45    -4.4\n46    -0.2\n47    -0.5\n48     0.8\n49     3.6\n50    -1.2\n51     3.8\n52     0.3\n53     2.8\n54    -0.2\n55    -0.7\nName: Length, dtype: float64"
     },
     "execution_count": 53,
     "metadata": {},
     "output_type": "execute_result"
    }
   ],
   "source": [
    "np.round(y_pre, 1) - perch.Length"
   ],
   "metadata": {
    "collapsed": false,
    "ExecuteTime": {
     "end_time": "2024-02-27T02:25:50.458898700Z",
     "start_time": "2024-02-27T02:25:50.450313400Z"
    }
   },
   "id": "748fb638baea7099",
   "execution_count": 53
  },
  {
   "cell_type": "code",
   "outputs": [],
   "source": [],
   "metadata": {
    "collapsed": false
   },
   "id": "a6a70d0aa7d6d610"
  },
  {
   "cell_type": "code",
   "outputs": [],
   "source": [
    "md.score(perch[['Weight']], perch.Length)"
   ],
   "metadata": {
    "collapsed": false
   },
   "id": "d017bcba38b24181"
  },
  {
   "cell_type": "code",
   "outputs": [],
   "source": [
    "y_pre = md.predict(perch[['Weight']])\n",
    "y_pre = np.round(y_pre,1)\n",
    "y_pre"
   ],
   "metadata": {
    "collapsed": false
   },
   "id": "8c2e92cba4e1d386"
  },
  {
   "cell_type": "code",
   "outputs": [],
   "source": [
    "# 오차 계산 => 예측값 - 정답\n",
    "errorSR = y_pre - perch.Length\n",
    "errorSR"
   ],
   "metadata": {
    "collapsed": false
   },
   "id": "336a2219008fa98b"
  },
  {
   "cell_type": "code",
   "outputs": [],
   "source": [
    "np.round(y_pre,1), perch.Length"
   ],
   "metadata": {
    "collapsed": false
   },
   "id": "e84266a437e124fc"
  },
  {
   "cell_type": "code",
   "outputs": [],
   "source": [
    "(errorSR**2).sum() / errorSR.shape[0] # 분산"
   ],
   "metadata": {
    "collapsed": false
   },
   "id": "44754940d1d674fb"
  },
  {
   "cell_type": "code",
   "outputs": [],
   "source": [
    "# 정답과 완벽히 똑같은 갯수 찾기\n",
    "errorSR[(y_pre-perch.Length) == 0.0]"
   ],
   "metadata": {
    "collapsed": false
   },
   "id": "557e05da3107d06b"
  },
  {
   "cell_type": "code",
   "outputs": [],
   "source": [
    "from sklearn.metrics import mean_absolute_error, mean_squared_error"
   ],
   "metadata": {
    "collapsed": false,
    "ExecuteTime": {
     "end_time": "2024-02-27T02:29:42.516017500Z",
     "start_time": "2024-02-27T02:29:42.496061800Z"
    }
   },
   "id": "28964e380f6ed9e5",
   "execution_count": 54
  },
  {
   "cell_type": "markdown",
   "source": [
    "6. 성능 평가 <hr>\n",
    "- 결정 계수값 : 1.0에 가까울수록 좋음\n",
    "- 오차 평균값 : 낮은 값일수록 좋음. \n",
    "- 활용 모듈   : sklearn. metrics"
   ],
   "metadata": {
    "collapsed": false
   },
   "id": "38a8520ae1906ca"
  },
  {
   "cell_type": "code",
   "outputs": [
    {
     "name": "stdout",
     "output_type": "stream",
     "text": [
      "1.3.0\n"
     ]
    }
   ],
   "source": [
    "from sklearn.metrics import mean_squared_error, mean_absolute_error, r2_score\n",
    "import sklearn\n",
    "\n",
    "print(sklearn.__version__)"
   ],
   "metadata": {
    "collapsed": false,
    "ExecuteTime": {
     "end_time": "2024-02-27T05:17:53.741802700Z",
     "start_time": "2024-02-27T05:17:53.733344300Z"
    }
   },
   "id": "992bcc2928d9055e",
   "execution_count": 59
  },
  {
   "cell_type": "code",
   "outputs": [
    {
     "data": {
      "text/plain": "0.919021073244782"
     },
     "execution_count": 56,
     "metadata": {},
     "output_type": "execute_result"
    }
   ],
   "source": [
    "#결정계수값\n",
    "r2_score(perch.Length, y_pre)"
   ],
   "metadata": {
    "collapsed": false,
    "ExecuteTime": {
     "end_time": "2024-02-27T04:54:37.091107400Z",
     "start_time": "2024-02-27T04:54:37.060105600Z"
    }
   },
   "id": "d2071e0e7047b794",
   "execution_count": 56
  },
  {
   "cell_type": "code",
   "outputs": [
    {
     "data": {
      "text/plain": "6.473219904872075"
     },
     "execution_count": 57,
     "metadata": {},
     "output_type": "execute_result"
    }
   ],
   "source": [
    "#평균제곱오차:MSE\n",
    "mean_squared_error(perch.Length, y_pre)"
   ],
   "metadata": {
    "collapsed": false,
    "ExecuteTime": {
     "end_time": "2024-02-27T04:55:00.293082600Z",
     "start_time": "2024-02-27T04:55:00.262105500Z"
    }
   },
   "id": "c91dc1d6e605f46b",
   "execution_count": 57
  },
  {
   "cell_type": "code",
   "outputs": [
    {
     "data": {
      "text/plain": "2.5442523272804674"
     },
     "execution_count": 60,
     "metadata": {},
     "output_type": "execute_result"
    }
   ],
   "source": [
    "#루트평균제곱오차: MSE\n",
    "mean_squared_error(perch.Length, y_pre, squared=False)"
   ],
   "metadata": {
    "collapsed": false,
    "ExecuteTime": {
     "end_time": "2024-02-27T05:20:18.975565400Z",
     "start_time": "2024-02-27T05:20:18.966234100Z"
    }
   },
   "id": "c3eef87550451e62",
   "execution_count": 60
  },
  {
   "cell_type": "code",
   "outputs": [
    {
     "data": {
      "text/plain": "1.851505000314426"
     },
     "execution_count": 58,
     "metadata": {},
     "output_type": "execute_result"
    }
   ],
   "source": [
    "#평균절댓값오차\n",
    "mean_absolute_error(perch.Length, y_pre)"
   ],
   "metadata": {
    "collapsed": false,
    "ExecuteTime": {
     "end_time": "2024-02-27T04:55:22.281216Z",
     "start_time": "2024-02-27T04:55:22.251550700Z"
    }
   },
   "id": "d36949403ccf24f1",
   "execution_count": 58
  },
  {
   "cell_type": "code",
   "outputs": [],
   "source": [],
   "metadata": {
    "collapsed": false
   },
   "id": "978c59934ae5c8ad"
  }
 ],
 "metadata": {
  "kernelspec": {
   "display_name": "Python 3",
   "language": "python",
   "name": "python3"
  },
  "language_info": {
   "codemirror_mode": {
    "name": "ipython",
    "version": 2
   },
   "file_extension": ".py",
   "mimetype": "text/x-python",
   "name": "python",
   "nbconvert_exporter": "python",
   "pygments_lexer": "ipython2",
   "version": "2.7.6"
  }
 },
 "nbformat": 4,
 "nbformat_minor": 5
}
