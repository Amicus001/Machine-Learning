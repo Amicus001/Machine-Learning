{
 "cells": [
  {
   "cell_type": "markdown",
   "source": [
    "### 목표 : 생선 분류 모델\n",
    "- 데이터   : fish.csv\n",
    "- feature  : 5개 - Weight, Length, Diagonal, Width, Height\n",
    "- target   : 1개 - Species\n",
    "- 방법     : 지도학습 + 다중분류"
   ],
   "metadata": {
    "collapsed": false
   },
   "id": "e4472a0e06132cb1"
  },
  {
   "cell_type": "markdown",
   "source": [
    "1. 모듈 로딩, 데이터 준비\n",
    "<hr>"
   ],
   "metadata": {
    "collapsed": false
   },
   "id": "3c4630b6fbf8cf9"
  },
  {
   "cell_type": "code",
   "outputs": [],
   "source": [
    "import pandas as pd\n",
    "import numpy as np\n"
   ],
   "metadata": {
    "collapsed": false,
    "ExecuteTime": {
     "end_time": "2024-03-04T05:38:46.777357Z",
     "start_time": "2024-03-04T05:38:46.428970Z"
    }
   },
   "id": "a3bffb06c70a575e",
   "execution_count": 4
  },
  {
   "cell_type": "code",
   "outputs": [
    {
     "data": {
      "text/plain": "  Species  Weight  Length  Diagonal  Height   Width\n0   Bream   242.0    25.4      30.0   11.52  4.0200\n1   Bream   290.0    26.3      31.2   12.48  4.3056",
      "text/html": "<div>\n<style scoped>\n    .dataframe tbody tr th:only-of-type {\n        vertical-align: middle;\n    }\n\n    .dataframe tbody tr th {\n        vertical-align: top;\n    }\n\n    .dataframe thead th {\n        text-align: right;\n    }\n</style>\n<table border=\"1\" class=\"dataframe\">\n  <thead>\n    <tr style=\"text-align: right;\">\n      <th></th>\n      <th>Species</th>\n      <th>Weight</th>\n      <th>Length</th>\n      <th>Diagonal</th>\n      <th>Height</th>\n      <th>Width</th>\n    </tr>\n  </thead>\n  <tbody>\n    <tr>\n      <th>0</th>\n      <td>Bream</td>\n      <td>242.0</td>\n      <td>25.4</td>\n      <td>30.0</td>\n      <td>11.52</td>\n      <td>4.0200</td>\n    </tr>\n    <tr>\n      <th>1</th>\n      <td>Bream</td>\n      <td>290.0</td>\n      <td>26.3</td>\n      <td>31.2</td>\n      <td>12.48</td>\n      <td>4.3056</td>\n    </tr>\n  </tbody>\n</table>\n</div>"
     },
     "execution_count": 5,
     "metadata": {},
     "output_type": "execute_result"
    }
   ],
   "source": [
    "#데이터 준비\n",
    "data = '../data/fish.csv'\n",
    "fish = pd.read_csv(data)\n",
    "\n",
    "fish.head(2)"
   ],
   "metadata": {
    "collapsed": false,
    "ExecuteTime": {
     "end_time": "2024-03-04T05:38:46.808399Z",
     "start_time": "2024-03-04T05:38:46.779359Z"
    }
   },
   "id": "e6cbbe8d327b425f",
   "execution_count": 5
  },
  {
   "cell_type": "markdown",
   "source": [
    "2. 학습 데이터 준비"
   ],
   "metadata": {
    "collapsed": false
   },
   "id": "a810fe7beb87f1fd"
  },
  {
   "cell_type": "markdown",
   "source": [
    "2 - 1. feature / target 분리"
   ],
   "metadata": {
    "collapsed": false
   },
   "id": "c61f05a3e46e50fd"
  },
  {
   "cell_type": "code",
   "outputs": [],
   "source": [
    "feature = fish[fish.columns[1:]]\n",
    "target = fish[fish.columns[0]]\n"
   ],
   "metadata": {
    "collapsed": false,
    "ExecuteTime": {
     "end_time": "2024-03-04T05:38:46.823373Z",
     "start_time": "2024-03-04T05:38:46.809399Z"
    }
   },
   "id": "f77166faba650529",
   "execution_count": 6
  },
  {
   "cell_type": "code",
   "outputs": [
    {
     "name": "stdout",
     "output_type": "stream",
     "text": [
      "feature: (159, 5)\n",
      "target: (159,)\n"
     ]
    }
   ],
   "source": [
    "print(f'feature: {feature.shape}')\n",
    "print(f'target: {target.shape}')"
   ],
   "metadata": {
    "collapsed": false,
    "ExecuteTime": {
     "end_time": "2024-03-04T05:38:46.838706Z",
     "start_time": "2024-03-04T05:38:46.824415Z"
    }
   },
   "id": "6c402d61f2511da8",
   "execution_count": 7
  },
  {
   "cell_type": "code",
   "outputs": [
    {
     "data": {
      "text/plain": "array([0, 0, 0, 0, 0, 0, 0, 0, 0, 0, 0, 0, 0, 0, 0, 0, 0, 0, 0, 0, 0, 0,\n       0, 0, 0, 0, 0, 0, 0, 0, 0, 0, 0, 0, 0, 4, 4, 4, 4, 4, 4, 4, 4, 4,\n       4, 4, 4, 4, 4, 4, 4, 4, 4, 4, 4, 6, 6, 6, 6, 6, 6, 1, 1, 1, 1, 1,\n       1, 1, 1, 1, 1, 1, 2, 2, 2, 2, 2, 2, 2, 2, 2, 2, 2, 2, 2, 2, 2, 2,\n       2, 2, 2, 2, 2, 2, 2, 2, 2, 2, 2, 2, 2, 2, 2, 2, 2, 2, 2, 2, 2, 2,\n       2, 2, 2, 2, 2, 2, 2, 2, 2, 2, 2, 2, 2, 2, 2, 2, 2, 2, 3, 3, 3, 3,\n       3, 3, 3, 3, 3, 3, 3, 3, 3, 3, 3, 3, 3, 5, 5, 5, 5, 5, 5, 5, 5, 5,\n       5, 5, 5, 5, 5])"
     },
     "execution_count": 8,
     "metadata": {},
     "output_type": "execute_result"
    }
   ],
   "source": [
    "from sklearn.preprocessing import LabelEncoder\n",
    "\n",
    "encoder = LabelEncoder()\n",
    "encoder.fit(target)\n",
    "encoder.transform(target)"
   ],
   "metadata": {
    "collapsed": false,
    "ExecuteTime": {
     "end_time": "2024-03-04T05:38:46.853670Z",
     "start_time": "2024-03-04T05:38:46.840260Z"
    }
   },
   "id": "d1dbb8922f0bcf37",
   "execution_count": 8
  },
  {
   "cell_type": "markdown",
   "source": [
    "# target class quantity check"
   ],
   "metadata": {
    "collapsed": false
   },
   "id": "a4b265389b15684c"
  },
  {
   "cell_type": "code",
   "outputs": [
    {
     "data": {
      "text/plain": "7"
     },
     "execution_count": 9,
     "metadata": {},
     "output_type": "execute_result"
    }
   ],
   "source": [
    "target.nunique()"
   ],
   "metadata": {
    "collapsed": false,
    "ExecuteTime": {
     "end_time": "2024-03-04T05:38:46.869598Z",
     "start_time": "2024-03-04T05:38:46.854620Z"
    }
   },
   "id": "7efd10b5e55b86c",
   "execution_count": 9
  },
  {
   "cell_type": "code",
   "outputs": [
    {
     "data": {
      "text/plain": "Species\nPerch        35.220126\nBream        22.012579\nRoach        12.578616\nPike         10.691824\nSmelt         8.805031\nParkki        6.918239\nWhitefish     3.773585\nName: count, dtype: float64"
     },
     "execution_count": 10,
     "metadata": {},
     "output_type": "execute_result"
    }
   ],
   "source": [
    "# target class별 데이터 수 확인\n",
    "\n",
    "(target.value_counts() / target.shape[0]) * 100"
   ],
   "metadata": {
    "collapsed": false,
    "ExecuteTime": {
     "end_time": "2024-03-04T05:38:46.884768Z",
     "start_time": "2024-03-04T05:38:46.871661Z"
    }
   },
   "id": "517be41324d40601",
   "execution_count": 10
  },
  {
   "cell_type": "markdown",
   "source": [
    "2 - 2. 학습 / 테스트용 데이터셋 준비"
   ],
   "metadata": {
    "collapsed": false
   },
   "id": "2598c226e0f6292d"
  },
  {
   "cell_type": "code",
   "outputs": [],
   "source": [
    "from sklearn.model_selection import train_test_split"
   ],
   "metadata": {
    "collapsed": false,
    "ExecuteTime": {
     "end_time": "2024-03-04T05:38:46.946515Z",
     "start_time": "2024-03-04T05:38:46.886788Z"
    }
   },
   "id": "b5292a12fadff79c",
   "execution_count": 11
  },
  {
   "cell_type": "code",
   "outputs": [],
   "source": [
    "xtrain, xtest, ytrain, ytest = train_test_split(feature, target, stratify=target, random_state=11)"
   ],
   "metadata": {
    "collapsed": false,
    "ExecuteTime": {
     "end_time": "2024-03-04T05:38:46.961691Z",
     "start_time": "2024-03-04T05:38:46.947515Z"
    }
   },
   "id": "c85d5da32f53dbf9",
   "execution_count": 12
  },
  {
   "cell_type": "code",
   "outputs": [
    {
     "name": "stdout",
     "output_type": "stream",
     "text": [
      "[train dataset] (119, 5), (119,)\n",
      "[test dataset] (40, 5), (40,)\n"
     ]
    }
   ],
   "source": [
    "print(f'[train dataset] {xtrain.shape}, {ytrain.shape}')\n",
    "print(f'[test dataset] {xtest.shape}, {ytest.shape}')"
   ],
   "metadata": {
    "collapsed": false,
    "ExecuteTime": {
     "end_time": "2024-03-04T05:38:46.977219Z",
     "start_time": "2024-03-04T05:38:46.963203Z"
    }
   },
   "id": "2da174bc0900a8a9",
   "execution_count": 13
  },
  {
   "cell_type": "markdown",
   "source": [
    "3. 학습 진행"
   ],
   "metadata": {
    "collapsed": false
   },
   "id": "80e48a8b7bdec33a"
  },
  {
   "cell_type": "code",
   "outputs": [],
   "source": [
    "from sklearn.linear_model import LogisticRegression"
   ],
   "metadata": {
    "collapsed": false,
    "ExecuteTime": {
     "end_time": "2024-03-04T05:38:47.054272Z",
     "start_time": "2024-03-04T05:38:46.978232Z"
    }
   },
   "id": "c764aa7eb2728912",
   "execution_count": 14
  },
  {
   "cell_type": "code",
   "outputs": [
    {
     "data": {
      "text/plain": "LogisticRegression(max_iter=20000, solver='liblinear')",
      "text/html": "<style>#sk-container-id-1 {color: black;}#sk-container-id-1 pre{padding: 0;}#sk-container-id-1 div.sk-toggleable {background-color: white;}#sk-container-id-1 label.sk-toggleable__label {cursor: pointer;display: block;width: 100%;margin-bottom: 0;padding: 0.3em;box-sizing: border-box;text-align: center;}#sk-container-id-1 label.sk-toggleable__label-arrow:before {content: \"▸\";float: left;margin-right: 0.25em;color: #696969;}#sk-container-id-1 label.sk-toggleable__label-arrow:hover:before {color: black;}#sk-container-id-1 div.sk-estimator:hover label.sk-toggleable__label-arrow:before {color: black;}#sk-container-id-1 div.sk-toggleable__content {max-height: 0;max-width: 0;overflow: hidden;text-align: left;background-color: #f0f8ff;}#sk-container-id-1 div.sk-toggleable__content pre {margin: 0.2em;color: black;border-radius: 0.25em;background-color: #f0f8ff;}#sk-container-id-1 input.sk-toggleable__control:checked~div.sk-toggleable__content {max-height: 200px;max-width: 100%;overflow: auto;}#sk-container-id-1 input.sk-toggleable__control:checked~label.sk-toggleable__label-arrow:before {content: \"▾\";}#sk-container-id-1 div.sk-estimator input.sk-toggleable__control:checked~label.sk-toggleable__label {background-color: #d4ebff;}#sk-container-id-1 div.sk-label input.sk-toggleable__control:checked~label.sk-toggleable__label {background-color: #d4ebff;}#sk-container-id-1 input.sk-hidden--visually {border: 0;clip: rect(1px 1px 1px 1px);clip: rect(1px, 1px, 1px, 1px);height: 1px;margin: -1px;overflow: hidden;padding: 0;position: absolute;width: 1px;}#sk-container-id-1 div.sk-estimator {font-family: monospace;background-color: #f0f8ff;border: 1px dotted black;border-radius: 0.25em;box-sizing: border-box;margin-bottom: 0.5em;}#sk-container-id-1 div.sk-estimator:hover {background-color: #d4ebff;}#sk-container-id-1 div.sk-parallel-item::after {content: \"\";width: 100%;border-bottom: 1px solid gray;flex-grow: 1;}#sk-container-id-1 div.sk-label:hover label.sk-toggleable__label {background-color: #d4ebff;}#sk-container-id-1 div.sk-serial::before {content: \"\";position: absolute;border-left: 1px solid gray;box-sizing: border-box;top: 0;bottom: 0;left: 50%;z-index: 0;}#sk-container-id-1 div.sk-serial {display: flex;flex-direction: column;align-items: center;background-color: white;padding-right: 0.2em;padding-left: 0.2em;position: relative;}#sk-container-id-1 div.sk-item {position: relative;z-index: 1;}#sk-container-id-1 div.sk-parallel {display: flex;align-items: stretch;justify-content: center;background-color: white;position: relative;}#sk-container-id-1 div.sk-item::before, #sk-container-id-1 div.sk-parallel-item::before {content: \"\";position: absolute;border-left: 1px solid gray;box-sizing: border-box;top: 0;bottom: 0;left: 50%;z-index: -1;}#sk-container-id-1 div.sk-parallel-item {display: flex;flex-direction: column;z-index: 1;position: relative;background-color: white;}#sk-container-id-1 div.sk-parallel-item:first-child::after {align-self: flex-end;width: 50%;}#sk-container-id-1 div.sk-parallel-item:last-child::after {align-self: flex-start;width: 50%;}#sk-container-id-1 div.sk-parallel-item:only-child::after {width: 0;}#sk-container-id-1 div.sk-dashed-wrapped {border: 1px dashed gray;margin: 0 0.4em 0.5em 0.4em;box-sizing: border-box;padding-bottom: 0.4em;background-color: white;}#sk-container-id-1 div.sk-label label {font-family: monospace;font-weight: bold;display: inline-block;line-height: 1.2em;}#sk-container-id-1 div.sk-label-container {text-align: center;}#sk-container-id-1 div.sk-container {/* jupyter's `normalize.less` sets `[hidden] { display: none; }` but bootstrap.min.css set `[hidden] { display: none !important; }` so we also need the `!important` here to be able to override the default hidden behavior on the sphinx rendered scikit-learn.org. See: https://github.com/scikit-learn/scikit-learn/issues/21755 */display: inline-block !important;position: relative;}#sk-container-id-1 div.sk-text-repr-fallback {display: none;}</style><div id=\"sk-container-id-1\" class=\"sk-top-container\"><div class=\"sk-text-repr-fallback\"><pre>LogisticRegression(max_iter=20000, solver=&#x27;liblinear&#x27;)</pre><b>In a Jupyter environment, please rerun this cell to show the HTML representation or trust the notebook. <br />On GitHub, the HTML representation is unable to render, please try loading this page with nbviewer.org.</b></div><div class=\"sk-container\" hidden><div class=\"sk-item\"><div class=\"sk-estimator sk-toggleable\"><input class=\"sk-toggleable__control sk-hidden--visually\" id=\"sk-estimator-id-1\" type=\"checkbox\" checked><label for=\"sk-estimator-id-1\" class=\"sk-toggleable__label sk-toggleable__label-arrow\">LogisticRegression</label><div class=\"sk-toggleable__content\"><pre>LogisticRegression(max_iter=20000, solver=&#x27;liblinear&#x27;)</pre></div></div></div></div></div>"
     },
     "execution_count": 15,
     "metadata": {},
     "output_type": "execute_result"
    }
   ],
   "source": [
    "# 모델 인스턴스 생성, 학습\n",
    "md = LogisticRegression(max_iter=20000, solver='liblinear') #max_iter: (처음부터 끝까지)몇 번 공부할래? , solver: 알고리즘\n",
    "#                                                            tol: 충분히 주고 max_iter이 남을때 언제 그만둘래?\n",
    "md.fit(xtrain, ytrain)"
   ],
   "metadata": {
    "collapsed": false,
    "ExecuteTime": {
     "end_time": "2024-03-04T05:38:47.069718Z",
     "start_time": "2024-03-04T05:38:47.055785Z"
    }
   },
   "id": "56da73a7f74f11aa",
   "execution_count": 15
  },
  {
   "cell_type": "code",
   "outputs": [
    {
     "name": "stdout",
     "output_type": "stream",
     "text": [
      "labels ['Bream' 'Parkki' 'Perch' 'Pike' 'Roach' 'Smelt' 'Whitefish']\n"
     ]
    }
   ],
   "source": [
    "print('labels', md.classes_)\n",
    "labels = encoder.inverse_transform([1])"
   ],
   "metadata": {
    "collapsed": false,
    "ExecuteTime": {
     "end_time": "2024-03-04T05:39:01.800884Z",
     "start_time": "2024-03-04T05:39:01.791390Z"
    }
   },
   "id": "de8a0147068aa1b0",
   "execution_count": 17
  },
  {
   "cell_type": "code",
   "outputs": [],
   "source": [
    "# 모델 파라미터 확인\n",
    "print(f'classes_ : {md.classes_}')\n",
    "print(f'feature_names_in : {md.feature_names_in_}')\n",
    "print(f'max_iter : {md.max_iter}')\n",
    "print(f'coef : {len(md.coef_)},\\n {md.coef_}')\n",
    "print(f'intercept :{len(md.intercept_)}, \\n{md.intercept_}')"
   ],
   "metadata": {
    "collapsed": false,
    "ExecuteTime": {
     "end_time": "2024-03-04T05:38:47.089462Z",
     "start_time": "2024-03-04T05:38:47.089462Z"
    }
   },
   "id": "b24f4c3369b0a1c2",
   "execution_count": null
  },
  {
   "cell_type": "markdown",
   "source": [
    "4. 평가"
   ],
   "metadata": {
    "collapsed": false
   },
   "id": "4e35d4b972feb20f"
  },
  {
   "cell_type": "code",
   "outputs": [],
   "source": [
    "print(f' [ Train score ] : {md.score(xtrain, ytrain)} \\n [ Test score ] : {md.score(xtest, ytest)}')"
   ],
   "metadata": {
    "collapsed": false
   },
   "id": "4957e630d7cbae39",
   "execution_count": null
  },
  {
   "cell_type": "markdown",
   "source": [
    "5. 모델 활용"
   ],
   "metadata": {
    "collapsed": false
   },
   "id": "b2c8b3f380a76037"
  },
  {
   "cell_type": "code",
   "outputs": [],
   "source": [
    "ypred = md.predict(xtest.iloc[[0]])\n",
    "\n",
    "ypred, ytest[:1]"
   ],
   "metadata": {
    "collapsed": false,
    "ExecuteTime": {
     "start_time": "2024-03-04T05:38:47.091248Z"
    }
   },
   "id": "fea5e4fbbe2822a6",
   "execution_count": null
  },
  {
   "cell_type": "code",
   "outputs": [],
   "source": [
    "print(md.predict_proba(xtest.iloc[[0]]))"
   ],
   "metadata": {
    "collapsed": false,
    "ExecuteTime": {
     "start_time": "2024-03-04T05:38:47.092755Z"
    }
   },
   "id": "40dea7a045ddcf7b",
   "execution_count": null
  },
  {
   "cell_type": "code",
   "outputs": [],
   "source": [
    "#5개 데이터에 대한 생선 분류 예측\n",
    "print(md.classes_)\n",
    "np.round(md.predict_proba(xtest.iloc[:5]),3), ytest[:5].to_list()"
   ],
   "metadata": {
    "collapsed": false,
    "ExecuteTime": {
     "start_time": "2024-03-04T05:38:47.092755Z"
    }
   },
   "id": "5282fa7c408a8ba6",
   "execution_count": null
  },
  {
   "cell_type": "code",
   "outputs": [],
   "source": [
    "result = md.predict_proba(xtest.iloc[:5]).argmax(axis=1)\n",
    "result"
   ],
   "metadata": {
    "collapsed": false,
    "ExecuteTime": {
     "start_time": "2024-03-04T05:38:47.093765Z"
    }
   },
   "id": "2a94e89d2095664d",
   "execution_count": null
  },
  {
   "cell_type": "code",
   "outputs": [],
   "source": [
    "data = {'pre y': [md.classes_[idx] for idx in result], \n",
    "        'true y': ytest[:5].to_list()}"
   ],
   "metadata": {
    "collapsed": false,
    "ExecuteTime": {
     "start_time": "2024-03-04T05:38:47.094765Z"
    }
   },
   "id": "78dcb609c0e60f85",
   "execution_count": null
  },
  {
   "cell_type": "code",
   "outputs": [],
   "source": [
    "pd.DataFrame(data)"
   ],
   "metadata": {
    "collapsed": false,
    "ExecuteTime": {
     "start_time": "2024-03-04T05:38:47.095765Z"
    }
   },
   "id": "2aaf0948a5326bb4",
   "execution_count": null
  },
  {
   "cell_type": "code",
   "outputs": [],
   "source": [],
   "metadata": {
    "collapsed": false
   },
   "id": "8ae5aa2e160eaeee"
  }
 ],
 "metadata": {
  "kernelspec": {
   "display_name": "Python 3",
   "language": "python",
   "name": "python3"
  },
  "language_info": {
   "codemirror_mode": {
    "name": "ipython",
    "version": 2
   },
   "file_extension": ".py",
   "mimetype": "text/x-python",
   "name": "python",
   "nbconvert_exporter": "python",
   "pygments_lexer": "ipython2",
   "version": "2.7.6"
  }
 },
 "nbformat": 4,
 "nbformat_minor": 5
}
