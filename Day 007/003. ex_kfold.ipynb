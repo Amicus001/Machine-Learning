{
 "cells": [
  {
   "cell_type": "markdown",
   "source": [
    "### 교차검증\n",
    "- 부족한 데이터셋 및 특정 데이터에 과대적합되는 문제 해결을 위한 방안\n",
    "- 학습 데이터셋을 일정 크기의 데이터 n개로 분리 후 1/n = 검증용, 나머지는 학습용으로 사용한다"
   ],
   "metadata": {
    "collapsed": false
   },
   "id": "4702bf57d270961a"
  },
  {
   "cell_type": "markdown",
   "source": [
    "1. 모듈 로딩, 데이터 준비\n",
    "<hr>"
   ],
   "metadata": {
    "collapsed": false
   },
   "id": "3bd3b66fdc295c5d"
  },
  {
   "cell_type": "code",
   "outputs": [],
   "source": [
    "import numpy as np\n",
    "from sklearn.model_selection import KFold\n",
    "\n",
    "X = np.array([[1,2], [3,4], [1,2], [3,4]])\n",
    "y = np.array([1,2,3,4])"
   ],
   "metadata": {
    "collapsed": false,
    "ExecuteTime": {
     "end_time": "2024-03-05T06:15:55.751270Z",
     "start_time": "2024-03-05T06:15:55.739325Z"
    }
   },
   "id": "2e7e89232de9877",
   "execution_count": 42
  },
  {
   "cell_type": "code",
   "outputs": [],
   "source": [
    "# kfold 인스턴스 생성: 데이터를 2개로 분할하는 객체\n",
    "\n",
    "kfold = KFold(n_splits=2)\n"
   ],
   "metadata": {
    "collapsed": false,
    "ExecuteTime": {
     "end_time": "2024-03-05T06:15:55.767375Z",
     "start_time": "2024-03-05T06:15:55.753272Z"
    }
   },
   "id": "e333168daa707a8d",
   "execution_count": 43
  },
  {
   "cell_type": "code",
   "outputs": [],
   "source": [
    "#데이터 분할하기\n",
    "datasets = kfold.split(X, y)"
   ],
   "metadata": {
    "collapsed": false,
    "ExecuteTime": {
     "end_time": "2024-03-05T06:15:55.783162Z",
     "start_time": "2024-03-05T06:15:55.774365Z"
    }
   },
   "id": "c95ae02716ea6d5d",
   "execution_count": 44
  },
  {
   "cell_type": "code",
   "outputs": [
    {
     "name": "stdout",
     "output_type": "stream",
     "text": [
      "[2 3] [0 1]\n",
      "[0 1] [2 3]\n"
     ]
    }
   ],
   "source": [
    "for train, test in datasets:\n",
    "    print(train, test)"
   ],
   "metadata": {
    "collapsed": false,
    "ExecuteTime": {
     "end_time": "2024-03-05T06:15:55.799243Z",
     "start_time": "2024-03-05T06:15:55.785163Z"
    }
   },
   "id": "b9d1fca0c9e155e6",
   "execution_count": 45
  },
  {
   "cell_type": "code",
   "outputs": [],
   "source": [
    "import numpy as np\n",
    "import pandas as pd"
   ],
   "metadata": {
    "collapsed": false,
    "ExecuteTime": {
     "end_time": "2024-03-05T06:15:55.814412Z",
     "start_time": "2024-03-05T06:15:55.800326Z"
    }
   },
   "id": "12a8d21a2c5e7ffb",
   "execution_count": 46
  },
  {
   "cell_type": "code",
   "outputs": [
    {
     "name": "stdout",
     "output_type": "stream",
     "text": [
      "<class 'pandas.core.frame.DataFrame'>\n",
      "RangeIndex: 56 entries, 0 to 55\n",
      "Data columns (total 4 columns):\n",
      " #   Column  Non-Null Count  Dtype  \n",
      "---  ------  --------------  -----  \n",
      " 0   Weight  56 non-null     float64\n",
      " 1   Length  56 non-null     float64\n",
      " 2   Height  56 non-null     float64\n",
      " 3   Width   56 non-null     float64\n",
      "dtypes: float64(4)\n",
      "memory usage: 1.9 KB\n"
     ]
    }
   ],
   "source": [
    "#Perch.csv file 5등분\n",
    "\n",
    "perch = pd.read_csv('../data/perch3.csv')\n",
    "perch.info()"
   ],
   "metadata": {
    "collapsed": false,
    "ExecuteTime": {
     "end_time": "2024-03-05T06:15:55.830414Z",
     "start_time": "2024-03-05T06:15:55.815402Z"
    }
   },
   "id": "66ceb521da811df3",
   "execution_count": 47
  },
  {
   "cell_type": "code",
   "outputs": [
    {
     "name": "stdout",
     "output_type": "stream",
     "text": [
      "0=>(37,),(19,)\n",
      "1=>(37,),(19,)\n",
      "2=>(38,),(18,)\n"
     ]
    }
   ],
   "source": [
    "fold5 = KFold(n_splits=3)\n",
    "datasets = fold5.split(perch)\n",
    "\n",
    "for index, (train, test) in enumerate(datasets):\n",
    "    print(f'{index}=>{train.shape},{test.shape}')"
   ],
   "metadata": {
    "collapsed": false,
    "ExecuteTime": {
     "end_time": "2024-03-05T06:15:55.845558Z",
     "start_time": "2024-03-05T06:15:55.831544Z"
    }
   },
   "id": "cd796ef6b007214d",
   "execution_count": 48
  },
  {
   "cell_type": "code",
   "outputs": [
    {
     "name": "stdout",
     "output_type": "stream",
     "text": [
      "0=>(44,),(12,)\n",
      "1=>(45,),(11,)\n",
      "2=>(45,),(11,)\n",
      "3=>(45,),(11,)\n",
      "4=>(45,),(11,)\n"
     ]
    }
   ],
   "source": [
    "fold5 = KFold()\n",
    "datasets = fold5.split(perch)\n",
    "\n",
    "for index, (train, test) in enumerate(datasets):\n",
    "    print(f'{index}=>{train.shape},{test.shape}')"
   ],
   "metadata": {
    "collapsed": false,
    "ExecuteTime": {
     "end_time": "2024-03-05T06:15:55.861075Z",
     "start_time": "2024-03-05T06:15:55.846547Z"
    }
   },
   "id": "82c030ab33a797c7",
   "execution_count": 49
  },
  {
   "cell_type": "code",
   "outputs": [
    {
     "name": "stdout",
     "output_type": "stream",
     "text": [
      "<class 'pandas.core.frame.DataFrame'>\n",
      "RangeIndex: 150 entries, 0 to 149\n",
      "Data columns (total 5 columns):\n",
      " #   Column        Non-Null Count  Dtype  \n",
      "---  ------        --------------  -----  \n",
      " 0   sepal.length  150 non-null    float64\n",
      " 1   sepal.width   150 non-null    float64\n",
      " 2   petal.length  150 non-null    float64\n",
      " 3   petal.width   150 non-null    float64\n",
      " 4   variety       150 non-null    object \n",
      "dtypes: float64(4), object(1)\n",
      "memory usage: 6.0+ KB\n"
     ]
    }
   ],
   "source": [
    "# iris\n",
    "# 타겟이 분류인 경우\n",
    "\n",
    "iris = pd.read_csv('../data/iris.csv')\n",
    "\n",
    "iris.info()"
   ],
   "metadata": {
    "collapsed": false,
    "ExecuteTime": {
     "end_time": "2024-03-05T06:15:55.876427Z",
     "start_time": "2024-03-05T06:15:55.862076Z"
    }
   },
   "id": "8e04b2783e9929a1",
   "execution_count": 50
  },
  {
   "cell_type": "code",
   "outputs": [],
   "source": [
    "k_fold = KFold(n_splits=3)\n",
    "ret = k_fold.split(iris[iris.columns[:-1]])"
   ],
   "metadata": {
    "collapsed": false,
    "ExecuteTime": {
     "end_time": "2024-03-05T06:15:55.892438Z",
     "start_time": "2024-03-05T06:15:55.877428Z"
    }
   },
   "id": "3aef39a0cab55767",
   "execution_count": 51
  },
  {
   "cell_type": "code",
   "outputs": [
    {
     "name": "stdout",
     "output_type": "stream",
     "text": [
      "0 [ 50  51  52  53  54  55  56  57  58  59  60  61  62  63  64  65  66  67\n",
      "  68  69  70  71  72  73  74  75  76  77  78  79  80  81  82  83  84  85\n",
      "  86  87  88  89  90  91  92  93  94  95  96  97  98  99 100 101 102 103\n",
      " 104 105 106 107 108 109 110 111 112 113 114 115 116 117 118 119 120 121\n",
      " 122 123 124 125 126 127 128 129 130 131 132 133 134 135 136 137 138 139\n",
      " 140 141 142 143 144 145 146 147 148 149] [ 0  1  2  3  4  5  6  7  8  9 10 11 12 13 14 15 16 17 18 19 20 21 22 23\n",
      " 24 25 26 27 28 29 30 31 32 33 34 35 36 37 38 39 40 41 42 43 44 45 46 47\n",
      " 48 49]\n",
      "1 [  0   1   2   3   4   5   6   7   8   9  10  11  12  13  14  15  16  17\n",
      "  18  19  20  21  22  23  24  25  26  27  28  29  30  31  32  33  34  35\n",
      "  36  37  38  39  40  41  42  43  44  45  46  47  48  49 100 101 102 103\n",
      " 104 105 106 107 108 109 110 111 112 113 114 115 116 117 118 119 120 121\n",
      " 122 123 124 125 126 127 128 129 130 131 132 133 134 135 136 137 138 139\n",
      " 140 141 142 143 144 145 146 147 148 149] [50 51 52 53 54 55 56 57 58 59 60 61 62 63 64 65 66 67 68 69 70 71 72 73\n",
      " 74 75 76 77 78 79 80 81 82 83 84 85 86 87 88 89 90 91 92 93 94 95 96 97\n",
      " 98 99]\n",
      "2 [ 0  1  2  3  4  5  6  7  8  9 10 11 12 13 14 15 16 17 18 19 20 21 22 23\n",
      " 24 25 26 27 28 29 30 31 32 33 34 35 36 37 38 39 40 41 42 43 44 45 46 47\n",
      " 48 49 50 51 52 53 54 55 56 57 58 59 60 61 62 63 64 65 66 67 68 69 70 71\n",
      " 72 73 74 75 76 77 78 79 80 81 82 83 84 85 86 87 88 89 90 91 92 93 94 95\n",
      " 96 97 98 99] [100 101 102 103 104 105 106 107 108 109 110 111 112 113 114 115 116 117\n",
      " 118 119 120 121 122 123 124 125 126 127 128 129 130 131 132 133 134 135\n",
      " 136 137 138 139 140 141 142 143 144 145 146 147 148 149]\n"
     ]
    }
   ],
   "source": [
    "for idx, (train, test) in enumerate(ret):\n",
    "    print(idx, train, test)"
   ],
   "metadata": {
    "collapsed": false,
    "ExecuteTime": {
     "end_time": "2024-03-05T06:15:55.908427Z",
     "start_time": "2024-03-05T06:15:55.893439Z"
    }
   },
   "id": "e3286baed9dc7022",
   "execution_count": 52
  },
  {
   "cell_type": "code",
   "outputs": [],
   "source": [
    "from sklearn.linear_model import LogisticRegression"
   ],
   "metadata": {
    "collapsed": false,
    "ExecuteTime": {
     "end_time": "2024-03-05T06:23:55.081984Z",
     "start_time": "2024-03-05T06:23:55.025667Z"
    }
   },
   "id": "2c600e677f034f72",
   "execution_count": 61
  },
  {
   "cell_type": "code",
   "outputs": [
    {
     "name": "stdout",
     "output_type": "stream",
     "text": [
      "variety\n",
      "Versicolor    0.39\n",
      "Virginica     0.32\n",
      "Setosa        0.29\n",
      "Name: count, dtype: float64\n",
      "variety\n",
      "Setosa        0.42\n",
      "Virginica     0.36\n",
      "Versicolor    0.22\n",
      "Name: count, dtype: float64\n",
      "==========================================================================================\n",
      "variety\n",
      "Setosa        0.35\n",
      "Versicolor    0.33\n",
      "Virginica     0.32\n",
      "Name: count, dtype: float64\n",
      "variety\n",
      "Virginica     0.36\n",
      "Versicolor    0.34\n",
      "Setosa        0.30\n",
      "Name: count, dtype: float64\n",
      "==========================================================================================\n",
      "variety\n",
      "Setosa        0.36\n",
      "Virginica     0.36\n",
      "Versicolor    0.28\n",
      "Name: count, dtype: float64\n",
      "variety\n",
      "Versicolor    0.44\n",
      "Setosa        0.28\n",
      "Virginica     0.28\n",
      "Name: count, dtype: float64\n",
      "==========================================================================================\n"
     ]
    }
   ],
   "source": [
    "k_fold = KFold(n_splits=3, shuffle=True)\n",
    "ret = k_fold.split(iris[iris.columns[:-1]])\n",
    "\n",
    "trainscore3= []\n",
    "for pname in ['l1','l2','elasticnet']:\n",
    "    \n",
    "    \n",
    "    for idx, (train, test) in enumerate(ret):\n",
    "        #학습용, 테스트용 인덱스 반환\n",
    "        train_idx = train.tolist() #train = ndarray라서 리스트로 바까줌\n",
    "        test_idx = test.tolist()\n",
    "        \n",
    "        #인덱스에 해당하는 데이터셋 추출하기\n",
    "        trainDF = iris.iloc[train_idx]\n",
    "        testDF = iris.iloc[test_idx]\n",
    "        \n",
    "        print(trainDF['variety'].value_counts()/trainDF.shape[0])\n",
    "        print(testDF['variety'].value_counts()/testDF.shape[0])\n",
    "        print('='*90)\n",
    "        \n",
    "        xtrain = trainDF[trainDF.columns[:-1]]\n",
    "        ytrain = trainDF[trainDF.columns[-1]]\n",
    "        xtest = testDF[testDF.columns[:-1]]\n",
    "        ytest = testDF[testDF.columns[-1]]\n",
    "        #분류모델 학습\n",
    "        logmd = LogisticRegression(max_iter=1000, solver='liblinear', penalty= pname)\n",
    "        logmd.fit(xtrain, ytrain)\n",
    "        \n",
    "        #훈련, 검증 성능\n",
    "        trainscore = logmd.score(xtrain, ytrain)\n",
    "        testscore = logmd.score(xtest, ytest)\n",
    "        trainscore3.append(trainscore)\n",
    "        \n",
    "        #예측\n",
    "        pre_y = logmd.predict(xtest)\n",
    "        "
   ],
   "metadata": {
    "collapsed": false,
    "ExecuteTime": {
     "end_time": "2024-03-05T06:51:07.117430Z",
     "start_time": "2024-03-05T06:51:07.070618Z"
    }
   },
   "id": "54344572cc7a8294",
   "execution_count": 72
  },
  {
   "cell_type": "code",
   "outputs": [
    {
     "data": {
      "text/plain": "0.96"
     },
     "execution_count": 69,
     "metadata": {},
     "output_type": "execute_result"
    }
   ],
   "source": [
    "sum(trainscore3)/3"
   ],
   "metadata": {
    "collapsed": false,
    "ExecuteTime": {
     "end_time": "2024-03-05T06:30:24.741010Z",
     "start_time": "2024-03-05T06:30:24.736008Z"
    }
   },
   "id": "6e19e487bf8e1bc0",
   "execution_count": 69
  },
  {
   "cell_type": "code",
   "outputs": [],
   "source": [],
   "metadata": {
    "collapsed": false
   },
   "id": "f92f2bd9e8dc71ab"
  }
 ],
 "metadata": {
  "kernelspec": {
   "display_name": "Python 3",
   "language": "python",
   "name": "python3"
  },
  "language_info": {
   "codemirror_mode": {
    "name": "ipython",
    "version": 2
   },
   "file_extension": ".py",
   "mimetype": "text/x-python",
   "name": "python",
   "nbconvert_exporter": "python",
   "pygments_lexer": "ipython2",
   "version": "2.7.6"
  }
 },
 "nbformat": 4,
 "nbformat_minor": 5
}
