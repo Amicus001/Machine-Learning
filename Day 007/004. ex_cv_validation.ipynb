{
 "cells": [
  {
   "cell_type": "markdown",
   "source": [
    "### 교차검증 단순화\n",
    "- sklearn의 model_selection 모듈 내에 모델 검증 관련 기능 활용\n",
    "- 교차검증 데이터 기반 검증결과 처리"
   ],
   "metadata": {
    "collapsed": false
   },
   "id": "9a12268a19ca007b"
  },
  {
   "cell_type": "markdown",
   "source": [
    "1. 모듈 로딩 & 데이터 준비\n",
    "<hr>"
   ],
   "metadata": {
    "collapsed": false
   },
   "id": "5d4180071cc1c9a4"
  },
  {
   "cell_type": "code",
   "outputs": [],
   "source": [
    "import pandas as pd\n",
    "# 생선 데이터\n",
    "fish = pd. read_csv('../data/fish.csv')\n",
    "\n",
    "#iris 데이터\n",
    "iris = pd. read_csv('../data/iris.csv')"
   ],
   "metadata": {
    "collapsed": false,
    "ExecuteTime": {
     "end_time": "2024-03-05T08:48:58.489086Z",
     "start_time": "2024-03-05T08:48:58.468644Z"
    }
   },
   "id": "932cee50d7f9cc68",
   "execution_count": 48
  },
  {
   "cell_type": "code",
   "outputs": [
    {
     "data": {
      "text/plain": "  Species  Weight  Length  Diagonal   Height   Width\n0   Bream   242.0    25.4      30.0  11.5200  4.0200\n1   Bream   290.0    26.3      31.2  12.4800  4.3056\n2   Bream   340.0    26.5      31.1  12.3778  4.6961\n3   Bream   363.0    29.0      33.5  12.7300  4.4555\n4   Bream   430.0    29.0      34.0  12.4440  5.1340",
      "text/html": "<div>\n<style scoped>\n    .dataframe tbody tr th:only-of-type {\n        vertical-align: middle;\n    }\n\n    .dataframe tbody tr th {\n        vertical-align: top;\n    }\n\n    .dataframe thead th {\n        text-align: right;\n    }\n</style>\n<table border=\"1\" class=\"dataframe\">\n  <thead>\n    <tr style=\"text-align: right;\">\n      <th></th>\n      <th>Species</th>\n      <th>Weight</th>\n      <th>Length</th>\n      <th>Diagonal</th>\n      <th>Height</th>\n      <th>Width</th>\n    </tr>\n  </thead>\n  <tbody>\n    <tr>\n      <th>0</th>\n      <td>Bream</td>\n      <td>242.0</td>\n      <td>25.4</td>\n      <td>30.0</td>\n      <td>11.5200</td>\n      <td>4.0200</td>\n    </tr>\n    <tr>\n      <th>1</th>\n      <td>Bream</td>\n      <td>290.0</td>\n      <td>26.3</td>\n      <td>31.2</td>\n      <td>12.4800</td>\n      <td>4.3056</td>\n    </tr>\n    <tr>\n      <th>2</th>\n      <td>Bream</td>\n      <td>340.0</td>\n      <td>26.5</td>\n      <td>31.1</td>\n      <td>12.3778</td>\n      <td>4.6961</td>\n    </tr>\n    <tr>\n      <th>3</th>\n      <td>Bream</td>\n      <td>363.0</td>\n      <td>29.0</td>\n      <td>33.5</td>\n      <td>12.7300</td>\n      <td>4.4555</td>\n    </tr>\n    <tr>\n      <th>4</th>\n      <td>Bream</td>\n      <td>430.0</td>\n      <td>29.0</td>\n      <td>34.0</td>\n      <td>12.4440</td>\n      <td>5.1340</td>\n    </tr>\n  </tbody>\n</table>\n</div>"
     },
     "execution_count": 49,
     "metadata": {},
     "output_type": "execute_result"
    }
   ],
   "source": [
    "fish.head()"
   ],
   "metadata": {
    "collapsed": false,
    "ExecuteTime": {
     "end_time": "2024-03-05T08:48:58.537078Z",
     "start_time": "2024-03-05T08:48:58.528077Z"
    }
   },
   "id": "a95a489b3fb2386f",
   "execution_count": 49
  },
  {
   "cell_type": "code",
   "outputs": [
    {
     "data": {
      "text/plain": "   sepal.length  sepal.width  petal.length  petal.width variety\n0           5.1          3.5           1.4          0.2  Setosa\n1           4.9          3.0           1.4          0.2  Setosa\n2           4.7          3.2           1.3          0.2  Setosa\n3           4.6          3.1           1.5          0.2  Setosa\n4           5.0          3.6           1.4          0.2  Setosa",
      "text/html": "<div>\n<style scoped>\n    .dataframe tbody tr th:only-of-type {\n        vertical-align: middle;\n    }\n\n    .dataframe tbody tr th {\n        vertical-align: top;\n    }\n\n    .dataframe thead th {\n        text-align: right;\n    }\n</style>\n<table border=\"1\" class=\"dataframe\">\n  <thead>\n    <tr style=\"text-align: right;\">\n      <th></th>\n      <th>sepal.length</th>\n      <th>sepal.width</th>\n      <th>petal.length</th>\n      <th>petal.width</th>\n      <th>variety</th>\n    </tr>\n  </thead>\n  <tbody>\n    <tr>\n      <th>0</th>\n      <td>5.1</td>\n      <td>3.5</td>\n      <td>1.4</td>\n      <td>0.2</td>\n      <td>Setosa</td>\n    </tr>\n    <tr>\n      <th>1</th>\n      <td>4.9</td>\n      <td>3.0</td>\n      <td>1.4</td>\n      <td>0.2</td>\n      <td>Setosa</td>\n    </tr>\n    <tr>\n      <th>2</th>\n      <td>4.7</td>\n      <td>3.2</td>\n      <td>1.3</td>\n      <td>0.2</td>\n      <td>Setosa</td>\n    </tr>\n    <tr>\n      <th>3</th>\n      <td>4.6</td>\n      <td>3.1</td>\n      <td>1.5</td>\n      <td>0.2</td>\n      <td>Setosa</td>\n    </tr>\n    <tr>\n      <th>4</th>\n      <td>5.0</td>\n      <td>3.6</td>\n      <td>1.4</td>\n      <td>0.2</td>\n      <td>Setosa</td>\n    </tr>\n  </tbody>\n</table>\n</div>"
     },
     "execution_count": 50,
     "metadata": {},
     "output_type": "execute_result"
    }
   ],
   "source": [
    "iris.head()"
   ],
   "metadata": {
    "collapsed": false,
    "ExecuteTime": {
     "end_time": "2024-03-05T08:48:58.553088Z",
     "start_time": "2024-03-05T08:48:58.538079Z"
    }
   },
   "id": "7cd5c6c2afc9142c",
   "execution_count": 50
  },
  {
   "cell_type": "markdown",
   "source": [
    "2. 데이터 준비: feature, target 분리"
   ],
   "metadata": {
    "collapsed": false
   },
   "id": "e5db566a99ef6b70"
  },
  {
   "cell_type": "code",
   "outputs": [],
   "source": [
    "#target : weight, feature; else\n",
    "fish_target = fish[fish.columns[1]]\n",
    "fish_feature = fish[fish.columns[2:]]"
   ],
   "metadata": {
    "collapsed": false,
    "ExecuteTime": {
     "end_time": "2024-03-05T08:48:58.569090Z",
     "start_time": "2024-03-05T08:48:58.554078Z"
    }
   },
   "id": "74c92e4e5a798787",
   "execution_count": 51
  },
  {
   "cell_type": "code",
   "outputs": [
    {
     "data": {
      "text/plain": "   Length  Diagonal  Height   Width\n0    25.4      30.0   11.52  4.0200\n1    26.3      31.2   12.48  4.3056",
      "text/html": "<div>\n<style scoped>\n    .dataframe tbody tr th:only-of-type {\n        vertical-align: middle;\n    }\n\n    .dataframe tbody tr th {\n        vertical-align: top;\n    }\n\n    .dataframe thead th {\n        text-align: right;\n    }\n</style>\n<table border=\"1\" class=\"dataframe\">\n  <thead>\n    <tr style=\"text-align: right;\">\n      <th></th>\n      <th>Length</th>\n      <th>Diagonal</th>\n      <th>Height</th>\n      <th>Width</th>\n    </tr>\n  </thead>\n  <tbody>\n    <tr>\n      <th>0</th>\n      <td>25.4</td>\n      <td>30.0</td>\n      <td>11.52</td>\n      <td>4.0200</td>\n    </tr>\n    <tr>\n      <th>1</th>\n      <td>26.3</td>\n      <td>31.2</td>\n      <td>12.48</td>\n      <td>4.3056</td>\n    </tr>\n  </tbody>\n</table>\n</div>"
     },
     "execution_count": 52,
     "metadata": {},
     "output_type": "execute_result"
    }
   ],
   "source": [
    "fish_feature.head(2)"
   ],
   "metadata": {
    "collapsed": false,
    "ExecuteTime": {
     "end_time": "2024-03-05T08:48:58.585176Z",
     "start_time": "2024-03-05T08:48:58.570080Z"
    }
   },
   "id": "7882acc525a8f2e9",
   "execution_count": 52
  },
  {
   "cell_type": "code",
   "outputs": [],
   "source": [
    "#target : variety, feature: else\n",
    "\n",
    "iris_target = iris[iris.columns[4]]\n",
    "iris_feature = iris[iris.columns[:4]]"
   ],
   "metadata": {
    "collapsed": false,
    "ExecuteTime": {
     "end_time": "2024-03-05T08:48:58.600873Z",
     "start_time": "2024-03-05T08:48:58.586363Z"
    }
   },
   "id": "c214358287d2854c",
   "execution_count": 53
  },
  {
   "cell_type": "code",
   "outputs": [
    {
     "data": {
      "text/plain": "   sepal.length  sepal.width  petal.length  petal.width\n0           5.1          3.5           1.4          0.2\n1           4.9          3.0           1.4          0.2",
      "text/html": "<div>\n<style scoped>\n    .dataframe tbody tr th:only-of-type {\n        vertical-align: middle;\n    }\n\n    .dataframe tbody tr th {\n        vertical-align: top;\n    }\n\n    .dataframe thead th {\n        text-align: right;\n    }\n</style>\n<table border=\"1\" class=\"dataframe\">\n  <thead>\n    <tr style=\"text-align: right;\">\n      <th></th>\n      <th>sepal.length</th>\n      <th>sepal.width</th>\n      <th>petal.length</th>\n      <th>petal.width</th>\n    </tr>\n  </thead>\n  <tbody>\n    <tr>\n      <th>0</th>\n      <td>5.1</td>\n      <td>3.5</td>\n      <td>1.4</td>\n      <td>0.2</td>\n    </tr>\n    <tr>\n      <th>1</th>\n      <td>4.9</td>\n      <td>3.0</td>\n      <td>1.4</td>\n      <td>0.2</td>\n    </tr>\n  </tbody>\n</table>\n</div>"
     },
     "execution_count": 54,
     "metadata": {},
     "output_type": "execute_result"
    }
   ],
   "source": [
    "iris_feature.head(2)"
   ],
   "metadata": {
    "collapsed": false,
    "ExecuteTime": {
     "end_time": "2024-03-05T08:48:58.616880Z",
     "start_time": "2024-03-05T08:48:58.601874Z"
    }
   },
   "id": "3882011a4befe925",
   "execution_count": 54
  },
  {
   "cell_type": "code",
   "outputs": [],
   "source": [
    "# 학습 / 테스트용 데이터 분리하기\n",
    "from sklearn.model_selection import train_test_split\n",
    "#fish -> 학습용, 테스트용 : 회귀\n",
    "fxtrain, fxtest, fytrain, fytest = train_test_split(fish_feature, fish_target, random_state=5, test_size=0.2)\n",
    "\n",
    "#iris -> 학습용, 데이터용 : 분류\n",
    "ixtrain, ixtest, iytrain, iytest = train_test_split(iris_feature, iris_target, random_state=5, test_size=0.2, stratify= iris_target)"
   ],
   "metadata": {
    "collapsed": false,
    "ExecuteTime": {
     "end_time": "2024-03-05T08:48:58.664880Z",
     "start_time": "2024-03-05T08:48:58.646872Z"
    }
   },
   "id": "8900f870b346afa",
   "execution_count": 55
  },
  {
   "cell_type": "markdown",
   "source": [
    "3. 데이터 전처리\n",
    "<hr>\n",
    "- feature scale\n"
   ],
   "metadata": {
    "collapsed": false
   },
   "id": "c1cb4320e8027ed8"
  },
  {
   "cell_type": "code",
   "outputs": [],
   "source": [
    "from sklearn.preprocessing import StandardScaler\n",
    "fishscaler = StandardScaler()\n",
    "fishscaler.fit(fxtrain)\n",
    "scaledfish_Train = fishscaler.transform(fxtrain)\n",
    "scaledfish_Test = fishscaler.transform(fxtest)\n",
    "\n",
    "irisstd = StandardScaler()\n",
    "irisstd.fit(ixtrain)\n",
    "scalediris_Train = irisstd.transform(ixtrain)\n",
    "scalediris_Test = irisstd.transform(ixtest)"
   ],
   "metadata": {
    "collapsed": false,
    "ExecuteTime": {
     "end_time": "2024-03-05T08:48:58.759504Z",
     "start_time": "2024-03-05T08:48:58.739505Z"
    }
   },
   "id": "2d08e00aad2b2b9",
   "execution_count": 56
  },
  {
   "cell_type": "markdown",
   "source": [
    "4. 학습\n",
    "<hr>\n",
    "- 생선 무게 예측 모델"
   ],
   "metadata": {
    "collapsed": false
   },
   "id": "aa5a6b87d4d9f6c0"
  },
  {
   "cell_type": "code",
   "outputs": [],
   "source": [
    "from sklearn. model_selection import cross_val_score, cross_val_predict, cross_val_score, cross_validate\n",
    "from sklearn.linear_model import LinearRegression, Ridge, Lasso, LogisticRegression"
   ],
   "metadata": {
    "collapsed": false,
    "ExecuteTime": {
     "end_time": "2024-03-05T08:48:58.852400Z",
     "start_time": "2024-03-05T08:48:58.840116Z"
    }
   },
   "id": "14e422f641a83941",
   "execution_count": 57
  },
  {
   "cell_type": "code",
   "outputs": [],
   "source": [
    "#교차검증으로 학습진행\n",
    "#준비 : 모델 인스턴스, 학습용 feature 데이터, 학습용 label 데이터\n",
    "\n",
    "#instance\n",
    "lr_md = LinearRegression()\n"
   ],
   "metadata": {
    "collapsed": false,
    "ExecuteTime": {
     "end_time": "2024-03-05T08:48:58.899923Z",
     "start_time": "2024-03-05T08:48:58.883924Z"
    }
   },
   "id": "712d323de865542e",
   "execution_count": 58
  },
  {
   "cell_type": "code",
   "outputs": [
    {
     "name": "stdout",
     "output_type": "stream",
     "text": [
      "{'fit_time': array([0.00099897, 0.0014987 , 0.00099945, 0.00099897, 0.00099993]), 'score_time': array([0.00200009, 0.0010047 , 0.00199986, 0.00200081, 0.00100017]), 'estimator': [LinearRegression(), LinearRegression(), LinearRegression(), LinearRegression(), LinearRegression()], 'test_r2': array([0.92104683, 0.84385378, 0.88592423, 0.64671954, 0.79031905]), 'train_r2': array([0.87426416, 0.88779401, 0.88061108, 0.90297504, 0.89833592]), 'test_neg_mean_squared_error': array([ -8767.84902315, -17815.75093903, -12344.87825138, -22006.47049028,\n",
      "       -39450.52608702]), 'train_neg_mean_squared_error': array([-16078.44783606, -13972.57866943, -15268.42472495, -13223.98109532,\n",
      "       -10586.01039978])}\n"
     ]
    }
   ],
   "source": [
    "# 학습 / 검증에 대한 평가 모든 결과에 대한 처리\n",
    "\n",
    "result = cross_validate(lr_md, \n",
    "                        scaledfish_Train, \n",
    "                        fytrain,\n",
    "                        scoring=('r2', 'neg_mean_squared_error'),\n",
    "                        return_train_score=True,\n",
    "                        return_estimator=True,\n",
    "                        ) \n",
    "# cv=3 이라는 것은 3등분 했다는 소리\n",
    "\n",
    "print(result)"
   ],
   "metadata": {
    "collapsed": false,
    "ExecuteTime": {
     "end_time": "2024-03-05T08:48:58.962649Z",
     "start_time": "2024-03-05T08:48:58.922123Z"
    }
   },
   "id": "e46d877ff6a00b61",
   "execution_count": 59
  },
  {
   "cell_type": "code",
   "outputs": [],
   "source": [
    "resultDF = pd.DataFrame(result)"
   ],
   "metadata": {
    "collapsed": false,
    "ExecuteTime": {
     "end_time": "2024-03-05T08:48:58.978971Z",
     "start_time": "2024-03-05T08:48:58.964767Z"
    }
   },
   "id": "5ffd2c35749fd9cb",
   "execution_count": 60
  },
  {
   "cell_type": "code",
   "outputs": [
    {
     "data": {
      "text/plain": "(array([ 373.98470744, -159.77931033,   90.53431501,   50.22123874]),\n 408.52250924970195)"
     },
     "execution_count": 61,
     "metadata": {},
     "output_type": "execute_result"
    }
   ],
   "source": [
    "best_model = resultDF.iloc[0]['estimator']\n",
    "best_model.coef_, best_model.intercept_"
   ],
   "metadata": {
    "collapsed": false,
    "ExecuteTime": {
     "end_time": "2024-03-05T08:48:58.994825Z",
     "start_time": "2024-03-05T08:48:58.980259Z"
    }
   },
   "id": "1eaa96040e99dda4",
   "execution_count": 61
  },
  {
   "cell_type": "code",
   "outputs": [
    {
     "data": {
      "text/plain": "array([0.92104683, 0.84385378, 0.88592423, 0.64671954, 0.79031905])"
     },
     "execution_count": 62,
     "metadata": {},
     "output_type": "execute_result"
    }
   ],
   "source": [
    "## CV 스코어만 추출\n",
    "\n",
    "cross_val_score(lr_md, scaledfish_Train, fytrain)"
   ],
   "metadata": {
    "collapsed": false,
    "ExecuteTime": {
     "end_time": "2024-03-05T08:48:59.025104Z",
     "start_time": "2024-03-05T08:48:58.995975Z"
    }
   },
   "id": "c4041afb55901b7f",
   "execution_count": 62
  },
  {
   "cell_type": "code",
   "outputs": [
    {
     "data": {
      "text/plain": "array([ 9.09792517e+01,  9.85612151e+01,  3.87029719e+02,  1.13011547e+02,\n        6.81676563e+02,  2.82456988e+02,  5.34379642e+02,  3.61848302e+02,\n        6.12934598e+02,  1.70756130e+02,  5.53222970e+02,  1.69433076e+01,\n       -2.53895688e+01,  8.14926155e+02,  6.97225129e+01,  3.38157931e+02,\n        4.76306355e+02,  7.67659158e+02,  6.55686457e+02,  1.80300946e+02,\n        8.45315559e+02,  2.92145322e+02,  6.08539351e+02,  9.02782406e+02,\n        6.99788981e+02,  9.40316876e+02,  7.47628344e+02,  3.28419355e+02,\n        7.89622699e+02,  9.09130831e+02, -1.98986854e+02,  1.81089559e+02,\n        6.36731679e+02, -1.09209894e+02,  3.57087822e+02,  7.88250361e+02,\n        3.25180589e+02,  6.56473977e+02, -2.37032025e+02,  4.55882834e+01,\n        9.57130255e+01, -2.10830505e+02,  1.28969696e+02, -2.21199132e+02,\n       -1.10282630e+02,  6.39911566e+02,  2.12288357e+02,  2.41098815e+02,\n        2.61932359e+02, -2.58301758e+02,  2.93250859e+01,  8.87950700e+02,\n        2.46460034e+02,  5.55564851e+02,  6.71006008e+02,  7.04637891e+02,\n        2.29677895e+02,  8.49746634e+02,  7.24031103e+02, -5.70994192e+01,\n        2.22728797e+02,  9.41173359e+02,  5.25995612e+02,  7.74853524e+02,\n        2.17941892e+02,  5.74873742e+02,  2.17397906e+02,  5.98772429e+02,\n        8.13391991e+02,  1.93602150e+02,  2.00834243e+02,  8.85719610e+02,\n        7.94930726e+02,  4.91188615e+02,  1.11555582e+02,  2.15505969e+02,\n        4.55682558e+02,  3.27230281e+02, -2.54736199e+02,  2.14499169e+02,\n        4.32295967e+02,  5.29619314e+02,  3.11672406e-01, -2.77216256e+02,\n        6.55329442e+02,  4.59082390e+02,  3.18928562e+02, -2.27015547e+02,\n        7.74464230e+02, -2.40117603e+02,  6.37572206e+02,  6.23647648e+02,\n        1.58228119e+02,  5.16093336e+02,  8.12222679e+01,  2.27883952e+02,\n        3.92943741e+02,  8.47396913e+02, -2.24559795e+02,  3.94415997e+02,\n        6.81290262e+02,  5.82109256e+02,  3.57665080e+02,  5.94846811e+02,\n        5.14375584e+02,  3.62255513e+02,  3.41676651e+02,  1.69523793e+02,\n        3.79453524e+02,  5.85425213e+02,  8.26535922e+02,  8.65537588e+02,\n        2.04176403e+02,  8.17998531e+02,  2.25074947e+02,  2.07081163e+02,\n        7.19337633e+02,  1.31467393e+02,  6.85638198e+02,  9.06351710e+02,\n        4.79431463e+02,  7.01957458e+02,  5.22269464e+02, -4.60942099e+01,\n        1.04657155e+03,  8.10571851e+02,  2.69273973e+02])"
     },
     "execution_count": 63,
     "metadata": {},
     "output_type": "execute_result"
    }
   ],
   "source": [
    "## CV predict 추출\n",
    "cross_val_predict(lr_md, scaledfish_Train, fytrain)"
   ],
   "metadata": {
    "collapsed": false,
    "ExecuteTime": {
     "end_time": "2024-03-05T08:48:59.040382Z",
     "start_time": "2024-03-05T08:48:59.027747Z"
    }
   },
   "id": "57e6712d0121a33d",
   "execution_count": 63
  },
  {
   "cell_type": "markdown",
   "source": [
    "## 교차검증, 튜닝까지 한번에 진행\n",
    "- 단점: 시간이 준내오래걸린다\""
   ],
   "metadata": {
    "collapsed": false
   },
   "id": "235ce8b2d03b839f"
  },
  {
   "cell_type": "code",
   "outputs": [],
   "source": [
    "from sklearn.model_selection import GridSearchCV, RandomizedSearchCV"
   ],
   "metadata": {
    "collapsed": false,
    "ExecuteTime": {
     "end_time": "2024-03-05T08:48:59.056476Z",
     "start_time": "2024-03-05T08:48:59.041382Z"
    }
   },
   "id": "616e9e05c1ba5ed",
   "execution_count": 64
  },
  {
   "cell_type": "code",
   "outputs": [
    {
     "data": {
      "text/plain": "GridSearchCV(estimator=LogisticRegression(max_iter=1000, solver='liblinear'),\n             param_grid={'penalty': ['l1', 'l2']}, return_train_score=True)",
      "text/html": "<style>#sk-container-id-6 {color: black;}#sk-container-id-6 pre{padding: 0;}#sk-container-id-6 div.sk-toggleable {background-color: white;}#sk-container-id-6 label.sk-toggleable__label {cursor: pointer;display: block;width: 100%;margin-bottom: 0;padding: 0.3em;box-sizing: border-box;text-align: center;}#sk-container-id-6 label.sk-toggleable__label-arrow:before {content: \"▸\";float: left;margin-right: 0.25em;color: #696969;}#sk-container-id-6 label.sk-toggleable__label-arrow:hover:before {color: black;}#sk-container-id-6 div.sk-estimator:hover label.sk-toggleable__label-arrow:before {color: black;}#sk-container-id-6 div.sk-toggleable__content {max-height: 0;max-width: 0;overflow: hidden;text-align: left;background-color: #f0f8ff;}#sk-container-id-6 div.sk-toggleable__content pre {margin: 0.2em;color: black;border-radius: 0.25em;background-color: #f0f8ff;}#sk-container-id-6 input.sk-toggleable__control:checked~div.sk-toggleable__content {max-height: 200px;max-width: 100%;overflow: auto;}#sk-container-id-6 input.sk-toggleable__control:checked~label.sk-toggleable__label-arrow:before {content: \"▾\";}#sk-container-id-6 div.sk-estimator input.sk-toggleable__control:checked~label.sk-toggleable__label {background-color: #d4ebff;}#sk-container-id-6 div.sk-label input.sk-toggleable__control:checked~label.sk-toggleable__label {background-color: #d4ebff;}#sk-container-id-6 input.sk-hidden--visually {border: 0;clip: rect(1px 1px 1px 1px);clip: rect(1px, 1px, 1px, 1px);height: 1px;margin: -1px;overflow: hidden;padding: 0;position: absolute;width: 1px;}#sk-container-id-6 div.sk-estimator {font-family: monospace;background-color: #f0f8ff;border: 1px dotted black;border-radius: 0.25em;box-sizing: border-box;margin-bottom: 0.5em;}#sk-container-id-6 div.sk-estimator:hover {background-color: #d4ebff;}#sk-container-id-6 div.sk-parallel-item::after {content: \"\";width: 100%;border-bottom: 1px solid gray;flex-grow: 1;}#sk-container-id-6 div.sk-label:hover label.sk-toggleable__label {background-color: #d4ebff;}#sk-container-id-6 div.sk-serial::before {content: \"\";position: absolute;border-left: 1px solid gray;box-sizing: border-box;top: 0;bottom: 0;left: 50%;z-index: 0;}#sk-container-id-6 div.sk-serial {display: flex;flex-direction: column;align-items: center;background-color: white;padding-right: 0.2em;padding-left: 0.2em;position: relative;}#sk-container-id-6 div.sk-item {position: relative;z-index: 1;}#sk-container-id-6 div.sk-parallel {display: flex;align-items: stretch;justify-content: center;background-color: white;position: relative;}#sk-container-id-6 div.sk-item::before, #sk-container-id-6 div.sk-parallel-item::before {content: \"\";position: absolute;border-left: 1px solid gray;box-sizing: border-box;top: 0;bottom: 0;left: 50%;z-index: -1;}#sk-container-id-6 div.sk-parallel-item {display: flex;flex-direction: column;z-index: 1;position: relative;background-color: white;}#sk-container-id-6 div.sk-parallel-item:first-child::after {align-self: flex-end;width: 50%;}#sk-container-id-6 div.sk-parallel-item:last-child::after {align-self: flex-start;width: 50%;}#sk-container-id-6 div.sk-parallel-item:only-child::after {width: 0;}#sk-container-id-6 div.sk-dashed-wrapped {border: 1px dashed gray;margin: 0 0.4em 0.5em 0.4em;box-sizing: border-box;padding-bottom: 0.4em;background-color: white;}#sk-container-id-6 div.sk-label label {font-family: monospace;font-weight: bold;display: inline-block;line-height: 1.2em;}#sk-container-id-6 div.sk-label-container {text-align: center;}#sk-container-id-6 div.sk-container {/* jupyter's `normalize.less` sets `[hidden] { display: none; }` but bootstrap.min.css set `[hidden] { display: none !important; }` so we also need the `!important` here to be able to override the default hidden behavior on the sphinx rendered scikit-learn.org. See: https://github.com/scikit-learn/scikit-learn/issues/21755 */display: inline-block !important;position: relative;}#sk-container-id-6 div.sk-text-repr-fallback {display: none;}</style><div id=\"sk-container-id-6\" class=\"sk-top-container\"><div class=\"sk-text-repr-fallback\"><pre>GridSearchCV(estimator=LogisticRegression(max_iter=1000, solver=&#x27;liblinear&#x27;),\n             param_grid={&#x27;penalty&#x27;: [&#x27;l1&#x27;, &#x27;l2&#x27;]}, return_train_score=True)</pre><b>In a Jupyter environment, please rerun this cell to show the HTML representation or trust the notebook. <br />On GitHub, the HTML representation is unable to render, please try loading this page with nbviewer.org.</b></div><div class=\"sk-container\" hidden><div class=\"sk-item sk-dashed-wrapped\"><div class=\"sk-label-container\"><div class=\"sk-label sk-toggleable\"><input class=\"sk-toggleable__control sk-hidden--visually\" id=\"sk-estimator-id-16\" type=\"checkbox\" ><label for=\"sk-estimator-id-16\" class=\"sk-toggleable__label sk-toggleable__label-arrow\">GridSearchCV</label><div class=\"sk-toggleable__content\"><pre>GridSearchCV(estimator=LogisticRegression(max_iter=1000, solver=&#x27;liblinear&#x27;),\n             param_grid={&#x27;penalty&#x27;: [&#x27;l1&#x27;, &#x27;l2&#x27;]}, return_train_score=True)</pre></div></div></div><div class=\"sk-parallel\"><div class=\"sk-parallel-item\"><div class=\"sk-item\"><div class=\"sk-label-container\"><div class=\"sk-label sk-toggleable\"><input class=\"sk-toggleable__control sk-hidden--visually\" id=\"sk-estimator-id-17\" type=\"checkbox\" ><label for=\"sk-estimator-id-17\" class=\"sk-toggleable__label sk-toggleable__label-arrow\">estimator: LogisticRegression</label><div class=\"sk-toggleable__content\"><pre>LogisticRegression(max_iter=1000, solver=&#x27;liblinear&#x27;)</pre></div></div></div><div class=\"sk-serial\"><div class=\"sk-item\"><div class=\"sk-estimator sk-toggleable\"><input class=\"sk-toggleable__control sk-hidden--visually\" id=\"sk-estimator-id-18\" type=\"checkbox\" ><label for=\"sk-estimator-id-18\" class=\"sk-toggleable__label sk-toggleable__label-arrow\">LogisticRegression</label><div class=\"sk-toggleable__content\"><pre>LogisticRegression(max_iter=1000, solver=&#x27;liblinear&#x27;)</pre></div></div></div></div></div></div></div></div></div></div>"
     },
     "execution_count": 71,
     "metadata": {},
     "output_type": "execute_result"
    }
   ],
   "source": [
    "from sklearn.linear_model import LogisticRegression\n",
    "params  = {'penalty': ['l1', 'l2']}\n",
    "est = LogisticRegression(max_iter=1000, solver='liblinear')\n",
    "\n",
    "gscv = GridSearchCV(est, param_grid=params, return_train_score=True)\n",
    "gscv.fit(scalediris_Train, iytrain)"
   ],
   "metadata": {
    "collapsed": false,
    "ExecuteTime": {
     "end_time": "2024-03-05T08:53:01.692768Z",
     "start_time": "2024-03-05T08:53:01.651770Z"
    }
   },
   "id": "a577fc3749720e96",
   "execution_count": 71
  },
  {
   "cell_type": "code",
   "outputs": [],
   "source": [
    "cv_resultsDF = pd.DataFrame(gscv.cv_results_)"
   ],
   "metadata": {
    "collapsed": false,
    "ExecuteTime": {
     "end_time": "2024-03-05T08:54:50.444278Z",
     "start_time": "2024-03-05T08:54:50.426636Z"
    }
   },
   "id": "9798de68f0b46cc9",
   "execution_count": 72
  },
  {
   "cell_type": "code",
   "outputs": [
    {
     "data": {
      "text/plain": "   mean_fit_time  std_fit_time  mean_score_time  std_score_time param_penalty  \\\n0       0.001199      0.000406         0.000600        0.000490            l1   \n1       0.000801      0.000401         0.000401        0.000491            l2   \n\n              params  split0_test_score  split1_test_score  split2_test_score  \\\n0  {'penalty': 'l1'}              0.875           1.000000           0.958333   \n1  {'penalty': 'l2'}              0.875           0.958333           0.958333   \n\n   split3_test_score  ...  mean_test_score  std_test_score  rank_test_score  \\\n0           0.958333  ...         0.941667        0.042492                1   \n1           0.958333  ...         0.916667        0.052705                2   \n\n   split0_train_score  split1_train_score  split2_train_score  \\\n0             0.93750            0.927083            0.937500   \n1             0.90625            0.916667            0.916667   \n\n   split3_train_score  split4_train_score  mean_train_score  std_train_score  \n0            0.947917             0.93750          0.937500         0.006588  \n1            0.927083             0.90625          0.914583         0.007795  \n\n[2 rows x 21 columns]",
      "text/html": "<div>\n<style scoped>\n    .dataframe tbody tr th:only-of-type {\n        vertical-align: middle;\n    }\n\n    .dataframe tbody tr th {\n        vertical-align: top;\n    }\n\n    .dataframe thead th {\n        text-align: right;\n    }\n</style>\n<table border=\"1\" class=\"dataframe\">\n  <thead>\n    <tr style=\"text-align: right;\">\n      <th></th>\n      <th>mean_fit_time</th>\n      <th>std_fit_time</th>\n      <th>mean_score_time</th>\n      <th>std_score_time</th>\n      <th>param_penalty</th>\n      <th>params</th>\n      <th>split0_test_score</th>\n      <th>split1_test_score</th>\n      <th>split2_test_score</th>\n      <th>split3_test_score</th>\n      <th>...</th>\n      <th>mean_test_score</th>\n      <th>std_test_score</th>\n      <th>rank_test_score</th>\n      <th>split0_train_score</th>\n      <th>split1_train_score</th>\n      <th>split2_train_score</th>\n      <th>split3_train_score</th>\n      <th>split4_train_score</th>\n      <th>mean_train_score</th>\n      <th>std_train_score</th>\n    </tr>\n  </thead>\n  <tbody>\n    <tr>\n      <th>0</th>\n      <td>0.001199</td>\n      <td>0.000406</td>\n      <td>0.000600</td>\n      <td>0.000490</td>\n      <td>l1</td>\n      <td>{'penalty': 'l1'}</td>\n      <td>0.875</td>\n      <td>1.000000</td>\n      <td>0.958333</td>\n      <td>0.958333</td>\n      <td>...</td>\n      <td>0.941667</td>\n      <td>0.042492</td>\n      <td>1</td>\n      <td>0.93750</td>\n      <td>0.927083</td>\n      <td>0.937500</td>\n      <td>0.947917</td>\n      <td>0.93750</td>\n      <td>0.937500</td>\n      <td>0.006588</td>\n    </tr>\n    <tr>\n      <th>1</th>\n      <td>0.000801</td>\n      <td>0.000401</td>\n      <td>0.000401</td>\n      <td>0.000491</td>\n      <td>l2</td>\n      <td>{'penalty': 'l2'}</td>\n      <td>0.875</td>\n      <td>0.958333</td>\n      <td>0.958333</td>\n      <td>0.958333</td>\n      <td>...</td>\n      <td>0.916667</td>\n      <td>0.052705</td>\n      <td>2</td>\n      <td>0.90625</td>\n      <td>0.916667</td>\n      <td>0.916667</td>\n      <td>0.927083</td>\n      <td>0.90625</td>\n      <td>0.914583</td>\n      <td>0.007795</td>\n    </tr>\n  </tbody>\n</table>\n<p>2 rows × 21 columns</p>\n</div>"
     },
     "execution_count": 73,
     "metadata": {},
     "output_type": "execute_result"
    }
   ],
   "source": [
    "cv_resultsDF"
   ],
   "metadata": {
    "collapsed": false,
    "ExecuteTime": {
     "end_time": "2024-03-05T08:54:58.471826Z",
     "start_time": "2024-03-05T08:54:58.449074Z"
    }
   },
   "id": "a23d8d8eb20d922f",
   "execution_count": 73
  },
  {
   "cell_type": "code",
   "outputs": [
    {
     "name": "stdout",
     "output_type": "stream",
     "text": [
      "{'penalty': 'l1'} 0 0.9416666666666668\n"
     ]
    }
   ],
   "source": [
    "print(gscv.best_params_, gscv.best_index_,gscv.best_score_)"
   ],
   "metadata": {
    "collapsed": false,
    "ExecuteTime": {
     "end_time": "2024-03-05T08:55:40.275017Z",
     "start_time": "2024-03-05T08:55:40.257006Z"
    }
   },
   "id": "973ab5bf69fbda7c",
   "execution_count": 74
  },
  {
   "cell_type": "markdown",
   "source": [
    "## 데이터에 적합한 모델 찾기"
   ],
   "metadata": {
    "collapsed": false
   },
   "id": "fce435286257e1ed"
  },
  {
   "cell_type": "code",
   "outputs": [],
   "source": [
    "from sklearn.utils.discovery import all_estimators"
   ],
   "metadata": {
    "collapsed": false,
    "ExecuteTime": {
     "end_time": "2024-03-05T08:58:58.115689Z",
     "start_time": "2024-03-05T08:58:58.104688Z"
    }
   },
   "id": "1edde316407dba80",
   "execution_count": 75
  },
  {
   "cell_type": "code",
   "outputs": [
    {
     "name": "stdout",
     "output_type": "stream",
     "text": [
      "AdaBoostClassifier()\n",
      "BaggingClassifier()\n",
      "BernoulliNB()\n",
      "CalibratedClassifierCV()\n",
      "Negative values in data passed to CategoricalNB (input X)\n",
      "__init__() missing 1 required positional argument: 'base_estimator'\n",
      "Negative values in data passed to ComplementNB (input X)\n",
      "DecisionTreeClassifier()\n",
      "DummyClassifier()\n",
      "ExtraTreeClassifier()\n",
      "ExtraTreesClassifier()\n",
      "GaussianNB()\n",
      "GaussianProcessClassifier()\n",
      "GradientBoostingClassifier()\n",
      "HistGradientBoostingClassifier()\n",
      "KNeighborsClassifier()\n",
      "LabelPropagation()\n",
      "LabelSpreading()\n",
      "LinearDiscriminantAnalysis()\n"
     ]
    },
    {
     "name": "stderr",
     "output_type": "stream",
     "text": [
      "C:\\Users\\kdp\\anaconda3\\envs\\EXAM_ML\\lib\\site-packages\\sklearn\\svm\\_classes.py:32: FutureWarning: The default value of `dual` will change from `True` to `'auto'` in 1.5. Set the value of `dual` explicitly to suppress the warning.\n",
      "  warnings.warn(\n",
      "C:\\Users\\kdp\\anaconda3\\envs\\EXAM_ML\\lib\\site-packages\\sklearn\\neural_network\\_multilayer_perceptron.py:691: ConvergenceWarning: Stochastic Optimizer: Maximum iterations (200) reached and the optimization hasn't converged yet.\n",
      "  warnings.warn(\n"
     ]
    },
    {
     "name": "stdout",
     "output_type": "stream",
     "text": [
      "LinearSVC()\n",
      "LogisticRegression()\n",
      "LogisticRegressionCV()\n",
      "MLPClassifier()\n",
      "__init__() missing 1 required positional argument: 'estimator'\n",
      "Negative values in data passed to MultinomialNB (input X)\n",
      "NearestCentroid()\n",
      "NuSVC()\n",
      "__init__() missing 1 required positional argument: 'estimator'\n",
      "__init__() missing 1 required positional argument: 'estimator'\n",
      "__init__() missing 1 required positional argument: 'estimator'\n",
      "PassiveAggressiveClassifier()\n",
      "Perceptron()\n",
      "QuadraticDiscriminantAnalysis()\n",
      "RadiusNeighborsClassifier()\n",
      "RandomForestClassifier()\n",
      "RidgeClassifier()\n",
      "RidgeClassifierCV()\n",
      "SGDClassifier()\n",
      "SVC()\n",
      "__init__() missing 1 required positional argument: 'estimators'\n",
      "__init__() missing 1 required positional argument: 'estimators'\n"
     ]
    }
   ],
   "source": [
    "models = all_estimators('classifier')\n",
    "\n",
    "for model_name, model in models:\n",
    "    try:\n",
    "        print(model().fit(scalediris_Train, iytrain))\n",
    "    except Exception as e:\n",
    "        print(e)"
   ],
   "metadata": {
    "collapsed": false,
    "ExecuteTime": {
     "end_time": "2024-03-05T09:01:51.689583Z",
     "start_time": "2024-03-05T09:01:50.775239Z"
    }
   },
   "id": "3333386723b2244",
   "execution_count": 80
  },
  {
   "cell_type": "code",
   "outputs": [],
   "source": [],
   "metadata": {
    "collapsed": false
   },
   "id": "95def3f8aafda7cf"
  }
 ],
 "metadata": {
  "kernelspec": {
   "display_name": "Python 3",
   "language": "python",
   "name": "python3"
  },
  "language_info": {
   "codemirror_mode": {
    "name": "ipython",
    "version": 2
   },
   "file_extension": ".py",
   "mimetype": "text/x-python",
   "name": "python",
   "nbconvert_exporter": "python",
   "pygments_lexer": "ipython2",
   "version": "2.7.6"
  }
 },
 "nbformat": 4,
 "nbformat_minor": 5
}
