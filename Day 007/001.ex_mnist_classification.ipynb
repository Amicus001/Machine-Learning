{
 "cells": [
  {
   "cell_type": "markdown",
   "source": [
    "### 이미지 데이터 분류\n",
    "- 데이터  : sklearn. datasets의 MNIST -> 디지철 숫자 0 ~ 9 손글씨 데이터셋\n",
    "- feature : 이미지 픽셀 수: 28 * 28 = 784\n",
    "- target  : 0 ~ 9 (10개)\n",
    "- 학습유형: 지도학습 +분류"
   ],
   "metadata": {
    "collapsed": false
   },
   "id": "2e78f750d5916fad"
  },
  {
   "cell_type": "markdown",
   "source": [
    "1. module & data preparing\n",
    "<hr>"
   ],
   "metadata": {
    "collapsed": false
   },
   "id": "cca5b7521b7a801"
  },
  {
   "cell_type": "code",
   "outputs": [],
   "source": [
    "#module\n",
    "from sklearn.datasets import fetch_openml"
   ],
   "metadata": {
    "collapsed": false,
    "ExecuteTime": {
     "end_time": "2024-03-05T01:21:40.496525Z",
     "start_time": "2024-03-05T01:21:39.485708Z"
    }
   },
   "id": "eb6d873af5b3b1ce",
   "execution_count": 2
  },
  {
   "cell_type": "code",
   "outputs": [
    {
     "name": "stderr",
     "output_type": "stream",
     "text": [
      "C:\\Users\\kdp\\anaconda3\\envs\\EXAM_ML\\lib\\site-packages\\sklearn\\datasets\\_openml.py:1002: FutureWarning: The default value of `parser` will change from `'liac-arff'` to `'auto'` in 1.4. You can set `parser='auto'` to silence this warning. Therefore, an `ImportError` will be raised from 1.4 if the dataset is dense and pandas is not installed. Note that the pandas parser may return different data types. See the Notes Section in fetch_openml's API doc for details.\n",
      "  warn(\n"
     ]
    }
   ],
   "source": [
    "#data\n",
    "mnist = fetch_openml('mnist_784')"
   ],
   "metadata": {
    "collapsed": false,
    "ExecuteTime": {
     "end_time": "2024-03-05T01:22:11.305625Z",
     "start_time": "2024-03-05T01:21:40.498514Z"
    }
   },
   "id": "c8a276045499d182",
   "execution_count": 3
  },
  {
   "cell_type": "code",
   "outputs": [
    {
     "data": {
      "text/plain": "((70000, 784), (70000,))"
     },
     "execution_count": 4,
     "metadata": {},
     "output_type": "execute_result"
    }
   ],
   "source": [
    "mnist.data.shape, mnist.target.shape"
   ],
   "metadata": {
    "collapsed": false,
    "ExecuteTime": {
     "end_time": "2024-03-05T01:22:11.321079Z",
     "start_time": "2024-03-05T01:22:11.307554Z"
    }
   },
   "id": "bcadc6c3a74b6663",
   "execution_count": 4
  },
  {
   "cell_type": "code",
   "outputs": [
    {
     "data": {
      "text/plain": "        pixel1   pixel2   pixel3   pixel4   pixel5   pixel6   pixel7   pixel8  \\\ncount  70000.0  70000.0  70000.0  70000.0  70000.0  70000.0  70000.0  70000.0   \nmean       0.0      0.0      0.0      0.0      0.0      0.0      0.0      0.0   \nstd        0.0      0.0      0.0      0.0      0.0      0.0      0.0      0.0   \nmin        0.0      0.0      0.0      0.0      0.0      0.0      0.0      0.0   \n25%        0.0      0.0      0.0      0.0      0.0      0.0      0.0      0.0   \n50%        0.0      0.0      0.0      0.0      0.0      0.0      0.0      0.0   \n75%        0.0      0.0      0.0      0.0      0.0      0.0      0.0      0.0   \nmax        0.0      0.0      0.0      0.0      0.0      0.0      0.0      0.0   \n\n        pixel9  pixel10  ...      pixel775      pixel776      pixel777  \\\ncount  70000.0  70000.0  ...  70000.000000  70000.000000  70000.000000   \nmean       0.0      0.0  ...      0.197414      0.099543      0.046629   \nstd        0.0      0.0  ...      5.991206      4.256304      2.783732   \nmin        0.0      0.0  ...      0.000000      0.000000      0.000000   \n25%        0.0      0.0  ...      0.000000      0.000000      0.000000   \n50%        0.0      0.0  ...      0.000000      0.000000      0.000000   \n75%        0.0      0.0  ...      0.000000      0.000000      0.000000   \nmax        0.0      0.0  ...    254.000000    254.000000    253.000000   \n\n           pixel778      pixel779      pixel780  pixel781  pixel782  pixel783  \\\ncount  70000.000000  70000.000000  70000.000000   70000.0   70000.0   70000.0   \nmean       0.016614      0.012957      0.001714       0.0       0.0       0.0   \nstd        1.561822      1.553796      0.320889       0.0       0.0       0.0   \nmin        0.000000      0.000000      0.000000       0.0       0.0       0.0   \n25%        0.000000      0.000000      0.000000       0.0       0.0       0.0   \n50%        0.000000      0.000000      0.000000       0.0       0.0       0.0   \n75%        0.000000      0.000000      0.000000       0.0       0.0       0.0   \nmax      253.000000    254.000000     62.000000       0.0       0.0       0.0   \n\n       pixel784  \ncount   70000.0  \nmean        0.0  \nstd         0.0  \nmin         0.0  \n25%         0.0  \n50%         0.0  \n75%         0.0  \nmax         0.0  \n\n[8 rows x 784 columns]",
      "text/html": "<div>\n<style scoped>\n    .dataframe tbody tr th:only-of-type {\n        vertical-align: middle;\n    }\n\n    .dataframe tbody tr th {\n        vertical-align: top;\n    }\n\n    .dataframe thead th {\n        text-align: right;\n    }\n</style>\n<table border=\"1\" class=\"dataframe\">\n  <thead>\n    <tr style=\"text-align: right;\">\n      <th></th>\n      <th>pixel1</th>\n      <th>pixel2</th>\n      <th>pixel3</th>\n      <th>pixel4</th>\n      <th>pixel5</th>\n      <th>pixel6</th>\n      <th>pixel7</th>\n      <th>pixel8</th>\n      <th>pixel9</th>\n      <th>pixel10</th>\n      <th>...</th>\n      <th>pixel775</th>\n      <th>pixel776</th>\n      <th>pixel777</th>\n      <th>pixel778</th>\n      <th>pixel779</th>\n      <th>pixel780</th>\n      <th>pixel781</th>\n      <th>pixel782</th>\n      <th>pixel783</th>\n      <th>pixel784</th>\n    </tr>\n  </thead>\n  <tbody>\n    <tr>\n      <th>count</th>\n      <td>70000.0</td>\n      <td>70000.0</td>\n      <td>70000.0</td>\n      <td>70000.0</td>\n      <td>70000.0</td>\n      <td>70000.0</td>\n      <td>70000.0</td>\n      <td>70000.0</td>\n      <td>70000.0</td>\n      <td>70000.0</td>\n      <td>...</td>\n      <td>70000.000000</td>\n      <td>70000.000000</td>\n      <td>70000.000000</td>\n      <td>70000.000000</td>\n      <td>70000.000000</td>\n      <td>70000.000000</td>\n      <td>70000.0</td>\n      <td>70000.0</td>\n      <td>70000.0</td>\n      <td>70000.0</td>\n    </tr>\n    <tr>\n      <th>mean</th>\n      <td>0.0</td>\n      <td>0.0</td>\n      <td>0.0</td>\n      <td>0.0</td>\n      <td>0.0</td>\n      <td>0.0</td>\n      <td>0.0</td>\n      <td>0.0</td>\n      <td>0.0</td>\n      <td>0.0</td>\n      <td>...</td>\n      <td>0.197414</td>\n      <td>0.099543</td>\n      <td>0.046629</td>\n      <td>0.016614</td>\n      <td>0.012957</td>\n      <td>0.001714</td>\n      <td>0.0</td>\n      <td>0.0</td>\n      <td>0.0</td>\n      <td>0.0</td>\n    </tr>\n    <tr>\n      <th>std</th>\n      <td>0.0</td>\n      <td>0.0</td>\n      <td>0.0</td>\n      <td>0.0</td>\n      <td>0.0</td>\n      <td>0.0</td>\n      <td>0.0</td>\n      <td>0.0</td>\n      <td>0.0</td>\n      <td>0.0</td>\n      <td>...</td>\n      <td>5.991206</td>\n      <td>4.256304</td>\n      <td>2.783732</td>\n      <td>1.561822</td>\n      <td>1.553796</td>\n      <td>0.320889</td>\n      <td>0.0</td>\n      <td>0.0</td>\n      <td>0.0</td>\n      <td>0.0</td>\n    </tr>\n    <tr>\n      <th>min</th>\n      <td>0.0</td>\n      <td>0.0</td>\n      <td>0.0</td>\n      <td>0.0</td>\n      <td>0.0</td>\n      <td>0.0</td>\n      <td>0.0</td>\n      <td>0.0</td>\n      <td>0.0</td>\n      <td>0.0</td>\n      <td>...</td>\n      <td>0.000000</td>\n      <td>0.000000</td>\n      <td>0.000000</td>\n      <td>0.000000</td>\n      <td>0.000000</td>\n      <td>0.000000</td>\n      <td>0.0</td>\n      <td>0.0</td>\n      <td>0.0</td>\n      <td>0.0</td>\n    </tr>\n    <tr>\n      <th>25%</th>\n      <td>0.0</td>\n      <td>0.0</td>\n      <td>0.0</td>\n      <td>0.0</td>\n      <td>0.0</td>\n      <td>0.0</td>\n      <td>0.0</td>\n      <td>0.0</td>\n      <td>0.0</td>\n      <td>0.0</td>\n      <td>...</td>\n      <td>0.000000</td>\n      <td>0.000000</td>\n      <td>0.000000</td>\n      <td>0.000000</td>\n      <td>0.000000</td>\n      <td>0.000000</td>\n      <td>0.0</td>\n      <td>0.0</td>\n      <td>0.0</td>\n      <td>0.0</td>\n    </tr>\n    <tr>\n      <th>50%</th>\n      <td>0.0</td>\n      <td>0.0</td>\n      <td>0.0</td>\n      <td>0.0</td>\n      <td>0.0</td>\n      <td>0.0</td>\n      <td>0.0</td>\n      <td>0.0</td>\n      <td>0.0</td>\n      <td>0.0</td>\n      <td>...</td>\n      <td>0.000000</td>\n      <td>0.000000</td>\n      <td>0.000000</td>\n      <td>0.000000</td>\n      <td>0.000000</td>\n      <td>0.000000</td>\n      <td>0.0</td>\n      <td>0.0</td>\n      <td>0.0</td>\n      <td>0.0</td>\n    </tr>\n    <tr>\n      <th>75%</th>\n      <td>0.0</td>\n      <td>0.0</td>\n      <td>0.0</td>\n      <td>0.0</td>\n      <td>0.0</td>\n      <td>0.0</td>\n      <td>0.0</td>\n      <td>0.0</td>\n      <td>0.0</td>\n      <td>0.0</td>\n      <td>...</td>\n      <td>0.000000</td>\n      <td>0.000000</td>\n      <td>0.000000</td>\n      <td>0.000000</td>\n      <td>0.000000</td>\n      <td>0.000000</td>\n      <td>0.0</td>\n      <td>0.0</td>\n      <td>0.0</td>\n      <td>0.0</td>\n    </tr>\n    <tr>\n      <th>max</th>\n      <td>0.0</td>\n      <td>0.0</td>\n      <td>0.0</td>\n      <td>0.0</td>\n      <td>0.0</td>\n      <td>0.0</td>\n      <td>0.0</td>\n      <td>0.0</td>\n      <td>0.0</td>\n      <td>0.0</td>\n      <td>...</td>\n      <td>254.000000</td>\n      <td>254.000000</td>\n      <td>253.000000</td>\n      <td>253.000000</td>\n      <td>254.000000</td>\n      <td>62.000000</td>\n      <td>0.0</td>\n      <td>0.0</td>\n      <td>0.0</td>\n      <td>0.0</td>\n    </tr>\n  </tbody>\n</table>\n<p>8 rows × 784 columns</p>\n</div>"
     },
     "execution_count": 5,
     "metadata": {},
     "output_type": "execute_result"
    }
   ],
   "source": [
    "mnist.data.describe()"
   ],
   "metadata": {
    "collapsed": false,
    "ExecuteTime": {
     "end_time": "2024-03-05T01:22:13.430322Z",
     "start_time": "2024-03-05T01:22:11.322078Z"
    }
   },
   "id": "3b8b0a85956aa03c",
   "execution_count": 5
  },
  {
   "cell_type": "markdown",
   "source": [
    "2. data preprocessing\n",
    "<hr>\n",
    "- image pixel value = 0 ~ 1 : scale"
   ],
   "metadata": {
    "collapsed": false
   },
   "id": "70c33109f5456a6b"
  },
  {
   "cell_type": "code",
   "outputs": [],
   "source": [
    "feature = mnist.data\n"
   ],
   "metadata": {
    "collapsed": false,
    "ExecuteTime": {
     "end_time": "2024-03-05T01:22:13.445319Z",
     "start_time": "2024-03-05T01:22:13.432322Z"
    }
   },
   "id": "9e81ec76e15949b3",
   "execution_count": 6
  },
  {
   "cell_type": "code",
   "outputs": [
    {
     "data": {
      "text/plain": "        pixel1   pixel2   pixel3   pixel4   pixel5   pixel6   pixel7   pixel8  \\\ncount  70000.0  70000.0  70000.0  70000.0  70000.0  70000.0  70000.0  70000.0   \nmean       0.0      0.0      0.0      0.0      0.0      0.0      0.0      0.0   \nstd        0.0      0.0      0.0      0.0      0.0      0.0      0.0      0.0   \nmin        0.0      0.0      0.0      0.0      0.0      0.0      0.0      0.0   \n25%        0.0      0.0      0.0      0.0      0.0      0.0      0.0      0.0   \n50%        0.0      0.0      0.0      0.0      0.0      0.0      0.0      0.0   \n75%        0.0      0.0      0.0      0.0      0.0      0.0      0.0      0.0   \nmax        0.0      0.0      0.0      0.0      0.0      0.0      0.0      0.0   \n\n        pixel9  pixel10  ...      pixel775      pixel776      pixel777  \\\ncount  70000.0  70000.0  ...  70000.000000  70000.000000  70000.000000   \nmean       0.0      0.0  ...      0.000774      0.000390      0.000183   \nstd        0.0      0.0  ...      0.023495      0.016691      0.010917   \nmin        0.0      0.0  ...      0.000000      0.000000      0.000000   \n25%        0.0      0.0  ...      0.000000      0.000000      0.000000   \n50%        0.0      0.0  ...      0.000000      0.000000      0.000000   \n75%        0.0      0.0  ...      0.000000      0.000000      0.000000   \nmax        0.0      0.0  ...      0.996078      0.996078      0.992157   \n\n           pixel778      pixel779      pixel780  pixel781  pixel782  pixel783  \\\ncount  70000.000000  70000.000000  70000.000000   70000.0   70000.0   70000.0   \nmean       0.000065      0.000051      0.000007       0.0       0.0       0.0   \nstd        0.006125      0.006093      0.001258       0.0       0.0       0.0   \nmin        0.000000      0.000000      0.000000       0.0       0.0       0.0   \n25%        0.000000      0.000000      0.000000       0.0       0.0       0.0   \n50%        0.000000      0.000000      0.000000       0.0       0.0       0.0   \n75%        0.000000      0.000000      0.000000       0.0       0.0       0.0   \nmax        0.992157      0.996078      0.243137       0.0       0.0       0.0   \n\n       pixel784  \ncount   70000.0  \nmean        0.0  \nstd         0.0  \nmin         0.0  \n25%         0.0  \n50%         0.0  \n75%         0.0  \nmax         0.0  \n\n[8 rows x 784 columns]",
      "text/html": "<div>\n<style scoped>\n    .dataframe tbody tr th:only-of-type {\n        vertical-align: middle;\n    }\n\n    .dataframe tbody tr th {\n        vertical-align: top;\n    }\n\n    .dataframe thead th {\n        text-align: right;\n    }\n</style>\n<table border=\"1\" class=\"dataframe\">\n  <thead>\n    <tr style=\"text-align: right;\">\n      <th></th>\n      <th>pixel1</th>\n      <th>pixel2</th>\n      <th>pixel3</th>\n      <th>pixel4</th>\n      <th>pixel5</th>\n      <th>pixel6</th>\n      <th>pixel7</th>\n      <th>pixel8</th>\n      <th>pixel9</th>\n      <th>pixel10</th>\n      <th>...</th>\n      <th>pixel775</th>\n      <th>pixel776</th>\n      <th>pixel777</th>\n      <th>pixel778</th>\n      <th>pixel779</th>\n      <th>pixel780</th>\n      <th>pixel781</th>\n      <th>pixel782</th>\n      <th>pixel783</th>\n      <th>pixel784</th>\n    </tr>\n  </thead>\n  <tbody>\n    <tr>\n      <th>count</th>\n      <td>70000.0</td>\n      <td>70000.0</td>\n      <td>70000.0</td>\n      <td>70000.0</td>\n      <td>70000.0</td>\n      <td>70000.0</td>\n      <td>70000.0</td>\n      <td>70000.0</td>\n      <td>70000.0</td>\n      <td>70000.0</td>\n      <td>...</td>\n      <td>70000.000000</td>\n      <td>70000.000000</td>\n      <td>70000.000000</td>\n      <td>70000.000000</td>\n      <td>70000.000000</td>\n      <td>70000.000000</td>\n      <td>70000.0</td>\n      <td>70000.0</td>\n      <td>70000.0</td>\n      <td>70000.0</td>\n    </tr>\n    <tr>\n      <th>mean</th>\n      <td>0.0</td>\n      <td>0.0</td>\n      <td>0.0</td>\n      <td>0.0</td>\n      <td>0.0</td>\n      <td>0.0</td>\n      <td>0.0</td>\n      <td>0.0</td>\n      <td>0.0</td>\n      <td>0.0</td>\n      <td>...</td>\n      <td>0.000774</td>\n      <td>0.000390</td>\n      <td>0.000183</td>\n      <td>0.000065</td>\n      <td>0.000051</td>\n      <td>0.000007</td>\n      <td>0.0</td>\n      <td>0.0</td>\n      <td>0.0</td>\n      <td>0.0</td>\n    </tr>\n    <tr>\n      <th>std</th>\n      <td>0.0</td>\n      <td>0.0</td>\n      <td>0.0</td>\n      <td>0.0</td>\n      <td>0.0</td>\n      <td>0.0</td>\n      <td>0.0</td>\n      <td>0.0</td>\n      <td>0.0</td>\n      <td>0.0</td>\n      <td>...</td>\n      <td>0.023495</td>\n      <td>0.016691</td>\n      <td>0.010917</td>\n      <td>0.006125</td>\n      <td>0.006093</td>\n      <td>0.001258</td>\n      <td>0.0</td>\n      <td>0.0</td>\n      <td>0.0</td>\n      <td>0.0</td>\n    </tr>\n    <tr>\n      <th>min</th>\n      <td>0.0</td>\n      <td>0.0</td>\n      <td>0.0</td>\n      <td>0.0</td>\n      <td>0.0</td>\n      <td>0.0</td>\n      <td>0.0</td>\n      <td>0.0</td>\n      <td>0.0</td>\n      <td>0.0</td>\n      <td>...</td>\n      <td>0.000000</td>\n      <td>0.000000</td>\n      <td>0.000000</td>\n      <td>0.000000</td>\n      <td>0.000000</td>\n      <td>0.000000</td>\n      <td>0.0</td>\n      <td>0.0</td>\n      <td>0.0</td>\n      <td>0.0</td>\n    </tr>\n    <tr>\n      <th>25%</th>\n      <td>0.0</td>\n      <td>0.0</td>\n      <td>0.0</td>\n      <td>0.0</td>\n      <td>0.0</td>\n      <td>0.0</td>\n      <td>0.0</td>\n      <td>0.0</td>\n      <td>0.0</td>\n      <td>0.0</td>\n      <td>...</td>\n      <td>0.000000</td>\n      <td>0.000000</td>\n      <td>0.000000</td>\n      <td>0.000000</td>\n      <td>0.000000</td>\n      <td>0.000000</td>\n      <td>0.0</td>\n      <td>0.0</td>\n      <td>0.0</td>\n      <td>0.0</td>\n    </tr>\n    <tr>\n      <th>50%</th>\n      <td>0.0</td>\n      <td>0.0</td>\n      <td>0.0</td>\n      <td>0.0</td>\n      <td>0.0</td>\n      <td>0.0</td>\n      <td>0.0</td>\n      <td>0.0</td>\n      <td>0.0</td>\n      <td>0.0</td>\n      <td>...</td>\n      <td>0.000000</td>\n      <td>0.000000</td>\n      <td>0.000000</td>\n      <td>0.000000</td>\n      <td>0.000000</td>\n      <td>0.000000</td>\n      <td>0.0</td>\n      <td>0.0</td>\n      <td>0.0</td>\n      <td>0.0</td>\n    </tr>\n    <tr>\n      <th>75%</th>\n      <td>0.0</td>\n      <td>0.0</td>\n      <td>0.0</td>\n      <td>0.0</td>\n      <td>0.0</td>\n      <td>0.0</td>\n      <td>0.0</td>\n      <td>0.0</td>\n      <td>0.0</td>\n      <td>0.0</td>\n      <td>...</td>\n      <td>0.000000</td>\n      <td>0.000000</td>\n      <td>0.000000</td>\n      <td>0.000000</td>\n      <td>0.000000</td>\n      <td>0.000000</td>\n      <td>0.0</td>\n      <td>0.0</td>\n      <td>0.0</td>\n      <td>0.0</td>\n    </tr>\n    <tr>\n      <th>max</th>\n      <td>0.0</td>\n      <td>0.0</td>\n      <td>0.0</td>\n      <td>0.0</td>\n      <td>0.0</td>\n      <td>0.0</td>\n      <td>0.0</td>\n      <td>0.0</td>\n      <td>0.0</td>\n      <td>0.0</td>\n      <td>...</td>\n      <td>0.996078</td>\n      <td>0.996078</td>\n      <td>0.992157</td>\n      <td>0.992157</td>\n      <td>0.996078</td>\n      <td>0.243137</td>\n      <td>0.0</td>\n      <td>0.0</td>\n      <td>0.0</td>\n      <td>0.0</td>\n    </tr>\n  </tbody>\n</table>\n<p>8 rows × 784 columns</p>\n</div>"
     },
     "execution_count": 7,
     "metadata": {},
     "output_type": "execute_result"
    }
   ],
   "source": [
    "feature = feature/255\n",
    "feature.describe()"
   ],
   "metadata": {
    "collapsed": false,
    "ExecuteTime": {
     "end_time": "2024-03-05T01:22:16.263724Z",
     "start_time": "2024-03-05T01:22:13.446483Z"
    }
   },
   "id": "5ab263d611b3965",
   "execution_count": 7
  },
  {
   "cell_type": "markdown",
   "source": [
    "target check"
   ],
   "metadata": {
    "collapsed": false
   },
   "id": "ace24ac14a3345e0"
  },
  {
   "cell_type": "code",
   "outputs": [
    {
     "data": {
      "text/plain": "['5', '0', '4', '1', '9', '2', '3', '6', '7', '8']\nCategories (10, object): ['0', '1', '2', '3', ..., '6', '7', '8', '9']"
     },
     "execution_count": 8,
     "metadata": {},
     "output_type": "execute_result"
    }
   ],
   "source": [
    "target = mnist.target\n",
    "target.unique()"
   ],
   "metadata": {
    "collapsed": false,
    "ExecuteTime": {
     "end_time": "2024-03-05T01:22:16.279424Z",
     "start_time": "2024-03-05T01:22:16.264908Z"
    }
   },
   "id": "c42faf0d51e028c7",
   "execution_count": 8
  },
  {
   "cell_type": "code",
   "outputs": [],
   "source": [
    "target = target.astype(int)"
   ],
   "metadata": {
    "collapsed": false,
    "ExecuteTime": {
     "end_time": "2024-03-05T01:22:16.294401Z",
     "start_time": "2024-03-05T01:22:16.281264Z"
    }
   },
   "id": "21161e5f8923c478",
   "execution_count": 9
  },
  {
   "cell_type": "markdown",
   "source": [
    "3. datasets for machine learning \n",
    "<hr>\n",
    "- learning, checking, testing"
   ],
   "metadata": {
    "collapsed": false
   },
   "id": "f182695b0712add5"
  },
  {
   "cell_type": "code",
   "outputs": [],
   "source": [
    "#module load\n",
    "from sklearn.model_selection import train_test_split"
   ],
   "metadata": {
    "collapsed": false,
    "ExecuteTime": {
     "end_time": "2024-03-05T01:22:16.356913Z",
     "start_time": "2024-03-05T01:22:16.296398Z"
    }
   },
   "id": "8b77fa24369e9a8f",
   "execution_count": 10
  },
  {
   "cell_type": "code",
   "outputs": [
    {
     "name": "stdout",
     "output_type": "stream",
     "text": [
      "xtrain = (60000, 784), ytrain = (60000,)\n",
      "xtest = (10000, 784), ytest = (10000,)\n"
     ]
    }
   ],
   "source": [
    "#learn & test separating -> MNIS db에서 제공한 6만/1만\n",
    "xtrain = feature.iloc[:60000]\n",
    "ytrain = target[:60000]\n",
    "xtest = feature.iloc[60000:]\n",
    "ytest = target.iloc[60000:]\n",
    "\n",
    "#xtrain, xtest, ytrain, ytrain = train_test_split(feature, target, stratify= target, )\n",
    "\n",
    "print(f'xtrain = {xtrain.shape}, ytrain = {ytrain.shape}')\n",
    "print(f'xtest = {xtest.shape}, ytest = {ytest.shape}')"
   ],
   "metadata": {
    "collapsed": false,
    "ExecuteTime": {
     "end_time": "2024-03-05T01:22:16.372049Z",
     "start_time": "2024-03-05T01:22:16.358915Z"
    }
   },
   "id": "3a4a58fd1c389726",
   "execution_count": 11
  },
  {
   "cell_type": "code",
   "outputs": [
    {
     "name": "stdout",
     "output_type": "stream",
     "text": [
      "xtrain = (42000, 784), ytrain = (42000,)\n",
      "xval = (18000, 784), yval = (18000,)\n"
     ]
    }
   ],
   "source": [
    "# 학습용 - 검증용 분리 : 학습용 데이터셋에서 일부를 검증용으로 준비하기\n",
    "# 검증용 : 학습 시 모델 최적화가 잘 되는지 검사하는 데이터셋\n",
    "\n",
    "xtrain, xval, ytrain, yval = train_test_split(xtrain, ytrain, test_size=0.3, stratify= ytrain, random_state=5)\n",
    "print(f'xtrain = {xtrain.shape}, ytrain = {ytrain.shape}')\n",
    "print(f'xval = {xval.shape}, yval = {yval.shape}')\n"
   ],
   "metadata": {
    "collapsed": false,
    "ExecuteTime": {
     "end_time": "2024-03-05T01:22:17.118073Z",
     "start_time": "2024-03-05T01:22:16.373052Z"
    }
   },
   "id": "e568cf454eee0524",
   "execution_count": 12
  },
  {
   "cell_type": "markdown",
   "source": [
    "4. 학습\n",
    "<hr>"
   ],
   "metadata": {
    "collapsed": false
   },
   "id": "1666b5bf6600b792"
  },
  {
   "cell_type": "markdown",
   "source": [
    "4 - 1. 분류 방법: LogisticRegression\n"
   ],
   "metadata": {
    "collapsed": false
   },
   "id": "351443c598a5872b"
  },
  {
   "cell_type": "code",
   "outputs": [],
   "source": [
    "from sklearn.linear_model import LogisticRegression"
   ],
   "metadata": {
    "collapsed": false,
    "ExecuteTime": {
     "end_time": "2024-03-05T01:22:17.212391Z",
     "start_time": "2024-03-05T01:22:17.120872Z"
    }
   },
   "id": "5cf41b96f2a32ed1",
   "execution_count": 13
  },
  {
   "cell_type": "code",
   "outputs": [
    {
     "data": {
      "text/plain": "LogisticRegression(max_iter=10000)",
      "text/html": "<style>#sk-container-id-1 {color: black;}#sk-container-id-1 pre{padding: 0;}#sk-container-id-1 div.sk-toggleable {background-color: white;}#sk-container-id-1 label.sk-toggleable__label {cursor: pointer;display: block;width: 100%;margin-bottom: 0;padding: 0.3em;box-sizing: border-box;text-align: center;}#sk-container-id-1 label.sk-toggleable__label-arrow:before {content: \"▸\";float: left;margin-right: 0.25em;color: #696969;}#sk-container-id-1 label.sk-toggleable__label-arrow:hover:before {color: black;}#sk-container-id-1 div.sk-estimator:hover label.sk-toggleable__label-arrow:before {color: black;}#sk-container-id-1 div.sk-toggleable__content {max-height: 0;max-width: 0;overflow: hidden;text-align: left;background-color: #f0f8ff;}#sk-container-id-1 div.sk-toggleable__content pre {margin: 0.2em;color: black;border-radius: 0.25em;background-color: #f0f8ff;}#sk-container-id-1 input.sk-toggleable__control:checked~div.sk-toggleable__content {max-height: 200px;max-width: 100%;overflow: auto;}#sk-container-id-1 input.sk-toggleable__control:checked~label.sk-toggleable__label-arrow:before {content: \"▾\";}#sk-container-id-1 div.sk-estimator input.sk-toggleable__control:checked~label.sk-toggleable__label {background-color: #d4ebff;}#sk-container-id-1 div.sk-label input.sk-toggleable__control:checked~label.sk-toggleable__label {background-color: #d4ebff;}#sk-container-id-1 input.sk-hidden--visually {border: 0;clip: rect(1px 1px 1px 1px);clip: rect(1px, 1px, 1px, 1px);height: 1px;margin: -1px;overflow: hidden;padding: 0;position: absolute;width: 1px;}#sk-container-id-1 div.sk-estimator {font-family: monospace;background-color: #f0f8ff;border: 1px dotted black;border-radius: 0.25em;box-sizing: border-box;margin-bottom: 0.5em;}#sk-container-id-1 div.sk-estimator:hover {background-color: #d4ebff;}#sk-container-id-1 div.sk-parallel-item::after {content: \"\";width: 100%;border-bottom: 1px solid gray;flex-grow: 1;}#sk-container-id-1 div.sk-label:hover label.sk-toggleable__label {background-color: #d4ebff;}#sk-container-id-1 div.sk-serial::before {content: \"\";position: absolute;border-left: 1px solid gray;box-sizing: border-box;top: 0;bottom: 0;left: 50%;z-index: 0;}#sk-container-id-1 div.sk-serial {display: flex;flex-direction: column;align-items: center;background-color: white;padding-right: 0.2em;padding-left: 0.2em;position: relative;}#sk-container-id-1 div.sk-item {position: relative;z-index: 1;}#sk-container-id-1 div.sk-parallel {display: flex;align-items: stretch;justify-content: center;background-color: white;position: relative;}#sk-container-id-1 div.sk-item::before, #sk-container-id-1 div.sk-parallel-item::before {content: \"\";position: absolute;border-left: 1px solid gray;box-sizing: border-box;top: 0;bottom: 0;left: 50%;z-index: -1;}#sk-container-id-1 div.sk-parallel-item {display: flex;flex-direction: column;z-index: 1;position: relative;background-color: white;}#sk-container-id-1 div.sk-parallel-item:first-child::after {align-self: flex-end;width: 50%;}#sk-container-id-1 div.sk-parallel-item:last-child::after {align-self: flex-start;width: 50%;}#sk-container-id-1 div.sk-parallel-item:only-child::after {width: 0;}#sk-container-id-1 div.sk-dashed-wrapped {border: 1px dashed gray;margin: 0 0.4em 0.5em 0.4em;box-sizing: border-box;padding-bottom: 0.4em;background-color: white;}#sk-container-id-1 div.sk-label label {font-family: monospace;font-weight: bold;display: inline-block;line-height: 1.2em;}#sk-container-id-1 div.sk-label-container {text-align: center;}#sk-container-id-1 div.sk-container {/* jupyter's `normalize.less` sets `[hidden] { display: none; }` but bootstrap.min.css set `[hidden] { display: none !important; }` so we also need the `!important` here to be able to override the default hidden behavior on the sphinx rendered scikit-learn.org. See: https://github.com/scikit-learn/scikit-learn/issues/21755 */display: inline-block !important;position: relative;}#sk-container-id-1 div.sk-text-repr-fallback {display: none;}</style><div id=\"sk-container-id-1\" class=\"sk-top-container\"><div class=\"sk-text-repr-fallback\"><pre>LogisticRegression(max_iter=10000)</pre><b>In a Jupyter environment, please rerun this cell to show the HTML representation or trust the notebook. <br />On GitHub, the HTML representation is unable to render, please try loading this page with nbviewer.org.</b></div><div class=\"sk-container\" hidden><div class=\"sk-item\"><div class=\"sk-estimator sk-toggleable\"><input class=\"sk-toggleable__control sk-hidden--visually\" id=\"sk-estimator-id-1\" type=\"checkbox\" checked><label for=\"sk-estimator-id-1\" class=\"sk-toggleable__label sk-toggleable__label-arrow\">LogisticRegression</label><div class=\"sk-toggleable__content\"><pre>LogisticRegression(max_iter=10000)</pre></div></div></div></div></div>"
     },
     "execution_count": 14,
     "metadata": {},
     "output_type": "execute_result"
    }
   ],
   "source": [
    "lrmd = LogisticRegression(max_iter=10000)\n",
    "lrmd.fit(xtrain, ytrain)"
   ],
   "metadata": {
    "collapsed": false,
    "ExecuteTime": {
     "end_time": "2024-03-05T01:22:57.096347Z",
     "start_time": "2024-03-05T01:22:17.214733Z"
    }
   },
   "id": "674f15b80c795861",
   "execution_count": 14
  },
  {
   "cell_type": "code",
   "outputs": [],
   "source": [
    "train_score = lrmd.score(xtrain, ytrain)\n",
    "test_score = lrmd.score(xval, yval)"
   ],
   "metadata": {
    "collapsed": false,
    "ExecuteTime": {
     "end_time": "2024-03-05T01:22:57.544254Z",
     "start_time": "2024-03-05T01:22:57.101555Z"
    }
   },
   "id": "6065a4c49c6f89",
   "execution_count": 15
  },
  {
   "cell_type": "code",
   "outputs": [
    {
     "name": "stdout",
     "output_type": "stream",
     "text": [
      "train_score = 0.9429285714285714, test_score = 0.9173888888888889\n"
     ]
    }
   ],
   "source": [
    "print(f'train_score = {train_score}, test_score = {test_score}')"
   ],
   "metadata": {
    "collapsed": false,
    "ExecuteTime": {
     "end_time": "2024-03-05T01:22:57.559551Z",
     "start_time": "2024-03-05T01:22:57.547393Z"
    }
   },
   "id": "12551b497b399b57",
   "execution_count": 16
  },
  {
   "cell_type": "code",
   "outputs": [
    {
     "name": "stdout",
     "output_type": "stream",
     "text": [
      "[721]\n"
     ]
    }
   ],
   "source": [
    "#model parameter\n",
    "print(lrmd.n_iter_)"
   ],
   "metadata": {
    "collapsed": false,
    "ExecuteTime": {
     "end_time": "2024-03-05T01:22:57.574823Z",
     "start_time": "2024-03-05T01:22:57.562059Z"
    }
   },
   "id": "67afa7f052cd5c81",
   "execution_count": 17
  },
  {
   "cell_type": "markdown",
   "source": [
    "# 4 - 2. 확률적 경사하강법(SGD) 기반 학습\n",
    "- 대량의 데이터 학습 시 랜덤으로 1개의 데이터셋 샘플 추출하여 학습 진행 -> 최적화\n",
    "- 장점 : 빠른 속도\n",
    "- 단점 : 정확도 떨어짐\n",
    "- 개선 : 일정 데이터를 묶어 학습 후 최적화 진행(미니배치)\n",
    "- 학습 모델 선정 필요"
   ],
   "metadata": {
    "collapsed": false
   },
   "id": "63d29db38c214bd1"
  },
  {
   "cell_type": "code",
   "outputs": [
    {
     "data": {
      "text/plain": "SGDClassifier(loss='log_loss', random_state=5)",
      "text/html": "<style>#sk-container-id-3 {color: black;}#sk-container-id-3 pre{padding: 0;}#sk-container-id-3 div.sk-toggleable {background-color: white;}#sk-container-id-3 label.sk-toggleable__label {cursor: pointer;display: block;width: 100%;margin-bottom: 0;padding: 0.3em;box-sizing: border-box;text-align: center;}#sk-container-id-3 label.sk-toggleable__label-arrow:before {content: \"▸\";float: left;margin-right: 0.25em;color: #696969;}#sk-container-id-3 label.sk-toggleable__label-arrow:hover:before {color: black;}#sk-container-id-3 div.sk-estimator:hover label.sk-toggleable__label-arrow:before {color: black;}#sk-container-id-3 div.sk-toggleable__content {max-height: 0;max-width: 0;overflow: hidden;text-align: left;background-color: #f0f8ff;}#sk-container-id-3 div.sk-toggleable__content pre {margin: 0.2em;color: black;border-radius: 0.25em;background-color: #f0f8ff;}#sk-container-id-3 input.sk-toggleable__control:checked~div.sk-toggleable__content {max-height: 200px;max-width: 100%;overflow: auto;}#sk-container-id-3 input.sk-toggleable__control:checked~label.sk-toggleable__label-arrow:before {content: \"▾\";}#sk-container-id-3 div.sk-estimator input.sk-toggleable__control:checked~label.sk-toggleable__label {background-color: #d4ebff;}#sk-container-id-3 div.sk-label input.sk-toggleable__control:checked~label.sk-toggleable__label {background-color: #d4ebff;}#sk-container-id-3 input.sk-hidden--visually {border: 0;clip: rect(1px 1px 1px 1px);clip: rect(1px, 1px, 1px, 1px);height: 1px;margin: -1px;overflow: hidden;padding: 0;position: absolute;width: 1px;}#sk-container-id-3 div.sk-estimator {font-family: monospace;background-color: #f0f8ff;border: 1px dotted black;border-radius: 0.25em;box-sizing: border-box;margin-bottom: 0.5em;}#sk-container-id-3 div.sk-estimator:hover {background-color: #d4ebff;}#sk-container-id-3 div.sk-parallel-item::after {content: \"\";width: 100%;border-bottom: 1px solid gray;flex-grow: 1;}#sk-container-id-3 div.sk-label:hover label.sk-toggleable__label {background-color: #d4ebff;}#sk-container-id-3 div.sk-serial::before {content: \"\";position: absolute;border-left: 1px solid gray;box-sizing: border-box;top: 0;bottom: 0;left: 50%;z-index: 0;}#sk-container-id-3 div.sk-serial {display: flex;flex-direction: column;align-items: center;background-color: white;padding-right: 0.2em;padding-left: 0.2em;position: relative;}#sk-container-id-3 div.sk-item {position: relative;z-index: 1;}#sk-container-id-3 div.sk-parallel {display: flex;align-items: stretch;justify-content: center;background-color: white;position: relative;}#sk-container-id-3 div.sk-item::before, #sk-container-id-3 div.sk-parallel-item::before {content: \"\";position: absolute;border-left: 1px solid gray;box-sizing: border-box;top: 0;bottom: 0;left: 50%;z-index: -1;}#sk-container-id-3 div.sk-parallel-item {display: flex;flex-direction: column;z-index: 1;position: relative;background-color: white;}#sk-container-id-3 div.sk-parallel-item:first-child::after {align-self: flex-end;width: 50%;}#sk-container-id-3 div.sk-parallel-item:last-child::after {align-self: flex-start;width: 50%;}#sk-container-id-3 div.sk-parallel-item:only-child::after {width: 0;}#sk-container-id-3 div.sk-dashed-wrapped {border: 1px dashed gray;margin: 0 0.4em 0.5em 0.4em;box-sizing: border-box;padding-bottom: 0.4em;background-color: white;}#sk-container-id-3 div.sk-label label {font-family: monospace;font-weight: bold;display: inline-block;line-height: 1.2em;}#sk-container-id-3 div.sk-label-container {text-align: center;}#sk-container-id-3 div.sk-container {/* jupyter's `normalize.less` sets `[hidden] { display: none; }` but bootstrap.min.css set `[hidden] { display: none !important; }` so we also need the `!important` here to be able to override the default hidden behavior on the sphinx rendered scikit-learn.org. See: https://github.com/scikit-learn/scikit-learn/issues/21755 */display: inline-block !important;position: relative;}#sk-container-id-3 div.sk-text-repr-fallback {display: none;}</style><div id=\"sk-container-id-3\" class=\"sk-top-container\"><div class=\"sk-text-repr-fallback\"><pre>SGDClassifier(loss=&#x27;log_loss&#x27;, random_state=5)</pre><b>In a Jupyter environment, please rerun this cell to show the HTML representation or trust the notebook. <br />On GitHub, the HTML representation is unable to render, please try loading this page with nbviewer.org.</b></div><div class=\"sk-container\" hidden><div class=\"sk-item\"><div class=\"sk-estimator sk-toggleable\"><input class=\"sk-toggleable__control sk-hidden--visually\" id=\"sk-estimator-id-3\" type=\"checkbox\" checked><label for=\"sk-estimator-id-3\" class=\"sk-toggleable__label sk-toggleable__label-arrow\">SGDClassifier</label><div class=\"sk-toggleable__content\"><pre>SGDClassifier(loss=&#x27;log_loss&#x27;, random_state=5)</pre></div></div></div></div></div>"
     },
     "execution_count": 21,
     "metadata": {},
     "output_type": "execute_result"
    }
   ],
   "source": [
    "#module load: SGDClassfier -> 분류 알고리즘을 SGD로 진행\n",
    "\n",
    "from sklearn.linear_model import SGDClassifier\n",
    "#LogisticRegression 알고리즘으로 학습 진행\n",
    "lrsgd = SGDClassifier(loss='log_loss', random_state= 5 )\n",
    "lrsgd.fit(xtrain, ytrain)"
   ],
   "metadata": {
    "collapsed": false,
    "ExecuteTime": {
     "end_time": "2024-03-05T02:08:32.231708Z",
     "start_time": "2024-03-05T02:08:19.566316Z"
    }
   },
   "id": "2e7ee98dae69328c",
   "execution_count": 21
  },
  {
   "cell_type": "code",
   "outputs": [
    {
     "name": "stdout",
     "output_type": "stream",
     "text": [
      "24\n"
     ]
    }
   ],
   "source": [
    "#모델 파라미터 확인\n",
    "print(lrsgd.n_iter_)"
   ],
   "metadata": {
    "collapsed": false,
    "ExecuteTime": {
     "end_time": "2024-03-05T02:08:35.417868Z",
     "start_time": "2024-03-05T02:08:35.400882Z"
    }
   },
   "id": "4e0046a8b2b712ea",
   "execution_count": 22
  },
  {
   "cell_type": "code",
   "outputs": [
    {
     "name": "stdout",
     "output_type": "stream",
     "text": [
      "[train]: 0.9195714285714286\n",
      "[val]: 0.909\n",
      "[test]: 0.9127\n"
     ]
    }
   ],
   "source": [
    "# 성능 확인하기\n",
    "train_score = lrsgd.score(xtrain, ytrain)\n",
    "val_score = lrsgd.score(xval, yval)\n",
    "test_score = lrsgd.score(xtest, ytest)\n",
    "\n",
    "print(f'[train]: {train_score}\\n[val]: {val_score}\\n[test]: {test_score}')"
   ],
   "metadata": {
    "collapsed": false,
    "ExecuteTime": {
     "end_time": "2024-03-05T02:10:00.578035Z",
     "start_time": "2024-03-05T02:10:00.278566Z"
    }
   },
   "id": "24097aff28fd57ae",
   "execution_count": 23
  },
  {
   "cell_type": "code",
   "outputs": [
    {
     "name": "stdout",
     "output_type": "stream",
     "text": [
      "[BEFORE] lrsgd.coef_ = > (10, 784)\n",
      "[BEFORE] lrsgd.intercept_ = > [-7.97799393 -0.99830779 -2.94178586 -4.36810167 -2.2825444   0.13435885\n",
      " -4.56454107 -0.85661241 -7.83566869 -4.44152253]\n"
     ]
    }
   ],
   "source": [
    "print(f'[BEFORE] lrsgd.coef_ = > {lrsgd.coef_.shape}')\n",
    "print(f'[BEFORE] lrsgd.intercept_ = > {lrsgd.intercept_}')"
   ],
   "metadata": {
    "collapsed": false,
    "ExecuteTime": {
     "end_time": "2024-03-05T02:11:38.024809Z",
     "start_time": "2024-03-05T02:11:38.015686Z"
    }
   },
   "id": "20cee13f6c262315",
   "execution_count": 25
  },
  {
   "cell_type": "code",
   "outputs": [],
   "source": [
    "## 추가된 데이터에 대한 추가학습 진행: 기존 학습으로 최적화된 상태 유지"
   ],
   "metadata": {
    "collapsed": false
   },
   "id": "288a0b5000397ab4"
  },
  {
   "cell_type": "code",
   "outputs": [
    {
     "data": {
      "text/plain": "SGDClassifier(loss='log_loss', random_state=5)",
      "text/html": "<style>#sk-container-id-4 {color: black;}#sk-container-id-4 pre{padding: 0;}#sk-container-id-4 div.sk-toggleable {background-color: white;}#sk-container-id-4 label.sk-toggleable__label {cursor: pointer;display: block;width: 100%;margin-bottom: 0;padding: 0.3em;box-sizing: border-box;text-align: center;}#sk-container-id-4 label.sk-toggleable__label-arrow:before {content: \"▸\";float: left;margin-right: 0.25em;color: #696969;}#sk-container-id-4 label.sk-toggleable__label-arrow:hover:before {color: black;}#sk-container-id-4 div.sk-estimator:hover label.sk-toggleable__label-arrow:before {color: black;}#sk-container-id-4 div.sk-toggleable__content {max-height: 0;max-width: 0;overflow: hidden;text-align: left;background-color: #f0f8ff;}#sk-container-id-4 div.sk-toggleable__content pre {margin: 0.2em;color: black;border-radius: 0.25em;background-color: #f0f8ff;}#sk-container-id-4 input.sk-toggleable__control:checked~div.sk-toggleable__content {max-height: 200px;max-width: 100%;overflow: auto;}#sk-container-id-4 input.sk-toggleable__control:checked~label.sk-toggleable__label-arrow:before {content: \"▾\";}#sk-container-id-4 div.sk-estimator input.sk-toggleable__control:checked~label.sk-toggleable__label {background-color: #d4ebff;}#sk-container-id-4 div.sk-label input.sk-toggleable__control:checked~label.sk-toggleable__label {background-color: #d4ebff;}#sk-container-id-4 input.sk-hidden--visually {border: 0;clip: rect(1px 1px 1px 1px);clip: rect(1px, 1px, 1px, 1px);height: 1px;margin: -1px;overflow: hidden;padding: 0;position: absolute;width: 1px;}#sk-container-id-4 div.sk-estimator {font-family: monospace;background-color: #f0f8ff;border: 1px dotted black;border-radius: 0.25em;box-sizing: border-box;margin-bottom: 0.5em;}#sk-container-id-4 div.sk-estimator:hover {background-color: #d4ebff;}#sk-container-id-4 div.sk-parallel-item::after {content: \"\";width: 100%;border-bottom: 1px solid gray;flex-grow: 1;}#sk-container-id-4 div.sk-label:hover label.sk-toggleable__label {background-color: #d4ebff;}#sk-container-id-4 div.sk-serial::before {content: \"\";position: absolute;border-left: 1px solid gray;box-sizing: border-box;top: 0;bottom: 0;left: 50%;z-index: 0;}#sk-container-id-4 div.sk-serial {display: flex;flex-direction: column;align-items: center;background-color: white;padding-right: 0.2em;padding-left: 0.2em;position: relative;}#sk-container-id-4 div.sk-item {position: relative;z-index: 1;}#sk-container-id-4 div.sk-parallel {display: flex;align-items: stretch;justify-content: center;background-color: white;position: relative;}#sk-container-id-4 div.sk-item::before, #sk-container-id-4 div.sk-parallel-item::before {content: \"\";position: absolute;border-left: 1px solid gray;box-sizing: border-box;top: 0;bottom: 0;left: 50%;z-index: -1;}#sk-container-id-4 div.sk-parallel-item {display: flex;flex-direction: column;z-index: 1;position: relative;background-color: white;}#sk-container-id-4 div.sk-parallel-item:first-child::after {align-self: flex-end;width: 50%;}#sk-container-id-4 div.sk-parallel-item:last-child::after {align-self: flex-start;width: 50%;}#sk-container-id-4 div.sk-parallel-item:only-child::after {width: 0;}#sk-container-id-4 div.sk-dashed-wrapped {border: 1px dashed gray;margin: 0 0.4em 0.5em 0.4em;box-sizing: border-box;padding-bottom: 0.4em;background-color: white;}#sk-container-id-4 div.sk-label label {font-family: monospace;font-weight: bold;display: inline-block;line-height: 1.2em;}#sk-container-id-4 div.sk-label-container {text-align: center;}#sk-container-id-4 div.sk-container {/* jupyter's `normalize.less` sets `[hidden] { display: none; }` but bootstrap.min.css set `[hidden] { display: none !important; }` so we also need the `!important` here to be able to override the default hidden behavior on the sphinx rendered scikit-learn.org. See: https://github.com/scikit-learn/scikit-learn/issues/21755 */display: inline-block !important;position: relative;}#sk-container-id-4 div.sk-text-repr-fallback {display: none;}</style><div id=\"sk-container-id-4\" class=\"sk-top-container\"><div class=\"sk-text-repr-fallback\"><pre>SGDClassifier(loss=&#x27;log_loss&#x27;, random_state=5)</pre><b>In a Jupyter environment, please rerun this cell to show the HTML representation or trust the notebook. <br />On GitHub, the HTML representation is unable to render, please try loading this page with nbviewer.org.</b></div><div class=\"sk-container\" hidden><div class=\"sk-item\"><div class=\"sk-estimator sk-toggleable\"><input class=\"sk-toggleable__control sk-hidden--visually\" id=\"sk-estimator-id-4\" type=\"checkbox\" checked><label for=\"sk-estimator-id-4\" class=\"sk-toggleable__label sk-toggleable__label-arrow\">SGDClassifier</label><div class=\"sk-toggleable__content\"><pre>SGDClassifier(loss=&#x27;log_loss&#x27;, random_state=5)</pre></div></div></div></div></div>"
     },
     "execution_count": 26,
     "metadata": {},
     "output_type": "execute_result"
    }
   ],
   "source": [
    "import numpy as np\n",
    "\n",
    "lrsgd.partial_fit(xval,yval, np.unique(yval))"
   ],
   "metadata": {
    "collapsed": false,
    "ExecuteTime": {
     "end_time": "2024-03-05T02:14:05.819089Z",
     "start_time": "2024-03-05T02:14:05.322211Z"
    }
   },
   "id": "4e178fde16ca8324",
   "execution_count": 26
  },
  {
   "cell_type": "code",
   "outputs": [],
   "source": [],
   "metadata": {
    "collapsed": false
   },
   "id": "fe0852f95f0a6aca"
  },
  {
   "cell_type": "markdown",
   "source": [
    "5. 학습 모델 성능 평가\n",
    "<hr>\n"
   ],
   "metadata": {
    "collapsed": false
   },
   "id": "bd2c1a06408ee67e"
  },
  {
   "cell_type": "code",
   "outputs": [],
   "source": [
    "#분류모델 성능평가: f1score, accuracy, presision, recall => classification_report\n",
    "\n",
    "from sklearn.metrics import accuracy_score, precision_score, recall_score, f1_score, classification_report\n",
    "from sklearn.metrics import confusion_matrix, ConfusionMatrixDisplay"
   ],
   "metadata": {
    "collapsed": false
   },
   "id": "68d2a749813e0b4a",
   "execution_count": 18
  },
  {
   "cell_type": "code",
   "outputs": [
    {
     "data": {
      "text/plain": "(class\n 1    4719\n 7    4385\n 3    4292\n 2    4171\n 9    4164\n 0    4146\n 6    4143\n 8    4096\n 4    4089\n 5    3795\n Name: count, dtype: int64,\n class\n 1    1135\n 2    1032\n 7    1028\n 3    1010\n 9    1009\n 4     982\n 0     980\n 8     974\n 6     958\n 5     892\n Name: count, dtype: int64)"
     },
     "execution_count": 19,
     "metadata": {},
     "output_type": "execute_result"
    }
   ],
   "source": [
    "#클래스 비율\n",
    "ytrain.value_counts(), ytest.value_counts()"
   ],
   "metadata": {
    "collapsed": false,
    "ExecuteTime": {
     "end_time": "2024-03-05T01:22:57.621721Z",
     "start_time": "2024-03-05T01:22:57.595268Z"
    }
   },
   "id": "ceac2c2724b543a8",
   "execution_count": 19
  },
  {
   "cell_type": "code",
   "outputs": [],
   "source": [],
   "metadata": {
    "collapsed": false,
    "ExecuteTime": {
     "end_time": "2024-03-05T01:22:57.636946Z",
     "start_time": "2024-03-05T01:22:57.625130Z"
    }
   },
   "id": "9f7ad3690fc23335",
   "execution_count": 19
  }
 ],
 "metadata": {
  "kernelspec": {
   "display_name": "Python 3",
   "language": "python",
   "name": "python3"
  },
  "language_info": {
   "codemirror_mode": {
    "name": "ipython",
    "version": 2
   },
   "file_extension": ".py",
   "mimetype": "text/x-python",
   "name": "python",
   "nbconvert_exporter": "python",
   "pygments_lexer": "ipython2",
   "version": "2.7.6"
  }
 },
 "nbformat": 4,
 "nbformat_minor": 5
}
