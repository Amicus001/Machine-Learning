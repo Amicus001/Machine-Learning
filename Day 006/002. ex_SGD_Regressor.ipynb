{
 "cells": [
  {
   "cell_type": "markdown",
   "source": [
    "### 목표 : 미니배치 기반 기계학습 진행 실습\n",
    "- 확률적 경사하강법 기반의 알고리즘 적용 모델\n",
    "- 데이터의 처음부터 끝까지(에포크) 학습 후 가중치(W)와 절편(b) 업데이트 하는 방식에서 에포크를 미니배치 크기만큼 나누어 \n",
    "    학습 후 가중치(W)와 절편(B) 업데이트 진행\n",
    "- 장점\n",
    "    - 온라인 학습(점진적 학습) 가능 = partial fit(): 기존 모델에 추가로 1에포크 학습\n",
    "    - 기존의 다른 모델 대비 속도가 빠름 = 랜덤으로 한 개의 데이터 추출 후 학습 진행\n",
    "    - 조기 학습 중단 설정 가능\n",
    "- 단점\n",
    "    - 전체 학습보다 정확도는 떨어질 수 있음"
   ],
   "metadata": {
    "collapsed": false
   },
   "id": "5f27a91ddf5d5d5c"
  },
  {
   "cell_type": "markdown",
   "source": [
    "1. 모듈 로딩, 데이터 준비\n",
    "<hr>"
   ],
   "metadata": {
    "collapsed": false
   },
   "id": "f74e97ae994a0160"
  },
  {
   "cell_type": "code",
   "outputs": [
    {
     "data": {
      "text/plain": "    Species  Weight  Length  Diagonal   Height   Width\n0     Bream   242.0    25.4      30.0  11.5200  4.0200\n1     Bream   290.0    26.3      31.2  12.4800  4.3056\n2     Bream   340.0    26.5      31.1  12.3778  4.6961\n3     Bream   363.0    29.0      33.5  12.7300  4.4555\n4     Bream   430.0    29.0      34.0  12.4440  5.1340\n..      ...     ...     ...       ...      ...     ...\n154   Smelt    12.2    12.2      13.4   2.0904  1.3936\n155   Smelt    13.4    12.4      13.5   2.4300  1.2690\n156   Smelt    12.2    13.0      13.8   2.2770  1.2558\n157   Smelt    19.7    14.3      15.2   2.8728  2.0672\n158   Smelt    19.9    15.0      16.2   2.9322  1.8792\n\n[159 rows x 6 columns]",
      "text/html": "<div>\n<style scoped>\n    .dataframe tbody tr th:only-of-type {\n        vertical-align: middle;\n    }\n\n    .dataframe tbody tr th {\n        vertical-align: top;\n    }\n\n    .dataframe thead th {\n        text-align: right;\n    }\n</style>\n<table border=\"1\" class=\"dataframe\">\n  <thead>\n    <tr style=\"text-align: right;\">\n      <th></th>\n      <th>Species</th>\n      <th>Weight</th>\n      <th>Length</th>\n      <th>Diagonal</th>\n      <th>Height</th>\n      <th>Width</th>\n    </tr>\n  </thead>\n  <tbody>\n    <tr>\n      <th>0</th>\n      <td>Bream</td>\n      <td>242.0</td>\n      <td>25.4</td>\n      <td>30.0</td>\n      <td>11.5200</td>\n      <td>4.0200</td>\n    </tr>\n    <tr>\n      <th>1</th>\n      <td>Bream</td>\n      <td>290.0</td>\n      <td>26.3</td>\n      <td>31.2</td>\n      <td>12.4800</td>\n      <td>4.3056</td>\n    </tr>\n    <tr>\n      <th>2</th>\n      <td>Bream</td>\n      <td>340.0</td>\n      <td>26.5</td>\n      <td>31.1</td>\n      <td>12.3778</td>\n      <td>4.6961</td>\n    </tr>\n    <tr>\n      <th>3</th>\n      <td>Bream</td>\n      <td>363.0</td>\n      <td>29.0</td>\n      <td>33.5</td>\n      <td>12.7300</td>\n      <td>4.4555</td>\n    </tr>\n    <tr>\n      <th>4</th>\n      <td>Bream</td>\n      <td>430.0</td>\n      <td>29.0</td>\n      <td>34.0</td>\n      <td>12.4440</td>\n      <td>5.1340</td>\n    </tr>\n    <tr>\n      <th>...</th>\n      <td>...</td>\n      <td>...</td>\n      <td>...</td>\n      <td>...</td>\n      <td>...</td>\n      <td>...</td>\n    </tr>\n    <tr>\n      <th>154</th>\n      <td>Smelt</td>\n      <td>12.2</td>\n      <td>12.2</td>\n      <td>13.4</td>\n      <td>2.0904</td>\n      <td>1.3936</td>\n    </tr>\n    <tr>\n      <th>155</th>\n      <td>Smelt</td>\n      <td>13.4</td>\n      <td>12.4</td>\n      <td>13.5</td>\n      <td>2.4300</td>\n      <td>1.2690</td>\n    </tr>\n    <tr>\n      <th>156</th>\n      <td>Smelt</td>\n      <td>12.2</td>\n      <td>13.0</td>\n      <td>13.8</td>\n      <td>2.2770</td>\n      <td>1.2558</td>\n    </tr>\n    <tr>\n      <th>157</th>\n      <td>Smelt</td>\n      <td>19.7</td>\n      <td>14.3</td>\n      <td>15.2</td>\n      <td>2.8728</td>\n      <td>2.0672</td>\n    </tr>\n    <tr>\n      <th>158</th>\n      <td>Smelt</td>\n      <td>19.9</td>\n      <td>15.0</td>\n      <td>16.2</td>\n      <td>2.9322</td>\n      <td>1.8792</td>\n    </tr>\n  </tbody>\n</table>\n<p>159 rows × 6 columns</p>\n</div>"
     },
     "execution_count": 1,
     "metadata": {},
     "output_type": "execute_result"
    }
   ],
   "source": [
    "#module loading\n",
    "import pandas as pd\n",
    "import matplotlib.pyplot as plt\n",
    "\n",
    "data = '../data/fish.csv'\n",
    "fishDF = pd.read_csv(data)\n",
    "fishDF"
   ],
   "metadata": {
    "collapsed": false,
    "ExecuteTime": {
     "end_time": "2024-03-04T07:44:12.670379Z",
     "start_time": "2024-03-04T07:44:11.679732Z"
    }
   },
   "id": "9658b02ca3332c97",
   "execution_count": 1
  },
  {
   "cell_type": "markdown",
   "source": [
    "2. 데이터 전처리: 학습을 위한 가공\n",
    "<hr>"
   ],
   "metadata": {
    "collapsed": false
   },
   "id": "bf1f93832f30dc54"
  },
  {
   "cell_type": "code",
   "outputs": [
    {
     "name": "stdout",
     "output_type": "stream",
     "text": [
      "feature = [     Weight  Length  Diagonal   Height   Width\n",
      "0     242.0    25.4      30.0  11.5200  4.0200\n",
      "1     290.0    26.3      31.2  12.4800  4.3056\n",
      "2     340.0    26.5      31.1  12.3778  4.6961\n",
      "3     363.0    29.0      33.5  12.7300  4.4555\n",
      "4     430.0    29.0      34.0  12.4440  5.1340\n",
      "..      ...     ...       ...      ...     ...\n",
      "154    12.2    12.2      13.4   2.0904  1.3936\n",
      "155    13.4    12.4      13.5   2.4300  1.2690\n",
      "156    12.2    13.0      13.8   2.2770  1.2558\n",
      "157    19.7    14.3      15.2   2.8728  2.0672\n",
      "158    19.9    15.0      16.2   2.9322  1.8792\n",
      "\n",
      "[159 rows x 5 columns]]\n",
      "target = [0      Bream\n",
      "1      Bream\n",
      "2      Bream\n",
      "3      Bream\n",
      "4      Bream\n",
      "       ...  \n",
      "154    Smelt\n",
      "155    Smelt\n",
      "156    Smelt\n",
      "157    Smelt\n",
      "158    Smelt\n",
      "Name: Species, Length: 159, dtype: object]\n",
      "[train data] ; (119, 5), (119,)\n",
      "[test data] ; (40, 5), (40,)\n"
     ]
    }
   ],
   "source": [
    "# 2 - 1. feature / target 분리\n",
    "\n",
    "featureDF = fishDF[fishDF.columns[1:]]\n",
    "targetDF = fishDF['Species']\n",
    "\n",
    "print(f'feature = [{featureDF}]\\ntarget = [{targetDF}]')\n",
    "\n",
    "#2 - 2. 학습 / 테스트용 데이터셋 분리\n",
    "from sklearn.model_selection import train_test_split\n",
    "\n",
    "xtrain, xtest, ytrain, ytest = train_test_split(featureDF, targetDF, stratify=targetDF, random_state=41)\n",
    "\n",
    "print(f'[train data] ; {xtrain.shape}, {ytrain.shape}')\n",
    "print(f'[test data] ; {xtest.shape}, {ytest.shape}')"
   ],
   "metadata": {
    "collapsed": false,
    "ExecuteTime": {
     "end_time": "2024-03-04T07:44:13.525695Z",
     "start_time": "2024-03-04T07:44:12.671894Z"
    }
   },
   "id": "7d87713f534c5366",
   "execution_count": 2
  },
  {
   "cell_type": "code",
   "outputs": [],
   "source": [
    "# 2 - 3. feature scale\n",
    "\n",
    "from sklearn.preprocessing import StandardScaler\n",
    "sdscaler = StandardScaler()\n",
    "\n",
    "#훈련데이터 스케일링\n",
    "sdscaler.fit(xtrain)\n",
    "scaled_xtrain = sdscaler.transform(xtrain)\n",
    "\n",
    "#테스트데이터 스케일링\n",
    "sdscaler.fit(xtest)\n",
    "scaled_xtest = sdscaler.transform(xtest)"
   ],
   "metadata": {
    "collapsed": false,
    "ExecuteTime": {
     "end_time": "2024-03-04T07:44:13.541271Z",
     "start_time": "2024-03-04T07:44:13.526828Z"
    }
   },
   "id": "48bab0ff6f5650a5",
   "execution_count": 3
  },
  {
   "cell_type": "markdown",
   "source": [
    "3. 학습 진행\n",
    "<hr>\n",
    "- 학습 방법: 확률적 경사하강법(SGD) 기반 분류"
   ],
   "metadata": {
    "collapsed": false
   },
   "id": "27d707da6cc05863"
  },
  {
   "cell_type": "code",
   "outputs": [
    {
     "data": {
      "text/plain": "SGDClassifier(alpha=0.01, loss='log_loss', random_state=41)",
      "text/html": "<style>#sk-container-id-4 {color: black;}#sk-container-id-4 pre{padding: 0;}#sk-container-id-4 div.sk-toggleable {background-color: white;}#sk-container-id-4 label.sk-toggleable__label {cursor: pointer;display: block;width: 100%;margin-bottom: 0;padding: 0.3em;box-sizing: border-box;text-align: center;}#sk-container-id-4 label.sk-toggleable__label-arrow:before {content: \"▸\";float: left;margin-right: 0.25em;color: #696969;}#sk-container-id-4 label.sk-toggleable__label-arrow:hover:before {color: black;}#sk-container-id-4 div.sk-estimator:hover label.sk-toggleable__label-arrow:before {color: black;}#sk-container-id-4 div.sk-toggleable__content {max-height: 0;max-width: 0;overflow: hidden;text-align: left;background-color: #f0f8ff;}#sk-container-id-4 div.sk-toggleable__content pre {margin: 0.2em;color: black;border-radius: 0.25em;background-color: #f0f8ff;}#sk-container-id-4 input.sk-toggleable__control:checked~div.sk-toggleable__content {max-height: 200px;max-width: 100%;overflow: auto;}#sk-container-id-4 input.sk-toggleable__control:checked~label.sk-toggleable__label-arrow:before {content: \"▾\";}#sk-container-id-4 div.sk-estimator input.sk-toggleable__control:checked~label.sk-toggleable__label {background-color: #d4ebff;}#sk-container-id-4 div.sk-label input.sk-toggleable__control:checked~label.sk-toggleable__label {background-color: #d4ebff;}#sk-container-id-4 input.sk-hidden--visually {border: 0;clip: rect(1px 1px 1px 1px);clip: rect(1px, 1px, 1px, 1px);height: 1px;margin: -1px;overflow: hidden;padding: 0;position: absolute;width: 1px;}#sk-container-id-4 div.sk-estimator {font-family: monospace;background-color: #f0f8ff;border: 1px dotted black;border-radius: 0.25em;box-sizing: border-box;margin-bottom: 0.5em;}#sk-container-id-4 div.sk-estimator:hover {background-color: #d4ebff;}#sk-container-id-4 div.sk-parallel-item::after {content: \"\";width: 100%;border-bottom: 1px solid gray;flex-grow: 1;}#sk-container-id-4 div.sk-label:hover label.sk-toggleable__label {background-color: #d4ebff;}#sk-container-id-4 div.sk-serial::before {content: \"\";position: absolute;border-left: 1px solid gray;box-sizing: border-box;top: 0;bottom: 0;left: 50%;z-index: 0;}#sk-container-id-4 div.sk-serial {display: flex;flex-direction: column;align-items: center;background-color: white;padding-right: 0.2em;padding-left: 0.2em;position: relative;}#sk-container-id-4 div.sk-item {position: relative;z-index: 1;}#sk-container-id-4 div.sk-parallel {display: flex;align-items: stretch;justify-content: center;background-color: white;position: relative;}#sk-container-id-4 div.sk-item::before, #sk-container-id-4 div.sk-parallel-item::before {content: \"\";position: absolute;border-left: 1px solid gray;box-sizing: border-box;top: 0;bottom: 0;left: 50%;z-index: -1;}#sk-container-id-4 div.sk-parallel-item {display: flex;flex-direction: column;z-index: 1;position: relative;background-color: white;}#sk-container-id-4 div.sk-parallel-item:first-child::after {align-self: flex-end;width: 50%;}#sk-container-id-4 div.sk-parallel-item:last-child::after {align-self: flex-start;width: 50%;}#sk-container-id-4 div.sk-parallel-item:only-child::after {width: 0;}#sk-container-id-4 div.sk-dashed-wrapped {border: 1px dashed gray;margin: 0 0.4em 0.5em 0.4em;box-sizing: border-box;padding-bottom: 0.4em;background-color: white;}#sk-container-id-4 div.sk-label label {font-family: monospace;font-weight: bold;display: inline-block;line-height: 1.2em;}#sk-container-id-4 div.sk-label-container {text-align: center;}#sk-container-id-4 div.sk-container {/* jupyter's `normalize.less` sets `[hidden] { display: none; }` but bootstrap.min.css set `[hidden] { display: none !important; }` so we also need the `!important` here to be able to override the default hidden behavior on the sphinx rendered scikit-learn.org. See: https://github.com/scikit-learn/scikit-learn/issues/21755 */display: inline-block !important;position: relative;}#sk-container-id-4 div.sk-text-repr-fallback {display: none;}</style><div id=\"sk-container-id-4\" class=\"sk-top-container\"><div class=\"sk-text-repr-fallback\"><pre>SGDClassifier(alpha=0.01, loss=&#x27;log_loss&#x27;, random_state=41)</pre><b>In a Jupyter environment, please rerun this cell to show the HTML representation or trust the notebook. <br />On GitHub, the HTML representation is unable to render, please try loading this page with nbviewer.org.</b></div><div class=\"sk-container\" hidden><div class=\"sk-item\"><div class=\"sk-estimator sk-toggleable\"><input class=\"sk-toggleable__control sk-hidden--visually\" id=\"sk-estimator-id-4\" type=\"checkbox\" checked><label for=\"sk-estimator-id-4\" class=\"sk-toggleable__label sk-toggleable__label-arrow\">SGDClassifier</label><div class=\"sk-toggleable__content\"><pre>SGDClassifier(alpha=0.01, loss=&#x27;log_loss&#x27;, random_state=41)</pre></div></div></div></div></div>"
     },
     "execution_count": 14,
     "metadata": {},
     "output_type": "execute_result"
    }
   ],
   "source": [
    "#모델 인스턴스 생성\n",
    "from sklearn.linear_model import SGDClassifier\n",
    "model1 = SGDClassifier(random_state=41, verbose=0, loss= 'log_loss', alpha= 0.01)\n",
    "\n",
    "model1.fit(scaled_xtrain, ytrain)\n"
   ],
   "metadata": {
    "collapsed": false,
    "ExecuteTime": {
     "end_time": "2024-03-04T07:50:53.836406Z",
     "start_time": "2024-03-04T07:50:53.813405Z"
    }
   },
   "id": "6b95a92fd37d64d9",
   "execution_count": 14
  },
  {
   "cell_type": "code",
   "outputs": [
    {
     "name": "stdout",
     "output_type": "stream",
     "text": [
      "[기본 SGD 학습점수] : 0.7983193277310925\n",
      "[테스트 점수]:0.775\n"
     ]
    }
   ],
   "source": [
    "train_score1 = model1.score(scaled_xtrain, ytrain)\n",
    "test_score1 = model1.score(scaled_xtest, ytest)\n",
    "\n",
    "print(f'[기본 SGD 학습점수] : {train_score1}\\n[테스트 점수]:{test_score1}')"
   ],
   "metadata": {
    "collapsed": false,
    "ExecuteTime": {
     "end_time": "2024-03-04T07:50:54.726561Z",
     "start_time": "2024-03-04T07:50:54.708551Z"
    }
   },
   "id": "534b524cb8cc448d",
   "execution_count": 15
  },
  {
   "cell_type": "code",
   "outputs": [
    {
     "name": "stdout",
     "output_type": "stream",
     "text": [
      "n_iter : 197\n"
     ]
    }
   ],
   "source": [
    "#학습 후 설정된 파라미터(모델 파라미터) \n",
    "print(f'n_iter : {model1.n_iter_}')"
   ],
   "metadata": {
    "collapsed": false,
    "ExecuteTime": {
     "end_time": "2024-03-04T07:44:13.650232Z",
     "start_time": "2024-03-04T07:44:13.635220Z"
    }
   },
   "id": "9281ee4d5eff26e8",
   "execution_count": 6
  },
  {
   "cell_type": "markdown",
   "source": [
    "* 1에포크씩 점진적으로 학습 진행: partial_fit()\n",
    "\n"
   ],
   "metadata": {
    "collapsed": false
   },
   "id": "c68a19e3fb22cb29"
  },
  {
   "cell_type": "code",
   "outputs": [
    {
     "data": {
      "text/plain": "SGDClassifier(loss='log_loss')",
      "text/html": "<style>#sk-container-id-2 {color: black;}#sk-container-id-2 pre{padding: 0;}#sk-container-id-2 div.sk-toggleable {background-color: white;}#sk-container-id-2 label.sk-toggleable__label {cursor: pointer;display: block;width: 100%;margin-bottom: 0;padding: 0.3em;box-sizing: border-box;text-align: center;}#sk-container-id-2 label.sk-toggleable__label-arrow:before {content: \"▸\";float: left;margin-right: 0.25em;color: #696969;}#sk-container-id-2 label.sk-toggleable__label-arrow:hover:before {color: black;}#sk-container-id-2 div.sk-estimator:hover label.sk-toggleable__label-arrow:before {color: black;}#sk-container-id-2 div.sk-toggleable__content {max-height: 0;max-width: 0;overflow: hidden;text-align: left;background-color: #f0f8ff;}#sk-container-id-2 div.sk-toggleable__content pre {margin: 0.2em;color: black;border-radius: 0.25em;background-color: #f0f8ff;}#sk-container-id-2 input.sk-toggleable__control:checked~div.sk-toggleable__content {max-height: 200px;max-width: 100%;overflow: auto;}#sk-container-id-2 input.sk-toggleable__control:checked~label.sk-toggleable__label-arrow:before {content: \"▾\";}#sk-container-id-2 div.sk-estimator input.sk-toggleable__control:checked~label.sk-toggleable__label {background-color: #d4ebff;}#sk-container-id-2 div.sk-label input.sk-toggleable__control:checked~label.sk-toggleable__label {background-color: #d4ebff;}#sk-container-id-2 input.sk-hidden--visually {border: 0;clip: rect(1px 1px 1px 1px);clip: rect(1px, 1px, 1px, 1px);height: 1px;margin: -1px;overflow: hidden;padding: 0;position: absolute;width: 1px;}#sk-container-id-2 div.sk-estimator {font-family: monospace;background-color: #f0f8ff;border: 1px dotted black;border-radius: 0.25em;box-sizing: border-box;margin-bottom: 0.5em;}#sk-container-id-2 div.sk-estimator:hover {background-color: #d4ebff;}#sk-container-id-2 div.sk-parallel-item::after {content: \"\";width: 100%;border-bottom: 1px solid gray;flex-grow: 1;}#sk-container-id-2 div.sk-label:hover label.sk-toggleable__label {background-color: #d4ebff;}#sk-container-id-2 div.sk-serial::before {content: \"\";position: absolute;border-left: 1px solid gray;box-sizing: border-box;top: 0;bottom: 0;left: 50%;z-index: 0;}#sk-container-id-2 div.sk-serial {display: flex;flex-direction: column;align-items: center;background-color: white;padding-right: 0.2em;padding-left: 0.2em;position: relative;}#sk-container-id-2 div.sk-item {position: relative;z-index: 1;}#sk-container-id-2 div.sk-parallel {display: flex;align-items: stretch;justify-content: center;background-color: white;position: relative;}#sk-container-id-2 div.sk-item::before, #sk-container-id-2 div.sk-parallel-item::before {content: \"\";position: absolute;border-left: 1px solid gray;box-sizing: border-box;top: 0;bottom: 0;left: 50%;z-index: -1;}#sk-container-id-2 div.sk-parallel-item {display: flex;flex-direction: column;z-index: 1;position: relative;background-color: white;}#sk-container-id-2 div.sk-parallel-item:first-child::after {align-self: flex-end;width: 50%;}#sk-container-id-2 div.sk-parallel-item:last-child::after {align-self: flex-start;width: 50%;}#sk-container-id-2 div.sk-parallel-item:only-child::after {width: 0;}#sk-container-id-2 div.sk-dashed-wrapped {border: 1px dashed gray;margin: 0 0.4em 0.5em 0.4em;box-sizing: border-box;padding-bottom: 0.4em;background-color: white;}#sk-container-id-2 div.sk-label label {font-family: monospace;font-weight: bold;display: inline-block;line-height: 1.2em;}#sk-container-id-2 div.sk-label-container {text-align: center;}#sk-container-id-2 div.sk-container {/* jupyter's `normalize.less` sets `[hidden] { display: none; }` but bootstrap.min.css set `[hidden] { display: none !important; }` so we also need the `!important` here to be able to override the default hidden behavior on the sphinx rendered scikit-learn.org. See: https://github.com/scikit-learn/scikit-learn/issues/21755 */display: inline-block !important;position: relative;}#sk-container-id-2 div.sk-text-repr-fallback {display: none;}</style><div id=\"sk-container-id-2\" class=\"sk-top-container\"><div class=\"sk-text-repr-fallback\"><pre>SGDClassifier(loss=&#x27;log_loss&#x27;)</pre><b>In a Jupyter environment, please rerun this cell to show the HTML representation or trust the notebook. <br />On GitHub, the HTML representation is unable to render, please try loading this page with nbviewer.org.</b></div><div class=\"sk-container\" hidden><div class=\"sk-item\"><div class=\"sk-estimator sk-toggleable\"><input class=\"sk-toggleable__control sk-hidden--visually\" id=\"sk-estimator-id-2\" type=\"checkbox\" checked><label for=\"sk-estimator-id-2\" class=\"sk-toggleable__label sk-toggleable__label-arrow\">SGDClassifier</label><div class=\"sk-toggleable__content\"><pre>SGDClassifier(loss=&#x27;log_loss&#x27;)</pre></div></div></div></div></div>"
     },
     "execution_count": 7,
     "metadata": {},
     "output_type": "execute_result"
    }
   ],
   "source": [
    "#모델 인스턴스 생성\n",
    "\n",
    "model2 = SGDClassifier(loss='log_loss')\n",
    "model2.partial_fit(scaled_xtrain, ytrain,ytrain.unique() )"
   ],
   "metadata": {
    "collapsed": false,
    "ExecuteTime": {
     "end_time": "2024-03-04T07:44:13.665484Z",
     "start_time": "2024-03-04T07:44:13.652241Z"
    }
   },
   "id": "fdedb373f4b007e8",
   "execution_count": 7
  },
  {
   "cell_type": "code",
   "outputs": [],
   "source": [
    "train_score2 = model2.score(scaled_xtrain, ytrain)\n",
    "test_score2 = model2.score(scaled_xtest, ytest)"
   ],
   "metadata": {
    "collapsed": false,
    "ExecuteTime": {
     "end_time": "2024-03-04T07:44:13.680917Z",
     "start_time": "2024-03-04T07:44:13.666475Z"
    }
   },
   "id": "fc225ada94c5aae3",
   "execution_count": 8
  },
  {
   "cell_type": "code",
   "outputs": [
    {
     "name": "stdout",
     "output_type": "stream",
     "text": [
      "[기본 SGD] 학습점수: 0.5714285714285714\n",
      "테스트 점수:0.55\n"
     ]
    }
   ],
   "source": [
    "print(f'[기본 SGD] 학습점수: {train_score2}\\n테스트 점수:{test_score2}')"
   ],
   "metadata": {
    "collapsed": false,
    "ExecuteTime": {
     "end_time": "2024-03-04T07:44:13.696561Z",
     "start_time": "2024-03-04T07:44:13.683916Z"
    }
   },
   "id": "488c67686deeb787",
   "execution_count": 9
  },
  {
   "cell_type": "code",
   "outputs": [
    {
     "name": "stdout",
     "output_type": "stream",
     "text": [
      "1번 학습: \n",
      "[기본 SGD]\n",
      "학습점수: 0.7394957983193278\n",
      "테스트점수: 0.75\n",
      "n = 1\n",
      "2번 학습: \n",
      "[기본 SGD]\n",
      "학습점수: 0.7647058823529411\n",
      "테스트점수: 0.725\n",
      "n = 2\n",
      "3번 학습: \n",
      "[기본 SGD]\n",
      "학습점수: 0.6302521008403361\n",
      "테스트점수: 0.675\n",
      "n = 3\n",
      "4번 학습: \n",
      "[기본 SGD]\n",
      "학습점수: 0.6134453781512605\n",
      "테스트점수: 0.65\n",
      "n = 4\n",
      "5번 학습: \n",
      "[기본 SGD]\n",
      "학습점수: 0.8067226890756303\n",
      "테스트점수: 0.725\n",
      "n = 5\n",
      "6번 학습: \n",
      "[기본 SGD]\n",
      "학습점수: 0.7647058823529411\n",
      "테스트점수: 0.75\n",
      "n = 6\n",
      "7번 학습: \n",
      "[기본 SGD]\n",
      "학습점수: 0.7394957983193278\n",
      "테스트점수: 0.75\n",
      "n = 7\n",
      "8번 학습: \n",
      "[기본 SGD]\n",
      "학습점수: 0.6890756302521008\n",
      "테스트점수: 0.65\n",
      "n = 8\n",
      "9번 학습: \n",
      "[기본 SGD]\n",
      "학습점수: 0.8067226890756303\n",
      "테스트점수: 0.725\n",
      "n = 9\n",
      "10번 학습: \n",
      "[기본 SGD]\n",
      "학습점수: 0.773109243697479\n",
      "테스트점수: 0.75\n",
      "n = 10\n",
      "11번 학습: \n",
      "[기본 SGD]\n",
      "학습점수: 0.8067226890756303\n",
      "테스트점수: 0.75\n",
      "n = 11\n",
      "12번 학습: \n",
      "[기본 SGD]\n",
      "학습점수: 0.8235294117647058\n",
      "테스트점수: 0.725\n",
      "n = 12\n",
      "13번 학습: \n",
      "[기본 SGD]\n",
      "학습점수: 0.7815126050420168\n",
      "테스트점수: 0.75\n",
      "n = 13\n",
      "14번 학습: \n",
      "[기본 SGD]\n",
      "학습점수: 0.7983193277310925\n",
      "테스트점수: 0.75\n",
      "n = 14\n",
      "15번 학습: \n",
      "[기본 SGD]\n",
      "학습점수: 0.8571428571428571\n",
      "테스트점수: 0.85\n",
      "n = 15\n",
      "16번 학습: \n",
      "[기본 SGD]\n",
      "학습점수: 0.680672268907563\n",
      "테스트점수: 0.675\n",
      "n = 16\n",
      "17번 학습: \n",
      "[기본 SGD]\n",
      "학습점수: 0.8403361344537815\n",
      "테스트점수: 0.85\n",
      "n = 17\n",
      "18번 학습: \n",
      "[기본 SGD]\n",
      "학습점수: 0.7310924369747899\n",
      "테스트점수: 0.675\n",
      "n = 18\n",
      "19번 학습: \n",
      "[기본 SGD]\n",
      "학습점수: 0.9159663865546218\n",
      "테스트점수: 0.875\n",
      "n = 19\n",
      "20번 학습: \n",
      "[기본 SGD]\n",
      "학습점수: 0.7478991596638656\n",
      "테스트점수: 0.75\n",
      "n = 20\n",
      "21번 학습: \n",
      "[기본 SGD]\n",
      "학습점수: 0.7563025210084033\n",
      "테스트점수: 0.725\n",
      "n = 21\n",
      "22번 학습: \n",
      "[기본 SGD]\n",
      "학습점수: 0.865546218487395\n",
      "테스트점수: 0.825\n",
      "n = 22\n",
      "23번 학습: \n",
      "[기본 SGD]\n",
      "학습점수: 0.8907563025210085\n",
      "테스트점수: 0.825\n",
      "n = 23\n",
      "24번 학습: \n",
      "[기본 SGD]\n",
      "학습점수: 0.8487394957983193\n",
      "테스트점수: 0.85\n",
      "n = 24\n",
      "25번 학습: \n",
      "[기본 SGD]\n",
      "학습점수: 0.8487394957983193\n",
      "테스트점수: 0.875\n",
      "n = 25\n",
      "26번 학습: \n",
      "[기본 SGD]\n",
      "학습점수: 0.8823529411764706\n",
      "테스트점수: 0.85\n",
      "n = 26\n",
      "27번 학습: \n",
      "[기본 SGD]\n",
      "학습점수: 0.8319327731092437\n",
      "테스트점수: 0.825\n",
      "n = 27\n",
      "28번 학습: \n",
      "[기본 SGD]\n",
      "학습점수: 0.9159663865546218\n",
      "테스트점수: 0.925\n",
      "n = 28\n",
      "29번 학습: \n",
      "[기본 SGD]\n",
      "학습점수: 0.8907563025210085\n",
      "테스트점수: 0.825\n",
      "n = 29\n",
      "30번 학습: \n",
      "[기본 SGD]\n",
      "학습점수: 0.9159663865546218\n",
      "테스트점수: 0.9\n",
      "n = 30\n",
      "31번 학습: \n",
      "[기본 SGD]\n",
      "학습점수: 0.907563025210084\n",
      "테스트점수: 0.9\n",
      "n = 31\n",
      "32번 학습: \n",
      "[기본 SGD]\n",
      "학습점수: 0.7226890756302521\n",
      "테스트점수: 0.7\n",
      "n = 32\n",
      "33번 학습: \n",
      "[기본 SGD]\n",
      "학습점수: 0.8739495798319328\n",
      "테스트점수: 0.875\n",
      "n = 33\n",
      "34번 학습: \n",
      "[기본 SGD]\n",
      "학습점수: 0.8907563025210085\n",
      "테스트점수: 0.8\n",
      "n = 34\n",
      "35번 학습: \n",
      "[기본 SGD]\n",
      "학습점수: 0.907563025210084\n",
      "테스트점수: 0.9\n",
      "n = 35\n",
      "36번 학습: \n",
      "[기본 SGD]\n",
      "학습점수: 0.9411764705882353\n",
      "테스트점수: 0.925\n",
      "n = 36\n",
      "37번 학습: \n",
      "[기본 SGD]\n",
      "학습점수: 0.8487394957983193\n",
      "테스트점수: 0.875\n",
      "n = 37\n",
      "38번 학습: \n",
      "[기본 SGD]\n",
      "학습점수: 0.9243697478991597\n",
      "테스트점수: 0.95\n",
      "n = 38\n",
      "39번 학습: \n",
      "[기본 SGD]\n",
      "학습점수: 0.9159663865546218\n",
      "테스트점수: 0.9\n",
      "n = 39\n",
      "40번 학습: \n",
      "[기본 SGD]\n",
      "학습점수: 0.8487394957983193\n",
      "테스트점수: 0.875\n",
      "n = 40\n",
      "41번 학습: \n",
      "[기본 SGD]\n",
      "학습점수: 0.8739495798319328\n",
      "테스트점수: 0.925\n"
     ]
    }
   ],
   "source": [
    "train_score, test_score = [], []\n",
    "for n in range(1, 100):\n",
    "    model2.partial_fit(scaled_xtrain, ytrain, ytrain.unique())\n",
    "    train_score2 = model2.score(scaled_xtrain,ytrain)\n",
    "    test_score2 = model2.score(scaled_xtest,ytest)\n",
    "    print(f'{n}번 학습: \\n[기본 SGD]\\n학습점수: {model2.score(scaled_xtrain,ytrain)}\\n테스트점수: {model2.score(scaled_xtest,ytest)}')\n",
    "    train_score.append(train_score2)\n",
    "    test_score.append(test_score2)\n",
    "    if (test_score2>= 0.90) and (abs(test_score2 - train_score2) >=0.03):\n",
    "        break\n",
    "    print(f'n = {n}')"
   ],
   "metadata": {
    "collapsed": false,
    "ExecuteTime": {
     "end_time": "2024-03-04T07:44:13.929247Z",
     "start_time": "2024-03-04T07:44:13.697561Z"
    }
   },
   "id": "60cddad3c34d5d9",
   "execution_count": 10
  },
  {
   "cell_type": "code",
   "outputs": [
    {
     "data": {
      "text/plain": "<Figure size 640x480 with 1 Axes>",
      "image/png": "[encoded data removed]"
     },
     "metadata": {},
     "output_type": "display_data"
    }
   ],
   "source": [
    "# 시각화\n",
    "import matplotlib.pyplot as plt\n",
    "plt.plot(train_score, 'b-', label = \"Train\")\n",
    "plt.plot(test_score, 'r-', label = \"Test\")\n",
    "plt.legend()\n",
    "plt.show()"
   ],
   "metadata": {
    "collapsed": false,
    "ExecuteTime": {
     "end_time": "2024-03-04T07:44:14.085229Z",
     "start_time": "2024-03-04T07:44:13.930245Z"
    }
   },
   "id": "29ef61399aa5f839",
   "execution_count": 11
  },
  {
   "cell_type": "code",
   "outputs": [],
   "source": [],
   "metadata": {
    "collapsed": false,
    "ExecuteTime": {
     "end_time": "2024-03-04T07:44:14.100269Z",
     "start_time": "2024-03-04T07:44:14.086725Z"
    }
   },
   "id": "aeb7563c462e2faf",
   "execution_count": 11
  },
  {
   "cell_type": "code",
   "outputs": [],
   "source": [],
   "metadata": {
    "collapsed": false,
    "ExecuteTime": {
     "end_time": "2024-03-04T07:44:14.116067Z",
     "start_time": "2024-03-04T07:44:14.101886Z"
    }
   },
   "id": "468b156461c969e7",
   "execution_count": 11
  }
 ],
 "metadata": {
  "kernelspec": {
   "display_name": "Python 3",
   "language": "python",
   "name": "python3"
  },
  "language_info": {
   "codemirror_mode": {
    "name": "ipython",
    "version": 2
   },
   "file_extension": ".py",
   "mimetype": "text/x-python",
   "name": "python",
   "nbconvert_exporter": "python",
   "pygments_lexer": "ipython2",
   "version": "2.7.6"
  }
 },
 "nbformat": 4,
 "nbformat_minor": 5
}
