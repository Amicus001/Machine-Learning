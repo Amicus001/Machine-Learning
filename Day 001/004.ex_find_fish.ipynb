{
 "cells": [
  {
   "cell_type": "markdown",
   "source": [
    "### 목표: 생선 품종 분류 모델 생성\n",
    "- 데이터  : fish.csv\n",
    "- feature : Weight, Length\n",
    "- target  : Species\n",
    "- 기계학습: 지도학습 + 분류(도미, 빙어 분류는 이진분류)"
   ],
   "metadata": {
    "collapsed": false
   },
   "id": "655287f46baf1fe3"
  },
  {
   "cell_type": "markdown",
   "source": [
    "1. 모듈 로딩, 데이터 준비<hr>"
   ],
   "metadata": {
    "collapsed": false
   },
   "id": "da7d8a5faaeb95d3"
  },
  {
   "cell_type": "code",
   "outputs": [],
   "source": [
    "#분석 모듈 로딩\n",
    "import pandas as pd\n",
    "import matplotlib.pyplot as plt\n"
   ],
   "metadata": {
    "collapsed": false,
    "ExecuteTime": {
     "end_time": "2024-02-23T08:35:05.327313100Z",
     "start_time": "2024-02-23T08:35:05.235236300Z"
    }
   },
   "id": "47c95d8e5056686b",
   "execution_count": 116
  },
  {
   "cell_type": "code",
   "outputs": [],
   "source": [
    "#데이터 파일 설정\n",
    "data = 'data/fish.csv'"
   ],
   "metadata": {
    "collapsed": false,
    "ExecuteTime": {
     "end_time": "2024-02-23T08:35:05.331352700Z",
     "start_time": "2024-02-23T08:35:05.260478Z"
    }
   },
   "id": "6ce871d150d65c6f",
   "execution_count": 117
  },
  {
   "cell_type": "code",
   "outputs": [
    {
     "name": "stdout",
     "output_type": "stream",
     "text": [
      "<class 'pandas.core.frame.DataFrame'>\n",
      "RangeIndex: 159 entries, 0 to 158\n",
      "Data columns (total 3 columns):\n",
      " #   Column   Non-Null Count  Dtype  \n",
      "---  ------   --------------  -----  \n",
      " 0   Species  159 non-null    object \n",
      " 1   Weight   159 non-null    float64\n",
      " 2   Length   159 non-null    float64\n",
      "dtypes: float64(2), object(1)\n",
      "memory usage: 3.9+ KB\n"
     ]
    }
   ],
   "source": [
    "#DF \n",
    "fish = pd.read_csv(data, usecols=[0,1,2])\n",
    "fish.info()"
   ],
   "metadata": {
    "collapsed": false,
    "ExecuteTime": {
     "end_time": "2024-02-23T08:35:05.359349Z",
     "start_time": "2024-02-23T08:35:05.335483400Z"
    }
   },
   "id": "b7ddbf5dce309576",
   "execution_count": 118
  },
  {
   "cell_type": "markdown",
   "source": [
    "2. 데이터 전처리\n",
    "- 결측치, 중복데이터, 이상치"
   ],
   "metadata": {
    "collapsed": false
   },
   "id": "bc3e93fcbfbe86f5"
  },
  {
   "cell_type": "code",
   "outputs": [
    {
     "data": {
      "text/plain": "array([25.4, 26.3, 26.5, 29. , 29.7, 30. , 30.7, 31. , 31.5, 32. , 33. ,\n       33.5, 34. , 34.5, 35. , 36. , 37. , 38.5, 39.5, 41. , 14.1, 18.2,\n       18.8, 19.8, 20. , 20.5, 20.8, 21. , 22. , 22.5, 24. , 23.4, 23.5,\n       25.2, 26. , 27. , 31.7, 28. , 36.4, 40. , 14.7, 15.5, 17.7, 19. ,\n       20.7, 21.5, 23. , 25. ,  8.4, 13.7, 15. , 16.2, 17.4, 18. , 18.7,\n       19.6, 21.3, 22.7, 24.6, 25.6, 27.3, 27.5, 28.7, 32.8, 36.5, 39. ,\n       42. , 43. , 43.5, 44. , 32.3, 37.3, 38. , 42.5, 45. , 46. , 48. ,\n       51.7, 56. , 60. , 63.4,  9.8, 10.5, 10.6, 11. , 11.2, 11.3, 11.8,\n       12. , 12.2, 12.4, 13. , 14.3])"
     },
     "execution_count": 119,
     "metadata": {},
     "output_type": "execute_result"
    }
   ],
   "source": [
    "#컬럼별 고유값으로 이상치 보기=> unique()\n",
    "fish.Species.unique()\n",
    "fish.Weight.unique()\n",
    "fish.Length.unique()"
   ],
   "metadata": {
    "collapsed": false,
    "ExecuteTime": {
     "end_time": "2024-02-23T08:35:05.397575500Z",
     "start_time": "2024-02-23T08:35:05.363875500Z"
    }
   },
   "id": "8948eddfc14b4dd6",
   "execution_count": 119
  },
  {
   "cell_type": "code",
   "outputs": [
    {
     "data": {
      "text/plain": "Species    0\nWeight     0\nLength     0\ndtype: int64"
     },
     "execution_count": 120,
     "metadata": {},
     "output_type": "execute_result"
    }
   ],
   "source": [
    "#결측치 체크: isna() / isnull()\n",
    "fish.isna().sum()\n",
    "fish.isnull().sum()"
   ],
   "metadata": {
    "collapsed": false,
    "ExecuteTime": {
     "end_time": "2024-02-23T08:35:05.438871Z",
     "start_time": "2024-02-23T08:35:05.401753600Z"
    }
   },
   "id": "bc686b88b6630221",
   "execution_count": 120
  },
  {
   "cell_type": "code",
   "outputs": [
    {
     "data": {
      "text/plain": "4"
     },
     "execution_count": 121,
     "metadata": {},
     "output_type": "execute_result"
    }
   ],
   "source": [
    "#중복데이터: duplicated(), \n",
    "fish.duplicated().sum()"
   ],
   "metadata": {
    "collapsed": false,
    "ExecuteTime": {
     "end_time": "2024-02-23T08:35:05.494401200Z",
     "start_time": "2024-02-23T08:35:05.441870200Z"
    }
   },
   "id": "556000f959d9e304",
   "execution_count": 121
  },
  {
   "cell_type": "code",
   "outputs": [
    {
     "name": "stdout",
     "output_type": "stream",
     "text": [
      "  Species  Weight  Length\n",
      "0   Bream   242.0    25.4\n",
      "1   Bream   290.0    26.3\n",
      "2   Bream   340.0    26.5\n",
      "    Species  Weight  Length\n",
      "156   Smelt    12.2    13.0\n",
      "157   Smelt    19.7    14.3\n",
      "158   Smelt    19.9    15.0\n"
     ]
    }
   ],
   "source": [
    "# 'Bream', 'Smelt' 품종 데이터만 추출하기\n",
    "mask = fish.Species .isin(['Bream','Smelt'])\n",
    "fish2 = fish[mask]\n",
    "\n",
    "# 인덱스 리셋: 기존 인덱스 삭제 후 제로베이스 인덱스 설정\n",
    "#scikitlearn 저장세 ndarray로 저장-> 인덱스 정리\n",
    "target = fish2.reset_index(drop = True)\n",
    "\n",
    "print(fish2.head(3), fish2.tail(3), sep='\\n')"
   ],
   "metadata": {
    "collapsed": false,
    "ExecuteTime": {
     "end_time": "2024-02-23T08:35:05.496404900Z",
     "start_time": "2024-02-23T08:35:05.467855900Z"
    }
   },
   "id": "641f28bc4079f35d",
   "execution_count": 122
  },
  {
   "cell_type": "markdown",
   "source": [
    "3. 학습용 데이터 분리: feature + target"
   ],
   "metadata": {
    "collapsed": false
   },
   "id": "9878b9f2ff36b5bf"
  },
  {
   "cell_type": "code",
   "outputs": [
    {
     "data": {
      "text/plain": "   Weight  Length\n0   242.0    25.4\n1   290.0    26.3\n2   340.0    26.5\n3   363.0    29.0\n4   430.0    29.0",
      "text/html": "<div>\n<style scoped>\n    .dataframe tbody tr th:only-of-type {\n        vertical-align: middle;\n    }\n\n    .dataframe tbody tr th {\n        vertical-align: top;\n    }\n\n    .dataframe thead th {\n        text-align: right;\n    }\n</style>\n<table border=\"1\" class=\"dataframe\">\n  <thead>\n    <tr style=\"text-align: right;\">\n      <th></th>\n      <th>Weight</th>\n      <th>Length</th>\n    </tr>\n  </thead>\n  <tbody>\n    <tr>\n      <th>0</th>\n      <td>242.0</td>\n      <td>25.4</td>\n    </tr>\n    <tr>\n      <th>1</th>\n      <td>290.0</td>\n      <td>26.3</td>\n    </tr>\n    <tr>\n      <th>2</th>\n      <td>340.0</td>\n      <td>26.5</td>\n    </tr>\n    <tr>\n      <th>3</th>\n      <td>363.0</td>\n      <td>29.0</td>\n    </tr>\n    <tr>\n      <th>4</th>\n      <td>430.0</td>\n      <td>29.0</td>\n    </tr>\n  </tbody>\n</table>\n</div>"
     },
     "execution_count": 123,
     "metadata": {},
     "output_type": "execute_result"
    }
   ],
   "source": [
    "feature = fish2[fish2.columns[1:]]\n",
    "feature.head()"
   ],
   "metadata": {
    "collapsed": false,
    "ExecuteTime": {
     "end_time": "2024-02-23T08:35:05.533202100Z",
     "start_time": "2024-02-23T08:35:05.483857700Z"
    }
   },
   "id": "f1176dbc98f5f2d5",
   "execution_count": 123
  },
  {
   "cell_type": "code",
   "outputs": [
    {
     "ename": "AttributeError",
     "evalue": "'Index' object has no attribute 'head'",
     "output_type": "error",
     "traceback": [
      "\u001B[1;31m---------------------------------------------------------------------------\u001B[0m",
      "\u001B[1;31mAttributeError\u001B[0m                            Traceback (most recent call last)",
      "Cell \u001B[1;32mIn[124], line 5\u001B[0m\n\u001B[0;32m      3\u001B[0m target \u001B[38;5;241m=\u001B[39m fish2\u001B[38;5;241m.\u001B[39mSpecies\n\u001B[0;32m      4\u001B[0m target \u001B[38;5;241m=\u001B[39m target\u001B[38;5;241m.\u001B[39mindex\n\u001B[1;32m----> 5\u001B[0m \u001B[43mtarget\u001B[49m\u001B[38;5;241;43m.\u001B[39;49m\u001B[43mhead\u001B[49m()\n\u001B[0;32m      7\u001B[0m \u001B[38;5;66;03m#Species 정수형으로 바꾸기: 0,1\u001B[39;00m\n\u001B[0;32m      8\u001B[0m target\u001B[38;5;241m.\u001B[39mreplace({\u001B[38;5;124m'\u001B[39m\u001B[38;5;124mBream\u001B[39m\u001B[38;5;124m'\u001B[39m:\u001B[38;5;241m0\u001B[39m, \u001B[38;5;124m\"\u001B[39m\u001B[38;5;124mSmelt\u001B[39m\u001B[38;5;124m\"\u001B[39m:\u001B[38;5;241m1\u001B[39m})\u001B[38;5;241m.\u001B[39mcopy()\n",
      "\u001B[1;31mAttributeError\u001B[0m: 'Index' object has no attribute 'head'"
     ]
    }
   ],
   "source": [
    "#target 데이터 추출\n",
    "\n",
    "target = fish2.Species\n",
    "target = target.index\n",
    "target.head()\n",
    "\n",
    "#Species 정수형으로 바꾸기: 0,1\n",
    "target.replace({'Bream':0, \"Smelt\":1}).copy()\n",
    "\n",
    "print(target.head(), target.tail())"
   ],
   "metadata": {
    "collapsed": false,
    "ExecuteTime": {
     "end_time": "2024-02-23T08:35:05.597730800Z",
     "start_time": "2024-02-23T08:35:05.499400700Z"
    }
   },
   "id": "f1cd88c33813dce5",
   "execution_count": 124
  },
  {
   "cell_type": "markdown",
   "source": [
    "4. 학습 진행\n",
    "    - 알고리즘 구현 인스턴스 생성=> 지도학습 - 분류 알고리즘 중 선택: KNN\n",
    "    - 학습 진행 메서드: fit() "
   ],
   "metadata": {
    "collapsed": false
   },
   "id": "c7311af532df06cc"
  },
  {
   "cell_type": "code",
   "outputs": [],
   "source": [
    "#모듈 로딩\n",
    "from sklearn.neighbors import KNeighborsClassifier"
   ],
   "metadata": {
    "collapsed": false,
    "ExecuteTime": {
     "start_time": "2024-02-23T08:35:05.526201400Z"
    }
   },
   "id": "64c7c17681123a54",
   "execution_count": null
  },
  {
   "cell_type": "code",
   "outputs": [
    {
     "data": {
      "text/plain": "KNeighborsClassifier()",
      "text/html": "<style>#sk-container-id-9 {color: black;}#sk-container-id-9 pre{padding: 0;}#sk-container-id-9 div.sk-toggleable {background-color: white;}#sk-container-id-9 label.sk-toggleable__label {cursor: pointer;display: block;width: 100%;margin-bottom: 0;padding: 0.3em;box-sizing: border-box;text-align: center;}#sk-container-id-9 label.sk-toggleable__label-arrow:before {content: \"▸\";float: left;margin-right: 0.25em;color: #696969;}#sk-container-id-9 label.sk-toggleable__label-arrow:hover:before {color: black;}#sk-container-id-9 div.sk-estimator:hover label.sk-toggleable__label-arrow:before {color: black;}#sk-container-id-9 div.sk-toggleable__content {max-height: 0;max-width: 0;overflow: hidden;text-align: left;background-color: #f0f8ff;}#sk-container-id-9 div.sk-toggleable__content pre {margin: 0.2em;color: black;border-radius: 0.25em;background-color: #f0f8ff;}#sk-container-id-9 input.sk-toggleable__control:checked~div.sk-toggleable__content {max-height: 200px;max-width: 100%;overflow: auto;}#sk-container-id-9 input.sk-toggleable__control:checked~label.sk-toggleable__label-arrow:before {content: \"▾\";}#sk-container-id-9 div.sk-estimator input.sk-toggleable__control:checked~label.sk-toggleable__label {background-color: #d4ebff;}#sk-container-id-9 div.sk-label input.sk-toggleable__control:checked~label.sk-toggleable__label {background-color: #d4ebff;}#sk-container-id-9 input.sk-hidden--visually {border: 0;clip: rect(1px 1px 1px 1px);clip: rect(1px, 1px, 1px, 1px);height: 1px;margin: -1px;overflow: hidden;padding: 0;position: absolute;width: 1px;}#sk-container-id-9 div.sk-estimator {font-family: monospace;background-color: #f0f8ff;border: 1px dotted black;border-radius: 0.25em;box-sizing: border-box;margin-bottom: 0.5em;}#sk-container-id-9 div.sk-estimator:hover {background-color: #d4ebff;}#sk-container-id-9 div.sk-parallel-item::after {content: \"\";width: 100%;border-bottom: 1px solid gray;flex-grow: 1;}#sk-container-id-9 div.sk-label:hover label.sk-toggleable__label {background-color: #d4ebff;}#sk-container-id-9 div.sk-serial::before {content: \"\";position: absolute;border-left: 1px solid gray;box-sizing: border-box;top: 0;bottom: 0;left: 50%;z-index: 0;}#sk-container-id-9 div.sk-serial {display: flex;flex-direction: column;align-items: center;background-color: white;padding-right: 0.2em;padding-left: 0.2em;position: relative;}#sk-container-id-9 div.sk-item {position: relative;z-index: 1;}#sk-container-id-9 div.sk-parallel {display: flex;align-items: stretch;justify-content: center;background-color: white;position: relative;}#sk-container-id-9 div.sk-item::before, #sk-container-id-9 div.sk-parallel-item::before {content: \"\";position: absolute;border-left: 1px solid gray;box-sizing: border-box;top: 0;bottom: 0;left: 50%;z-index: -1;}#sk-container-id-9 div.sk-parallel-item {display: flex;flex-direction: column;z-index: 1;position: relative;background-color: white;}#sk-container-id-9 div.sk-parallel-item:first-child::after {align-self: flex-end;width: 50%;}#sk-container-id-9 div.sk-parallel-item:last-child::after {align-self: flex-start;width: 50%;}#sk-container-id-9 div.sk-parallel-item:only-child::after {width: 0;}#sk-container-id-9 div.sk-dashed-wrapped {border: 1px dashed gray;margin: 0 0.4em 0.5em 0.4em;box-sizing: border-box;padding-bottom: 0.4em;background-color: white;}#sk-container-id-9 div.sk-label label {font-family: monospace;font-weight: bold;display: inline-block;line-height: 1.2em;}#sk-container-id-9 div.sk-label-container {text-align: center;}#sk-container-id-9 div.sk-container {/* jupyter's `normalize.less` sets `[hidden] { display: none; }` but bootstrap.min.css set `[hidden] { display: none !important; }` so we also need the `!important` here to be able to override the default hidden behavior on the sphinx rendered scikit-learn.org. See: https://github.com/scikit-learn/scikit-learn/issues/21755 */display: inline-block !important;position: relative;}#sk-container-id-9 div.sk-text-repr-fallback {display: none;}</style><div id=\"sk-container-id-9\" class=\"sk-top-container\"><div class=\"sk-text-repr-fallback\"><pre>KNeighborsClassifier()</pre><b>In a Jupyter environment, please rerun this cell to show the HTML representation or trust the notebook. <br />On GitHub, the HTML representation is unable to render, please try loading this page with nbviewer.org.</b></div><div class=\"sk-container\" hidden><div class=\"sk-item\"><div class=\"sk-estimator sk-toggleable\"><input class=\"sk-toggleable__control sk-hidden--visually\" id=\"sk-estimator-id-9\" type=\"checkbox\" checked><label for=\"sk-estimator-id-9\" class=\"sk-toggleable__label sk-toggleable__label-arrow\">KNeighborsClassifier</label><div class=\"sk-toggleable__content\"><pre>KNeighborsClassifier()</pre></div></div></div></div></div>"
     },
     "execution_count": 125,
     "metadata": {},
     "output_type": "execute_result"
    }
   ],
   "source": [
    "# KNN 인스턴스 생성\n",
    "md = KNeighborsClassifier()\n",
    "md"
   ],
   "metadata": {
    "collapsed": false,
    "ExecuteTime": {
     "end_time": "2024-02-23T08:35:05.634914900Z",
     "start_time": "2024-02-23T08:35:05.540201700Z"
    }
   },
   "id": "e8b387b5fd2bb615",
   "execution_count": 125
  },
  {
   "cell_type": "code",
   "outputs": [
    {
     "data": {
      "text/plain": "KNeighborsClassifier()",
      "text/html": "<style>#sk-container-id-10 {color: black;}#sk-container-id-10 pre{padding: 0;}#sk-container-id-10 div.sk-toggleable {background-color: white;}#sk-container-id-10 label.sk-toggleable__label {cursor: pointer;display: block;width: 100%;margin-bottom: 0;padding: 0.3em;box-sizing: border-box;text-align: center;}#sk-container-id-10 label.sk-toggleable__label-arrow:before {content: \"▸\";float: left;margin-right: 0.25em;color: #696969;}#sk-container-id-10 label.sk-toggleable__label-arrow:hover:before {color: black;}#sk-container-id-10 div.sk-estimator:hover label.sk-toggleable__label-arrow:before {color: black;}#sk-container-id-10 div.sk-toggleable__content {max-height: 0;max-width: 0;overflow: hidden;text-align: left;background-color: #f0f8ff;}#sk-container-id-10 div.sk-toggleable__content pre {margin: 0.2em;color: black;border-radius: 0.25em;background-color: #f0f8ff;}#sk-container-id-10 input.sk-toggleable__control:checked~div.sk-toggleable__content {max-height: 200px;max-width: 100%;overflow: auto;}#sk-container-id-10 input.sk-toggleable__control:checked~label.sk-toggleable__label-arrow:before {content: \"▾\";}#sk-container-id-10 div.sk-estimator input.sk-toggleable__control:checked~label.sk-toggleable__label {background-color: #d4ebff;}#sk-container-id-10 div.sk-label input.sk-toggleable__control:checked~label.sk-toggleable__label {background-color: #d4ebff;}#sk-container-id-10 input.sk-hidden--visually {border: 0;clip: rect(1px 1px 1px 1px);clip: rect(1px, 1px, 1px, 1px);height: 1px;margin: -1px;overflow: hidden;padding: 0;position: absolute;width: 1px;}#sk-container-id-10 div.sk-estimator {font-family: monospace;background-color: #f0f8ff;border: 1px dotted black;border-radius: 0.25em;box-sizing: border-box;margin-bottom: 0.5em;}#sk-container-id-10 div.sk-estimator:hover {background-color: #d4ebff;}#sk-container-id-10 div.sk-parallel-item::after {content: \"\";width: 100%;border-bottom: 1px solid gray;flex-grow: 1;}#sk-container-id-10 div.sk-label:hover label.sk-toggleable__label {background-color: #d4ebff;}#sk-container-id-10 div.sk-serial::before {content: \"\";position: absolute;border-left: 1px solid gray;box-sizing: border-box;top: 0;bottom: 0;left: 50%;z-index: 0;}#sk-container-id-10 div.sk-serial {display: flex;flex-direction: column;align-items: center;background-color: white;padding-right: 0.2em;padding-left: 0.2em;position: relative;}#sk-container-id-10 div.sk-item {position: relative;z-index: 1;}#sk-container-id-10 div.sk-parallel {display: flex;align-items: stretch;justify-content: center;background-color: white;position: relative;}#sk-container-id-10 div.sk-item::before, #sk-container-id-10 div.sk-parallel-item::before {content: \"\";position: absolute;border-left: 1px solid gray;box-sizing: border-box;top: 0;bottom: 0;left: 50%;z-index: -1;}#sk-container-id-10 div.sk-parallel-item {display: flex;flex-direction: column;z-index: 1;position: relative;background-color: white;}#sk-container-id-10 div.sk-parallel-item:first-child::after {align-self: flex-end;width: 50%;}#sk-container-id-10 div.sk-parallel-item:last-child::after {align-self: flex-start;width: 50%;}#sk-container-id-10 div.sk-parallel-item:only-child::after {width: 0;}#sk-container-id-10 div.sk-dashed-wrapped {border: 1px dashed gray;margin: 0 0.4em 0.5em 0.4em;box-sizing: border-box;padding-bottom: 0.4em;background-color: white;}#sk-container-id-10 div.sk-label label {font-family: monospace;font-weight: bold;display: inline-block;line-height: 1.2em;}#sk-container-id-10 div.sk-label-container {text-align: center;}#sk-container-id-10 div.sk-container {/* jupyter's `normalize.less` sets `[hidden] { display: none; }` but bootstrap.min.css set `[hidden] { display: none !important; }` so we also need the `!important` here to be able to override the default hidden behavior on the sphinx rendered scikit-learn.org. See: https://github.com/scikit-learn/scikit-learn/issues/21755 */display: inline-block !important;position: relative;}#sk-container-id-10 div.sk-text-repr-fallback {display: none;}</style><div id=\"sk-container-id-10\" class=\"sk-top-container\"><div class=\"sk-text-repr-fallback\"><pre>KNeighborsClassifier()</pre><b>In a Jupyter environment, please rerun this cell to show the HTML representation or trust the notebook. <br />On GitHub, the HTML representation is unable to render, please try loading this page with nbviewer.org.</b></div><div class=\"sk-container\" hidden><div class=\"sk-item\"><div class=\"sk-estimator sk-toggleable\"><input class=\"sk-toggleable__control sk-hidden--visually\" id=\"sk-estimator-id-10\" type=\"checkbox\" checked><label for=\"sk-estimator-id-10\" class=\"sk-toggleable__label sk-toggleable__label-arrow\">KNeighborsClassifier</label><div class=\"sk-toggleable__content\"><pre>KNeighborsClassifier()</pre></div></div></div></div></div>"
     },
     "execution_count": 126,
     "metadata": {},
     "output_type": "execute_result"
    }
   ],
   "source": [
    "# 4-2. 학습\n",
    "md.fit(feature, target)"
   ],
   "metadata": {
    "collapsed": false,
    "ExecuteTime": {
     "end_time": "2024-02-23T08:35:05.668373900Z",
     "start_time": "2024-02-23T08:35:05.605935100Z"
    }
   },
   "id": "f37041dae08f3a78",
   "execution_count": 126
  },
  {
   "cell_type": "code",
   "outputs": [
    {
     "name": "stdout",
     "output_type": "stream",
     "text": [
      "md.attributes [  0   1   2   3   4   5   6   7   8   9  10  11  12  13  14  15  16  17\n",
      "  18  19  20  21  22  23  24  25  26  27  28  29  30  31  32  33  34 145\n",
      " 146 147 148 149 150 151 152 153 154 155 156 157 158]\n",
      "feature_names_in: ['Weight' 'Length']\n",
      "n_reatures_in: 2\n"
     ]
    }
   ],
   "source": [
    "# 학습 후 속성 확인: 속성명_ : 모델 파라미터-> 모델 학습 이후 생성 및 저장됨\n",
    "print('md.attributes', md.classes_)\n",
    "print('feature_names_in:', md.feature_names_in_)\n",
    "print('n_reatures_in:',md.n_features_in_)"
   ],
   "metadata": {
    "collapsed": false,
    "ExecuteTime": {
     "end_time": "2024-02-23T08:35:05.717455100Z",
     "start_time": "2024-02-23T08:35:05.671720200Z"
    }
   },
   "id": "25f5a02b1b2902a5",
   "execution_count": 127
  },
  {
   "cell_type": "markdown",
   "source": [
    "5. 학습 후 검사(test): score()\n",
    "    - 결과: 0.0 (0%) ~ 1.0 (100%)\n",
    "    - 사용 데이터: 학습에 사용하지 않은 데이터\n",
    "    \n"
   ],
   "metadata": {
    "collapsed": false
   },
   "id": "5bba61442aef79f1"
  },
  {
   "cell_type": "code",
   "outputs": [
    {
     "data": {
      "text/plain": "0.20408163265306123"
     },
     "execution_count": 128,
     "metadata": {},
     "output_type": "execute_result"
    }
   ],
   "source": [
    "md.score(feature, target)"
   ],
   "metadata": {
    "collapsed": false,
    "ExecuteTime": {
     "end_time": "2024-02-23T08:35:05.754270300Z",
     "start_time": "2024-02-23T08:35:05.719477800Z"
    }
   },
   "id": "eb2c0182be1ffab2",
   "execution_count": 128
  },
  {
   "cell_type": "markdown",
   "source": [
    "6. 예측: 서비스에 모델 활용 시 사용=> predict(), predict_proba() <- 확률\n",
    "    - 조건: 학습 시 전달된 데이터와 동일한 형태의 데이터 전달"
   ],
   "metadata": {
    "collapsed": false
   },
   "id": "4b662feab46b4d19"
  },
  {
   "cell_type": "code",
   "outputs": [
    {
     "data": {
      "text/plain": "array([154], dtype=int64)"
     },
     "execution_count": 129,
     "metadata": {},
     "output_type": "execute_result"
    }
   ],
   "source": [
    "# [ 무게 , 길이 ]\n",
    "# 학습 시 제공된 데이터와 동일한 형태 제공\n",
    "newdata = pd.DataFrame([[19.9,15]],columns=md.feature_names_in_)\n",
    "pred_y = md.predict(newdata)\n",
    "pred_y"
   ],
   "metadata": {
    "collapsed": false,
    "ExecuteTime": {
     "end_time": "2024-02-23T08:35:05.793300200Z",
     "start_time": "2024-02-23T08:35:05.756269900Z"
    }
   },
   "id": "528e923dacde5420",
   "execution_count": 129
  },
  {
   "cell_type": "code",
   "outputs": [
    {
     "data": {
      "text/plain": "array([[0. , 0. , 0. , 0. , 0. , 0. , 0. , 0. , 0. , 0. , 0. , 0. , 0. ,\n        0. , 0. , 0. , 0. , 0. , 0. , 0. , 0. , 0. , 0. , 0. , 0. , 0. ,\n        0. , 0. , 0. , 0. , 0. , 0. , 0. , 0. , 0. , 0. , 0. , 0. , 0. ,\n        0. , 0. , 0. , 0. , 0. , 0.2, 0.2, 0.2, 0.2, 0.2]])"
     },
     "execution_count": 130,
     "metadata": {},
     "output_type": "execute_result"
    }
   ],
   "source": [
    "#예측 확률\n",
    "md.predict_proba(newdata)"
   ],
   "metadata": {
    "collapsed": false,
    "ExecuteTime": {
     "end_time": "2024-02-23T08:35:05.836709Z",
     "start_time": "2024-02-23T08:35:05.794300600Z"
    }
   },
   "id": "fc7a31e362629fa3",
   "execution_count": 130
  },
  {
   "cell_type": "code",
   "outputs": [],
   "source": [
    "#데이터와 최근접 이웃데이터 찾기: kneighbors()\n",
    "#반환값: 거리, 원소번호\n",
    "dis, ind = md.kneighbors(newdata)\n",
    "\n",
    "# K개의 최근접 이웃 데이터만 저장\n",
    "kneighDF=feature.iloc[ind.tolist()[0]]\n"
   ],
   "metadata": {
    "collapsed": false,
    "ExecuteTime": {
     "end_time": "2024-02-23T08:35:05.838724200Z",
     "start_time": "2024-02-23T08:35:05.815968200Z"
    }
   },
   "id": "86e0d72983a8b3dc",
   "execution_count": 131
  },
  {
   "cell_type": "code",
   "outputs": [
    {
     "data": {
      "text/plain": "<Axes: title={'center': 'Weight&Height'}, xlabel='Weight', ylabel='Length'>"
     },
     "execution_count": 132,
     "metadata": {},
     "output_type": "execute_result"
    },
    {
     "data": {
      "text/plain": "<Figure size 640x480 with 1 Axes>",
      "image/png": "[encoded data removed]"
     },
     "metadata": {},
     "output_type": "display_data"
    }
   ],
   "source": [
    "#시각화\n",
    "#pandas 활용 Series, DF plot()\n",
    "colormap=['orange','blue']\n",
    "#feature.plot(kind = 'scatter', x = 'Weight', y = 'Length')\n",
    "#feature.plot(kind = 'scatter', x = newdata.Length, y = newdata.Weight, c= 'violet' )\n",
    "feature.plot(kind='scatter', x='Weight', y='Length', color='royalblue',title= 'Weight&Height' , legend = True)"
   ],
   "metadata": {
    "collapsed": false,
    "ExecuteTime": {
     "end_time": "2024-02-23T08:35:05.995403700Z",
     "start_time": "2024-02-23T08:35:05.842707700Z"
    }
   },
   "id": "f9b44a3e0d050e8a",
   "execution_count": 132
  },
  {
   "cell_type": "code",
   "outputs": [],
   "source": [
    "import matplotlib.pyplot as plt"
   ],
   "metadata": {
    "collapsed": false,
    "ExecuteTime": {
     "end_time": "2024-02-23T08:35:06.044410400Z",
     "start_time": "2024-02-23T08:35:05.998432900Z"
    }
   },
   "id": "fdaa75c4fa82de31",
   "execution_count": 133
  },
  {
   "cell_type": "code",
   "outputs": [
    {
     "data": {
      "text/plain": "<Figure size 640x480 with 1 Axes>",
      "image/png": "[encoded data removed]"
     },
     "metadata": {},
     "output_type": "display_data"
    }
   ],
   "source": [
    "plt.scatter(x=feature.Weight, y=feature.Length)\n",
    "\n",
    "plt.plot(newdata.Weight[0], newdata.Length[0], 'ro')\n",
    "\n",
    "plt.plot(kneighDF.Weight, kneighDF.Length, 'g^-')\n",
    "\n",
    "plt.show()"
   ],
   "metadata": {
    "collapsed": false,
    "ExecuteTime": {
     "end_time": "2024-02-23T08:35:06.133162200Z",
     "start_time": "2024-02-23T08:35:06.012280300Z"
    }
   },
   "id": "2f1f0a5ab01e07d7",
   "execution_count": 134
  },
  {
   "cell_type": "code",
   "outputs": [],
   "source": [],
   "metadata": {
    "collapsed": false,
    "ExecuteTime": {
     "end_time": "2024-02-23T08:35:06.176312200Z",
     "start_time": "2024-02-23T08:35:06.135802500Z"
    }
   },
   "id": "fb47ac6e50dc87ce",
   "execution_count": 134
  }
 ],
 "metadata": {
  "kernelspec": {
   "display_name": "Python 3",
   "language": "python",
   "name": "python3"
  },
  "language_info": {
   "codemirror_mode": {
    "name": "ipython",
    "version": 2
   },
   "file_extension": ".py",
   "mimetype": "text/x-python",
   "name": "python",
   "nbconvert_exporter": "python",
   "pygments_lexer": "ipython2",
   "version": "2.7.6"
  }
 },
 "nbformat": 4,
 "nbformat_minor": 5
}
