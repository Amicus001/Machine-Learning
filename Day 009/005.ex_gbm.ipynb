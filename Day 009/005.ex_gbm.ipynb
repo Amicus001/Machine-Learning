{
 "cells": [
  {
   "cell_type": "markdown",
   "source": [
    "## GRADIENT BOOSTING ENSEMBLE MODEL\n",
    "- XGBoost, LightGBM\n",
    "- 추가 설치, 사용법 숙지 필요\n"
   ],
   "metadata": {
    "collapsed": false
   },
   "id": "212013e5caf81870"
  },
  {
   "cell_type": "markdown",
   "source": [
    "- 설치여부 확인"
   ],
   "metadata": {
    "collapsed": false
   },
   "id": "63cf05980954ac26"
  },
  {
   "cell_type": "code",
   "outputs": [
    {
     "name": "stdout",
     "output_type": "stream",
     "text": [
      "1.7.3\n",
      "4.1.0\n"
     ]
    }
   ],
   "source": [
    "import xgboost as xgb, lightgbm\n",
    "import pandas as pd\n",
    "import numpy as np\n",
    "print(xgb.__version__)\n",
    "print(lightgbm.__version__)"
   ],
   "metadata": {
    "collapsed": false,
    "ExecuteTime": {
     "end_time": "2024-03-07T07:27:13.580690Z",
     "start_time": "2024-03-07T07:27:13.568691Z"
    }
   },
   "id": "59034a14c6f9134c",
   "execution_count": 32
  },
  {
   "cell_type": "markdown",
   "source": [
    "1. 모듈 로딩, 데이터 준비\n",
    "<hr>"
   ],
   "metadata": {
    "collapsed": false
   },
   "id": "980393098f663741"
  },
  {
   "cell_type": "code",
   "outputs": [],
   "source": [
    "# datafile variable\n",
    "feature_name_file = '../data/features.txt'\n",
    "label_file = '../data/activity_labels.txt'\n",
    "\n",
    "xtrain = '../data/train/X_train.txt'\n",
    "ytrain = '../data/train/y_train.txt'\n",
    "\n",
    "xtest = '../data/test/X_test.txt'\n",
    "ytest = '../data/test/y_test.txt'"
   ],
   "metadata": {
    "collapsed": false,
    "ExecuteTime": {
     "end_time": "2024-03-07T07:27:13.596404Z",
     "start_time": "2024-03-07T07:27:13.583171Z"
    }
   },
   "id": "358b393e2158765c",
   "execution_count": 33
  },
  {
   "cell_type": "code",
   "outputs": [],
   "source": [
    "## data loading\n",
    "featurename = pd.read_csv(feature_name_file, sep= '\\s+', header=None, names=['col_id', 'col_name'])"
   ],
   "metadata": {
    "collapsed": false,
    "ExecuteTime": {
     "end_time": "2024-03-07T07:27:13.611984Z",
     "start_time": "2024-03-07T07:27:13.597403Z"
    }
   },
   "id": "4d9db7f486d280cd",
   "execution_count": 34
  },
  {
   "cell_type": "code",
   "outputs": [
    {
     "name": "stdout",
     "output_type": "stream",
     "text": [
      "<class 'pandas.core.frame.DataFrame'>\n",
      "RangeIndex: 561 entries, 0 to 560\n",
      "Data columns (total 2 columns):\n",
      " #   Column    Non-Null Count  Dtype \n",
      "---  ------    --------------  ----- \n",
      " 0   col_id    561 non-null    int64 \n",
      " 1   col_name  561 non-null    object\n",
      "dtypes: int64(1), object(1)\n",
      "memory usage: 8.9+ KB\n"
     ]
    }
   ],
   "source": [
    "featurename.info()"
   ],
   "metadata": {
    "collapsed": false,
    "ExecuteTime": {
     "end_time": "2024-03-07T07:27:13.627457Z",
     "start_time": "2024-03-07T07:27:13.612987Z"
    }
   },
   "id": "557831cb0a73c777",
   "execution_count": 35
  },
  {
   "cell_type": "code",
   "outputs": [
    {
     "data": {
      "text/plain": "84"
     },
     "execution_count": 36,
     "metadata": {},
     "output_type": "execute_result"
    }
   ],
   "source": [
    "#중복체크\n",
    "featurename.col_name.duplicated().sum()"
   ],
   "metadata": {
    "collapsed": false,
    "ExecuteTime": {
     "end_time": "2024-03-07T07:27:13.644036Z",
     "start_time": "2024-03-07T07:27:13.629501Z"
    }
   },
   "id": "57feedfc82ee5de4",
   "execution_count": 36
  },
  {
   "cell_type": "code",
   "outputs": [
    {
     "name": "stdout",
     "output_type": "stream",
     "text": [
      "<class 'pandas.core.frame.DataFrame'>\n",
      "RangeIndex: 7352 entries, 0 to 7351\n",
      "Columns: 561 entries, 0 to 560\n",
      "dtypes: float64(561)\n",
      "memory usage: 31.5 MB\n",
      "           0         1         2         3         4         5         6    \\\n",
      "0     0.288585 -0.020294 -0.132905 -0.995279 -0.983111 -0.913526 -0.995112   \n",
      "1     0.278419 -0.016411 -0.123520 -0.998245 -0.975300 -0.960322 -0.998807   \n",
      "2     0.279653 -0.019467 -0.113462 -0.995380 -0.967187 -0.978944 -0.996520   \n",
      "3     0.279174 -0.026201 -0.123283 -0.996091 -0.983403 -0.990675 -0.997099   \n",
      "4     0.276629 -0.016570 -0.115362 -0.998139 -0.980817 -0.990482 -0.998321   \n",
      "...        ...       ...       ...       ...       ...       ...       ...   \n",
      "7347  0.299665 -0.057193 -0.181233 -0.195387  0.039905  0.077078 -0.282301   \n",
      "7348  0.273853 -0.007749 -0.147468 -0.235309  0.004816  0.059280 -0.322552   \n",
      "7349  0.273387 -0.017011 -0.045022 -0.218218 -0.103822  0.274533 -0.304515   \n",
      "7350  0.289654 -0.018843 -0.158281 -0.219139 -0.111412  0.268893 -0.310487   \n",
      "7351  0.351503 -0.012423 -0.203867 -0.269270 -0.087212  0.177404 -0.377404   \n",
      "\n",
      "           7         8         9    ...       551       552       553  \\\n",
      "0    -0.983185 -0.923527 -0.934724  ... -0.074323 -0.298676 -0.710304   \n",
      "1    -0.974914 -0.957686 -0.943068  ...  0.158075 -0.595051 -0.861499   \n",
      "2    -0.963668 -0.977469 -0.938692  ...  0.414503 -0.390748 -0.760104   \n",
      "3    -0.982750 -0.989302 -0.938692  ...  0.404573 -0.117290 -0.482845   \n",
      "4    -0.979672 -0.990441 -0.942469  ...  0.087753 -0.351471 -0.699205   \n",
      "...        ...       ...       ...  ...       ...       ...       ...   \n",
      "7347  0.043616  0.060410  0.210795  ... -0.070157 -0.588433 -0.880324   \n",
      "7348 -0.029456  0.080585  0.117440  ...  0.165259 -0.390738 -0.680744   \n",
      "7349 -0.098913  0.332584  0.043999  ...  0.195034  0.025145 -0.304029   \n",
      "7350 -0.068200  0.319473  0.101702  ...  0.013865  0.063907 -0.344314   \n",
      "7351 -0.038678  0.229430  0.269013  ... -0.058402 -0.387052 -0.740738   \n",
      "\n",
      "           554       555       556       557       558       559       560  \n",
      "0    -0.112754  0.030400 -0.464761 -0.018446 -0.841247  0.179941 -0.058627  \n",
      "1     0.053477 -0.007435 -0.732626  0.703511 -0.844788  0.180289 -0.054317  \n",
      "2    -0.118559  0.177899  0.100699  0.808529 -0.848933  0.180637 -0.049118  \n",
      "3    -0.036788 -0.012892  0.640011 -0.485366 -0.848649  0.181935 -0.047663  \n",
      "4     0.123320  0.122542  0.693578 -0.615971 -0.847865  0.185151 -0.043892  \n",
      "...        ...       ...       ...       ...       ...       ...       ...  \n",
      "7347 -0.190437  0.829718  0.206972 -0.425619 -0.791883  0.238604  0.049819  \n",
      "7348  0.064907  0.875679 -0.879033  0.400219 -0.771840  0.252676  0.050053  \n",
      "7349  0.052806 -0.266724  0.864404  0.701169 -0.779133  0.249145  0.040811  \n",
      "7350 -0.101360  0.700740  0.936674 -0.589479 -0.785181  0.246432  0.025339  \n",
      "7351 -0.280088 -0.007739 -0.056088 -0.616956 -0.783267  0.246809  0.036695  \n",
      "\n",
      "[7268 rows x 561 columns]\n",
      "       0                                     1\n",
      "0      1                     tBodyAcc-mean()-X\n",
      "1      2                     tBodyAcc-mean()-Y\n",
      "2      3                     tBodyAcc-mean()-Z\n",
      "3      4                      tBodyAcc-std()-X\n",
      "4      5                      tBodyAcc-std()-Y\n",
      "..   ...                                   ...\n",
      "472  557      angle(tBodyGyroMean,gravityMean)\n",
      "473  558  angle(tBodyGyroJerkMean,gravityMean)\n",
      "474  559                  angle(X,gravityMean)\n",
      "475  560                  angle(Y,gravityMean)\n",
      "476  561                  angle(Z,gravityMean)\n",
      "\n",
      "[477 rows x 2 columns]\n"
     ]
    }
   ],
   "source": [
    "# 중복값만 필터링 --> 인덱스 추출 -> 리스트에 담기\n",
    "dropIdx = featurename[featurename['col_name'].duplicated()].index\n",
    "featurename = pd.read_csv(feature_name_file, sep='\\s+', header = None)\n",
    "\n",
    "\n",
    "xtestDF = pd.read_csv(xtest, sep='\\s+', header=None)\n",
    "\n",
    "xtestDF = xtestDF.drop(dropIdx)\n",
    "# 학습 데이터 로딩.\n",
    "xtrainDF = pd.read_csv(xtrain, sep='\\s+', header = None)\n",
    "xtrainDF.info()\n",
    "\n",
    "xtrainDF = xtrainDF.drop(dropIdx)\n",
    "print(xtrainDF)\n",
    "\n",
    "featurename = featurename.drop(dropIdx)\n",
    "featurename.reset_index(drop=True, inplace=True)\n",
    "print(featurename)"
   ],
   "metadata": {
    "collapsed": false,
    "ExecuteTime": {
     "end_time": "2024-03-07T07:27:16.376123Z",
     "start_time": "2024-03-07T07:27:13.645577Z"
    }
   },
   "id": "90a7758a5643c0d5",
   "execution_count": 37
  },
  {
   "cell_type": "code",
   "outputs": [
    {
     "name": "stdout",
     "output_type": "stream",
     "text": [
      "<class 'pandas.core.frame.DataFrame'>\n",
      "Index: 2863 entries, 0 to 2946\n",
      "Columns: 561 entries, 0 to 560\n",
      "dtypes: float64(561)\n",
      "memory usage: 12.3 MB\n"
     ]
    }
   ],
   "source": [
    "xtestDF.info()"
   ],
   "metadata": {
    "collapsed": false,
    "ExecuteTime": {
     "end_time": "2024-03-07T07:27:31.206557Z",
     "start_time": "2024-03-07T07:27:31.186558Z"
    }
   },
   "id": "6bd365de2b3f1cea",
   "execution_count": 40
  },
  {
   "cell_type": "code",
   "outputs": [],
   "source": [
    "# data load\n",
    "xtrain = pd.read_csv(xtrain, sep='\\s+')"
   ],
   "metadata": {
    "collapsed": false,
    "ExecuteTime": {
     "end_time": "2024-03-07T07:27:18.246870Z",
     "start_time": "2024-03-07T07:27:16.377565Z"
    }
   },
   "id": "7d5383f16a4609fd",
   "execution_count": 38
  }
 ],
 "metadata": {
  "kernelspec": {
   "display_name": "Python 3",
   "language": "python",
   "name": "python3"
  },
  "language_info": {
   "codemirror_mode": {
    "name": "ipython",
    "version": 2
   },
   "file_extension": ".py",
   "mimetype": "text/x-python",
   "name": "python",
   "nbconvert_exporter": "python",
   "pygments_lexer": "ipython2",
   "version": "2.7.6"
  }
 },
 "nbformat": 4,
 "nbformat_minor": 5
}
