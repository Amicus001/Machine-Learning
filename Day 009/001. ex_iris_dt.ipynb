{
 "cells": [
  {
   "cell_type": "markdown",
   "source": [
    "### 의사결정나무: DT\n",
    "- if - else방식의 질문에 대한 답변으로 문제를 해결하는 알고리즘\n",
    "- feature(특성) 중에서 선택한 기준으로 데이터 분할\n",
    "    * 엔트로피(불순도) ⇒ 낮아지는 방향\n",
    "    * 정보 이득: 1 - 엔트로피 ⇒ 높아지는 방향\n",
    "    * 지니 계수: 불평등수치값 ⇒ 낮아지는 방향\n",
    "- 단점 : 과대적합 가능성 높음, 성능 좋지 못함\n",
    "        ⇒약분류기\n",
    "- 장점 ; 전처리의 영향을 받지 않음, 직관성 높음, feature중 주요 feature 확인 가능\n",
    "- 주의 : \n",
    "    - 여기서의 주요 feature는 데이터 분할을 위한 주요 feature\n",
    "    - 100 % 데이터의 주요 feature가 아닐 가능성 있음 ⇒ 다른 검사(상관계수, 시각화 등)와 함께 평가 "
   ],
   "metadata": {
    "collapsed": false
   },
   "id": "84eb8757b69a2015"
  },
  {
   "cell_type": "markdown",
   "source": [
    "1. 모듈 로딩 및 데이터 준비"
   ],
   "metadata": {
    "collapsed": false
   },
   "id": "d7b2913c385bb00d"
  },
  {
   "cell_type": "code",
   "outputs": [],
   "source": [
    "import pandas as pd\n",
    "import matplotlib.pyplot as plt\n"
   ],
   "metadata": {
    "collapsed": false,
    "ExecuteTime": {
     "end_time": "2024-03-07T01:19:55.348108Z",
     "start_time": "2024-03-07T01:19:54.663500Z"
    }
   },
   "id": "eba2bf818da9c358",
   "execution_count": 1
  },
  {
   "cell_type": "code",
   "outputs": [],
   "source": [
    "iris = pd.read_csv('../data/iris.csv')"
   ],
   "metadata": {
    "collapsed": false,
    "ExecuteTime": {
     "end_time": "2024-03-07T01:19:55.363563Z",
     "start_time": "2024-03-07T01:19:55.350374Z"
    }
   },
   "id": "dc8017eb059ccf3e",
   "execution_count": 2
  },
  {
   "cell_type": "markdown",
   "source": [
    "2. 학습용 데이터셋 준비"
   ],
   "metadata": {
    "collapsed": false
   },
   "id": "c76b9d2a40f683e3"
  },
  {
   "cell_type": "code",
   "outputs": [],
   "source": [
    "# 2 - 1. feature, target 분리\n",
    "feature = iris[iris.columns[:3]]\n",
    "target = iris[iris.columns[4]]"
   ],
   "metadata": {
    "collapsed": false,
    "ExecuteTime": {
     "end_time": "2024-03-07T01:19:55.379601Z",
     "start_time": "2024-03-07T01:19:55.364565Z"
    }
   },
   "id": "59971da17f32319e",
   "execution_count": 3
  },
  {
   "cell_type": "code",
   "outputs": [],
   "source": [
    "#2 - 2. 훈련용 / 테스트용 데이터셋 분리\n",
    "\n",
    "from sklearn.model_selection import train_test_split"
   ],
   "metadata": {
    "collapsed": false,
    "ExecuteTime": {
     "end_time": "2024-03-07T01:19:55.943894Z",
     "start_time": "2024-03-07T01:19:55.380601Z"
    }
   },
   "id": "789cdbdc56954364",
   "execution_count": 4
  },
  {
   "cell_type": "code",
   "outputs": [],
   "source": [
    "xtrain, xtest, ytrain, ytest = train_test_split(feature, target, test_size=0.2, stratify= target)"
   ],
   "metadata": {
    "collapsed": false,
    "ExecuteTime": {
     "end_time": "2024-03-07T01:19:55.959902Z",
     "start_time": "2024-03-07T01:19:55.944883Z"
    }
   },
   "id": "247fcdb147021530",
   "execution_count": 5
  },
  {
   "cell_type": "markdown",
   "source": [
    "3. 기계학습 진행\n",
    "- 타겟 데이터 확인 결과 : 3개 분류\n",
    "- 학습유형 ; 지도학습 + 분류\n",
    "    - 알고리즘 : KNN, LogisticRegression, SVM - SVC, DecisionTree"
   ],
   "metadata": {
    "collapsed": false
   },
   "id": "13297151cddf7af9"
  },
  {
   "cell_type": "markdown",
   "source": [
    "3 - 1. 의사 결정 알고리즘으로 분류하기"
   ],
   "metadata": {
    "collapsed": false
   },
   "id": "82ad67d4c04e5521"
  },
  {
   "cell_type": "code",
   "outputs": [],
   "source": [
    "from sklearn.tree import DecisionTreeClassifier"
   ],
   "metadata": {
    "collapsed": false,
    "ExecuteTime": {
     "end_time": "2024-03-07T01:19:56.054799Z",
     "start_time": "2024-03-07T01:19:55.961903Z"
    }
   },
   "id": "c18d6ca053c02c10",
   "execution_count": 6
  },
  {
   "cell_type": "code",
   "outputs": [
    {
     "data": {
      "text/plain": "DecisionTreeClassifier()",
      "text/html": "<style>#sk-container-id-1 {color: black;}#sk-container-id-1 pre{padding: 0;}#sk-container-id-1 div.sk-toggleable {background-color: white;}#sk-container-id-1 label.sk-toggleable__label {cursor: pointer;display: block;width: 100%;margin-bottom: 0;padding: 0.3em;box-sizing: border-box;text-align: center;}#sk-container-id-1 label.sk-toggleable__label-arrow:before {content: \"▸\";float: left;margin-right: 0.25em;color: #696969;}#sk-container-id-1 label.sk-toggleable__label-arrow:hover:before {color: black;}#sk-container-id-1 div.sk-estimator:hover label.sk-toggleable__label-arrow:before {color: black;}#sk-container-id-1 div.sk-toggleable__content {max-height: 0;max-width: 0;overflow: hidden;text-align: left;background-color: #f0f8ff;}#sk-container-id-1 div.sk-toggleable__content pre {margin: 0.2em;color: black;border-radius: 0.25em;background-color: #f0f8ff;}#sk-container-id-1 input.sk-toggleable__control:checked~div.sk-toggleable__content {max-height: 200px;max-width: 100%;overflow: auto;}#sk-container-id-1 input.sk-toggleable__control:checked~label.sk-toggleable__label-arrow:before {content: \"▾\";}#sk-container-id-1 div.sk-estimator input.sk-toggleable__control:checked~label.sk-toggleable__label {background-color: #d4ebff;}#sk-container-id-1 div.sk-label input.sk-toggleable__control:checked~label.sk-toggleable__label {background-color: #d4ebff;}#sk-container-id-1 input.sk-hidden--visually {border: 0;clip: rect(1px 1px 1px 1px);clip: rect(1px, 1px, 1px, 1px);height: 1px;margin: -1px;overflow: hidden;padding: 0;position: absolute;width: 1px;}#sk-container-id-1 div.sk-estimator {font-family: monospace;background-color: #f0f8ff;border: 1px dotted black;border-radius: 0.25em;box-sizing: border-box;margin-bottom: 0.5em;}#sk-container-id-1 div.sk-estimator:hover {background-color: #d4ebff;}#sk-container-id-1 div.sk-parallel-item::after {content: \"\";width: 100%;border-bottom: 1px solid gray;flex-grow: 1;}#sk-container-id-1 div.sk-label:hover label.sk-toggleable__label {background-color: #d4ebff;}#sk-container-id-1 div.sk-serial::before {content: \"\";position: absolute;border-left: 1px solid gray;box-sizing: border-box;top: 0;bottom: 0;left: 50%;z-index: 0;}#sk-container-id-1 div.sk-serial {display: flex;flex-direction: column;align-items: center;background-color: white;padding-right: 0.2em;padding-left: 0.2em;position: relative;}#sk-container-id-1 div.sk-item {position: relative;z-index: 1;}#sk-container-id-1 div.sk-parallel {display: flex;align-items: stretch;justify-content: center;background-color: white;position: relative;}#sk-container-id-1 div.sk-item::before, #sk-container-id-1 div.sk-parallel-item::before {content: \"\";position: absolute;border-left: 1px solid gray;box-sizing: border-box;top: 0;bottom: 0;left: 50%;z-index: -1;}#sk-container-id-1 div.sk-parallel-item {display: flex;flex-direction: column;z-index: 1;position: relative;background-color: white;}#sk-container-id-1 div.sk-parallel-item:first-child::after {align-self: flex-end;width: 50%;}#sk-container-id-1 div.sk-parallel-item:last-child::after {align-self: flex-start;width: 50%;}#sk-container-id-1 div.sk-parallel-item:only-child::after {width: 0;}#sk-container-id-1 div.sk-dashed-wrapped {border: 1px dashed gray;margin: 0 0.4em 0.5em 0.4em;box-sizing: border-box;padding-bottom: 0.4em;background-color: white;}#sk-container-id-1 div.sk-label label {font-family: monospace;font-weight: bold;display: inline-block;line-height: 1.2em;}#sk-container-id-1 div.sk-label-container {text-align: center;}#sk-container-id-1 div.sk-container {/* jupyter's `normalize.less` sets `[hidden] { display: none; }` but bootstrap.min.css set `[hidden] { display: none !important; }` so we also need the `!important` here to be able to override the default hidden behavior on the sphinx rendered scikit-learn.org. See: https://github.com/scikit-learn/scikit-learn/issues/21755 */display: inline-block !important;position: relative;}#sk-container-id-1 div.sk-text-repr-fallback {display: none;}</style><div id=\"sk-container-id-1\" class=\"sk-top-container\"><div class=\"sk-text-repr-fallback\"><pre>DecisionTreeClassifier()</pre><b>In a Jupyter environment, please rerun this cell to show the HTML representation or trust the notebook. <br />On GitHub, the HTML representation is unable to render, please try loading this page with nbviewer.org.</b></div><div class=\"sk-container\" hidden><div class=\"sk-item\"><div class=\"sk-estimator sk-toggleable\"><input class=\"sk-toggleable__control sk-hidden--visually\" id=\"sk-estimator-id-1\" type=\"checkbox\" checked><label for=\"sk-estimator-id-1\" class=\"sk-toggleable__label sk-toggleable__label-arrow\">DecisionTreeClassifier</label><div class=\"sk-toggleable__content\"><pre>DecisionTreeClassifier()</pre></div></div></div></div></div>"
     },
     "execution_count": 7,
     "metadata": {},
     "output_type": "execute_result"
    }
   ],
   "source": [
    "md = DecisionTreeClassifier()\n",
    "md.fit(xtrain, ytrain)"
   ],
   "metadata": {
    "collapsed": false,
    "ExecuteTime": {
     "end_time": "2024-03-07T01:19:56.070790Z",
     "start_time": "2024-03-07T01:19:56.055791Z"
    }
   },
   "id": "d971623412177698",
   "execution_count": 7
  },
  {
   "cell_type": "code",
   "outputs": [],
   "source": [
    "# 생성된 모델구조 시각화\n",
    "from sklearn.tree import export_graphviz"
   ],
   "metadata": {
    "collapsed": false,
    "ExecuteTime": {
     "end_time": "2024-03-07T01:19:56.086830Z",
     "start_time": "2024-03-07T01:19:56.071790Z"
    }
   },
   "id": "91f38350a36c1b72",
   "execution_count": 8
  },
  {
   "cell_type": "code",
   "outputs": [],
   "source": [
    "export_graphviz(md, 'iris_dt_md.txt')\n",
    "export_graphviz(md, 'iris_dt_md.dot')"
   ],
   "metadata": {
    "collapsed": false,
    "ExecuteTime": {
     "end_time": "2024-03-07T01:19:56.102490Z",
     "start_time": "2024-03-07T01:19:56.087964Z"
    }
   },
   "id": "1b76f89e8be2f188",
   "execution_count": 9
  },
  {
   "cell_type": "code",
   "outputs": [
    {
     "name": "stdout",
     "output_type": "stream",
     "text": [
      "None\n",
      "None\n"
     ]
    }
   ],
   "source": [
    "# DT모델의 시각화 정보를 dot언어로 작성해서 파일로 저장ㅎ가ㅣ\n",
    "print(export_graphviz(md, 'iris_dt_md'))\n",
    "print(export_graphviz(md, 'iris_dt_md.dot', feature_names = md.classes_, filled=True))"
   ],
   "metadata": {
    "collapsed": false,
    "ExecuteTime": {
     "end_time": "2024-03-07T01:29:21.578290Z",
     "start_time": "2024-03-07T01:29:21.556281Z"
    }
   },
   "id": "42b9a5d06ab680bd",
   "execution_count": 19
  },
  {
   "cell_type": "code",
   "outputs": [],
   "source": [
    "import graphviz as gz\n",
    "\n"
   ],
   "metadata": {
    "collapsed": false,
    "ExecuteTime": {
     "end_time": "2024-03-07T01:27:50.063142Z",
     "start_time": "2024-03-07T01:27:50.045133Z"
    }
   },
   "id": "c2ea23d30909fbab",
   "execution_count": 17
  },
  {
   "cell_type": "code",
   "outputs": [
    {
     "data": {
      "image/svg+xml": "<?xml version=\"1.0\" encoding=\"UTF-8\" standalone=\"no\"?>\n<!DOCTYPE svg PUBLIC \"-//W3C//DTD SVG 1.1//EN\"\n \"http://www.w3.org/Graphics/SVG/1.1/DTD/svg11.dtd\">\n<!-- Generated by graphviz version 2.50.0 (0)\n -->\n<!-- Title: Tree Pages: 1 -->\n<svg width=\"777pt\" height=\"893pt\"\n viewBox=\"0.00 0.00 776.50 893.00\" xmlns=\"http://www.w3.org/2000/svg\" xmlns:xlink=\"http://www.w3.org/1999/xlink\">\n<g id=\"graph0\" class=\"graph\" transform=\"scale(1 1) rotate(0) translate(4 889)\">\n<title>Tree</title>\n<polygon fill=\"white\" stroke=\"transparent\" points=\"-4,4 -4,-889 772.5,-889 772.5,4 -4,4\"/>\n<!-- 0 -->\n<g id=\"node1\" class=\"node\">\n<title>0</title>\n<polygon fill=\"#ffffff\" stroke=\"black\" points=\"376,-885 244,-885 244,-817 376,-817 376,-885\"/>\n<text text-anchor=\"middle\" x=\"310\" y=\"-869.8\" font-family=\"Helvetica,sans-Serif\" font-size=\"14.00\">Virginica &lt;= 2.45</text>\n<text text-anchor=\"middle\" x=\"310\" y=\"-854.8\" font-family=\"Helvetica,sans-Serif\" font-size=\"14.00\">gini = 0.667</text>\n<text text-anchor=\"middle\" x=\"310\" y=\"-839.8\" font-family=\"Helvetica,sans-Serif\" font-size=\"14.00\">samples = 120</text>\n<text text-anchor=\"middle\" x=\"310\" y=\"-824.8\" font-family=\"Helvetica,sans-Serif\" font-size=\"14.00\">value = [40, 40, 40]</text>\n</g>\n<!-- 1 -->\n<g id=\"node2\" class=\"node\">\n<title>1</title>\n<polygon fill=\"#e58139\" stroke=\"black\" points=\"299.5,-773.5 182.5,-773.5 182.5,-720.5 299.5,-720.5 299.5,-773.5\"/>\n<text text-anchor=\"middle\" x=\"241\" y=\"-758.3\" font-family=\"Helvetica,sans-Serif\" font-size=\"14.00\">gini = 0.0</text>\n<text text-anchor=\"middle\" x=\"241\" y=\"-743.3\" font-family=\"Helvetica,sans-Serif\" font-size=\"14.00\">samples = 40</text>\n<text text-anchor=\"middle\" x=\"241\" y=\"-728.3\" font-family=\"Helvetica,sans-Serif\" font-size=\"14.00\">value = [40, 0, 0]</text>\n</g>\n<!-- 0&#45;&gt;1 -->\n<g id=\"edge1\" class=\"edge\">\n<title>0&#45;&gt;1</title>\n<path fill=\"none\" stroke=\"black\" d=\"M287.6,-816.88C280.01,-805.67 271.53,-793.13 263.9,-781.85\"/>\n<polygon fill=\"black\" stroke=\"black\" points=\"266.77,-779.84 258.26,-773.52 260.97,-783.76 266.77,-779.84\"/>\n<text text-anchor=\"middle\" x=\"253.53\" y=\"-794.37\" font-family=\"Helvetica,sans-Serif\" font-size=\"14.00\">True</text>\n</g>\n<!-- 2 -->\n<g id=\"node3\" class=\"node\">\n<title>2</title>\n<polygon fill=\"#ffffff\" stroke=\"black\" points=\"442.5,-781 317.5,-781 317.5,-713 442.5,-713 442.5,-781\"/>\n<text text-anchor=\"middle\" x=\"380\" y=\"-765.8\" font-family=\"Helvetica,sans-Serif\" font-size=\"14.00\">Virginica &lt;= 4.75</text>\n<text text-anchor=\"middle\" x=\"380\" y=\"-750.8\" font-family=\"Helvetica,sans-Serif\" font-size=\"14.00\">gini = 0.5</text>\n<text text-anchor=\"middle\" x=\"380\" y=\"-735.8\" font-family=\"Helvetica,sans-Serif\" font-size=\"14.00\">samples = 80</text>\n<text text-anchor=\"middle\" x=\"380\" y=\"-720.8\" font-family=\"Helvetica,sans-Serif\" font-size=\"14.00\">value = [0, 40, 40]</text>\n</g>\n<!-- 0&#45;&gt;2 -->\n<g id=\"edge2\" class=\"edge\">\n<title>0&#45;&gt;2</title>\n<path fill=\"none\" stroke=\"black\" d=\"M332.73,-816.88C338.66,-808.24 345.12,-798.82 351.32,-789.79\"/>\n<polygon fill=\"black\" stroke=\"black\" points=\"354.37,-791.52 357.15,-781.3 348.6,-787.56 354.37,-791.52\"/>\n<text text-anchor=\"middle\" x=\"361.72\" y=\"-802.18\" font-family=\"Helvetica,sans-Serif\" font-size=\"14.00\">False</text>\n</g>\n<!-- 3 -->\n<g id=\"node4\" class=\"node\">\n<title>3</title>\n<polygon fill=\"#3fe685\" stroke=\"black\" points=\"370.5,-677 253.5,-677 253.5,-609 370.5,-609 370.5,-677\"/>\n<text text-anchor=\"middle\" x=\"312\" y=\"-661.8\" font-family=\"Helvetica,sans-Serif\" font-size=\"14.00\">Setosa &lt;= 4.95</text>\n<text text-anchor=\"middle\" x=\"312\" y=\"-646.8\" font-family=\"Helvetica,sans-Serif\" font-size=\"14.00\">gini = 0.056</text>\n<text text-anchor=\"middle\" x=\"312\" y=\"-631.8\" font-family=\"Helvetica,sans-Serif\" font-size=\"14.00\">samples = 35</text>\n<text text-anchor=\"middle\" x=\"312\" y=\"-616.8\" font-family=\"Helvetica,sans-Serif\" font-size=\"14.00\">value = [0, 34, 1]</text>\n</g>\n<!-- 2&#45;&gt;3 -->\n<g id=\"edge3\" class=\"edge\">\n<title>2&#45;&gt;3</title>\n<path fill=\"none\" stroke=\"black\" d=\"M357.92,-712.88C352.16,-704.24 345.88,-694.82 339.86,-685.79\"/>\n<polygon fill=\"black\" stroke=\"black\" points=\"342.66,-683.68 334.2,-677.3 336.83,-687.56 342.66,-683.68\"/>\n</g>\n<!-- 8 -->\n<g id=\"node9\" class=\"node\">\n<title>8</title>\n<polygon fill=\"#9457e9\" stroke=\"black\" points=\"507.5,-677 388.5,-677 388.5,-609 507.5,-609 507.5,-677\"/>\n<text text-anchor=\"middle\" x=\"448\" y=\"-661.8\" font-family=\"Helvetica,sans-Serif\" font-size=\"14.00\">Virginica &lt;= 5.05</text>\n<text text-anchor=\"middle\" x=\"448\" y=\"-646.8\" font-family=\"Helvetica,sans-Serif\" font-size=\"14.00\">gini = 0.231</text>\n<text text-anchor=\"middle\" x=\"448\" y=\"-631.8\" font-family=\"Helvetica,sans-Serif\" font-size=\"14.00\">samples = 45</text>\n<text text-anchor=\"middle\" x=\"448\" y=\"-616.8\" font-family=\"Helvetica,sans-Serif\" font-size=\"14.00\">value = [0, 6, 39]</text>\n</g>\n<!-- 2&#45;&gt;8 -->\n<g id=\"edge8\" class=\"edge\">\n<title>2&#45;&gt;8</title>\n<path fill=\"none\" stroke=\"black\" d=\"M402.08,-712.88C407.84,-704.24 414.12,-694.82 420.14,-685.79\"/>\n<polygon fill=\"black\" stroke=\"black\" points=\"423.17,-687.56 425.8,-677.3 417.34,-683.68 423.17,-687.56\"/>\n</g>\n<!-- 4 -->\n<g id=\"node5\" class=\"node\">\n<title>4</title>\n<polygon fill=\"#ffffff\" stroke=\"black\" points=\"236.5,-573 125.5,-573 125.5,-505 236.5,-505 236.5,-573\"/>\n<text text-anchor=\"middle\" x=\"181\" y=\"-557.8\" font-family=\"Helvetica,sans-Serif\" font-size=\"14.00\">Virginica &lt;= 3.9</text>\n<text text-anchor=\"middle\" x=\"181\" y=\"-542.8\" font-family=\"Helvetica,sans-Serif\" font-size=\"14.00\">gini = 0.5</text>\n<text text-anchor=\"middle\" x=\"181\" y=\"-527.8\" font-family=\"Helvetica,sans-Serif\" font-size=\"14.00\">samples = 2</text>\n<text text-anchor=\"middle\" x=\"181\" y=\"-512.8\" font-family=\"Helvetica,sans-Serif\" font-size=\"14.00\">value = [0, 1, 1]</text>\n</g>\n<!-- 3&#45;&gt;4 -->\n<g id=\"edge4\" class=\"edge\">\n<title>3&#45;&gt;4</title>\n<path fill=\"none\" stroke=\"black\" d=\"M269.47,-608.88C257.46,-599.53 244.26,-589.26 231.82,-579.57\"/>\n<polygon fill=\"black\" stroke=\"black\" points=\"233.81,-576.68 223.77,-573.3 229.51,-582.2 233.81,-576.68\"/>\n</g>\n<!-- 7 -->\n<g id=\"node8\" class=\"node\">\n<title>7</title>\n<polygon fill=\"#39e581\" stroke=\"black\" points=\"371.5,-565.5 254.5,-565.5 254.5,-512.5 371.5,-512.5 371.5,-565.5\"/>\n<text text-anchor=\"middle\" x=\"313\" y=\"-550.3\" font-family=\"Helvetica,sans-Serif\" font-size=\"14.00\">gini = 0.0</text>\n<text text-anchor=\"middle\" x=\"313\" y=\"-535.3\" font-family=\"Helvetica,sans-Serif\" font-size=\"14.00\">samples = 33</text>\n<text text-anchor=\"middle\" x=\"313\" y=\"-520.3\" font-family=\"Helvetica,sans-Serif\" font-size=\"14.00\">value = [0, 33, 0]</text>\n</g>\n<!-- 3&#45;&gt;7 -->\n<g id=\"edge7\" class=\"edge\">\n<title>3&#45;&gt;7</title>\n<path fill=\"none\" stroke=\"black\" d=\"M312.32,-608.88C312.43,-598.33 312.54,-586.6 312.65,-575.85\"/>\n<polygon fill=\"black\" stroke=\"black\" points=\"316.15,-575.55 312.75,-565.52 309.15,-575.49 316.15,-575.55\"/>\n</g>\n<!-- 5 -->\n<g id=\"node6\" class=\"node\">\n<title>5</title>\n<polygon fill=\"#39e581\" stroke=\"black\" points=\"110,-461.5 0,-461.5 0,-408.5 110,-408.5 110,-461.5\"/>\n<text text-anchor=\"middle\" x=\"55\" y=\"-446.3\" font-family=\"Helvetica,sans-Serif\" font-size=\"14.00\">gini = 0.0</text>\n<text text-anchor=\"middle\" x=\"55\" y=\"-431.3\" font-family=\"Helvetica,sans-Serif\" font-size=\"14.00\">samples = 1</text>\n<text text-anchor=\"middle\" x=\"55\" y=\"-416.3\" font-family=\"Helvetica,sans-Serif\" font-size=\"14.00\">value = [0, 1, 0]</text>\n</g>\n<!-- 4&#45;&gt;5 -->\n<g id=\"edge5\" class=\"edge\">\n<title>4&#45;&gt;5</title>\n<path fill=\"none\" stroke=\"black\" d=\"M140.09,-504.88C125.42,-493.01 108.92,-479.65 94.38,-467.88\"/>\n<polygon fill=\"black\" stroke=\"black\" points=\"96.5,-465.09 86.52,-461.52 92.09,-470.53 96.5,-465.09\"/>\n</g>\n<!-- 6 -->\n<g id=\"node7\" class=\"node\">\n<title>6</title>\n<polygon fill=\"#8139e5\" stroke=\"black\" points=\"238,-461.5 128,-461.5 128,-408.5 238,-408.5 238,-461.5\"/>\n<text text-anchor=\"middle\" x=\"183\" y=\"-446.3\" font-family=\"Helvetica,sans-Serif\" font-size=\"14.00\">gini = 0.0</text>\n<text text-anchor=\"middle\" x=\"183\" y=\"-431.3\" font-family=\"Helvetica,sans-Serif\" font-size=\"14.00\">samples = 1</text>\n<text text-anchor=\"middle\" x=\"183\" y=\"-416.3\" font-family=\"Helvetica,sans-Serif\" font-size=\"14.00\">value = [0, 0, 1]</text>\n</g>\n<!-- 4&#45;&gt;6 -->\n<g id=\"edge6\" class=\"edge\">\n<title>4&#45;&gt;6</title>\n<path fill=\"none\" stroke=\"black\" d=\"M181.65,-504.88C181.86,-494.22 182.09,-482.35 182.3,-471.52\"/>\n<polygon fill=\"black\" stroke=\"black\" points=\"185.8,-471.59 182.5,-461.52 178.8,-471.45 185.8,-471.59\"/>\n</g>\n<!-- 9 -->\n<g id=\"node10\" class=\"node\">\n<title>9</title>\n<polygon fill=\"#d0b5f5\" stroke=\"black\" points=\"502,-573 392,-573 392,-505 502,-505 502,-573\"/>\n<text text-anchor=\"middle\" x=\"447\" y=\"-557.8\" font-family=\"Helvetica,sans-Serif\" font-size=\"14.00\">Setosa &lt;= 6.5</text>\n<text text-anchor=\"middle\" x=\"447\" y=\"-542.8\" font-family=\"Helvetica,sans-Serif\" font-size=\"14.00\">gini = 0.473</text>\n<text text-anchor=\"middle\" x=\"447\" y=\"-527.8\" font-family=\"Helvetica,sans-Serif\" font-size=\"14.00\">samples = 13</text>\n<text text-anchor=\"middle\" x=\"447\" y=\"-512.8\" font-family=\"Helvetica,sans-Serif\" font-size=\"14.00\">value = [0, 5, 8]</text>\n</g>\n<!-- 8&#45;&gt;9 -->\n<g id=\"edge9\" class=\"edge\">\n<title>8&#45;&gt;9</title>\n<path fill=\"none\" stroke=\"black\" d=\"M447.68,-608.88C447.6,-600.78 447.51,-591.98 447.43,-583.47\"/>\n<polygon fill=\"black\" stroke=\"black\" points=\"450.92,-583.26 447.33,-573.3 443.92,-583.33 450.92,-583.26\"/>\n</g>\n<!-- 20 -->\n<g id=\"node21\" class=\"node\">\n<title>20</title>\n<polygon fill=\"#853fe6\" stroke=\"black\" points=\"637.5,-573 520.5,-573 520.5,-505 637.5,-505 637.5,-573\"/>\n<text text-anchor=\"middle\" x=\"579\" y=\"-557.8\" font-family=\"Helvetica,sans-Serif\" font-size=\"14.00\">Setosa &lt;= 6.05</text>\n<text text-anchor=\"middle\" x=\"579\" y=\"-542.8\" font-family=\"Helvetica,sans-Serif\" font-size=\"14.00\">gini = 0.061</text>\n<text text-anchor=\"middle\" x=\"579\" y=\"-527.8\" font-family=\"Helvetica,sans-Serif\" font-size=\"14.00\">samples = 32</text>\n<text text-anchor=\"middle\" x=\"579\" y=\"-512.8\" font-family=\"Helvetica,sans-Serif\" font-size=\"14.00\">value = [0, 1, 31]</text>\n</g>\n<!-- 8&#45;&gt;20 -->\n<g id=\"edge20\" class=\"edge\">\n<title>8&#45;&gt;20</title>\n<path fill=\"none\" stroke=\"black\" d=\"M490.53,-608.88C502.54,-599.53 515.74,-589.26 528.18,-579.57\"/>\n<polygon fill=\"black\" stroke=\"black\" points=\"530.49,-582.2 536.23,-573.3 526.19,-576.68 530.49,-582.2\"/>\n</g>\n<!-- 10 -->\n<g id=\"node11\" class=\"node\">\n<title>10</title>\n<polygon fill=\"#a06aec\" stroke=\"black\" points=\"376.5,-469 257.5,-469 257.5,-401 376.5,-401 376.5,-469\"/>\n<text text-anchor=\"middle\" x=\"317\" y=\"-453.8\" font-family=\"Helvetica,sans-Serif\" font-size=\"14.00\">Versicolor &lt;= 3.1</text>\n<text text-anchor=\"middle\" x=\"317\" y=\"-438.8\" font-family=\"Helvetica,sans-Serif\" font-size=\"14.00\">gini = 0.32</text>\n<text text-anchor=\"middle\" x=\"317\" y=\"-423.8\" font-family=\"Helvetica,sans-Serif\" font-size=\"14.00\">samples = 10</text>\n<text text-anchor=\"middle\" x=\"317\" y=\"-408.8\" font-family=\"Helvetica,sans-Serif\" font-size=\"14.00\">value = [0, 2, 8]</text>\n</g>\n<!-- 9&#45;&gt;10 -->\n<g id=\"edge10\" class=\"edge\">\n<title>9&#45;&gt;10</title>\n<path fill=\"none\" stroke=\"black\" d=\"M404.79,-504.88C392.87,-495.53 379.78,-485.26 367.43,-475.57\"/>\n<polygon fill=\"black\" stroke=\"black\" points=\"369.47,-472.72 359.44,-469.3 365.15,-478.23 369.47,-472.72\"/>\n</g>\n<!-- 19 -->\n<g id=\"node20\" class=\"node\">\n<title>19</title>\n<polygon fill=\"#39e581\" stroke=\"black\" points=\"505,-461.5 395,-461.5 395,-408.5 505,-408.5 505,-461.5\"/>\n<text text-anchor=\"middle\" x=\"450\" y=\"-446.3\" font-family=\"Helvetica,sans-Serif\" font-size=\"14.00\">gini = 0.0</text>\n<text text-anchor=\"middle\" x=\"450\" y=\"-431.3\" font-family=\"Helvetica,sans-Serif\" font-size=\"14.00\">samples = 3</text>\n<text text-anchor=\"middle\" x=\"450\" y=\"-416.3\" font-family=\"Helvetica,sans-Serif\" font-size=\"14.00\">value = [0, 3, 0]</text>\n</g>\n<!-- 9&#45;&gt;19 -->\n<g id=\"edge19\" class=\"edge\">\n<title>9&#45;&gt;19</title>\n<path fill=\"none\" stroke=\"black\" d=\"M447.97,-504.88C448.29,-494.22 448.64,-482.35 448.96,-471.52\"/>\n<polygon fill=\"black\" stroke=\"black\" points=\"452.45,-471.62 449.25,-461.52 445.46,-471.41 452.45,-471.62\"/>\n</g>\n<!-- 11 -->\n<g id=\"node12\" class=\"node\">\n<title>11</title>\n<polygon fill=\"#9152e8\" stroke=\"black\" points=\"309,-365 199,-365 199,-297 309,-297 309,-365\"/>\n<text text-anchor=\"middle\" x=\"254\" y=\"-349.8\" font-family=\"Helvetica,sans-Serif\" font-size=\"14.00\">Setosa &lt;= 6.25</text>\n<text text-anchor=\"middle\" x=\"254\" y=\"-334.8\" font-family=\"Helvetica,sans-Serif\" font-size=\"14.00\">gini = 0.198</text>\n<text text-anchor=\"middle\" x=\"254\" y=\"-319.8\" font-family=\"Helvetica,sans-Serif\" font-size=\"14.00\">samples = 9</text>\n<text text-anchor=\"middle\" x=\"254\" y=\"-304.8\" font-family=\"Helvetica,sans-Serif\" font-size=\"14.00\">value = [0, 1, 8]</text>\n</g>\n<!-- 10&#45;&gt;11 -->\n<g id=\"edge11\" class=\"edge\">\n<title>10&#45;&gt;11</title>\n<path fill=\"none\" stroke=\"black\" d=\"M296.55,-400.88C291.26,-392.33 285.51,-383.01 279.99,-374.07\"/>\n<polygon fill=\"black\" stroke=\"black\" points=\"282.8,-371.97 274.57,-365.3 276.84,-375.65 282.8,-371.97\"/>\n</g>\n<!-- 18 -->\n<g id=\"node19\" class=\"node\">\n<title>18</title>\n<polygon fill=\"#39e581\" stroke=\"black\" points=\"437,-357.5 327,-357.5 327,-304.5 437,-304.5 437,-357.5\"/>\n<text text-anchor=\"middle\" x=\"382\" y=\"-342.3\" font-family=\"Helvetica,sans-Serif\" font-size=\"14.00\">gini = 0.0</text>\n<text text-anchor=\"middle\" x=\"382\" y=\"-327.3\" font-family=\"Helvetica,sans-Serif\" font-size=\"14.00\">samples = 1</text>\n<text text-anchor=\"middle\" x=\"382\" y=\"-312.3\" font-family=\"Helvetica,sans-Serif\" font-size=\"14.00\">value = [0, 1, 0]</text>\n</g>\n<!-- 10&#45;&gt;18 -->\n<g id=\"edge18\" class=\"edge\">\n<title>10&#45;&gt;18</title>\n<path fill=\"none\" stroke=\"black\" d=\"M338.1,-400.88C345.18,-389.78 353.09,-377.37 360.22,-366.18\"/>\n<polygon fill=\"black\" stroke=\"black\" points=\"363.31,-367.83 365.74,-357.52 357.41,-364.07 363.31,-367.83\"/>\n</g>\n<!-- 12 -->\n<g id=\"node13\" class=\"node\">\n<title>12</title>\n<polygon fill=\"#8139e5\" stroke=\"black\" points=\"243,-253.5 133,-253.5 133,-200.5 243,-200.5 243,-253.5\"/>\n<text text-anchor=\"middle\" x=\"188\" y=\"-238.3\" font-family=\"Helvetica,sans-Serif\" font-size=\"14.00\">gini = 0.0</text>\n<text text-anchor=\"middle\" x=\"188\" y=\"-223.3\" font-family=\"Helvetica,sans-Serif\" font-size=\"14.00\">samples = 6</text>\n<text text-anchor=\"middle\" x=\"188\" y=\"-208.3\" font-family=\"Helvetica,sans-Serif\" font-size=\"14.00\">value = [0, 0, 6]</text>\n</g>\n<!-- 11&#45;&gt;12 -->\n<g id=\"edge12\" class=\"edge\">\n<title>11&#45;&gt;12</title>\n<path fill=\"none\" stroke=\"black\" d=\"M232.57,-296.88C225.38,-285.78 217.36,-273.37 210.12,-262.18\"/>\n<polygon fill=\"black\" stroke=\"black\" points=\"212.88,-260.01 204.51,-253.52 207.01,-263.82 212.88,-260.01\"/>\n</g>\n<!-- 13 -->\n<g id=\"node14\" class=\"node\">\n<title>13</title>\n<polygon fill=\"#c09cf2\" stroke=\"black\" points=\"380.5,-261 261.5,-261 261.5,-193 380.5,-193 380.5,-261\"/>\n<text text-anchor=\"middle\" x=\"321\" y=\"-245.8\" font-family=\"Helvetica,sans-Serif\" font-size=\"14.00\">Virginica &lt;= 4.95</text>\n<text text-anchor=\"middle\" x=\"321\" y=\"-230.8\" font-family=\"Helvetica,sans-Serif\" font-size=\"14.00\">gini = 0.444</text>\n<text text-anchor=\"middle\" x=\"321\" y=\"-215.8\" font-family=\"Helvetica,sans-Serif\" font-size=\"14.00\">samples = 3</text>\n<text text-anchor=\"middle\" x=\"321\" y=\"-200.8\" font-family=\"Helvetica,sans-Serif\" font-size=\"14.00\">value = [0, 1, 2]</text>\n</g>\n<!-- 11&#45;&gt;13 -->\n<g id=\"edge13\" class=\"edge\">\n<title>11&#45;&gt;13</title>\n<path fill=\"none\" stroke=\"black\" d=\"M275.75,-296.88C281.43,-288.24 287.62,-278.82 293.55,-269.79\"/>\n<polygon fill=\"black\" stroke=\"black\" points=\"296.56,-271.58 299.13,-261.3 290.71,-267.74 296.56,-271.58\"/>\n</g>\n<!-- 14 -->\n<g id=\"node15\" class=\"node\">\n<title>14</title>\n<polygon fill=\"#ffffff\" stroke=\"black\" points=\"314.5,-157 195.5,-157 195.5,-89 314.5,-89 314.5,-157\"/>\n<text text-anchor=\"middle\" x=\"255\" y=\"-141.8\" font-family=\"Helvetica,sans-Serif\" font-size=\"14.00\">Versicolor &lt;= 2.6</text>\n<text text-anchor=\"middle\" x=\"255\" y=\"-126.8\" font-family=\"Helvetica,sans-Serif\" font-size=\"14.00\">gini = 0.5</text>\n<text text-anchor=\"middle\" x=\"255\" y=\"-111.8\" font-family=\"Helvetica,sans-Serif\" font-size=\"14.00\">samples = 2</text>\n<text text-anchor=\"middle\" x=\"255\" y=\"-96.8\" font-family=\"Helvetica,sans-Serif\" font-size=\"14.00\">value = [0, 1, 1]</text>\n</g>\n<!-- 13&#45;&gt;14 -->\n<g id=\"edge14\" class=\"edge\">\n<title>13&#45;&gt;14</title>\n<path fill=\"none\" stroke=\"black\" d=\"M299.57,-192.88C293.98,-184.24 287.88,-174.82 282.04,-165.79\"/>\n<polygon fill=\"black\" stroke=\"black\" points=\"284.92,-163.79 276.55,-157.3 279.04,-167.6 284.92,-163.79\"/>\n</g>\n<!-- 17 -->\n<g id=\"node18\" class=\"node\">\n<title>17</title>\n<polygon fill=\"#8139e5\" stroke=\"black\" points=\"443,-149.5 333,-149.5 333,-96.5 443,-96.5 443,-149.5\"/>\n<text text-anchor=\"middle\" x=\"388\" y=\"-134.3\" font-family=\"Helvetica,sans-Serif\" font-size=\"14.00\">gini = 0.0</text>\n<text text-anchor=\"middle\" x=\"388\" y=\"-119.3\" font-family=\"Helvetica,sans-Serif\" font-size=\"14.00\">samples = 1</text>\n<text text-anchor=\"middle\" x=\"388\" y=\"-104.3\" font-family=\"Helvetica,sans-Serif\" font-size=\"14.00\">value = [0, 0, 1]</text>\n</g>\n<!-- 13&#45;&gt;17 -->\n<g id=\"edge17\" class=\"edge\">\n<title>13&#45;&gt;17</title>\n<path fill=\"none\" stroke=\"black\" d=\"M342.75,-192.88C350.05,-181.78 358.2,-169.37 365.55,-158.18\"/>\n<polygon fill=\"black\" stroke=\"black\" points=\"368.67,-159.8 371.24,-149.52 362.82,-155.96 368.67,-159.8\"/>\n</g>\n<!-- 15 -->\n<g id=\"node16\" class=\"node\">\n<title>15</title>\n<polygon fill=\"#39e581\" stroke=\"black\" points=\"246,-53 136,-53 136,0 246,0 246,-53\"/>\n<text text-anchor=\"middle\" x=\"191\" y=\"-37.8\" font-family=\"Helvetica,sans-Serif\" font-size=\"14.00\">gini = 0.0</text>\n<text text-anchor=\"middle\" x=\"191\" y=\"-22.8\" font-family=\"Helvetica,sans-Serif\" font-size=\"14.00\">samples = 1</text>\n<text text-anchor=\"middle\" x=\"191\" y=\"-7.8\" font-family=\"Helvetica,sans-Serif\" font-size=\"14.00\">value = [0, 1, 0]</text>\n</g>\n<!-- 14&#45;&gt;15 -->\n<g id=\"edge15\" class=\"edge\">\n<title>14&#45;&gt;15</title>\n<path fill=\"none\" stroke=\"black\" d=\"M232.62,-88.95C226.61,-80.07 220.1,-70.46 214.05,-61.54\"/>\n<polygon fill=\"black\" stroke=\"black\" points=\"216.94,-59.55 208.43,-53.24 211.14,-63.48 216.94,-59.55\"/>\n</g>\n<!-- 16 -->\n<g id=\"node17\" class=\"node\">\n<title>16</title>\n<polygon fill=\"#8139e5\" stroke=\"black\" points=\"374,-53 264,-53 264,0 374,0 374,-53\"/>\n<text text-anchor=\"middle\" x=\"319\" y=\"-37.8\" font-family=\"Helvetica,sans-Serif\" font-size=\"14.00\">gini = 0.0</text>\n<text text-anchor=\"middle\" x=\"319\" y=\"-22.8\" font-family=\"Helvetica,sans-Serif\" font-size=\"14.00\">samples = 1</text>\n<text text-anchor=\"middle\" x=\"319\" y=\"-7.8\" font-family=\"Helvetica,sans-Serif\" font-size=\"14.00\">value = [0, 0, 1]</text>\n</g>\n<!-- 14&#45;&gt;16 -->\n<g id=\"edge16\" class=\"edge\">\n<title>14&#45;&gt;16</title>\n<path fill=\"none\" stroke=\"black\" d=\"M277.38,-88.95C283.39,-80.07 289.9,-70.46 295.95,-61.54\"/>\n<polygon fill=\"black\" stroke=\"black\" points=\"298.86,-63.48 301.57,-53.24 293.06,-59.55 298.86,-63.48\"/>\n</g>\n<!-- 21 -->\n<g id=\"node22\" class=\"node\">\n<title>21</title>\n<polygon fill=\"#ab7bee\" stroke=\"black\" points=\"633,-469 523,-469 523,-401 633,-401 633,-469\"/>\n<text text-anchor=\"middle\" x=\"578\" y=\"-453.8\" font-family=\"Helvetica,sans-Serif\" font-size=\"14.00\">Setosa &lt;= 5.95</text>\n<text text-anchor=\"middle\" x=\"578\" y=\"-438.8\" font-family=\"Helvetica,sans-Serif\" font-size=\"14.00\">gini = 0.375</text>\n<text text-anchor=\"middle\" x=\"578\" y=\"-423.8\" font-family=\"Helvetica,sans-Serif\" font-size=\"14.00\">samples = 4</text>\n<text text-anchor=\"middle\" x=\"578\" y=\"-408.8\" font-family=\"Helvetica,sans-Serif\" font-size=\"14.00\">value = [0, 1, 3]</text>\n</g>\n<!-- 20&#45;&gt;21 -->\n<g id=\"edge21\" class=\"edge\">\n<title>20&#45;&gt;21</title>\n<path fill=\"none\" stroke=\"black\" d=\"M578.68,-504.88C578.6,-496.78 578.51,-487.98 578.43,-479.47\"/>\n<polygon fill=\"black\" stroke=\"black\" points=\"581.92,-479.26 578.33,-469.3 574.92,-479.33 581.92,-479.26\"/>\n</g>\n<!-- 24 -->\n<g id=\"node25\" class=\"node\">\n<title>24</title>\n<polygon fill=\"#8139e5\" stroke=\"black\" points=\"768.5,-461.5 651.5,-461.5 651.5,-408.5 768.5,-408.5 768.5,-461.5\"/>\n<text text-anchor=\"middle\" x=\"710\" y=\"-446.3\" font-family=\"Helvetica,sans-Serif\" font-size=\"14.00\">gini = 0.0</text>\n<text text-anchor=\"middle\" x=\"710\" y=\"-431.3\" font-family=\"Helvetica,sans-Serif\" font-size=\"14.00\">samples = 28</text>\n<text text-anchor=\"middle\" x=\"710\" y=\"-416.3\" font-family=\"Helvetica,sans-Serif\" font-size=\"14.00\">value = [0, 0, 28]</text>\n</g>\n<!-- 20&#45;&gt;24 -->\n<g id=\"edge24\" class=\"edge\">\n<title>20&#45;&gt;24</title>\n<path fill=\"none\" stroke=\"black\" d=\"M621.53,-504.88C636.79,-493.01 653.94,-479.65 669.06,-467.88\"/>\n<polygon fill=\"black\" stroke=\"black\" points=\"671.48,-470.43 677.22,-461.52 667.18,-464.9 671.48,-470.43\"/>\n</g>\n<!-- 22 -->\n<g id=\"node23\" class=\"node\">\n<title>22</title>\n<polygon fill=\"#8139e5\" stroke=\"black\" points=\"567,-357.5 457,-357.5 457,-304.5 567,-304.5 567,-357.5\"/>\n<text text-anchor=\"middle\" x=\"512\" y=\"-342.3\" font-family=\"Helvetica,sans-Serif\" font-size=\"14.00\">gini = 0.0</text>\n<text text-anchor=\"middle\" x=\"512\" y=\"-327.3\" font-family=\"Helvetica,sans-Serif\" font-size=\"14.00\">samples = 3</text>\n<text text-anchor=\"middle\" x=\"512\" y=\"-312.3\" font-family=\"Helvetica,sans-Serif\" font-size=\"14.00\">value = [0, 0, 3]</text>\n</g>\n<!-- 21&#45;&gt;22 -->\n<g id=\"edge22\" class=\"edge\">\n<title>21&#45;&gt;22</title>\n<path fill=\"none\" stroke=\"black\" d=\"M556.57,-400.88C549.38,-389.78 541.36,-377.37 534.12,-366.18\"/>\n<polygon fill=\"black\" stroke=\"black\" points=\"536.88,-364.01 528.51,-357.52 531.01,-367.82 536.88,-364.01\"/>\n</g>\n<!-- 23 -->\n<g id=\"node24\" class=\"node\">\n<title>23</title>\n<polygon fill=\"#39e581\" stroke=\"black\" points=\"695,-357.5 585,-357.5 585,-304.5 695,-304.5 695,-357.5\"/>\n<text text-anchor=\"middle\" x=\"640\" y=\"-342.3\" font-family=\"Helvetica,sans-Serif\" font-size=\"14.00\">gini = 0.0</text>\n<text text-anchor=\"middle\" x=\"640\" y=\"-327.3\" font-family=\"Helvetica,sans-Serif\" font-size=\"14.00\">samples = 1</text>\n<text text-anchor=\"middle\" x=\"640\" y=\"-312.3\" font-family=\"Helvetica,sans-Serif\" font-size=\"14.00\">value = [0, 1, 0]</text>\n</g>\n<!-- 21&#45;&gt;23 -->\n<g id=\"edge23\" class=\"edge\">\n<title>21&#45;&gt;23</title>\n<path fill=\"none\" stroke=\"black\" d=\"M598.13,-400.88C604.88,-389.78 612.42,-377.37 619.22,-366.18\"/>\n<polygon fill=\"black\" stroke=\"black\" points=\"622.28,-367.88 624.49,-357.52 616.3,-364.25 622.28,-367.88\"/>\n</g>\n</g>\n</svg>\n",
      "text/plain": "<graphviz.sources.Source at 0x220c4079130>"
     },
     "execution_count": 18,
     "metadata": {},
     "output_type": "execute_result"
    }
   ],
   "source": [
    "gz.Source.from_file('iris_dt_md.dot')"
   ],
   "metadata": {
    "collapsed": false,
    "ExecuteTime": {
     "end_time": "2024-03-07T01:27:51.031620Z",
     "start_time": "2024-03-07T01:27:50.914137Z"
    }
   },
   "id": "a82facd0d46d422b",
   "execution_count": 18
  },
  {
   "cell_type": "markdown",
   "source": [
    "4. 평가\n"
   ],
   "metadata": {
    "collapsed": false
   },
   "id": "b9986ee674c3fbe3"
  },
  {
   "cell_type": "code",
   "outputs": [
    {
     "data": {
      "text/plain": "1.0"
     },
     "execution_count": 22,
     "metadata": {},
     "output_type": "execute_result"
    }
   ],
   "source": [
    "md.score(xtest, ytest) #-> overfitting"
   ],
   "metadata": {
    "collapsed": false,
    "ExecuteTime": {
     "end_time": "2024-03-07T01:51:36.264970Z",
     "start_time": "2024-03-07T01:51:36.253456Z"
    }
   },
   "id": "cd3bcb42cdb73d66",
   "execution_count": 22
  },
  {
   "cell_type": "code",
   "outputs": [
    {
     "data": {
      "text/plain": "1.0"
     },
     "execution_count": 23,
     "metadata": {},
     "output_type": "execute_result"
    }
   ],
   "source": [
    "md.score(xtrain,ytrain)"
   ],
   "metadata": {
    "collapsed": false,
    "ExecuteTime": {
     "end_time": "2024-03-07T01:51:57.430337Z",
     "start_time": "2024-03-07T01:51:57.418338Z"
    }
   },
   "id": "7fc6ca222c31c836",
   "execution_count": 23
  },
  {
   "cell_type": "markdown",
   "source": [
    "5. 문제 해결 및 성능 향상: 튜닝\n",
    "- 원인 예상 : \n",
    "    * 데이터 부족 - crossvalidation\n",
    "    * DT 하이퍼파라미터 기본값으로 만 사용 - 다양한 값 조절\n",
    "- 2개의 원인을 한번에 해결하기 위해 GridSearchCV 사용\n",
    "    "
   ],
   "metadata": {
    "collapsed": false
   },
   "id": "3a7093bd6a2dd569"
  },
  {
   "cell_type": "code",
   "outputs": [],
   "source": [
    "# 모듈 로딩\n",
    "from sklearn.model_selection import GridSearchCV, RandomizedSearchCV"
   ],
   "metadata": {
    "collapsed": false,
    "ExecuteTime": {
     "end_time": "2024-03-07T01:55:14.734986Z",
     "start_time": "2024-03-07T01:55:14.725980Z"
    }
   },
   "id": "9db9a535a5f4f3ad",
   "execution_count": 24
  },
  {
   "cell_type": "code",
   "outputs": [],
   "source": [
    "# condition\n",
    "# cv; default 5, \n",
    "# DT hp : max_depth, gini, ... \n",
    "dtmd = DecisionTreeClassifier()\n",
    "n_cv = 5\n",
    "params = {'criterion': ['gini', 'entropy', 'log_loss'], 'max_depth': [5, 10, 15], 'min_samples_split': [2,4,6]}\n",
    "\n",
    "# 하이퍼파라미터 조합된 모델 생성 후 교차검증 데이터셋으로 학습 진행해주는 인스턴스\n",
    "gs = GridSearchCV(dtmd, param_grid=params, cv=n_cv)"
   ],
   "metadata": {
    "collapsed": false,
    "ExecuteTime": {
     "end_time": "2024-03-07T02:00:19.301655Z",
     "start_time": "2024-03-07T02:00:19.283071Z"
    }
   },
   "id": "8a2b0fb82ac6555b",
   "execution_count": 25
  },
  {
   "cell_type": "code",
   "outputs": [],
   "source": [
    "# 조합된 모델들의 학습 진행\n",
    "result = gs.fit(xtrain, ytrain)"
   ],
   "metadata": {
    "collapsed": false,
    "ExecuteTime": {
     "end_time": "2024-03-07T02:01:04.602172Z",
     "start_time": "2024-03-07T02:01:04.272199Z"
    }
   },
   "id": "5d3f3b0802f2f27d",
   "execution_count": 27
  },
  {
   "cell_type": "code",
   "outputs": [
    {
     "data": {
      "text/plain": "GridSearchCV(cv=5, estimator=DecisionTreeClassifier(),\n             param_grid={'criterion': ['gini', 'entropy', 'log_loss'],\n                         'max_depth': [5, 10, 15],\n                         'min_samples_split': [2, 4, 6]})",
      "text/html": "<style>#sk-container-id-3 {color: black;}#sk-container-id-3 pre{padding: 0;}#sk-container-id-3 div.sk-toggleable {background-color: white;}#sk-container-id-3 label.sk-toggleable__label {cursor: pointer;display: block;width: 100%;margin-bottom: 0;padding: 0.3em;box-sizing: border-box;text-align: center;}#sk-container-id-3 label.sk-toggleable__label-arrow:before {content: \"▸\";float: left;margin-right: 0.25em;color: #696969;}#sk-container-id-3 label.sk-toggleable__label-arrow:hover:before {color: black;}#sk-container-id-3 div.sk-estimator:hover label.sk-toggleable__label-arrow:before {color: black;}#sk-container-id-3 div.sk-toggleable__content {max-height: 0;max-width: 0;overflow: hidden;text-align: left;background-color: #f0f8ff;}#sk-container-id-3 div.sk-toggleable__content pre {margin: 0.2em;color: black;border-radius: 0.25em;background-color: #f0f8ff;}#sk-container-id-3 input.sk-toggleable__control:checked~div.sk-toggleable__content {max-height: 200px;max-width: 100%;overflow: auto;}#sk-container-id-3 input.sk-toggleable__control:checked~label.sk-toggleable__label-arrow:before {content: \"▾\";}#sk-container-id-3 div.sk-estimator input.sk-toggleable__control:checked~label.sk-toggleable__label {background-color: #d4ebff;}#sk-container-id-3 div.sk-label input.sk-toggleable__control:checked~label.sk-toggleable__label {background-color: #d4ebff;}#sk-container-id-3 input.sk-hidden--visually {border: 0;clip: rect(1px 1px 1px 1px);clip: rect(1px, 1px, 1px, 1px);height: 1px;margin: -1px;overflow: hidden;padding: 0;position: absolute;width: 1px;}#sk-container-id-3 div.sk-estimator {font-family: monospace;background-color: #f0f8ff;border: 1px dotted black;border-radius: 0.25em;box-sizing: border-box;margin-bottom: 0.5em;}#sk-container-id-3 div.sk-estimator:hover {background-color: #d4ebff;}#sk-container-id-3 div.sk-parallel-item::after {content: \"\";width: 100%;border-bottom: 1px solid gray;flex-grow: 1;}#sk-container-id-3 div.sk-label:hover label.sk-toggleable__label {background-color: #d4ebff;}#sk-container-id-3 div.sk-serial::before {content: \"\";position: absolute;border-left: 1px solid gray;box-sizing: border-box;top: 0;bottom: 0;left: 50%;z-index: 0;}#sk-container-id-3 div.sk-serial {display: flex;flex-direction: column;align-items: center;background-color: white;padding-right: 0.2em;padding-left: 0.2em;position: relative;}#sk-container-id-3 div.sk-item {position: relative;z-index: 1;}#sk-container-id-3 div.sk-parallel {display: flex;align-items: stretch;justify-content: center;background-color: white;position: relative;}#sk-container-id-3 div.sk-item::before, #sk-container-id-3 div.sk-parallel-item::before {content: \"\";position: absolute;border-left: 1px solid gray;box-sizing: border-box;top: 0;bottom: 0;left: 50%;z-index: -1;}#sk-container-id-3 div.sk-parallel-item {display: flex;flex-direction: column;z-index: 1;position: relative;background-color: white;}#sk-container-id-3 div.sk-parallel-item:first-child::after {align-self: flex-end;width: 50%;}#sk-container-id-3 div.sk-parallel-item:last-child::after {align-self: flex-start;width: 50%;}#sk-container-id-3 div.sk-parallel-item:only-child::after {width: 0;}#sk-container-id-3 div.sk-dashed-wrapped {border: 1px dashed gray;margin: 0 0.4em 0.5em 0.4em;box-sizing: border-box;padding-bottom: 0.4em;background-color: white;}#sk-container-id-3 div.sk-label label {font-family: monospace;font-weight: bold;display: inline-block;line-height: 1.2em;}#sk-container-id-3 div.sk-label-container {text-align: center;}#sk-container-id-3 div.sk-container {/* jupyter's `normalize.less` sets `[hidden] { display: none; }` but bootstrap.min.css set `[hidden] { display: none !important; }` so we also need the `!important` here to be able to override the default hidden behavior on the sphinx rendered scikit-learn.org. See: https://github.com/scikit-learn/scikit-learn/issues/21755 */display: inline-block !important;position: relative;}#sk-container-id-3 div.sk-text-repr-fallback {display: none;}</style><div id=\"sk-container-id-3\" class=\"sk-top-container\"><div class=\"sk-text-repr-fallback\"><pre>GridSearchCV(cv=5, estimator=DecisionTreeClassifier(),\n             param_grid={&#x27;criterion&#x27;: [&#x27;gini&#x27;, &#x27;entropy&#x27;, &#x27;log_loss&#x27;],\n                         &#x27;max_depth&#x27;: [5, 10, 15],\n                         &#x27;min_samples_split&#x27;: [2, 4, 6]})</pre><b>In a Jupyter environment, please rerun this cell to show the HTML representation or trust the notebook. <br />On GitHub, the HTML representation is unable to render, please try loading this page with nbviewer.org.</b></div><div class=\"sk-container\" hidden><div class=\"sk-item sk-dashed-wrapped\"><div class=\"sk-label-container\"><div class=\"sk-label sk-toggleable\"><input class=\"sk-toggleable__control sk-hidden--visually\" id=\"sk-estimator-id-5\" type=\"checkbox\" ><label for=\"sk-estimator-id-5\" class=\"sk-toggleable__label sk-toggleable__label-arrow\">GridSearchCV</label><div class=\"sk-toggleable__content\"><pre>GridSearchCV(cv=5, estimator=DecisionTreeClassifier(),\n             param_grid={&#x27;criterion&#x27;: [&#x27;gini&#x27;, &#x27;entropy&#x27;, &#x27;log_loss&#x27;],\n                         &#x27;max_depth&#x27;: [5, 10, 15],\n                         &#x27;min_samples_split&#x27;: [2, 4, 6]})</pre></div></div></div><div class=\"sk-parallel\"><div class=\"sk-parallel-item\"><div class=\"sk-item\"><div class=\"sk-label-container\"><div class=\"sk-label sk-toggleable\"><input class=\"sk-toggleable__control sk-hidden--visually\" id=\"sk-estimator-id-6\" type=\"checkbox\" ><label for=\"sk-estimator-id-6\" class=\"sk-toggleable__label sk-toggleable__label-arrow\">estimator: DecisionTreeClassifier</label><div class=\"sk-toggleable__content\"><pre>DecisionTreeClassifier()</pre></div></div></div><div class=\"sk-serial\"><div class=\"sk-item\"><div class=\"sk-estimator sk-toggleable\"><input class=\"sk-toggleable__control sk-hidden--visually\" id=\"sk-estimator-id-7\" type=\"checkbox\" ><label for=\"sk-estimator-id-7\" class=\"sk-toggleable__label sk-toggleable__label-arrow\">DecisionTreeClassifier</label><div class=\"sk-toggleable__content\"><pre>DecisionTreeClassifier()</pre></div></div></div></div></div></div></div></div></div></div>"
     },
     "execution_count": 28,
     "metadata": {},
     "output_type": "execute_result"
    }
   ],
   "source": [
    "# 결과 확인\n",
    "\n",
    "result"
   ],
   "metadata": {
    "collapsed": false,
    "ExecuteTime": {
     "end_time": "2024-03-07T02:01:23.171518Z",
     "start_time": "2024-03-07T02:01:23.158502Z"
    }
   },
   "id": "8dbd2e389d5d8009",
   "execution_count": 28
  },
  {
   "cell_type": "code",
   "outputs": [],
   "source": [
    "# 학습 후 저장된 모델 파라미터 확인\n",
    "# 교차학습 결과 ⇒ 조합된 모델 갯수만큼\n",
    "cvresult = pd.DataFrame(gs.cv_results_)"
   ],
   "metadata": {
    "collapsed": false,
    "ExecuteTime": {
     "end_time": "2024-03-07T02:07:02.727591Z",
     "start_time": "2024-03-07T02:07:02.711530Z"
    }
   },
   "id": "644ee78c2a7e64ff",
   "execution_count": 32
  },
  {
   "cell_type": "code",
   "outputs": [
    {
     "data": {
      "text/plain": "    mean_fit_time  std_fit_time  mean_score_time  std_score_time  \\\n0        0.002632  4.816207e-04         0.001998        0.000503   \n1        0.001685  8.442343e-04         0.001098        0.000640   \n2        0.001386  5.009083e-04         0.001001        0.000009   \n3        0.001401  4.933916e-04         0.000999        0.000008   \n4        0.001203  4.057841e-04         0.000799        0.000399   \n5        0.001108  2.157473e-04         0.000801        0.000401   \n6        0.001000  6.646706e-06         0.001000        0.000006   \n7        0.001198  4.012985e-04         0.000800        0.000400   \n8        0.001000  4.101908e-07         0.000600        0.000490   \n9        0.001184  4.077941e-04         0.000401        0.000491   \n10       0.001000  1.849243e-06         0.001000        0.000008   \n11       0.001048  3.438911e-04         0.000815        0.000409   \n12       0.001769  2.734541e-04         0.000522        0.000468   \n13       0.001275  4.066735e-04         0.000434        0.000686   \n14       0.001049  3.180205e-04         0.000907        0.000486   \n15       0.001243  5.446838e-04         0.000929        0.000192   \n16       0.001138  2.241410e-04         0.000947        0.000512   \n17       0.001525  6.192649e-04         0.000803        0.000402   \n18       0.001107  2.607449e-04         0.001019        0.000057   \n19       0.000913  4.807592e-04         0.000820        0.000711   \n20       0.001068  3.130633e-04         0.000986        0.000553   \n21       0.001001  2.715880e-06         0.000600        0.000490   \n22       0.001183  4.698898e-04         0.000816        0.000409   \n23       0.001451  3.661762e-04         0.000787        0.000449   \n24       0.001170  5.945534e-04         0.000777        0.000507   \n25       0.001530  4.242079e-04         0.001093        0.000208   \n26       0.001083  6.743669e-04         0.001056        0.000460   \n\n   param_criterion param_max_depth param_min_samples_split  \\\n0             gini               5                       2   \n1             gini               5                       4   \n2             gini               5                       6   \n3             gini              10                       2   \n4             gini              10                       4   \n5             gini              10                       6   \n6             gini              15                       2   \n7             gini              15                       4   \n8             gini              15                       6   \n9          entropy               5                       2   \n10         entropy               5                       4   \n11         entropy               5                       6   \n12         entropy              10                       2   \n13         entropy              10                       4   \n14         entropy              10                       6   \n15         entropy              15                       2   \n16         entropy              15                       4   \n17         entropy              15                       6   \n18        log_loss               5                       2   \n19        log_loss               5                       4   \n20        log_loss               5                       6   \n21        log_loss              10                       2   \n22        log_loss              10                       4   \n23        log_loss              10                       6   \n24        log_loss              15                       2   \n25        log_loss              15                       4   \n26        log_loss              15                       6   \n\n                                               params  split0_test_score  \\\n0   {'criterion': 'gini', 'max_depth': 5, 'min_sam...           0.916667   \n1   {'criterion': 'gini', 'max_depth': 5, 'min_sam...           0.916667   \n2   {'criterion': 'gini', 'max_depth': 5, 'min_sam...           0.916667   \n3   {'criterion': 'gini', 'max_depth': 10, 'min_sa...           0.875000   \n4   {'criterion': 'gini', 'max_depth': 10, 'min_sa...           0.875000   \n5   {'criterion': 'gini', 'max_depth': 10, 'min_sa...           0.916667   \n6   {'criterion': 'gini', 'max_depth': 15, 'min_sa...           0.875000   \n7   {'criterion': 'gini', 'max_depth': 15, 'min_sa...           0.875000   \n8   {'criterion': 'gini', 'max_depth': 15, 'min_sa...           0.916667   \n9   {'criterion': 'entropy', 'max_depth': 5, 'min_...           0.916667   \n10  {'criterion': 'entropy', 'max_depth': 5, 'min_...           0.916667   \n11  {'criterion': 'entropy', 'max_depth': 5, 'min_...           0.916667   \n12  {'criterion': 'entropy', 'max_depth': 10, 'min...           0.875000   \n13  {'criterion': 'entropy', 'max_depth': 10, 'min...           0.875000   \n14  {'criterion': 'entropy', 'max_depth': 10, 'min...           0.916667   \n15  {'criterion': 'entropy', 'max_depth': 15, 'min...           0.875000   \n16  {'criterion': 'entropy', 'max_depth': 15, 'min...           0.875000   \n17  {'criterion': 'entropy', 'max_depth': 15, 'min...           0.916667   \n18  {'criterion': 'log_loss', 'max_depth': 5, 'min...           0.916667   \n19  {'criterion': 'log_loss', 'max_depth': 5, 'min...           0.916667   \n20  {'criterion': 'log_loss', 'max_depth': 5, 'min...           0.916667   \n21  {'criterion': 'log_loss', 'max_depth': 10, 'mi...           0.875000   \n22  {'criterion': 'log_loss', 'max_depth': 10, 'mi...           0.875000   \n23  {'criterion': 'log_loss', 'max_depth': 10, 'mi...           0.916667   \n24  {'criterion': 'log_loss', 'max_depth': 15, 'mi...           0.875000   \n25  {'criterion': 'log_loss', 'max_depth': 15, 'mi...           0.875000   \n26  {'criterion': 'log_loss', 'max_depth': 15, 'mi...           0.916667   \n\n    split1_test_score  split2_test_score  split3_test_score  \\\n0            0.875000              0.875           0.958333   \n1            0.875000              0.875           0.958333   \n2            0.916667              0.875           0.958333   \n3            0.875000              0.875           0.875000   \n4            0.875000              0.875           0.875000   \n5            0.916667              0.875           0.958333   \n6            0.875000              0.875           0.875000   \n7            0.875000              0.875           0.875000   \n8            0.916667              0.875           0.958333   \n9            0.958333              0.875           0.958333   \n10           0.958333              0.875           0.958333   \n11           0.958333              0.875           0.958333   \n12           0.958333              0.875           0.875000   \n13           0.958333              0.875           0.875000   \n14           0.958333              0.875           0.875000   \n15           0.958333              0.875           0.875000   \n16           0.958333              0.875           0.875000   \n17           0.958333              0.875           0.875000   \n18           0.958333              0.875           0.958333   \n19           0.958333              0.875           0.958333   \n20           0.958333              0.875           0.958333   \n21           0.958333              0.875           0.875000   \n22           0.958333              0.875           0.875000   \n23           0.958333              0.875           0.875000   \n24           0.958333              0.875           0.875000   \n25           0.958333              0.875           0.875000   \n26           0.958333              0.875           0.875000   \n\n    split4_test_score  mean_test_score  std_test_score  rank_test_score  \n0            0.958333         0.916667        0.037268               10  \n1            0.958333         0.916667        0.037268               10  \n2            0.958333         0.925000        0.031180                7  \n3            0.958333         0.891667        0.033333               24  \n4            0.958333         0.891667        0.033333               24  \n5            0.958333         0.925000        0.031180                7  \n6            0.958333         0.891667        0.033333               24  \n7            0.958333         0.891667        0.033333               24  \n8            0.958333         0.925000        0.031180                7  \n9            0.958333         0.933333        0.033333                1  \n10           0.958333         0.933333        0.033333                1  \n11           0.958333         0.933333        0.033333                1  \n12           0.958333         0.908333        0.040825               16  \n13           0.958333         0.908333        0.040825               16  \n14           0.958333         0.916667        0.037268               10  \n15           0.958333         0.908333        0.040825               16  \n16           0.958333         0.908333        0.040825               16  \n17           0.958333         0.916667        0.037268               10  \n18           0.958333         0.933333        0.033333                1  \n19           0.958333         0.933333        0.033333                1  \n20           0.958333         0.933333        0.033333                1  \n21           0.958333         0.908333        0.040825               16  \n22           0.958333         0.908333        0.040825               16  \n23           0.958333         0.916667        0.037268               10  \n24           0.958333         0.908333        0.040825               16  \n25           0.958333         0.908333        0.040825               16  \n26           0.958333         0.916667        0.037268               10  ",
      "text/html": "<div>\n<style scoped>\n    .dataframe tbody tr th:only-of-type {\n        vertical-align: middle;\n    }\n\n    .dataframe tbody tr th {\n        vertical-align: top;\n    }\n\n    .dataframe thead th {\n        text-align: right;\n    }\n</style>\n<table border=\"1\" class=\"dataframe\">\n  <thead>\n    <tr style=\"text-align: right;\">\n      <th></th>\n      <th>mean_fit_time</th>\n      <th>std_fit_time</th>\n      <th>mean_score_time</th>\n      <th>std_score_time</th>\n      <th>param_criterion</th>\n      <th>param_max_depth</th>\n      <th>param_min_samples_split</th>\n      <th>params</th>\n      <th>split0_test_score</th>\n      <th>split1_test_score</th>\n      <th>split2_test_score</th>\n      <th>split3_test_score</th>\n      <th>split4_test_score</th>\n      <th>mean_test_score</th>\n      <th>std_test_score</th>\n      <th>rank_test_score</th>\n    </tr>\n  </thead>\n  <tbody>\n    <tr>\n      <th>0</th>\n      <td>0.002632</td>\n      <td>4.816207e-04</td>\n      <td>0.001998</td>\n      <td>0.000503</td>\n      <td>gini</td>\n      <td>5</td>\n      <td>2</td>\n      <td>{'criterion': 'gini', 'max_depth': 5, 'min_sam...</td>\n      <td>0.916667</td>\n      <td>0.875000</td>\n      <td>0.875</td>\n      <td>0.958333</td>\n      <td>0.958333</td>\n      <td>0.916667</td>\n      <td>0.037268</td>\n      <td>10</td>\n    </tr>\n    <tr>\n      <th>1</th>\n      <td>0.001685</td>\n      <td>8.442343e-04</td>\n      <td>0.001098</td>\n      <td>0.000640</td>\n      <td>gini</td>\n      <td>5</td>\n      <td>4</td>\n      <td>{'criterion': 'gini', 'max_depth': 5, 'min_sam...</td>\n      <td>0.916667</td>\n      <td>0.875000</td>\n      <td>0.875</td>\n      <td>0.958333</td>\n      <td>0.958333</td>\n      <td>0.916667</td>\n      <td>0.037268</td>\n      <td>10</td>\n    </tr>\n    <tr>\n      <th>2</th>\n      <td>0.001386</td>\n      <td>5.009083e-04</td>\n      <td>0.001001</td>\n      <td>0.000009</td>\n      <td>gini</td>\n      <td>5</td>\n      <td>6</td>\n      <td>{'criterion': 'gini', 'max_depth': 5, 'min_sam...</td>\n      <td>0.916667</td>\n      <td>0.916667</td>\n      <td>0.875</td>\n      <td>0.958333</td>\n      <td>0.958333</td>\n      <td>0.925000</td>\n      <td>0.031180</td>\n      <td>7</td>\n    </tr>\n    <tr>\n      <th>3</th>\n      <td>0.001401</td>\n      <td>4.933916e-04</td>\n      <td>0.000999</td>\n      <td>0.000008</td>\n      <td>gini</td>\n      <td>10</td>\n      <td>2</td>\n      <td>{'criterion': 'gini', 'max_depth': 10, 'min_sa...</td>\n      <td>0.875000</td>\n      <td>0.875000</td>\n      <td>0.875</td>\n      <td>0.875000</td>\n      <td>0.958333</td>\n      <td>0.891667</td>\n      <td>0.033333</td>\n      <td>24</td>\n    </tr>\n    <tr>\n      <th>4</th>\n      <td>0.001203</td>\n      <td>4.057841e-04</td>\n      <td>0.000799</td>\n      <td>0.000399</td>\n      <td>gini</td>\n      <td>10</td>\n      <td>4</td>\n      <td>{'criterion': 'gini', 'max_depth': 10, 'min_sa...</td>\n      <td>0.875000</td>\n      <td>0.875000</td>\n      <td>0.875</td>\n      <td>0.875000</td>\n      <td>0.958333</td>\n      <td>0.891667</td>\n      <td>0.033333</td>\n      <td>24</td>\n    </tr>\n    <tr>\n      <th>5</th>\n      <td>0.001108</td>\n      <td>2.157473e-04</td>\n      <td>0.000801</td>\n      <td>0.000401</td>\n      <td>gini</td>\n      <td>10</td>\n      <td>6</td>\n      <td>{'criterion': 'gini', 'max_depth': 10, 'min_sa...</td>\n      <td>0.916667</td>\n      <td>0.916667</td>\n      <td>0.875</td>\n      <td>0.958333</td>\n      <td>0.958333</td>\n      <td>0.925000</td>\n      <td>0.031180</td>\n      <td>7</td>\n    </tr>\n    <tr>\n      <th>6</th>\n      <td>0.001000</td>\n      <td>6.646706e-06</td>\n      <td>0.001000</td>\n      <td>0.000006</td>\n      <td>gini</td>\n      <td>15</td>\n      <td>2</td>\n      <td>{'criterion': 'gini', 'max_depth': 15, 'min_sa...</td>\n      <td>0.875000</td>\n      <td>0.875000</td>\n      <td>0.875</td>\n      <td>0.875000</td>\n      <td>0.958333</td>\n      <td>0.891667</td>\n      <td>0.033333</td>\n      <td>24</td>\n    </tr>\n    <tr>\n      <th>7</th>\n      <td>0.001198</td>\n      <td>4.012985e-04</td>\n      <td>0.000800</td>\n      <td>0.000400</td>\n      <td>gini</td>\n      <td>15</td>\n      <td>4</td>\n      <td>{'criterion': 'gini', 'max_depth': 15, 'min_sa...</td>\n      <td>0.875000</td>\n      <td>0.875000</td>\n      <td>0.875</td>\n      <td>0.875000</td>\n      <td>0.958333</td>\n      <td>0.891667</td>\n      <td>0.033333</td>\n      <td>24</td>\n    </tr>\n    <tr>\n      <th>8</th>\n      <td>0.001000</td>\n      <td>4.101908e-07</td>\n      <td>0.000600</td>\n      <td>0.000490</td>\n      <td>gini</td>\n      <td>15</td>\n      <td>6</td>\n      <td>{'criterion': 'gini', 'max_depth': 15, 'min_sa...</td>\n      <td>0.916667</td>\n      <td>0.916667</td>\n      <td>0.875</td>\n      <td>0.958333</td>\n      <td>0.958333</td>\n      <td>0.925000</td>\n      <td>0.031180</td>\n      <td>7</td>\n    </tr>\n    <tr>\n      <th>9</th>\n      <td>0.001184</td>\n      <td>4.077941e-04</td>\n      <td>0.000401</td>\n      <td>0.000491</td>\n      <td>entropy</td>\n      <td>5</td>\n      <td>2</td>\n      <td>{'criterion': 'entropy', 'max_depth': 5, 'min_...</td>\n      <td>0.916667</td>\n      <td>0.958333</td>\n      <td>0.875</td>\n      <td>0.958333</td>\n      <td>0.958333</td>\n      <td>0.933333</td>\n      <td>0.033333</td>\n      <td>1</td>\n    </tr>\n    <tr>\n      <th>10</th>\n      <td>0.001000</td>\n      <td>1.849243e-06</td>\n      <td>0.001000</td>\n      <td>0.000008</td>\n      <td>entropy</td>\n      <td>5</td>\n      <td>4</td>\n      <td>{'criterion': 'entropy', 'max_depth': 5, 'min_...</td>\n      <td>0.916667</td>\n      <td>0.958333</td>\n      <td>0.875</td>\n      <td>0.958333</td>\n      <td>0.958333</td>\n      <td>0.933333</td>\n      <td>0.033333</td>\n      <td>1</td>\n    </tr>\n    <tr>\n      <th>11</th>\n      <td>0.001048</td>\n      <td>3.438911e-04</td>\n      <td>0.000815</td>\n      <td>0.000409</td>\n      <td>entropy</td>\n      <td>5</td>\n      <td>6</td>\n      <td>{'criterion': 'entropy', 'max_depth': 5, 'min_...</td>\n      <td>0.916667</td>\n      <td>0.958333</td>\n      <td>0.875</td>\n      <td>0.958333</td>\n      <td>0.958333</td>\n      <td>0.933333</td>\n      <td>0.033333</td>\n      <td>1</td>\n    </tr>\n    <tr>\n      <th>12</th>\n      <td>0.001769</td>\n      <td>2.734541e-04</td>\n      <td>0.000522</td>\n      <td>0.000468</td>\n      <td>entropy</td>\n      <td>10</td>\n      <td>2</td>\n      <td>{'criterion': 'entropy', 'max_depth': 10, 'min...</td>\n      <td>0.875000</td>\n      <td>0.958333</td>\n      <td>0.875</td>\n      <td>0.875000</td>\n      <td>0.958333</td>\n      <td>0.908333</td>\n      <td>0.040825</td>\n      <td>16</td>\n    </tr>\n    <tr>\n      <th>13</th>\n      <td>0.001275</td>\n      <td>4.066735e-04</td>\n      <td>0.000434</td>\n      <td>0.000686</td>\n      <td>entropy</td>\n      <td>10</td>\n      <td>4</td>\n      <td>{'criterion': 'entropy', 'max_depth': 10, 'min...</td>\n      <td>0.875000</td>\n      <td>0.958333</td>\n      <td>0.875</td>\n      <td>0.875000</td>\n      <td>0.958333</td>\n      <td>0.908333</td>\n      <td>0.040825</td>\n      <td>16</td>\n    </tr>\n    <tr>\n      <th>14</th>\n      <td>0.001049</td>\n      <td>3.180205e-04</td>\n      <td>0.000907</td>\n      <td>0.000486</td>\n      <td>entropy</td>\n      <td>10</td>\n      <td>6</td>\n      <td>{'criterion': 'entropy', 'max_depth': 10, 'min...</td>\n      <td>0.916667</td>\n      <td>0.958333</td>\n      <td>0.875</td>\n      <td>0.875000</td>\n      <td>0.958333</td>\n      <td>0.916667</td>\n      <td>0.037268</td>\n      <td>10</td>\n    </tr>\n    <tr>\n      <th>15</th>\n      <td>0.001243</td>\n      <td>5.446838e-04</td>\n      <td>0.000929</td>\n      <td>0.000192</td>\n      <td>entropy</td>\n      <td>15</td>\n      <td>2</td>\n      <td>{'criterion': 'entropy', 'max_depth': 15, 'min...</td>\n      <td>0.875000</td>\n      <td>0.958333</td>\n      <td>0.875</td>\n      <td>0.875000</td>\n      <td>0.958333</td>\n      <td>0.908333</td>\n      <td>0.040825</td>\n      <td>16</td>\n    </tr>\n    <tr>\n      <th>16</th>\n      <td>0.001138</td>\n      <td>2.241410e-04</td>\n      <td>0.000947</td>\n      <td>0.000512</td>\n      <td>entropy</td>\n      <td>15</td>\n      <td>4</td>\n      <td>{'criterion': 'entropy', 'max_depth': 15, 'min...</td>\n      <td>0.875000</td>\n      <td>0.958333</td>\n      <td>0.875</td>\n      <td>0.875000</td>\n      <td>0.958333</td>\n      <td>0.908333</td>\n      <td>0.040825</td>\n      <td>16</td>\n    </tr>\n    <tr>\n      <th>17</th>\n      <td>0.001525</td>\n      <td>6.192649e-04</td>\n      <td>0.000803</td>\n      <td>0.000402</td>\n      <td>entropy</td>\n      <td>15</td>\n      <td>6</td>\n      <td>{'criterion': 'entropy', 'max_depth': 15, 'min...</td>\n      <td>0.916667</td>\n      <td>0.958333</td>\n      <td>0.875</td>\n      <td>0.875000</td>\n      <td>0.958333</td>\n      <td>0.916667</td>\n      <td>0.037268</td>\n      <td>10</td>\n    </tr>\n    <tr>\n      <th>18</th>\n      <td>0.001107</td>\n      <td>2.607449e-04</td>\n      <td>0.001019</td>\n      <td>0.000057</td>\n      <td>log_loss</td>\n      <td>5</td>\n      <td>2</td>\n      <td>{'criterion': 'log_loss', 'max_depth': 5, 'min...</td>\n      <td>0.916667</td>\n      <td>0.958333</td>\n      <td>0.875</td>\n      <td>0.958333</td>\n      <td>0.958333</td>\n      <td>0.933333</td>\n      <td>0.033333</td>\n      <td>1</td>\n    </tr>\n    <tr>\n      <th>19</th>\n      <td>0.000913</td>\n      <td>4.807592e-04</td>\n      <td>0.000820</td>\n      <td>0.000711</td>\n      <td>log_loss</td>\n      <td>5</td>\n      <td>4</td>\n      <td>{'criterion': 'log_loss', 'max_depth': 5, 'min...</td>\n      <td>0.916667</td>\n      <td>0.958333</td>\n      <td>0.875</td>\n      <td>0.958333</td>\n      <td>0.958333</td>\n      <td>0.933333</td>\n      <td>0.033333</td>\n      <td>1</td>\n    </tr>\n    <tr>\n      <th>20</th>\n      <td>0.001068</td>\n      <td>3.130633e-04</td>\n      <td>0.000986</td>\n      <td>0.000553</td>\n      <td>log_loss</td>\n      <td>5</td>\n      <td>6</td>\n      <td>{'criterion': 'log_loss', 'max_depth': 5, 'min...</td>\n      <td>0.916667</td>\n      <td>0.958333</td>\n      <td>0.875</td>\n      <td>0.958333</td>\n      <td>0.958333</td>\n      <td>0.933333</td>\n      <td>0.033333</td>\n      <td>1</td>\n    </tr>\n    <tr>\n      <th>21</th>\n      <td>0.001001</td>\n      <td>2.715880e-06</td>\n      <td>0.000600</td>\n      <td>0.000490</td>\n      <td>log_loss</td>\n      <td>10</td>\n      <td>2</td>\n      <td>{'criterion': 'log_loss', 'max_depth': 10, 'mi...</td>\n      <td>0.875000</td>\n      <td>0.958333</td>\n      <td>0.875</td>\n      <td>0.875000</td>\n      <td>0.958333</td>\n      <td>0.908333</td>\n      <td>0.040825</td>\n      <td>16</td>\n    </tr>\n    <tr>\n      <th>22</th>\n      <td>0.001183</td>\n      <td>4.698898e-04</td>\n      <td>0.000816</td>\n      <td>0.000409</td>\n      <td>log_loss</td>\n      <td>10</td>\n      <td>4</td>\n      <td>{'criterion': 'log_loss', 'max_depth': 10, 'mi...</td>\n      <td>0.875000</td>\n      <td>0.958333</td>\n      <td>0.875</td>\n      <td>0.875000</td>\n      <td>0.958333</td>\n      <td>0.908333</td>\n      <td>0.040825</td>\n      <td>16</td>\n    </tr>\n    <tr>\n      <th>23</th>\n      <td>0.001451</td>\n      <td>3.661762e-04</td>\n      <td>0.000787</td>\n      <td>0.000449</td>\n      <td>log_loss</td>\n      <td>10</td>\n      <td>6</td>\n      <td>{'criterion': 'log_loss', 'max_depth': 10, 'mi...</td>\n      <td>0.916667</td>\n      <td>0.958333</td>\n      <td>0.875</td>\n      <td>0.875000</td>\n      <td>0.958333</td>\n      <td>0.916667</td>\n      <td>0.037268</td>\n      <td>10</td>\n    </tr>\n    <tr>\n      <th>24</th>\n      <td>0.001170</td>\n      <td>5.945534e-04</td>\n      <td>0.000777</td>\n      <td>0.000507</td>\n      <td>log_loss</td>\n      <td>15</td>\n      <td>2</td>\n      <td>{'criterion': 'log_loss', 'max_depth': 15, 'mi...</td>\n      <td>0.875000</td>\n      <td>0.958333</td>\n      <td>0.875</td>\n      <td>0.875000</td>\n      <td>0.958333</td>\n      <td>0.908333</td>\n      <td>0.040825</td>\n      <td>16</td>\n    </tr>\n    <tr>\n      <th>25</th>\n      <td>0.001530</td>\n      <td>4.242079e-04</td>\n      <td>0.001093</td>\n      <td>0.000208</td>\n      <td>log_loss</td>\n      <td>15</td>\n      <td>4</td>\n      <td>{'criterion': 'log_loss', 'max_depth': 15, 'mi...</td>\n      <td>0.875000</td>\n      <td>0.958333</td>\n      <td>0.875</td>\n      <td>0.875000</td>\n      <td>0.958333</td>\n      <td>0.908333</td>\n      <td>0.040825</td>\n      <td>16</td>\n    </tr>\n    <tr>\n      <th>26</th>\n      <td>0.001083</td>\n      <td>6.743669e-04</td>\n      <td>0.001056</td>\n      <td>0.000460</td>\n      <td>log_loss</td>\n      <td>15</td>\n      <td>6</td>\n      <td>{'criterion': 'log_loss', 'max_depth': 15, 'mi...</td>\n      <td>0.916667</td>\n      <td>0.958333</td>\n      <td>0.875</td>\n      <td>0.875000</td>\n      <td>0.958333</td>\n      <td>0.916667</td>\n      <td>0.037268</td>\n      <td>10</td>\n    </tr>\n  </tbody>\n</table>\n</div>"
     },
     "execution_count": 33,
     "metadata": {},
     "output_type": "execute_result"
    }
   ],
   "source": [
    "cvresult"
   ],
   "metadata": {
    "collapsed": false,
    "ExecuteTime": {
     "end_time": "2024-03-07T02:07:03.197544Z",
     "start_time": "2024-03-07T02:07:03.168381Z"
    }
   },
   "id": "5a16e078e5b699f6",
   "execution_count": 33
  },
  {
   "cell_type": "code",
   "outputs": [
    {
     "data": {
      "text/plain": "{'criterion': 'entropy', 'max_depth': 5, 'min_samples_split': 2}"
     },
     "execution_count": 37,
     "metadata": {},
     "output_type": "execute_result"
    }
   ],
   "source": [
    "# 조합된 모델 중 최고의 성능을 내는 하이퍼파라미터\n",
    "\n",
    "gs.best_params_"
   ],
   "metadata": {
    "collapsed": false,
    "ExecuteTime": {
     "end_time": "2024-03-07T02:09:23.787434Z",
     "start_time": "2024-03-07T02:09:23.770426Z"
    }
   },
   "id": "cf50ce9eca5aa7d5",
   "execution_count": 37
  },
  {
   "cell_type": "code",
   "outputs": [
    {
     "data": {
      "text/plain": "0.9333333333333333"
     },
     "execution_count": 38,
     "metadata": {},
     "output_type": "execute_result"
    }
   ],
   "source": [
    "# 조합된 모델 중 최고의 점수\n",
    "gs.best_score_"
   ],
   "metadata": {
    "collapsed": false,
    "ExecuteTime": {
     "end_time": "2024-03-07T02:09:23.914413Z",
     "start_time": "2024-03-07T02:09:23.896403Z"
    }
   },
   "id": "598036accbc8e3f8",
   "execution_count": 38
  },
  {
   "cell_type": "code",
   "outputs": [],
   "source": [
    "# 조합된 모델 중 최고의 성능을 내는 모델 인스턴스\n",
    "\n",
    "bestmodel = gs.best_estimator_"
   ],
   "metadata": {
    "collapsed": false,
    "ExecuteTime": {
     "end_time": "2024-03-07T02:18:58.701899Z",
     "start_time": "2024-03-07T02:18:58.689900Z"
    }
   },
   "id": "12c6ad75d4d3d6f2",
   "execution_count": 45
  },
  {
   "cell_type": "markdown",
   "source": [
    "6. 학습 및 튜닝 이후 모델 저장\n",
    "<hr>\n",
    "\n",
    "- 다른 파일에서 활용 가능한 파일 형태로 저장\n",
    "- 웹 / 앱 등 원하는 곳에서 활용 가능\n",
    "- sklearn에서는 pickle 포맷으로 저장\n",
    "- joblib 모듈에 포함됨"
   ],
   "metadata": {
    "collapsed": false
   },
   "id": "88e6e85b7191419e"
  },
  {
   "cell_type": "code",
   "outputs": [],
   "source": [
    "import joblib\n",
    "import os"
   ],
   "metadata": {
    "collapsed": false,
    "ExecuteTime": {
     "end_time": "2024-03-07T02:18:59.808623Z",
     "start_time": "2024-03-07T02:18:59.794262Z"
    }
   },
   "id": "ba506b8c01df16a1",
   "execution_count": 46
  },
  {
   "cell_type": "code",
   "outputs": [],
   "source": [
    "# 모델 저장\n",
    "md_filename = 'iris_dt.pkl'\n",
    "md_dir = '../model/'\n",
    "# 저장폴더 존재여부 확인 후 저장하기\n",
    "if not os.path.exists(md_dir):\n",
    "    os.mkdir(md_dir)\n"
   ],
   "metadata": {
    "collapsed": false,
    "ExecuteTime": {
     "end_time": "2024-03-07T02:19:52.670262Z",
     "start_time": "2024-03-07T02:19:52.653263Z"
    }
   },
   "id": "f91838c014074d5e",
   "execution_count": 49
  },
  {
   "cell_type": "code",
   "outputs": [
    {
     "data": {
      "text/plain": "['iris_dt.pkl']"
     },
     "execution_count": 50,
     "metadata": {},
     "output_type": "execute_result"
    }
   ],
   "source": [
    "joblib.dump(bestmodel, md_filename)"
   ],
   "metadata": {
    "collapsed": false,
    "ExecuteTime": {
     "end_time": "2024-03-07T02:19:53.451457Z",
     "start_time": "2024-03-07T02:19:53.438307Z"
    }
   },
   "id": "559732f866e38290",
   "execution_count": 50
  },
  {
   "cell_type": "code",
   "outputs": [],
   "source": [],
   "metadata": {
    "collapsed": false
   },
   "id": "b0f156e86b56a89b"
  }
 ],
 "metadata": {
  "kernelspec": {
   "display_name": "Python 3",
   "language": "python",
   "name": "python3"
  },
  "language_info": {
   "codemirror_mode": {
    "name": "ipython",
    "version": 2
   },
   "file_extension": ".py",
   "mimetype": "text/x-python",
   "name": "python",
   "nbconvert_exporter": "python",
   "pygments_lexer": "ipython2",
   "version": "2.7.6"
  }
 },
 "nbformat": 4,
 "nbformat_minor": 5
}
