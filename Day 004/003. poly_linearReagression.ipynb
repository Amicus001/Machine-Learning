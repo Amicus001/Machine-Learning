{
 "cells": [
  {
   "cell_type": "markdown",
   "source": [
    "### 목표 : 부족한 feature를 조합 생성하여 모델 성능 향상\n",
    "- 특성공학 : feature 추출 / 선택 / 생성\n",
    "- 비선형 데이터에 대한 feature 생성: 곡선형태의 회귀선 수식 생성\n",
    "- 모듈     : sklearn.preprocessing 안에 포함됨\n",
    "- data     : fish. csv\n",
    "- feature  : Perch의 height, Length, Width\n",
    "- target   : Perch의 Width\n",
    "- 학습 유형: 지도학습\n"
   ],
   "metadata": {
    "collapsed": false
   },
   "id": "cda64e7868822007"
  },
  {
   "cell_type": "markdown",
   "source": [
    " 전처리 feature 조합 생성 살펴보기\n"
   ],
   "metadata": {
    "collapsed": false
   },
   "id": "2e946c16d265c617"
  },
  {
   "cell_type": "code",
   "outputs": [],
   "source": [
    "# 모듈 로딩\n",
    "from sklearn.preprocessing import PolynomialFeatures\n",
    "import pandas as pd\n",
    "import matplotlib.pyplot as plt\n",
    "import numpy as np\n",
    "from sklearn.linear_model import LinearRegression\n",
    "from sklearn.model_selection import train_test_split\n",
    "from sklearn.preprocessing import StandardScaler, MinMaxScaler, RobustScaler\n",
    "from sklearn.metrics import mean_squared_error, r2_score"
   ],
   "metadata": {
    "collapsed": false,
    "ExecuteTime": {
     "end_time": "2024-02-28T07:54:32.320885800Z",
     "start_time": "2024-02-28T07:54:32.251188400Z"
    }
   },
   "id": "557823695152afde",
   "execution_count": 39
  },
  {
   "cell_type": "code",
   "outputs": [],
   "source": [
    "# 인스턴스 생성\n",
    "poly = PolynomialFeatures(include_bias=False)"
   ],
   "metadata": {
    "collapsed": false,
    "ExecuteTime": {
     "end_time": "2024-02-28T07:54:32.337886Z",
     "start_time": "2024-02-28T07:54:32.324882700Z"
    }
   },
   "id": "69809efbe515c168",
   "execution_count": 40
  },
  {
   "cell_type": "code",
   "outputs": [
    {
     "data": {
      "text/plain": "PolynomialFeatures(include_bias=False)",
      "text/html": "<style>#sk-container-id-3 {color: black;}#sk-container-id-3 pre{padding: 0;}#sk-container-id-3 div.sk-toggleable {background-color: white;}#sk-container-id-3 label.sk-toggleable__label {cursor: pointer;display: block;width: 100%;margin-bottom: 0;padding: 0.3em;box-sizing: border-box;text-align: center;}#sk-container-id-3 label.sk-toggleable__label-arrow:before {content: \"▸\";float: left;margin-right: 0.25em;color: #696969;}#sk-container-id-3 label.sk-toggleable__label-arrow:hover:before {color: black;}#sk-container-id-3 div.sk-estimator:hover label.sk-toggleable__label-arrow:before {color: black;}#sk-container-id-3 div.sk-toggleable__content {max-height: 0;max-width: 0;overflow: hidden;text-align: left;background-color: #f0f8ff;}#sk-container-id-3 div.sk-toggleable__content pre {margin: 0.2em;color: black;border-radius: 0.25em;background-color: #f0f8ff;}#sk-container-id-3 input.sk-toggleable__control:checked~div.sk-toggleable__content {max-height: 200px;max-width: 100%;overflow: auto;}#sk-container-id-3 input.sk-toggleable__control:checked~label.sk-toggleable__label-arrow:before {content: \"▾\";}#sk-container-id-3 div.sk-estimator input.sk-toggleable__control:checked~label.sk-toggleable__label {background-color: #d4ebff;}#sk-container-id-3 div.sk-label input.sk-toggleable__control:checked~label.sk-toggleable__label {background-color: #d4ebff;}#sk-container-id-3 input.sk-hidden--visually {border: 0;clip: rect(1px 1px 1px 1px);clip: rect(1px, 1px, 1px, 1px);height: 1px;margin: -1px;overflow: hidden;padding: 0;position: absolute;width: 1px;}#sk-container-id-3 div.sk-estimator {font-family: monospace;background-color: #f0f8ff;border: 1px dotted black;border-radius: 0.25em;box-sizing: border-box;margin-bottom: 0.5em;}#sk-container-id-3 div.sk-estimator:hover {background-color: #d4ebff;}#sk-container-id-3 div.sk-parallel-item::after {content: \"\";width: 100%;border-bottom: 1px solid gray;flex-grow: 1;}#sk-container-id-3 div.sk-label:hover label.sk-toggleable__label {background-color: #d4ebff;}#sk-container-id-3 div.sk-serial::before {content: \"\";position: absolute;border-left: 1px solid gray;box-sizing: border-box;top: 0;bottom: 0;left: 50%;z-index: 0;}#sk-container-id-3 div.sk-serial {display: flex;flex-direction: column;align-items: center;background-color: white;padding-right: 0.2em;padding-left: 0.2em;position: relative;}#sk-container-id-3 div.sk-item {position: relative;z-index: 1;}#sk-container-id-3 div.sk-parallel {display: flex;align-items: stretch;justify-content: center;background-color: white;position: relative;}#sk-container-id-3 div.sk-item::before, #sk-container-id-3 div.sk-parallel-item::before {content: \"\";position: absolute;border-left: 1px solid gray;box-sizing: border-box;top: 0;bottom: 0;left: 50%;z-index: -1;}#sk-container-id-3 div.sk-parallel-item {display: flex;flex-direction: column;z-index: 1;position: relative;background-color: white;}#sk-container-id-3 div.sk-parallel-item:first-child::after {align-self: flex-end;width: 50%;}#sk-container-id-3 div.sk-parallel-item:last-child::after {align-self: flex-start;width: 50%;}#sk-container-id-3 div.sk-parallel-item:only-child::after {width: 0;}#sk-container-id-3 div.sk-dashed-wrapped {border: 1px dashed gray;margin: 0 0.4em 0.5em 0.4em;box-sizing: border-box;padding-bottom: 0.4em;background-color: white;}#sk-container-id-3 div.sk-label label {font-family: monospace;font-weight: bold;display: inline-block;line-height: 1.2em;}#sk-container-id-3 div.sk-label-container {text-align: center;}#sk-container-id-3 div.sk-container {/* jupyter's `normalize.less` sets `[hidden] { display: none; }` but bootstrap.min.css set `[hidden] { display: none !important; }` so we also need the `!important` here to be able to override the default hidden behavior on the sphinx rendered scikit-learn.org. See: https://github.com/scikit-learn/scikit-learn/issues/21755 */display: inline-block !important;position: relative;}#sk-container-id-3 div.sk-text-repr-fallback {display: none;}</style><div id=\"sk-container-id-3\" class=\"sk-top-container\"><div class=\"sk-text-repr-fallback\"><pre>PolynomialFeatures(include_bias=False)</pre><b>In a Jupyter environment, please rerun this cell to show the HTML representation or trust the notebook. <br />On GitHub, the HTML representation is unable to render, please try loading this page with nbviewer.org.</b></div><div class=\"sk-container\" hidden><div class=\"sk-item\"><div class=\"sk-estimator sk-toggleable\"><input class=\"sk-toggleable__control sk-hidden--visually\" id=\"sk-estimator-id-3\" type=\"checkbox\" checked><label for=\"sk-estimator-id-3\" class=\"sk-toggleable__label sk-toggleable__label-arrow\">PolynomialFeatures</label><div class=\"sk-toggleable__content\"><pre>PolynomialFeatures(include_bias=False)</pre></div></div></div></div></div>"
     },
     "execution_count": 41,
     "metadata": {},
     "output_type": "execute_result"
    }
   ],
   "source": [
    "poly.fit([[2,3]])"
   ],
   "metadata": {
    "collapsed": false,
    "ExecuteTime": {
     "end_time": "2024-02-28T07:54:32.365887200Z",
     "start_time": "2024-02-28T07:54:32.340883500Z"
    }
   },
   "id": "d1d73ed32936456a",
   "execution_count": 41
  },
  {
   "cell_type": "code",
   "outputs": [
    {
     "data": {
      "text/plain": "array([[2., 3., 4., 6., 9.]])"
     },
     "execution_count": 42,
     "metadata": {},
     "output_type": "execute_result"
    }
   ],
   "source": [
    "poly.transform([[2,3]])"
   ],
   "metadata": {
    "collapsed": false,
    "ExecuteTime": {
     "end_time": "2024-02-28T07:54:32.368886300Z",
     "start_time": "2024-02-28T07:54:32.354884700Z"
    }
   },
   "id": "5b1e4c1439b31ffc",
   "execution_count": 42
  },
  {
   "cell_type": "code",
   "outputs": [
    {
     "data": {
      "text/plain": "array([[  2.,   3.,   4.,   6.,   9.,   8.,  12.,  18.,  27.,  16.,  24.,\n         36.,  54.,  81.,  32.,  48.,  72., 108., 162., 243.]])"
     },
     "execution_count": 43,
     "metadata": {},
     "output_type": "execute_result"
    }
   ],
   "source": [
    "poly = PolynomialFeatures(include_bias=False, degree= 5)\n",
    "poly.fit([[2,3]])\n",
    "poly.transform([[2,3]])"
   ],
   "metadata": {
    "collapsed": false,
    "ExecuteTime": {
     "end_time": "2024-02-28T07:54:32.403394100Z",
     "start_time": "2024-02-28T07:54:32.374886700Z"
    }
   },
   "id": "2d42d1e6c9c5e01d",
   "execution_count": 43
  },
  {
   "cell_type": "code",
   "outputs": [
    {
     "data": {
      "text/plain": "array(['x0', 'x1', 'x0^2', 'x0 x1', 'x1^2', 'x0^3', 'x0^2 x1', 'x0 x1^2',\n       'x1^3', 'x0^4', 'x0^3 x1', 'x0^2 x1^2', 'x0 x1^3', 'x1^4', 'x0^5',\n       'x0^4 x1', 'x0^3 x1^2', 'x0^2 x1^3', 'x0 x1^4', 'x1^5'],\n      dtype=object)"
     },
     "execution_count": 44,
     "metadata": {},
     "output_type": "execute_result"
    }
   ],
   "source": [
    "poly.get_feature_names_out()"
   ],
   "metadata": {
    "collapsed": false,
    "ExecuteTime": {
     "end_time": "2024-02-28T07:54:32.404394Z",
     "start_time": "2024-02-28T07:54:32.385393Z"
    }
   },
   "id": "18335e36329a5fb5",
   "execution_count": 44
  },
  {
   "cell_type": "markdown",
   "source": [
    "2. Perch 데이터를 최대한 만족하는 회귀선 찾기\n"
   ],
   "metadata": {
    "collapsed": false
   },
   "id": "cb7f7d920edfae2d"
  },
  {
   "cell_type": "markdown",
   "source": [
    "2-1. module loading, data preset"
   ],
   "metadata": {
    "collapsed": false
   },
   "id": "2afc5ef61eb679cf"
  },
  {
   "cell_type": "code",
   "outputs": [],
   "source": [
    "import numpy as np\n",
    "import pandas as pd\n",
    "import matplotlib.pyplot as plt\n"
   ],
   "metadata": {
    "collapsed": false,
    "ExecuteTime": {
     "end_time": "2024-02-28T07:54:32.440862700Z",
     "start_time": "2024-02-28T07:54:32.407393200Z"
    }
   },
   "id": "c3ea0a74fa4a518",
   "execution_count": 45
  },
  {
   "cell_type": "code",
   "outputs": [
    {
     "name": "stdout",
     "output_type": "stream",
     "text": [
      "<class 'pandas.core.frame.DataFrame'>\n",
      "RangeIndex: 159 entries, 0 to 158\n",
      "Data columns (total 6 columns):\n",
      " #   Column    Non-Null Count  Dtype  \n",
      "---  ------    --------------  -----  \n",
      " 0   Species   159 non-null    object \n",
      " 1   Weight    159 non-null    float64\n",
      " 2   Length    159 non-null    float64\n",
      " 3   Diagonal  159 non-null    float64\n",
      " 4   Height    159 non-null    float64\n",
      " 5   Width     159 non-null    float64\n",
      "dtypes: float64(5), object(1)\n",
      "memory usage: 7.6+ KB\n"
     ]
    }
   ],
   "source": [
    "#data set\n",
    "data = '../data/fish.csv'\n",
    "dataDF = pd.read_csv(data)\n",
    "dataDF.info()"
   ],
   "metadata": {
    "collapsed": false,
    "ExecuteTime": {
     "end_time": "2024-02-28T07:54:32.445861900Z",
     "start_time": "2024-02-28T07:54:32.422863400Z"
    }
   },
   "id": "ec468932738fc1b5",
   "execution_count": 46
  },
  {
   "cell_type": "code",
   "outputs": [],
   "source": [
    "perch = dataDF[dataDF.Species == 'Perch']\n",
    "\n",
    "perchDF = dataDF.drop('Diagonal', axis= 'columns').copy()\n",
    "perchDF = perchDF.drop('Species', axis= 'columns').copy()"
   ],
   "metadata": {
    "collapsed": false,
    "ExecuteTime": {
     "end_time": "2024-02-28T07:54:32.488414100Z",
     "start_time": "2024-02-28T07:54:32.448863600Z"
    }
   },
   "id": "4c7ba887e0c80abc",
   "execution_count": 47
  },
  {
   "cell_type": "code",
   "outputs": [],
   "source": [
    "perchDF.reset_index(drop=True, inplace=True)"
   ],
   "metadata": {
    "collapsed": false,
    "ExecuteTime": {
     "end_time": "2024-02-28T07:54:32.490532800Z",
     "start_time": "2024-02-28T07:54:32.462862500Z"
    }
   },
   "id": "527f0f33b96fb502",
   "execution_count": 48
  },
  {
   "cell_type": "code",
   "outputs": [],
   "source": [
    "poly = PolynomialFeatures(include_bias=False)"
   ],
   "metadata": {
    "collapsed": false,
    "ExecuteTime": {
     "end_time": "2024-02-28T08:36:54.849958900Z",
     "start_time": "2024-02-28T08:36:54.817818300Z"
    }
   },
   "id": "6e92ce11c32cb137",
   "execution_count": 91
  },
  {
   "cell_type": "code",
   "outputs": [
    {
     "data": {
      "text/plain": "PolynomialFeatures(include_bias=False)",
      "text/html": "<style>#sk-container-id-9 {color: black;}#sk-container-id-9 pre{padding: 0;}#sk-container-id-9 div.sk-toggleable {background-color: white;}#sk-container-id-9 label.sk-toggleable__label {cursor: pointer;display: block;width: 100%;margin-bottom: 0;padding: 0.3em;box-sizing: border-box;text-align: center;}#sk-container-id-9 label.sk-toggleable__label-arrow:before {content: \"▸\";float: left;margin-right: 0.25em;color: #696969;}#sk-container-id-9 label.sk-toggleable__label-arrow:hover:before {color: black;}#sk-container-id-9 div.sk-estimator:hover label.sk-toggleable__label-arrow:before {color: black;}#sk-container-id-9 div.sk-toggleable__content {max-height: 0;max-width: 0;overflow: hidden;text-align: left;background-color: #f0f8ff;}#sk-container-id-9 div.sk-toggleable__content pre {margin: 0.2em;color: black;border-radius: 0.25em;background-color: #f0f8ff;}#sk-container-id-9 input.sk-toggleable__control:checked~div.sk-toggleable__content {max-height: 200px;max-width: 100%;overflow: auto;}#sk-container-id-9 input.sk-toggleable__control:checked~label.sk-toggleable__label-arrow:before {content: \"▾\";}#sk-container-id-9 div.sk-estimator input.sk-toggleable__control:checked~label.sk-toggleable__label {background-color: #d4ebff;}#sk-container-id-9 div.sk-label input.sk-toggleable__control:checked~label.sk-toggleable__label {background-color: #d4ebff;}#sk-container-id-9 input.sk-hidden--visually {border: 0;clip: rect(1px 1px 1px 1px);clip: rect(1px, 1px, 1px, 1px);height: 1px;margin: -1px;overflow: hidden;padding: 0;position: absolute;width: 1px;}#sk-container-id-9 div.sk-estimator {font-family: monospace;background-color: #f0f8ff;border: 1px dotted black;border-radius: 0.25em;box-sizing: border-box;margin-bottom: 0.5em;}#sk-container-id-9 div.sk-estimator:hover {background-color: #d4ebff;}#sk-container-id-9 div.sk-parallel-item::after {content: \"\";width: 100%;border-bottom: 1px solid gray;flex-grow: 1;}#sk-container-id-9 div.sk-label:hover label.sk-toggleable__label {background-color: #d4ebff;}#sk-container-id-9 div.sk-serial::before {content: \"\";position: absolute;border-left: 1px solid gray;box-sizing: border-box;top: 0;bottom: 0;left: 50%;z-index: 0;}#sk-container-id-9 div.sk-serial {display: flex;flex-direction: column;align-items: center;background-color: white;padding-right: 0.2em;padding-left: 0.2em;position: relative;}#sk-container-id-9 div.sk-item {position: relative;z-index: 1;}#sk-container-id-9 div.sk-parallel {display: flex;align-items: stretch;justify-content: center;background-color: white;position: relative;}#sk-container-id-9 div.sk-item::before, #sk-container-id-9 div.sk-parallel-item::before {content: \"\";position: absolute;border-left: 1px solid gray;box-sizing: border-box;top: 0;bottom: 0;left: 50%;z-index: -1;}#sk-container-id-9 div.sk-parallel-item {display: flex;flex-direction: column;z-index: 1;position: relative;background-color: white;}#sk-container-id-9 div.sk-parallel-item:first-child::after {align-self: flex-end;width: 50%;}#sk-container-id-9 div.sk-parallel-item:last-child::after {align-self: flex-start;width: 50%;}#sk-container-id-9 div.sk-parallel-item:only-child::after {width: 0;}#sk-container-id-9 div.sk-dashed-wrapped {border: 1px dashed gray;margin: 0 0.4em 0.5em 0.4em;box-sizing: border-box;padding-bottom: 0.4em;background-color: white;}#sk-container-id-9 div.sk-label label {font-family: monospace;font-weight: bold;display: inline-block;line-height: 1.2em;}#sk-container-id-9 div.sk-label-container {text-align: center;}#sk-container-id-9 div.sk-container {/* jupyter's `normalize.less` sets `[hidden] { display: none; }` but bootstrap.min.css set `[hidden] { display: none !important; }` so we also need the `!important` here to be able to override the default hidden behavior on the sphinx rendered scikit-learn.org. See: https://github.com/scikit-learn/scikit-learn/issues/21755 */display: inline-block !important;position: relative;}#sk-container-id-9 div.sk-text-repr-fallback {display: none;}</style><div id=\"sk-container-id-9\" class=\"sk-top-container\"><div class=\"sk-text-repr-fallback\"><pre>PolynomialFeatures(include_bias=False)</pre><b>In a Jupyter environment, please rerun this cell to show the HTML representation or trust the notebook. <br />On GitHub, the HTML representation is unable to render, please try loading this page with nbviewer.org.</b></div><div class=\"sk-container\" hidden><div class=\"sk-item\"><div class=\"sk-estimator sk-toggleable\"><input class=\"sk-toggleable__control sk-hidden--visually\" id=\"sk-estimator-id-9\" type=\"checkbox\" checked><label for=\"sk-estimator-id-9\" class=\"sk-toggleable__label sk-toggleable__label-arrow\">PolynomialFeatures</label><div class=\"sk-toggleable__content\"><pre>PolynomialFeatures(include_bias=False)</pre></div></div></div></div></div>"
     },
     "execution_count": 92,
     "metadata": {},
     "output_type": "execute_result"
    }
   ],
   "source": [
    "poly.fit(perchDF)"
   ],
   "metadata": {
    "collapsed": false,
    "ExecuteTime": {
     "end_time": "2024-02-28T08:36:55.710961600Z",
     "start_time": "2024-02-28T08:36:55.699957700Z"
    }
   },
   "id": "bc29311e10b5079d",
   "execution_count": 92
  },
  {
   "cell_type": "code",
   "outputs": [
    {
     "data": {
      "text/plain": "     Weight  Length   Height   Width   Weight^2  Weight Length  Weight Height  \\\n0     242.0    25.4  11.5200  4.0200   58564.00        6146.80     2787.84000   \n1     290.0    26.3  12.4800  4.3056   84100.00        7627.00     3619.20000   \n2     340.0    26.5  12.3778  4.6961  115600.00        9010.00     4208.45200   \n3     363.0    29.0  12.7300  4.4555  131769.00       10527.00     4620.99000   \n4     430.0    29.0  12.4440  5.1340  184900.00       12470.00     5350.92000   \n..      ...     ...      ...     ...        ...            ...            ...   \n154    12.2    12.2   2.0904  1.3936     148.84         148.84       25.50288   \n155    13.4    12.4   2.4300  1.2690     179.56         166.16       32.56200   \n156    12.2    13.0   2.2770  1.2558     148.84         158.60       27.77940   \n157    19.7    14.3   2.8728  2.0672     388.09         281.71       56.59416   \n158    19.9    15.0   2.9322  1.8792     396.01         298.50       58.35078   \n\n     Weight Width  Length^2  Length Height  Length Width    Height^2  \\\n0       972.84000    645.16      292.60800     102.10800  132.710400   \n1      1248.62400    691.69      328.22400     113.23728  155.750400   \n2      1596.67400    702.25      328.01170     124.44665  153.209933   \n3      1617.34650    841.00      369.17000     129.20950  162.052900   \n4      2207.62000    841.00      360.87600     148.88600  154.853136   \n..            ...       ...            ...           ...         ...   \n154      17.00192    148.84       25.50288      17.00192    4.369772   \n155      17.00460    153.76       30.13200      15.73560    5.904900   \n156      15.32076    169.00       29.60100      16.32540    5.184729   \n157      40.72384    204.49       41.08104      29.56096    8.252980   \n158      37.39608    225.00       43.98300      28.18800    8.597797   \n\n     Height Width    Width^2  \n0       46.310400  16.160400  \n1       53.733888  18.538191  \n2       58.127387  22.053355  \n3       56.718515  19.851480  \n4       63.887496  26.357956  \n..            ...        ...  \n154      2.913181   1.942121  \n155      3.083670   1.610361  \n156      2.859457   1.577034  \n157      5.938652   4.273316  \n158      5.510190   3.531393  \n\n[159 rows x 14 columns]",
      "text/html": "<div>\n<style scoped>\n    .dataframe tbody tr th:only-of-type {\n        vertical-align: middle;\n    }\n\n    .dataframe tbody tr th {\n        vertical-align: top;\n    }\n\n    .dataframe thead th {\n        text-align: right;\n    }\n</style>\n<table border=\"1\" class=\"dataframe\">\n  <thead>\n    <tr style=\"text-align: right;\">\n      <th></th>\n      <th>Weight</th>\n      <th>Length</th>\n      <th>Height</th>\n      <th>Width</th>\n      <th>Weight^2</th>\n      <th>Weight Length</th>\n      <th>Weight Height</th>\n      <th>Weight Width</th>\n      <th>Length^2</th>\n      <th>Length Height</th>\n      <th>Length Width</th>\n      <th>Height^2</th>\n      <th>Height Width</th>\n      <th>Width^2</th>\n    </tr>\n  </thead>\n  <tbody>\n    <tr>\n      <th>0</th>\n      <td>242.0</td>\n      <td>25.4</td>\n      <td>11.5200</td>\n      <td>4.0200</td>\n      <td>58564.00</td>\n      <td>6146.80</td>\n      <td>2787.84000</td>\n      <td>972.84000</td>\n      <td>645.16</td>\n      <td>292.60800</td>\n      <td>102.10800</td>\n      <td>132.710400</td>\n      <td>46.310400</td>\n      <td>16.160400</td>\n    </tr>\n    <tr>\n      <th>1</th>\n      <td>290.0</td>\n      <td>26.3</td>\n      <td>12.4800</td>\n      <td>4.3056</td>\n      <td>84100.00</td>\n      <td>7627.00</td>\n      <td>3619.20000</td>\n      <td>1248.62400</td>\n      <td>691.69</td>\n      <td>328.22400</td>\n      <td>113.23728</td>\n      <td>155.750400</td>\n      <td>53.733888</td>\n      <td>18.538191</td>\n    </tr>\n    <tr>\n      <th>2</th>\n      <td>340.0</td>\n      <td>26.5</td>\n      <td>12.3778</td>\n      <td>4.6961</td>\n      <td>115600.00</td>\n      <td>9010.00</td>\n      <td>4208.45200</td>\n      <td>1596.67400</td>\n      <td>702.25</td>\n      <td>328.01170</td>\n      <td>124.44665</td>\n      <td>153.209933</td>\n      <td>58.127387</td>\n      <td>22.053355</td>\n    </tr>\n    <tr>\n      <th>3</th>\n      <td>363.0</td>\n      <td>29.0</td>\n      <td>12.7300</td>\n      <td>4.4555</td>\n      <td>131769.00</td>\n      <td>10527.00</td>\n      <td>4620.99000</td>\n      <td>1617.34650</td>\n      <td>841.00</td>\n      <td>369.17000</td>\n      <td>129.20950</td>\n      <td>162.052900</td>\n      <td>56.718515</td>\n      <td>19.851480</td>\n    </tr>\n    <tr>\n      <th>4</th>\n      <td>430.0</td>\n      <td>29.0</td>\n      <td>12.4440</td>\n      <td>5.1340</td>\n      <td>184900.00</td>\n      <td>12470.00</td>\n      <td>5350.92000</td>\n      <td>2207.62000</td>\n      <td>841.00</td>\n      <td>360.87600</td>\n      <td>148.88600</td>\n      <td>154.853136</td>\n      <td>63.887496</td>\n      <td>26.357956</td>\n    </tr>\n    <tr>\n      <th>...</th>\n      <td>...</td>\n      <td>...</td>\n      <td>...</td>\n      <td>...</td>\n      <td>...</td>\n      <td>...</td>\n      <td>...</td>\n      <td>...</td>\n      <td>...</td>\n      <td>...</td>\n      <td>...</td>\n      <td>...</td>\n      <td>...</td>\n      <td>...</td>\n    </tr>\n    <tr>\n      <th>154</th>\n      <td>12.2</td>\n      <td>12.2</td>\n      <td>2.0904</td>\n      <td>1.3936</td>\n      <td>148.84</td>\n      <td>148.84</td>\n      <td>25.50288</td>\n      <td>17.00192</td>\n      <td>148.84</td>\n      <td>25.50288</td>\n      <td>17.00192</td>\n      <td>4.369772</td>\n      <td>2.913181</td>\n      <td>1.942121</td>\n    </tr>\n    <tr>\n      <th>155</th>\n      <td>13.4</td>\n      <td>12.4</td>\n      <td>2.4300</td>\n      <td>1.2690</td>\n      <td>179.56</td>\n      <td>166.16</td>\n      <td>32.56200</td>\n      <td>17.00460</td>\n      <td>153.76</td>\n      <td>30.13200</td>\n      <td>15.73560</td>\n      <td>5.904900</td>\n      <td>3.083670</td>\n      <td>1.610361</td>\n    </tr>\n    <tr>\n      <th>156</th>\n      <td>12.2</td>\n      <td>13.0</td>\n      <td>2.2770</td>\n      <td>1.2558</td>\n      <td>148.84</td>\n      <td>158.60</td>\n      <td>27.77940</td>\n      <td>15.32076</td>\n      <td>169.00</td>\n      <td>29.60100</td>\n      <td>16.32540</td>\n      <td>5.184729</td>\n      <td>2.859457</td>\n      <td>1.577034</td>\n    </tr>\n    <tr>\n      <th>157</th>\n      <td>19.7</td>\n      <td>14.3</td>\n      <td>2.8728</td>\n      <td>2.0672</td>\n      <td>388.09</td>\n      <td>281.71</td>\n      <td>56.59416</td>\n      <td>40.72384</td>\n      <td>204.49</td>\n      <td>41.08104</td>\n      <td>29.56096</td>\n      <td>8.252980</td>\n      <td>5.938652</td>\n      <td>4.273316</td>\n    </tr>\n    <tr>\n      <th>158</th>\n      <td>19.9</td>\n      <td>15.0</td>\n      <td>2.9322</td>\n      <td>1.8792</td>\n      <td>396.01</td>\n      <td>298.50</td>\n      <td>58.35078</td>\n      <td>37.39608</td>\n      <td>225.00</td>\n      <td>43.98300</td>\n      <td>28.18800</td>\n      <td>8.597797</td>\n      <td>5.510190</td>\n      <td>3.531393</td>\n    </tr>\n  </tbody>\n</table>\n<p>159 rows × 14 columns</p>\n</div>"
     },
     "execution_count": 93,
     "metadata": {},
     "output_type": "execute_result"
    }
   ],
   "source": [
    "pd.DataFrame(poly.transform(perchDF), columns=poly.get_feature_names_out())"
   ],
   "metadata": {
    "collapsed": false,
    "ExecuteTime": {
     "end_time": "2024-02-28T08:36:56.889090800Z",
     "start_time": "2024-02-28T08:36:56.858445700Z"
    }
   },
   "id": "6ce919c8e7ff2ac7",
   "execution_count": 93
  },
  {
   "cell_type": "markdown",
   "source": [
    "2 - 2. data check <hr>\n",
    "\n",
    "- 학습 유형 결정을 위한 단계\n",
    "- feature 스케일링 진행 여부 확인"
   ],
   "metadata": {
    "collapsed": false
   },
   "id": "8a46e752c5b54b8b"
  },
  {
   "cell_type": "code",
   "outputs": [
    {
     "name": "stdout",
     "output_type": "stream",
     "text": [
      "Weight.max : 1650.0\n",
      "Weight.min : 0.0\n",
      "Weight.mean: 398.3264150943396\n"
     ]
    }
   ],
   "source": [
    "print(f\"Weight.max : {perchDF['Weight'].max()}\") #1650.0\n",
    "print(f\"Weight.min : {perchDF['Weight'].min()}\") # 0.0-> 결측값?\n",
    "print(f\"Weight.mean: {perchDF['Weight'].mean()}\") # 398.32"
   ],
   "metadata": {
    "collapsed": false,
    "ExecuteTime": {
     "end_time": "2024-02-28T07:54:32.553554600Z",
     "start_time": "2024-02-28T07:54:32.493044500Z"
    }
   },
   "id": "f2f65e5ae0975be",
   "execution_count": 50
  },
  {
   "cell_type": "code",
   "outputs": [
    {
     "name": "stdout",
     "output_type": "stream",
     "text": [
      "Length.max : 63.4\n",
      "Length.min : 8.4\n",
      "Length.mean: 28.415723270440253\n"
     ]
    }
   ],
   "source": [
    "print(f\"Length.max : {perchDF['Length'].max()}\") #63.4\n",
    "print(f\"Length.min : {perchDF['Length'].min()}\") #8.4\n",
    "print(f\"Length.mean: {perchDF['Length'].mean()}\") #28.42"
   ],
   "metadata": {
    "collapsed": false,
    "ExecuteTime": {
     "end_time": "2024-02-28T07:54:32.576557500Z",
     "start_time": "2024-02-28T07:54:32.526042500Z"
    }
   },
   "id": "e2cd1bf2b0c50fc6",
   "execution_count": 51
  },
  {
   "cell_type": "code",
   "outputs": [
    {
     "name": "stdout",
     "output_type": "stream",
     "text": [
      "Height.max : 18.957\n",
      "Height.min : 1.7284\n",
      "Height.mean: 8.970993710691824\n"
     ]
    }
   ],
   "source": [
    "print(f\"Height.max : {perchDF['Height'].max()}\") #18.957\n",
    "print(f\"Height.min : {perchDF['Height'].min()}\") #1.728\n",
    "print(f\"Height.mean: {perchDF['Height'].mean()}\") #8.970"
   ],
   "metadata": {
    "collapsed": false,
    "ExecuteTime": {
     "end_time": "2024-02-28T07:54:32.615704700Z",
     "start_time": "2024-02-28T07:54:32.559554500Z"
    }
   },
   "id": "4295fa021b12eb1e",
   "execution_count": 52
  },
  {
   "cell_type": "code",
   "outputs": [
    {
     "name": "stdout",
     "output_type": "stream",
     "text": [
      "Width.max : 8.142\n",
      "Width.min : 1.0476\n",
      "Width.mean: 4.417485534591195\n"
     ]
    }
   ],
   "source": [
    "print(f\"Width.max : {perchDF['Width'].max()}\") #8.142\n",
    "print(f\"Width.min : {perchDF['Width'].min()}\") #1.0476\n",
    "print(f\"Width.mean: {perchDF['Width'].mean()}\") #4.417"
   ],
   "metadata": {
    "collapsed": false,
    "ExecuteTime": {
     "end_time": "2024-02-28T07:54:32.674615100Z",
     "start_time": "2024-02-28T07:54:32.586070800Z"
    }
   },
   "id": "19e3699e6028f287",
   "execution_count": 53
  },
  {
   "cell_type": "code",
   "outputs": [
    {
     "data": {
      "text/plain": "Weight    1.000000\nLength    0.918618\nWidth     0.886507\nHeight    0.724345\nName: Weight, dtype: float64"
     },
     "execution_count": 54,
     "metadata": {},
     "output_type": "execute_result"
    }
   ],
   "source": [
    "corr = perchDF.corr()\n",
    "abs(corr['Weight']).sort_values(ascending=False)\n"
   ],
   "metadata": {
    "collapsed": false,
    "ExecuteTime": {
     "end_time": "2024-02-28T07:54:32.678188900Z",
     "start_time": "2024-02-28T07:54:32.633783500Z"
    }
   },
   "id": "63300305a7dcf2c",
   "execution_count": 54
  },
  {
   "cell_type": "code",
   "outputs": [
    {
     "data": {
      "text/plain": "<Figure size 640x480 with 1 Axes>",
      "image/png": "[encoded data removed]"
     },
     "metadata": {},
     "output_type": "display_data"
    }
   ],
   "source": [
    "plt.scatter(perchDF.Weight, perchDF.Length)\n",
    "plt.scatter(perchDF.Weight, perchDF.Width)\n",
    "plt.scatter(perchDF.Weight, perchDF.Height)\n",
    "plt.tight_layout()"
   ],
   "metadata": {
    "collapsed": false,
    "ExecuteTime": {
     "end_time": "2024-02-28T07:54:32.835870700Z",
     "start_time": "2024-02-28T07:54:32.691111200Z"
    }
   },
   "id": "8f22357b03991f29",
   "execution_count": 55
  },
  {
   "cell_type": "code",
   "outputs": [
    {
     "data": {
      "text/plain": "     Length   Height   Width\n0      25.4  11.5200  4.0200\n1      26.3  12.4800  4.3056\n2      26.5  12.3778  4.6961\n3      29.0  12.7300  4.4555\n4      29.0  12.4440  5.1340\n..      ...      ...     ...\n154    12.2   2.0904  1.3936\n155    12.4   2.4300  1.2690\n156    13.0   2.2770  1.2558\n157    14.3   2.8728  2.0672\n158    15.0   2.9322  1.8792\n\n[159 rows x 3 columns]",
      "text/html": "<div>\n<style scoped>\n    .dataframe tbody tr th:only-of-type {\n        vertical-align: middle;\n    }\n\n    .dataframe tbody tr th {\n        vertical-align: top;\n    }\n\n    .dataframe thead th {\n        text-align: right;\n    }\n</style>\n<table border=\"1\" class=\"dataframe\">\n  <thead>\n    <tr style=\"text-align: right;\">\n      <th></th>\n      <th>Length</th>\n      <th>Height</th>\n      <th>Width</th>\n    </tr>\n  </thead>\n  <tbody>\n    <tr>\n      <th>0</th>\n      <td>25.4</td>\n      <td>11.5200</td>\n      <td>4.0200</td>\n    </tr>\n    <tr>\n      <th>1</th>\n      <td>26.3</td>\n      <td>12.4800</td>\n      <td>4.3056</td>\n    </tr>\n    <tr>\n      <th>2</th>\n      <td>26.5</td>\n      <td>12.3778</td>\n      <td>4.6961</td>\n    </tr>\n    <tr>\n      <th>3</th>\n      <td>29.0</td>\n      <td>12.7300</td>\n      <td>4.4555</td>\n    </tr>\n    <tr>\n      <th>4</th>\n      <td>29.0</td>\n      <td>12.4440</td>\n      <td>5.1340</td>\n    </tr>\n    <tr>\n      <th>...</th>\n      <td>...</td>\n      <td>...</td>\n      <td>...</td>\n    </tr>\n    <tr>\n      <th>154</th>\n      <td>12.2</td>\n      <td>2.0904</td>\n      <td>1.3936</td>\n    </tr>\n    <tr>\n      <th>155</th>\n      <td>12.4</td>\n      <td>2.4300</td>\n      <td>1.2690</td>\n    </tr>\n    <tr>\n      <th>156</th>\n      <td>13.0</td>\n      <td>2.2770</td>\n      <td>1.2558</td>\n    </tr>\n    <tr>\n      <th>157</th>\n      <td>14.3</td>\n      <td>2.8728</td>\n      <td>2.0672</td>\n    </tr>\n    <tr>\n      <th>158</th>\n      <td>15.0</td>\n      <td>2.9322</td>\n      <td>1.8792</td>\n    </tr>\n  </tbody>\n</table>\n<p>159 rows × 3 columns</p>\n</div>"
     },
     "execution_count": 67,
     "metadata": {},
     "output_type": "execute_result"
    }
   ],
   "source": [
    "feature = perchDF[perchDF.columns[1:]]\n",
    "target = perchDF[perchDF.columns[0]]\n",
    "\n",
    "feature"
   ],
   "metadata": {
    "collapsed": false,
    "ExecuteTime": {
     "end_time": "2024-02-28T08:00:18.229035300Z",
     "start_time": "2024-02-28T08:00:18.211521900Z"
    }
   },
   "id": "c16e6119d4835359",
   "execution_count": 67
  },
  {
   "cell_type": "code",
   "outputs": [],
   "source": [
    "#linearRegression\n",
    "#polynomialRegression"
   ],
   "metadata": {
    "collapsed": false,
    "ExecuteTime": {
     "end_time": "2024-02-28T08:00:19.236208900Z",
     "start_time": "2024-02-28T08:00:19.223691400Z"
    }
   },
   "id": "e9278f0070a66f9b",
   "execution_count": 68
  },
  {
   "cell_type": "code",
   "outputs": [],
   "source": [
    "standard = StandardScaler()\n",
    "mmscaler = MinMaxScaler()\n",
    "robust = RobustScaler()"
   ],
   "metadata": {
    "collapsed": false,
    "ExecuteTime": {
     "end_time": "2024-02-28T08:00:49.157192300Z",
     "start_time": "2024-02-28T08:00:49.139180900Z"
    }
   },
   "id": "66fee0cf923639e5",
   "execution_count": 73
  },
  {
   "cell_type": "code",
   "outputs": [],
   "source": [
    "xtrain, xtest, ytrain, ytest = train_test_split(feature, target)"
   ],
   "metadata": {
    "collapsed": false,
    "ExecuteTime": {
     "end_time": "2024-02-28T08:01:36.816692700Z",
     "start_time": "2024-02-28T08:01:36.805692Z"
    }
   },
   "id": "d58e14b3045162c8",
   "execution_count": 76
  },
  {
   "cell_type": "code",
   "outputs": [
    {
     "data": {
      "text/plain": "RobustScaler()",
      "text/html": "<style>#sk-container-id-5 {color: black;}#sk-container-id-5 pre{padding: 0;}#sk-container-id-5 div.sk-toggleable {background-color: white;}#sk-container-id-5 label.sk-toggleable__label {cursor: pointer;display: block;width: 100%;margin-bottom: 0;padding: 0.3em;box-sizing: border-box;text-align: center;}#sk-container-id-5 label.sk-toggleable__label-arrow:before {content: \"▸\";float: left;margin-right: 0.25em;color: #696969;}#sk-container-id-5 label.sk-toggleable__label-arrow:hover:before {color: black;}#sk-container-id-5 div.sk-estimator:hover label.sk-toggleable__label-arrow:before {color: black;}#sk-container-id-5 div.sk-toggleable__content {max-height: 0;max-width: 0;overflow: hidden;text-align: left;background-color: #f0f8ff;}#sk-container-id-5 div.sk-toggleable__content pre {margin: 0.2em;color: black;border-radius: 0.25em;background-color: #f0f8ff;}#sk-container-id-5 input.sk-toggleable__control:checked~div.sk-toggleable__content {max-height: 200px;max-width: 100%;overflow: auto;}#sk-container-id-5 input.sk-toggleable__control:checked~label.sk-toggleable__label-arrow:before {content: \"▾\";}#sk-container-id-5 div.sk-estimator input.sk-toggleable__control:checked~label.sk-toggleable__label {background-color: #d4ebff;}#sk-container-id-5 div.sk-label input.sk-toggleable__control:checked~label.sk-toggleable__label {background-color: #d4ebff;}#sk-container-id-5 input.sk-hidden--visually {border: 0;clip: rect(1px 1px 1px 1px);clip: rect(1px, 1px, 1px, 1px);height: 1px;margin: -1px;overflow: hidden;padding: 0;position: absolute;width: 1px;}#sk-container-id-5 div.sk-estimator {font-family: monospace;background-color: #f0f8ff;border: 1px dotted black;border-radius: 0.25em;box-sizing: border-box;margin-bottom: 0.5em;}#sk-container-id-5 div.sk-estimator:hover {background-color: #d4ebff;}#sk-container-id-5 div.sk-parallel-item::after {content: \"\";width: 100%;border-bottom: 1px solid gray;flex-grow: 1;}#sk-container-id-5 div.sk-label:hover label.sk-toggleable__label {background-color: #d4ebff;}#sk-container-id-5 div.sk-serial::before {content: \"\";position: absolute;border-left: 1px solid gray;box-sizing: border-box;top: 0;bottom: 0;left: 50%;z-index: 0;}#sk-container-id-5 div.sk-serial {display: flex;flex-direction: column;align-items: center;background-color: white;padding-right: 0.2em;padding-left: 0.2em;position: relative;}#sk-container-id-5 div.sk-item {position: relative;z-index: 1;}#sk-container-id-5 div.sk-parallel {display: flex;align-items: stretch;justify-content: center;background-color: white;position: relative;}#sk-container-id-5 div.sk-item::before, #sk-container-id-5 div.sk-parallel-item::before {content: \"\";position: absolute;border-left: 1px solid gray;box-sizing: border-box;top: 0;bottom: 0;left: 50%;z-index: -1;}#sk-container-id-5 div.sk-parallel-item {display: flex;flex-direction: column;z-index: 1;position: relative;background-color: white;}#sk-container-id-5 div.sk-parallel-item:first-child::after {align-self: flex-end;width: 50%;}#sk-container-id-5 div.sk-parallel-item:last-child::after {align-self: flex-start;width: 50%;}#sk-container-id-5 div.sk-parallel-item:only-child::after {width: 0;}#sk-container-id-5 div.sk-dashed-wrapped {border: 1px dashed gray;margin: 0 0.4em 0.5em 0.4em;box-sizing: border-box;padding-bottom: 0.4em;background-color: white;}#sk-container-id-5 div.sk-label label {font-family: monospace;font-weight: bold;display: inline-block;line-height: 1.2em;}#sk-container-id-5 div.sk-label-container {text-align: center;}#sk-container-id-5 div.sk-container {/* jupyter's `normalize.less` sets `[hidden] { display: none; }` but bootstrap.min.css set `[hidden] { display: none !important; }` so we also need the `!important` here to be able to override the default hidden behavior on the sphinx rendered scikit-learn.org. See: https://github.com/scikit-learn/scikit-learn/issues/21755 */display: inline-block !important;position: relative;}#sk-container-id-5 div.sk-text-repr-fallback {display: none;}</style><div id=\"sk-container-id-5\" class=\"sk-top-container\"><div class=\"sk-text-repr-fallback\"><pre>RobustScaler()</pre><b>In a Jupyter environment, please rerun this cell to show the HTML representation or trust the notebook. <br />On GitHub, the HTML representation is unable to render, please try loading this page with nbviewer.org.</b></div><div class=\"sk-container\" hidden><div class=\"sk-item\"><div class=\"sk-estimator sk-toggleable\"><input class=\"sk-toggleable__control sk-hidden--visually\" id=\"sk-estimator-id-5\" type=\"checkbox\" checked><label for=\"sk-estimator-id-5\" class=\"sk-toggleable__label sk-toggleable__label-arrow\">RobustScaler</label><div class=\"sk-toggleable__content\"><pre>RobustScaler()</pre></div></div></div></div></div>"
     },
     "execution_count": 77,
     "metadata": {},
     "output_type": "execute_result"
    }
   ],
   "source": [
    "standard.fit(xtrain, ytrain)\n",
    "mmscaler.fit(xtrain, ytrain)\n",
    "robust.fit(xtrain, ytrain)"
   ],
   "metadata": {
    "collapsed": false,
    "ExecuteTime": {
     "end_time": "2024-02-28T08:02:45.214995700Z",
     "start_time": "2024-02-28T08:02:45.180427200Z"
    }
   },
   "id": "b983c24d42dfa65f",
   "execution_count": 77
  },
  {
   "cell_type": "code",
   "outputs": [],
   "source": [
    "#스케일러 따라 점수 반환하는 어쩌구 함수 만들기\n",
    "# 1모델 1스케일러!!! 모델 한 개에 스케일러를 여러 개 먹이면 값이 이상해진다\n",
    "def scores(feature, target):\n",
    "    xtrain, xtest, ytrain, ytest = train_test_split(feature, target)\n",
    "    standard_xtrain = standard.transform(xtrain)\n",
    "    standard_xtest = standard.transform(xtest)\n",
    "\n",
    "    mmscaled_xtrain = mmscaler.transform(xtrain)\n",
    "    mmscaled_xtest = mmscaler.transform(xtest)\n",
    "\n",
    "    robust_xtrain = robust.transform(xtrain)\n",
    "    robust_xtest = robust.transform(xtest)\n",
    "    \n",
    "    # 학습시키기\n",
    "    md1 = LinearRegression()\n",
    "    md1.fit(standard_xtrain, ytrain)\n",
    "    \n",
    "    md2 = LinearRegression()\n",
    "    md2.fit(mmscaled_xtrain, ytrain)\n",
    "    \n",
    "    md3 = LinearRegression()\n",
    "    md3.fit(robust_xtrain, ytrain)\n",
    "    \n",
    "    # 테스트 진행\n",
    "    standard_train_score = md1.score(standard_xtrain, ytrain)\n",
    "    standard_test_score = md1.score(standard_xtest, ytest)\n",
    "    \n",
    "    mm_train_score = md2.score(mmscaled_xtrain, ytrain)\n",
    "    mm_test_score = md2.score(mmscaled_xtest, ytest)\n",
    "    \n",
    "    robust_train_score = md3.score(robust_xtrain, ytrain)\n",
    "    robust_test_score = md3.score(robust_xtest, ytest)\n",
    "    \n",
    "    # 각 툴을 사용하여 점수만 출력하기\n",
    "    print(f'standard : \\n trainscore: {standard_train_score}\\n testscore: {standard_test_score}\\n')\n",
    "    print(f'minmax : \\n trainscore: {mm_train_score}\\n testscore: {mm_test_score}\\n')\n",
    "    print(f'robust : \\n trainscore: {robust_train_score}\\n testscore: {robust_test_score}\\n')\n",
    "    \n",
    "    #과대적합 비교하여 적절한 모델 도출하기\n",
    "    accuracy_standard = abs(standard_train_score - standard_test_score)\n",
    "    accuracy_robust = abs(robust_train_score - robust_test_score)\n",
    "    accuracy_minmax = abs(mm_train_score - robust_test_score)\n",
    "    total = {'minmax':accuracy_minmax, 'robust':accuracy_robust, 'standard':accuracy_standard} \n",
    "    \n",
    "    total.keys() #key 나열\n",
    "    total. values() # value 나열\n",
    "    \n",
    "    print(f'{min(total), min(total.values())}')"
   ],
   "metadata": {
    "collapsed": false,
    "ExecuteTime": {
     "end_time": "2024-02-28T08:11:33.504842200Z",
     "start_time": "2024-02-28T08:11:33.485808500Z"
    }
   },
   "id": "518a178ad2dd6654",
   "execution_count": 80
  },
  {
   "cell_type": "code",
   "outputs": [
    {
     "name": "stdout",
     "output_type": "stream",
     "text": [
      "standard : \n",
      " trainscore: 0.880961452808936\n",
      " testscore: 0.8696364688054896\n",
      "\n",
      "minmax : \n",
      " trainscore: 0.880961452808936\n",
      " testscore: 0.8696364688054896\n",
      "\n",
      "robust : \n",
      " trainscore: 0.880961452808936\n",
      " testscore: 0.8696364688054895\n",
      "\n",
      "('minmax', 0.011324984003446392)\n"
     ]
    }
   ],
   "source": [
    "scores(feature, target)"
   ],
   "metadata": {
    "collapsed": false,
    "ExecuteTime": {
     "end_time": "2024-02-28T08:11:33.791169700Z",
     "start_time": "2024-02-28T08:11:33.782325300Z"
    }
   },
   "id": "720fe04b42471b0c",
   "execution_count": 81
  },
  {
   "cell_type": "code",
   "outputs": [
    {
     "data": {
      "text/plain": "          Weight    Length    Height     Width\nWeight  1.000000  0.918618  0.724345  0.886507\nLength  0.918618  1.000000  0.640441  0.873547\nHeight  0.724345  0.640441  1.000000  0.792881\nWidth   0.886507  0.873547  0.792881  1.000000",
      "text/html": "<div>\n<style scoped>\n    .dataframe tbody tr th:only-of-type {\n        vertical-align: middle;\n    }\n\n    .dataframe tbody tr th {\n        vertical-align: top;\n    }\n\n    .dataframe thead th {\n        text-align: right;\n    }\n</style>\n<table border=\"1\" class=\"dataframe\">\n  <thead>\n    <tr style=\"text-align: right;\">\n      <th></th>\n      <th>Weight</th>\n      <th>Length</th>\n      <th>Height</th>\n      <th>Width</th>\n    </tr>\n  </thead>\n  <tbody>\n    <tr>\n      <th>Weight</th>\n      <td>1.000000</td>\n      <td>0.918618</td>\n      <td>0.724345</td>\n      <td>0.886507</td>\n    </tr>\n    <tr>\n      <th>Length</th>\n      <td>0.918618</td>\n      <td>1.000000</td>\n      <td>0.640441</td>\n      <td>0.873547</td>\n    </tr>\n    <tr>\n      <th>Height</th>\n      <td>0.724345</td>\n      <td>0.640441</td>\n      <td>1.000000</td>\n      <td>0.792881</td>\n    </tr>\n    <tr>\n      <th>Width</th>\n      <td>0.886507</td>\n      <td>0.873547</td>\n      <td>0.792881</td>\n      <td>1.000000</td>\n    </tr>\n  </tbody>\n</table>\n</div>"
     },
     "execution_count": 82,
     "metadata": {},
     "output_type": "execute_result"
    }
   ],
   "source": [
    "perchDF.corr(numeric_only=True)"
   ],
   "metadata": {
    "collapsed": false,
    "ExecuteTime": {
     "end_time": "2024-02-28T08:17:09.852664Z",
     "start_time": "2024-02-28T08:17:09.829234900Z"
    }
   },
   "id": "fa72539567ad64ed",
   "execution_count": 82
  },
  {
   "cell_type": "code",
   "outputs": [
    {
     "data": {
      "text/plain": "LinearRegression()",
      "text/html": "<style>#sk-container-id-6 {color: black;}#sk-container-id-6 pre{padding: 0;}#sk-container-id-6 div.sk-toggleable {background-color: white;}#sk-container-id-6 label.sk-toggleable__label {cursor: pointer;display: block;width: 100%;margin-bottom: 0;padding: 0.3em;box-sizing: border-box;text-align: center;}#sk-container-id-6 label.sk-toggleable__label-arrow:before {content: \"▸\";float: left;margin-right: 0.25em;color: #696969;}#sk-container-id-6 label.sk-toggleable__label-arrow:hover:before {color: black;}#sk-container-id-6 div.sk-estimator:hover label.sk-toggleable__label-arrow:before {color: black;}#sk-container-id-6 div.sk-toggleable__content {max-height: 0;max-width: 0;overflow: hidden;text-align: left;background-color: #f0f8ff;}#sk-container-id-6 div.sk-toggleable__content pre {margin: 0.2em;color: black;border-radius: 0.25em;background-color: #f0f8ff;}#sk-container-id-6 input.sk-toggleable__control:checked~div.sk-toggleable__content {max-height: 200px;max-width: 100%;overflow: auto;}#sk-container-id-6 input.sk-toggleable__control:checked~label.sk-toggleable__label-arrow:before {content: \"▾\";}#sk-container-id-6 div.sk-estimator input.sk-toggleable__control:checked~label.sk-toggleable__label {background-color: #d4ebff;}#sk-container-id-6 div.sk-label input.sk-toggleable__control:checked~label.sk-toggleable__label {background-color: #d4ebff;}#sk-container-id-6 input.sk-hidden--visually {border: 0;clip: rect(1px 1px 1px 1px);clip: rect(1px, 1px, 1px, 1px);height: 1px;margin: -1px;overflow: hidden;padding: 0;position: absolute;width: 1px;}#sk-container-id-6 div.sk-estimator {font-family: monospace;background-color: #f0f8ff;border: 1px dotted black;border-radius: 0.25em;box-sizing: border-box;margin-bottom: 0.5em;}#sk-container-id-6 div.sk-estimator:hover {background-color: #d4ebff;}#sk-container-id-6 div.sk-parallel-item::after {content: \"\";width: 100%;border-bottom: 1px solid gray;flex-grow: 1;}#sk-container-id-6 div.sk-label:hover label.sk-toggleable__label {background-color: #d4ebff;}#sk-container-id-6 div.sk-serial::before {content: \"\";position: absolute;border-left: 1px solid gray;box-sizing: border-box;top: 0;bottom: 0;left: 50%;z-index: 0;}#sk-container-id-6 div.sk-serial {display: flex;flex-direction: column;align-items: center;background-color: white;padding-right: 0.2em;padding-left: 0.2em;position: relative;}#sk-container-id-6 div.sk-item {position: relative;z-index: 1;}#sk-container-id-6 div.sk-parallel {display: flex;align-items: stretch;justify-content: center;background-color: white;position: relative;}#sk-container-id-6 div.sk-item::before, #sk-container-id-6 div.sk-parallel-item::before {content: \"\";position: absolute;border-left: 1px solid gray;box-sizing: border-box;top: 0;bottom: 0;left: 50%;z-index: -1;}#sk-container-id-6 div.sk-parallel-item {display: flex;flex-direction: column;z-index: 1;position: relative;background-color: white;}#sk-container-id-6 div.sk-parallel-item:first-child::after {align-self: flex-end;width: 50%;}#sk-container-id-6 div.sk-parallel-item:last-child::after {align-self: flex-start;width: 50%;}#sk-container-id-6 div.sk-parallel-item:only-child::after {width: 0;}#sk-container-id-6 div.sk-dashed-wrapped {border: 1px dashed gray;margin: 0 0.4em 0.5em 0.4em;box-sizing: border-box;padding-bottom: 0.4em;background-color: white;}#sk-container-id-6 div.sk-label label {font-family: monospace;font-weight: bold;display: inline-block;line-height: 1.2em;}#sk-container-id-6 div.sk-label-container {text-align: center;}#sk-container-id-6 div.sk-container {/* jupyter's `normalize.less` sets `[hidden] { display: none; }` but bootstrap.min.css set `[hidden] { display: none !important; }` so we also need the `!important` here to be able to override the default hidden behavior on the sphinx rendered scikit-learn.org. See: https://github.com/scikit-learn/scikit-learn/issues/21755 */display: inline-block !important;position: relative;}#sk-container-id-6 div.sk-text-repr-fallback {display: none;}</style><div id=\"sk-container-id-6\" class=\"sk-top-container\"><div class=\"sk-text-repr-fallback\"><pre>LinearRegression()</pre><b>In a Jupyter environment, please rerun this cell to show the HTML representation or trust the notebook. <br />On GitHub, the HTML representation is unable to render, please try loading this page with nbviewer.org.</b></div><div class=\"sk-container\" hidden><div class=\"sk-item\"><div class=\"sk-estimator sk-toggleable\"><input class=\"sk-toggleable__control sk-hidden--visually\" id=\"sk-estimator-id-6\" type=\"checkbox\" checked><label for=\"sk-estimator-id-6\" class=\"sk-toggleable__label sk-toggleable__label-arrow\">LinearRegression</label><div class=\"sk-toggleable__content\"><pre>LinearRegression()</pre></div></div></div></div></div>"
     },
     "execution_count": 84,
     "metadata": {},
     "output_type": "execute_result"
    }
   ],
   "source": [
    "md = LinearRegression()\n",
    "md"
   ],
   "metadata": {
    "collapsed": false,
    "ExecuteTime": {
     "end_time": "2024-02-28T08:17:46.439908700Z",
     "start_time": "2024-02-28T08:17:46.413548700Z"
    }
   },
   "id": "c35e3aeab783bf7a",
   "execution_count": 84
  },
  {
   "cell_type": "code",
   "outputs": [
    {
     "data": {
      "text/plain": "LinearRegression()",
      "text/html": "<style>#sk-container-id-7 {color: black;}#sk-container-id-7 pre{padding: 0;}#sk-container-id-7 div.sk-toggleable {background-color: white;}#sk-container-id-7 label.sk-toggleable__label {cursor: pointer;display: block;width: 100%;margin-bottom: 0;padding: 0.3em;box-sizing: border-box;text-align: center;}#sk-container-id-7 label.sk-toggleable__label-arrow:before {content: \"▸\";float: left;margin-right: 0.25em;color: #696969;}#sk-container-id-7 label.sk-toggleable__label-arrow:hover:before {color: black;}#sk-container-id-7 div.sk-estimator:hover label.sk-toggleable__label-arrow:before {color: black;}#sk-container-id-7 div.sk-toggleable__content {max-height: 0;max-width: 0;overflow: hidden;text-align: left;background-color: #f0f8ff;}#sk-container-id-7 div.sk-toggleable__content pre {margin: 0.2em;color: black;border-radius: 0.25em;background-color: #f0f8ff;}#sk-container-id-7 input.sk-toggleable__control:checked~div.sk-toggleable__content {max-height: 200px;max-width: 100%;overflow: auto;}#sk-container-id-7 input.sk-toggleable__control:checked~label.sk-toggleable__label-arrow:before {content: \"▾\";}#sk-container-id-7 div.sk-estimator input.sk-toggleable__control:checked~label.sk-toggleable__label {background-color: #d4ebff;}#sk-container-id-7 div.sk-label input.sk-toggleable__control:checked~label.sk-toggleable__label {background-color: #d4ebff;}#sk-container-id-7 input.sk-hidden--visually {border: 0;clip: rect(1px 1px 1px 1px);clip: rect(1px, 1px, 1px, 1px);height: 1px;margin: -1px;overflow: hidden;padding: 0;position: absolute;width: 1px;}#sk-container-id-7 div.sk-estimator {font-family: monospace;background-color: #f0f8ff;border: 1px dotted black;border-radius: 0.25em;box-sizing: border-box;margin-bottom: 0.5em;}#sk-container-id-7 div.sk-estimator:hover {background-color: #d4ebff;}#sk-container-id-7 div.sk-parallel-item::after {content: \"\";width: 100%;border-bottom: 1px solid gray;flex-grow: 1;}#sk-container-id-7 div.sk-label:hover label.sk-toggleable__label {background-color: #d4ebff;}#sk-container-id-7 div.sk-serial::before {content: \"\";position: absolute;border-left: 1px solid gray;box-sizing: border-box;top: 0;bottom: 0;left: 50%;z-index: 0;}#sk-container-id-7 div.sk-serial {display: flex;flex-direction: column;align-items: center;background-color: white;padding-right: 0.2em;padding-left: 0.2em;position: relative;}#sk-container-id-7 div.sk-item {position: relative;z-index: 1;}#sk-container-id-7 div.sk-parallel {display: flex;align-items: stretch;justify-content: center;background-color: white;position: relative;}#sk-container-id-7 div.sk-item::before, #sk-container-id-7 div.sk-parallel-item::before {content: \"\";position: absolute;border-left: 1px solid gray;box-sizing: border-box;top: 0;bottom: 0;left: 50%;z-index: -1;}#sk-container-id-7 div.sk-parallel-item {display: flex;flex-direction: column;z-index: 1;position: relative;background-color: white;}#sk-container-id-7 div.sk-parallel-item:first-child::after {align-self: flex-end;width: 50%;}#sk-container-id-7 div.sk-parallel-item:last-child::after {align-self: flex-start;width: 50%;}#sk-container-id-7 div.sk-parallel-item:only-child::after {width: 0;}#sk-container-id-7 div.sk-dashed-wrapped {border: 1px dashed gray;margin: 0 0.4em 0.5em 0.4em;box-sizing: border-box;padding-bottom: 0.4em;background-color: white;}#sk-container-id-7 div.sk-label label {font-family: monospace;font-weight: bold;display: inline-block;line-height: 1.2em;}#sk-container-id-7 div.sk-label-container {text-align: center;}#sk-container-id-7 div.sk-container {/* jupyter's `normalize.less` sets `[hidden] { display: none; }` but bootstrap.min.css set `[hidden] { display: none !important; }` so we also need the `!important` here to be able to override the default hidden behavior on the sphinx rendered scikit-learn.org. See: https://github.com/scikit-learn/scikit-learn/issues/21755 */display: inline-block !important;position: relative;}#sk-container-id-7 div.sk-text-repr-fallback {display: none;}</style><div id=\"sk-container-id-7\" class=\"sk-top-container\"><div class=\"sk-text-repr-fallback\"><pre>LinearRegression()</pre><b>In a Jupyter environment, please rerun this cell to show the HTML representation or trust the notebook. <br />On GitHub, the HTML representation is unable to render, please try loading this page with nbviewer.org.</b></div><div class=\"sk-container\" hidden><div class=\"sk-item\"><div class=\"sk-estimator sk-toggleable\"><input class=\"sk-toggleable__control sk-hidden--visually\" id=\"sk-estimator-id-7\" type=\"checkbox\" checked><label for=\"sk-estimator-id-7\" class=\"sk-toggleable__label sk-toggleable__label-arrow\">LinearRegression</label><div class=\"sk-toggleable__content\"><pre>LinearRegression()</pre></div></div></div></div></div>"
     },
     "execution_count": 85,
     "metadata": {},
     "output_type": "execute_result"
    }
   ],
   "source": [
    "md.fit(feature, target)"
   ],
   "metadata": {
    "collapsed": false,
    "ExecuteTime": {
     "end_time": "2024-02-28T08:19:01.823503300Z",
     "start_time": "2024-02-28T08:19:01.798486300Z"
    }
   },
   "id": "1671a105b9effc1",
   "execution_count": 85
  },
  {
   "cell_type": "code",
   "outputs": [
    {
     "data": {
      "text/plain": "0.881546129383464"
     },
     "execution_count": 86,
     "metadata": {},
     "output_type": "execute_result"
    }
   ],
   "source": [
    "md.score(feature, target)"
   ],
   "metadata": {
    "collapsed": false,
    "ExecuteTime": {
     "end_time": "2024-02-28T08:19:14.772345600Z",
     "start_time": "2024-02-28T08:19:14.735635300Z"
    }
   },
   "id": "26acb74874649320",
   "execution_count": 86
  },
  {
   "cell_type": "code",
   "outputs": [],
   "source": [],
   "metadata": {
    "collapsed": false
   },
   "id": "e84d27b35691045c"
  }
 ],
 "metadata": {
  "kernelspec": {
   "display_name": "Python 3",
   "language": "python",
   "name": "python3"
  },
  "language_info": {
   "codemirror_mode": {
    "name": "ipython",
    "version": 2
   },
   "file_extension": ".py",
   "mimetype": "text/x-python",
   "name": "python",
   "nbconvert_exporter": "python",
   "pygments_lexer": "ipython2",
   "version": "2.7.6"
  }
 },
 "nbformat": 4,
 "nbformat_minor": 5
}
