{
 "cells": [
  {
   "cell_type": "markdown",
   "source": [
    "### 이상치 데이터 처리하기\n",
    "- feature / 특성의 데이터 값 범위를 벗어나는 데이터\n",
    "- 유형 \n",
    "  * 잘못 입력된 데이터 : 입력 시 오타 발생된 경우 --> 제거 / 대체\n",
    "  * 자연 생성 데이터   : 연봉, 신장, 몸무게 등, 나이, ...,  -->  분리하여 전용 모델 / 식별용 feature 생성\n",
    "\n",
    "- 탐지\n",
    "    * 시각화 -> 확인\n",
    "    * 데이터 분포 확인 : Z - Score / IQR(사분위): Turkey Fences\n",
    "- 처리\n",
    "    * 삭제 / 대체 / 분리 모델 / 파생변수 추가"
   ],
   "metadata": {
    "collapsed": false
   },
   "id": "d5f9e7ddad2642cb"
  },
  {
   "cell_type": "markdown",
   "source": [
    "1. module loading <hr>"
   ],
   "metadata": {
    "collapsed": false
   },
   "id": "a2a5c11d3abb86b1"
  },
  {
   "cell_type": "code",
   "outputs": [],
   "source": [
    "import pandas as pd\n",
    "import matplotlib.pyplot as plt"
   ],
   "metadata": {
    "collapsed": false,
    "ExecuteTime": {
     "end_time": "2024-02-28T00:50:43.336400100Z",
     "start_time": "2024-02-28T00:50:42.388742100Z"
    }
   },
   "id": "b6fb69ea9873ed21",
   "execution_count": 1
  },
  {
   "cell_type": "code",
   "outputs": [],
   "source": [
    "#임의의 데이터\n",
    "dataDF = pd.DataFrame({'num': [1,4,2,3,4,5,-14,2,1,15,2]})\n"
   ],
   "metadata": {
    "collapsed": false,
    "ExecuteTime": {
     "end_time": "2024-02-28T00:53:13.618929300Z",
     "start_time": "2024-02-28T00:53:13.600438500Z"
    }
   },
   "id": "ae5e7104dfc250c0",
   "execution_count": 3
  },
  {
   "cell_type": "markdown",
   "source": [
    "2. data preset"
   ],
   "metadata": {
    "collapsed": false
   },
   "id": "8e20fc112c2a4cb2"
  },
  {
   "cell_type": "markdown",
   "source": [
    "2 - 1. check data"
   ],
   "metadata": {
    "collapsed": false
   },
   "id": "2af3b0a3b1b2e2eb"
  },
  {
   "cell_type": "code",
   "outputs": [
    {
     "data": {
      "text/plain": "[<matplotlib.lines.Line2D at 0x1b1ad52b220>]"
     },
     "execution_count": 4,
     "metadata": {},
     "output_type": "execute_result"
    },
    {
     "data": {
      "text/plain": "<Figure size 640x480 with 1 Axes>",
      "image/png": "[encoded data removed]"
     },
     "metadata": {},
     "output_type": "display_data"
    }
   ],
   "source": [
    "#visualize\n",
    "\n",
    "plt.plot(dataDF, 'bo')\n"
   ],
   "metadata": {
    "collapsed": false,
    "ExecuteTime": {
     "end_time": "2024-02-28T00:53:24.689055400Z",
     "start_time": "2024-02-28T00:53:24.520035700Z"
    }
   },
   "id": "3cd6744be524dc75",
   "execution_count": 4
  },
  {
   "cell_type": "code",
   "outputs": [
    {
     "data": {
      "text/plain": "Text(0.5, 1.0, 'Histogram')"
     },
     "execution_count": 5,
     "metadata": {},
     "output_type": "execute_result"
    },
    {
     "data": {
      "text/plain": "<Figure size 640x480 with 1 Axes>",
      "image/png": "[encoded data removed]"
     },
     "metadata": {},
     "output_type": "display_data"
    }
   ],
   "source": [
    "plt.hist(dataDF['num'])\n",
    "plt.title('Histogram')"
   ],
   "metadata": {
    "collapsed": false,
    "ExecuteTime": {
     "end_time": "2024-02-28T00:55:22.819489Z",
     "start_time": "2024-02-28T00:55:22.690545200Z"
    }
   },
   "id": "b4b021be9bc4a855",
   "execution_count": 5
  },
  {
   "cell_type": "markdown",
   "source": [
    "2 - 2. 불필요 데이터( 결측치, 이상치 등 ) 확인"
   ],
   "metadata": {
    "collapsed": false
   },
   "id": "b491f5bef85f4c8f"
  },
  {
   "cell_type": "code",
   "outputs": [],
   "source": [
    "# 결측치 확인\n",
    "dataDF.isnull().sum()\n",
    "\n",
    "# 이상치 탐지 : 1. 평균과 편차 이용 : Z - Score\n",
    "# Z - Score ; (data - average) / 표준편차\n",
    "mean_value = dataDF.mean()\n",
    "std_value = dataDF.std() #표준편차\n",
    "\n",
    "z_data = (dataDF  -  mean_value) / std_value"
   ],
   "metadata": {
    "collapsed": false,
    "ExecuteTime": {
     "end_time": "2024-02-28T01:01:18.271243500Z",
     "start_time": "2024-02-28T01:01:18.257812200Z"
    }
   },
   "id": "dd852536c4d53347",
   "execution_count": 8
  },
  {
   "cell_type": "code",
   "outputs": [
    {
     "ename": "NameError",
     "evalue": "name 'z_data' is not defined",
     "output_type": "error",
     "traceback": [
      "\u001B[1;31m---------------------------------------------------------------------------\u001B[0m",
      "\u001B[1;31mNameError\u001B[0m                                 Traceback (most recent call last)",
      "Cell \u001B[1;32mIn[22], line 5\u001B[0m\n\u001B[0;32m      1\u001B[0m \u001B[38;5;66;03m# 양 끝단 제거를 위한 기준값 : threthhold / 임의의 값 사용\u001B[39;00m\n\u001B[0;32m      2\u001B[0m \u001B[38;5;66;03m# (여기서는) 기준값 = 1.0\u001B[39;00m\n\u001B[0;32m      4\u001B[0m hold \u001B[38;5;241m=\u001B[39m \u001B[38;5;241m1.0\u001B[39m\n\u001B[1;32m----> 5\u001B[0m mask \u001B[38;5;241m=\u001B[39m \u001B[43mz_data\u001B[49m\u001B[38;5;241m.\u001B[39mabs()\u001B[38;5;241m>\u001B[39mhold\n",
      "\u001B[1;31mNameError\u001B[0m: name 'z_data' is not defined"
     ]
    }
   ],
   "source": [
    "# 양 끝단 제거를 위한 기준값 : threthhold / 임의의 값 사용\n",
    "# (여기서는) 기준값 = 1.0\n",
    "\n",
    "hold = 1.0\n",
    "mask = z_data.abs()>hold"
   ],
   "metadata": {
    "collapsed": false,
    "ExecuteTime": {
     "end_time": "2024-02-28T01:08:22.072925900Z",
     "start_time": "2024-02-28T01:08:21.471096Z"
    }
   },
   "id": "fe53b3c5aa0d1970",
   "execution_count": 22
  },
  {
   "cell_type": "code",
   "outputs": [],
   "source": [
    "dataDF[~mask].dropna(inplace=True)"
   ],
   "metadata": {
    "collapsed": false,
    "ExecuteTime": {
     "end_time": "2024-02-28T01:08:22.081222200Z",
     "start_time": "2024-02-28T01:08:22.076046400Z"
    }
   },
   "id": "83c783975b72f8a1",
   "execution_count": null
  },
  {
   "cell_type": "code",
   "outputs": [
    {
     "data": {
      "text/plain": "    num\n0   1.0\n1   4.0\n2   2.0\n3   3.0\n4   4.0\n5   5.0\n6   NaN\n7   2.0\n8   1.0\n9   NaN\n10  2.0",
      "text/html": "<div>\n<style scoped>\n    .dataframe tbody tr th:only-of-type {\n        vertical-align: middle;\n    }\n\n    .dataframe tbody tr th {\n        vertical-align: top;\n    }\n\n    .dataframe thead th {\n        text-align: right;\n    }\n</style>\n<table border=\"1\" class=\"dataframe\">\n  <thead>\n    <tr style=\"text-align: right;\">\n      <th></th>\n      <th>num</th>\n    </tr>\n  </thead>\n  <tbody>\n    <tr>\n      <th>0</th>\n      <td>1.0</td>\n    </tr>\n    <tr>\n      <th>1</th>\n      <td>4.0</td>\n    </tr>\n    <tr>\n      <th>2</th>\n      <td>2.0</td>\n    </tr>\n    <tr>\n      <th>3</th>\n      <td>3.0</td>\n    </tr>\n    <tr>\n      <th>4</th>\n      <td>4.0</td>\n    </tr>\n    <tr>\n      <th>5</th>\n      <td>5.0</td>\n    </tr>\n    <tr>\n      <th>6</th>\n      <td>NaN</td>\n    </tr>\n    <tr>\n      <th>7</th>\n      <td>2.0</td>\n    </tr>\n    <tr>\n      <th>8</th>\n      <td>1.0</td>\n    </tr>\n    <tr>\n      <th>9</th>\n      <td>NaN</td>\n    </tr>\n    <tr>\n      <th>10</th>\n      <td>2.0</td>\n    </tr>\n  </tbody>\n</table>\n</div>"
     },
     "execution_count": 24,
     "metadata": {},
     "output_type": "execute_result"
    }
   ],
   "source": [
    "dataDF[~mask]"
   ],
   "metadata": {
    "collapsed": false,
    "ExecuteTime": {
     "end_time": "2024-02-28T01:08:37.435031200Z",
     "start_time": "2024-02-28T01:08:37.419826700Z"
    }
   },
   "id": "fa4f0830f595639b",
   "execution_count": 24
  },
  {
   "cell_type": "code",
   "outputs": [
    {
     "name": "stdout",
     "output_type": "stream",
     "text": [
      "q1 ; num    1.5\n",
      "Name: 0.25, dtype: float64\n",
      " q3; num    4.0\n",
      "Name: 0.75, dtype: float64 \n",
      "iqr = num    2.5\n",
      "dtype: float64\n",
      "lower = num   -2.25\n",
      "dtype: float64\n",
      "upper = num    7.75\n",
      "dtype: float64\n"
     ]
    }
   ],
   "source": [
    "# 이상치 탐지 방법 2: 데이터를 4등분하여 가운데 데이터를 기준으로 이상치 탐지\n",
    "# pandas의 quantile\n",
    "q1 = dataDF.quantile(0.25)\n",
    "q3 = dataDF.quantile(0.75)\n",
    "iqr = q3 - q1\n",
    "\n",
    "\n",
    "#이상치 판단의 기준: boxplot 기준 상자 아래 = lower, 상자 위 = upper\n",
    "lower= q1 - (iqr * 1.5)\n",
    "upper= q3 + (iqr * 1.5)\n",
    "\n",
    "\n",
    "print(f'q1 ; {q1}\\n q3; {q3} \\niqr = {iqr}')\n",
    "print(f'lower = {lower}\\nupper = {upper}')"
   ],
   "metadata": {
    "collapsed": false,
    "ExecuteTime": {
     "end_time": "2024-02-28T01:17:21.697123700Z",
     "start_time": "2024-02-28T01:17:21.677252Z"
    }
   },
   "id": "5b001366c203e17c",
   "execution_count": 29
  },
  {
   "cell_type": "code",
   "outputs": [
    {
     "ename": "ValueError",
     "evalue": "The truth value of a DataFrame is ambiguous. Use a.empty, a.bool(), a.item(), a.any() or a.all().",
     "output_type": "error",
     "traceback": [
      "\u001B[1;31m---------------------------------------------------------------------------\u001B[0m",
      "\u001B[1;31mValueError\u001B[0m                                Traceback (most recent call last)",
      "Cell \u001B[1;32mIn[33], line 1\u001B[0m\n\u001B[1;32m----> 1\u001B[0m mask1 \u001B[38;5;241m=\u001B[39m dataDF\u001B[38;5;241m<\u001B[39mlower \u001B[38;5;129;01mand\u001B[39;00m dataDF\u001B[38;5;241m>\u001B[39mupper\n\u001B[0;32m      2\u001B[0m dataDF\n",
      "File \u001B[1;32m~\\anaconda3\\envs\\EXAM_ML\\lib\\site-packages\\pandas\\core\\generic.py:1519\u001B[0m, in \u001B[0;36mNDFrame.__nonzero__\u001B[1;34m(self)\u001B[0m\n\u001B[0;32m   1517\u001B[0m \u001B[38;5;129m@final\u001B[39m\n\u001B[0;32m   1518\u001B[0m \u001B[38;5;28;01mdef\u001B[39;00m \u001B[38;5;21m__nonzero__\u001B[39m(\u001B[38;5;28mself\u001B[39m) \u001B[38;5;241m-\u001B[39m\u001B[38;5;241m>\u001B[39m NoReturn:\n\u001B[1;32m-> 1519\u001B[0m     \u001B[38;5;28;01mraise\u001B[39;00m \u001B[38;5;167;01mValueError\u001B[39;00m(\n\u001B[0;32m   1520\u001B[0m         \u001B[38;5;124mf\u001B[39m\u001B[38;5;124m\"\u001B[39m\u001B[38;5;124mThe truth value of a \u001B[39m\u001B[38;5;132;01m{\u001B[39;00m\u001B[38;5;28mtype\u001B[39m(\u001B[38;5;28mself\u001B[39m)\u001B[38;5;241m.\u001B[39m\u001B[38;5;18m__name__\u001B[39m\u001B[38;5;132;01m}\u001B[39;00m\u001B[38;5;124m is ambiguous. \u001B[39m\u001B[38;5;124m\"\u001B[39m\n\u001B[0;32m   1521\u001B[0m         \u001B[38;5;124m\"\u001B[39m\u001B[38;5;124mUse a.empty, a.bool(), a.item(), a.any() or a.all().\u001B[39m\u001B[38;5;124m\"\u001B[39m\n\u001B[0;32m   1522\u001B[0m     )\n",
      "\u001B[1;31mValueError\u001B[0m: The truth value of a DataFrame is ambiguous. Use a.empty, a.bool(), a.item(), a.any() or a.all()."
     ]
    }
   ],
   "source": [
    "#mask1 = dataDF<lower and dataDF>upper\n",
    "dataDF "
   ],
   "metadata": {
    "collapsed": false,
    "ExecuteTime": {
     "end_time": "2024-02-28T01:19:38.399143700Z",
     "start_time": "2024-02-28T01:19:38.378408Z"
    }
   },
   "id": "196673ff2f8e4d8f",
   "execution_count": 33
  },
  {
   "cell_type": "code",
   "outputs": [
    {
     "data": {
      "text/plain": "{'whiskers': [<matplotlib.lines.Line2D at 0x1b1af07d910>,\n  <matplotlib.lines.Line2D at 0x1b1af23da60>],\n 'caps': [<matplotlib.lines.Line2D at 0x1b1af2714f0>,\n  <matplotlib.lines.Line2D at 0x1b1af0eb640>],\n 'boxes': [<matplotlib.lines.Line2D at 0x1b1af233760>],\n 'medians': [<matplotlib.lines.Line2D at 0x1b1af032130>],\n 'fliers': [<matplotlib.lines.Line2D at 0x1b1af032dc0>],\n 'means': []}"
     },
     "execution_count": 27,
     "metadata": {},
     "output_type": "execute_result"
    },
    {
     "data": {
      "text/plain": "<Figure size 640x480 with 1 Axes>",
      "image/png": "[encoded data removed]"
     },
     "metadata": {},
     "output_type": "display_data"
    }
   ],
   "source": [
    "# 시각화\n",
    "plt.boxplot(dataDF)"
   ],
   "metadata": {
    "collapsed": false,
    "ExecuteTime": {
     "end_time": "2024-02-28T01:13:53.592953700Z",
     "start_time": "2024-02-28T01:13:53.514278500Z"
    }
   },
   "id": "d1c0f8a338491459",
   "execution_count": 27
  },
  {
   "cell_type": "code",
   "outputs": [
    {
     "data": {
      "text/plain": "<Figure size 640x480 with 1 Axes>",
      "image/png": "[encoded data removed]"
     },
     "metadata": {},
     "output_type": "display_data"
    }
   ],
   "source": [
    "# 시각화\n",
    "bp_obj = plt.boxplot(dataDF)"
   ],
   "metadata": {
    "collapsed": false,
    "ExecuteTime": {
     "end_time": "2024-02-28T01:44:28.245583900Z",
     "start_time": "2024-02-28T01:44:28.177346500Z"
    }
   },
   "id": "932e1020be9a921f",
   "execution_count": 35
  },
  {
   "cell_type": "code",
   "outputs": [
    {
     "data": {
      "text/plain": "array([4., 5.])"
     },
     "execution_count": 40,
     "metadata": {},
     "output_type": "execute_result"
    }
   ],
   "source": [
    "bp_obj['whiskers'][0].get_ydata()#1사분위 q1 min\n",
    "bp_obj['whiskers'][1].get_ydata()#3사분위 q3 max"
   ],
   "metadata": {
    "collapsed": false,
    "ExecuteTime": {
     "end_time": "2024-02-28T01:48:18.373631700Z",
     "start_time": "2024-02-28T01:48:18.354896800Z"
    }
   },
   "id": "48bee69d3fc8d3a4",
   "execution_count": 40
  },
  {
   "cell_type": "code",
   "outputs": [
    {
     "data": {
      "text/plain": "array([2., 2.])"
     },
     "execution_count": 38,
     "metadata": {},
     "output_type": "execute_result"
    }
   ],
   "source": [
    "bp_obj['medians'][0].get_ydata()"
   ],
   "metadata": {
    "collapsed": false,
    "ExecuteTime": {
     "end_time": "2024-02-28T01:46:31.274641500Z",
     "start_time": "2024-02-28T01:46:31.242579700Z"
    }
   },
   "id": "6afb08b46279e4da",
   "execution_count": 38
  },
  {
   "cell_type": "code",
   "outputs": [
    {
     "data": {
      "text/plain": "array([1.5, 1.5, 4. , 4. , 1.5])"
     },
     "execution_count": 39,
     "metadata": {},
     "output_type": "execute_result"
    }
   ],
   "source": [
    "bp_obj['boxes'][0].get_ydata()"
   ],
   "metadata": {
    "collapsed": false,
    "ExecuteTime": {
     "end_time": "2024-02-28T01:47:00.777138500Z",
     "start_time": "2024-02-28T01:47:00.753657400Z"
    }
   },
   "id": "a66da60e7523f53e",
   "execution_count": 39
  },
  {
   "cell_type": "code",
   "outputs": [],
   "source": [],
   "metadata": {
    "collapsed": false
   },
   "id": "a4ad2659585cf9fa"
  }
 ],
 "metadata": {
  "kernelspec": {
   "display_name": "Python 3",
   "language": "python",
   "name": "python3"
  },
  "language_info": {
   "codemirror_mode": {
    "name": "ipython",
    "version": 2
   },
   "file_extension": ".py",
   "mimetype": "text/x-python",
   "name": "python",
   "nbconvert_exporter": "python",
   "pygments_lexer": "ipython2",
   "version": "2.7.6"
  }
 },
 "nbformat": 4,
 "nbformat_minor": 5
}
