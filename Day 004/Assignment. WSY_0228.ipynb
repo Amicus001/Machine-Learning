{
 "cells": [
  {
   "cell_type": "markdown",
   "source": [
    "## 과제 : AutoMPG data 분석 모델 만들기\n",
    "\n",
    "- data     : autoMPG.csv\n",
    "- feature  : acceration, model year\n",
    "- target   : mpg \n",
    "- 학습유형 : 회귀\n",
    "- 알고리즘 : \n"
   ],
   "metadata": {
    "collapsed": false
   },
   "id": "e1c01f34d6a35147"
  },
  {
   "cell_type": "markdown",
   "source": [
    "1. 모듈 로딩 / 데이터 준비"
   ],
   "metadata": {
    "collapsed": false
   },
   "id": "57f7666b93c1bdb"
  },
  {
   "cell_type": "code",
   "outputs": [],
   "source": [
    "import pandas as pd\n",
    "import matplotlib.pyplot as plt\n",
    "import numpy as np\n",
    "from sklearn.linear_model import LinearRegression\n",
    "from sklearn.model_selection import train_test_split\n",
    "from sklearn.preprocessing import StandardScaler, MinMaxScaler, RobustScaler\n",
    "from sklearn.metrics import mean_squared_error, r2_score"
   ],
   "metadata": {
    "collapsed": false,
    "ExecuteTime": {
     "end_time": "2024-02-28T11:31:52.943673600Z",
     "start_time": "2024-02-28T11:31:52.876526600Z"
    }
   },
   "id": "edc65d5feca49ee1",
   "execution_count": 144
  },
  {
   "cell_type": "code",
   "outputs": [],
   "source": [
    "mpg = pd.read_csv('../data/auto-mpg.csv')"
   ],
   "metadata": {
    "collapsed": false,
    "ExecuteTime": {
     "end_time": "2024-02-28T11:31:52.946868400Z",
     "start_time": "2024-02-28T11:31:52.902179600Z"
    }
   },
   "id": "e78c2dcc6fabbc5a",
   "execution_count": 145
  },
  {
   "cell_type": "code",
   "outputs": [
    {
     "data": {
      "text/plain": "      mpg  cylinders  displacement  horsepower  weight  acceleration  \\\n0    18.0          8         307.0         130    3504          12.0   \n1    15.0          8         350.0         165    3693          11.5   \n2    18.0          8         318.0         150    3436          11.0   \n3    16.0          8         304.0         150    3433          12.0   \n4    17.0          8         302.0         140    3449          10.5   \n..    ...        ...           ...         ...     ...           ...   \n393  27.0          4         140.0          86    2790          15.6   \n394  44.0          4          97.0          52    2130          24.6   \n395  32.0          4         135.0          84    2295          11.6   \n396  28.0          4         120.0          79    2625          18.6   \n397  31.0          4         119.0          82    2720          19.4   \n\n     model year  origin                   car name  \n0            70       1  chevrolet chevelle malibu  \n1            70       1          buick skylark 320  \n2            70       1         plymouth satellite  \n3            70       1              amc rebel sst  \n4            70       1                ford torino  \n..          ...     ...                        ...  \n393          82       1            ford mustang gl  \n394          82       2                  vw pickup  \n395          82       1              dodge rampage  \n396          82       1                ford ranger  \n397          82       1                 chevy s-10  \n\n[398 rows x 9 columns]",
      "text/html": "<div>\n<style scoped>\n    .dataframe tbody tr th:only-of-type {\n        vertical-align: middle;\n    }\n\n    .dataframe tbody tr th {\n        vertical-align: top;\n    }\n\n    .dataframe thead th {\n        text-align: right;\n    }\n</style>\n<table border=\"1\" class=\"dataframe\">\n  <thead>\n    <tr style=\"text-align: right;\">\n      <th></th>\n      <th>mpg</th>\n      <th>cylinders</th>\n      <th>displacement</th>\n      <th>horsepower</th>\n      <th>weight</th>\n      <th>acceleration</th>\n      <th>model year</th>\n      <th>origin</th>\n      <th>car name</th>\n    </tr>\n  </thead>\n  <tbody>\n    <tr>\n      <th>0</th>\n      <td>18.0</td>\n      <td>8</td>\n      <td>307.0</td>\n      <td>130</td>\n      <td>3504</td>\n      <td>12.0</td>\n      <td>70</td>\n      <td>1</td>\n      <td>chevrolet chevelle malibu</td>\n    </tr>\n    <tr>\n      <th>1</th>\n      <td>15.0</td>\n      <td>8</td>\n      <td>350.0</td>\n      <td>165</td>\n      <td>3693</td>\n      <td>11.5</td>\n      <td>70</td>\n      <td>1</td>\n      <td>buick skylark 320</td>\n    </tr>\n    <tr>\n      <th>2</th>\n      <td>18.0</td>\n      <td>8</td>\n      <td>318.0</td>\n      <td>150</td>\n      <td>3436</td>\n      <td>11.0</td>\n      <td>70</td>\n      <td>1</td>\n      <td>plymouth satellite</td>\n    </tr>\n    <tr>\n      <th>3</th>\n      <td>16.0</td>\n      <td>8</td>\n      <td>304.0</td>\n      <td>150</td>\n      <td>3433</td>\n      <td>12.0</td>\n      <td>70</td>\n      <td>1</td>\n      <td>amc rebel sst</td>\n    </tr>\n    <tr>\n      <th>4</th>\n      <td>17.0</td>\n      <td>8</td>\n      <td>302.0</td>\n      <td>140</td>\n      <td>3449</td>\n      <td>10.5</td>\n      <td>70</td>\n      <td>1</td>\n      <td>ford torino</td>\n    </tr>\n    <tr>\n      <th>...</th>\n      <td>...</td>\n      <td>...</td>\n      <td>...</td>\n      <td>...</td>\n      <td>...</td>\n      <td>...</td>\n      <td>...</td>\n      <td>...</td>\n      <td>...</td>\n    </tr>\n    <tr>\n      <th>393</th>\n      <td>27.0</td>\n      <td>4</td>\n      <td>140.0</td>\n      <td>86</td>\n      <td>2790</td>\n      <td>15.6</td>\n      <td>82</td>\n      <td>1</td>\n      <td>ford mustang gl</td>\n    </tr>\n    <tr>\n      <th>394</th>\n      <td>44.0</td>\n      <td>4</td>\n      <td>97.0</td>\n      <td>52</td>\n      <td>2130</td>\n      <td>24.6</td>\n      <td>82</td>\n      <td>2</td>\n      <td>vw pickup</td>\n    </tr>\n    <tr>\n      <th>395</th>\n      <td>32.0</td>\n      <td>4</td>\n      <td>135.0</td>\n      <td>84</td>\n      <td>2295</td>\n      <td>11.6</td>\n      <td>82</td>\n      <td>1</td>\n      <td>dodge rampage</td>\n    </tr>\n    <tr>\n      <th>396</th>\n      <td>28.0</td>\n      <td>4</td>\n      <td>120.0</td>\n      <td>79</td>\n      <td>2625</td>\n      <td>18.6</td>\n      <td>82</td>\n      <td>1</td>\n      <td>ford ranger</td>\n    </tr>\n    <tr>\n      <th>397</th>\n      <td>31.0</td>\n      <td>4</td>\n      <td>119.0</td>\n      <td>82</td>\n      <td>2720</td>\n      <td>19.4</td>\n      <td>82</td>\n      <td>1</td>\n      <td>chevy s-10</td>\n    </tr>\n  </tbody>\n</table>\n<p>398 rows × 9 columns</p>\n</div>"
     },
     "execution_count": 146,
     "metadata": {},
     "output_type": "execute_result"
    }
   ],
   "source": [
    "mpg.horsepower = mpg['horsepower'].replace('?',0)\n",
    "mpg.horsepower = mpg.horsepower.astype(int)\n",
    "mpg"
   ],
   "metadata": {
    "collapsed": false,
    "ExecuteTime": {
     "end_time": "2024-02-28T11:31:52.969359300Z",
     "start_time": "2024-02-28T11:31:52.950070800Z"
    }
   },
   "id": "9a5933830c3622b6",
   "execution_count": 146
  },
  {
   "cell_type": "markdown",
   "source": [
    "2. 데이터 확인: \n",
    "- target - feature 관계 : 상관계수, 시각화"
   ],
   "metadata": {
    "collapsed": false
   },
   "id": "3d6d86a1a635515a"
  },
  {
   "cell_type": "code",
   "outputs": [
    {
     "data": {
      "text/plain": "                   mpg  cylinders  displacement  horsepower    weight  \\\nmpg           1.000000  -0.775396     -0.804203   -0.754276 -0.831741   \ncylinders    -0.775396   1.000000      0.950721    0.821656  0.896017   \ndisplacement -0.804203   0.950721      1.000000    0.871927  0.932824   \nhorsepower   -0.754276   0.821656      0.871927    1.000000  0.837987   \nweight       -0.831741   0.896017      0.932824    0.837987  1.000000   \nacceleration  0.420289  -0.505419     -0.543684   -0.673940 -0.417457   \nmodel year    0.579267  -0.348746     -0.370164   -0.411587 -0.306564   \norigin        0.563450  -0.562543     -0.609409   -0.418636 -0.581024   \n\n              acceleration  model year    origin  \nmpg               0.420289    0.579267  0.563450  \ncylinders        -0.505419   -0.348746 -0.562543  \ndisplacement     -0.543684   -0.370164 -0.609409  \nhorsepower       -0.673940   -0.411587 -0.418636  \nweight           -0.417457   -0.306564 -0.581024  \nacceleration      1.000000    0.288137  0.205873  \nmodel year        0.288137    1.000000  0.180662  \norigin            0.205873    0.180662  1.000000  ",
      "text/html": "<div>\n<style scoped>\n    .dataframe tbody tr th:only-of-type {\n        vertical-align: middle;\n    }\n\n    .dataframe tbody tr th {\n        vertical-align: top;\n    }\n\n    .dataframe thead th {\n        text-align: right;\n    }\n</style>\n<table border=\"1\" class=\"dataframe\">\n  <thead>\n    <tr style=\"text-align: right;\">\n      <th></th>\n      <th>mpg</th>\n      <th>cylinders</th>\n      <th>displacement</th>\n      <th>horsepower</th>\n      <th>weight</th>\n      <th>acceleration</th>\n      <th>model year</th>\n      <th>origin</th>\n    </tr>\n  </thead>\n  <tbody>\n    <tr>\n      <th>mpg</th>\n      <td>1.000000</td>\n      <td>-0.775396</td>\n      <td>-0.804203</td>\n      <td>-0.754276</td>\n      <td>-0.831741</td>\n      <td>0.420289</td>\n      <td>0.579267</td>\n      <td>0.563450</td>\n    </tr>\n    <tr>\n      <th>cylinders</th>\n      <td>-0.775396</td>\n      <td>1.000000</td>\n      <td>0.950721</td>\n      <td>0.821656</td>\n      <td>0.896017</td>\n      <td>-0.505419</td>\n      <td>-0.348746</td>\n      <td>-0.562543</td>\n    </tr>\n    <tr>\n      <th>displacement</th>\n      <td>-0.804203</td>\n      <td>0.950721</td>\n      <td>1.000000</td>\n      <td>0.871927</td>\n      <td>0.932824</td>\n      <td>-0.543684</td>\n      <td>-0.370164</td>\n      <td>-0.609409</td>\n    </tr>\n    <tr>\n      <th>horsepower</th>\n      <td>-0.754276</td>\n      <td>0.821656</td>\n      <td>0.871927</td>\n      <td>1.000000</td>\n      <td>0.837987</td>\n      <td>-0.673940</td>\n      <td>-0.411587</td>\n      <td>-0.418636</td>\n    </tr>\n    <tr>\n      <th>weight</th>\n      <td>-0.831741</td>\n      <td>0.896017</td>\n      <td>0.932824</td>\n      <td>0.837987</td>\n      <td>1.000000</td>\n      <td>-0.417457</td>\n      <td>-0.306564</td>\n      <td>-0.581024</td>\n    </tr>\n    <tr>\n      <th>acceleration</th>\n      <td>0.420289</td>\n      <td>-0.505419</td>\n      <td>-0.543684</td>\n      <td>-0.673940</td>\n      <td>-0.417457</td>\n      <td>1.000000</td>\n      <td>0.288137</td>\n      <td>0.205873</td>\n    </tr>\n    <tr>\n      <th>model year</th>\n      <td>0.579267</td>\n      <td>-0.348746</td>\n      <td>-0.370164</td>\n      <td>-0.411587</td>\n      <td>-0.306564</td>\n      <td>0.288137</td>\n      <td>1.000000</td>\n      <td>0.180662</td>\n    </tr>\n    <tr>\n      <th>origin</th>\n      <td>0.563450</td>\n      <td>-0.562543</td>\n      <td>-0.609409</td>\n      <td>-0.418636</td>\n      <td>-0.581024</td>\n      <td>0.205873</td>\n      <td>0.180662</td>\n      <td>1.000000</td>\n    </tr>\n  </tbody>\n</table>\n</div>"
     },
     "execution_count": 147,
     "metadata": {},
     "output_type": "execute_result"
    }
   ],
   "source": [
    "corr = mpg.corr(numeric_only=True)\n",
    "corr1 = mpg.corr(numeric_only=True)['mpg'].to_list()\n",
    "corr"
   ],
   "metadata": {
    "collapsed": false,
    "ExecuteTime": {
     "end_time": "2024-02-28T11:31:53.004159600Z",
     "start_time": "2024-02-28T11:31:52.965185500Z"
    }
   },
   "id": "bd54a9f6bef608bd",
   "execution_count": 147
  },
  {
   "cell_type": "code",
   "outputs": [
    {
     "data": {
      "text/plain": "   cylinders  displacement  horsepower  weight\n0          8         307.0         130    3504\n1          8         350.0         165    3693\n2          8         318.0         150    3436\n3          8         304.0         150    3433\n4          8         302.0         140    3449",
      "text/html": "<div>\n<style scoped>\n    .dataframe tbody tr th:only-of-type {\n        vertical-align: middle;\n    }\n\n    .dataframe tbody tr th {\n        vertical-align: top;\n    }\n\n    .dataframe thead th {\n        text-align: right;\n    }\n</style>\n<table border=\"1\" class=\"dataframe\">\n  <thead>\n    <tr style=\"text-align: right;\">\n      <th></th>\n      <th>cylinders</th>\n      <th>displacement</th>\n      <th>horsepower</th>\n      <th>weight</th>\n    </tr>\n  </thead>\n  <tbody>\n    <tr>\n      <th>0</th>\n      <td>8</td>\n      <td>307.0</td>\n      <td>130</td>\n      <td>3504</td>\n    </tr>\n    <tr>\n      <th>1</th>\n      <td>8</td>\n      <td>350.0</td>\n      <td>165</td>\n      <td>3693</td>\n    </tr>\n    <tr>\n      <th>2</th>\n      <td>8</td>\n      <td>318.0</td>\n      <td>150</td>\n      <td>3436</td>\n    </tr>\n    <tr>\n      <th>3</th>\n      <td>8</td>\n      <td>304.0</td>\n      <td>150</td>\n      <td>3433</td>\n    </tr>\n    <tr>\n      <th>4</th>\n      <td>8</td>\n      <td>302.0</td>\n      <td>140</td>\n      <td>3449</td>\n    </tr>\n  </tbody>\n</table>\n</div>"
     },
     "execution_count": 148,
     "metadata": {},
     "output_type": "execute_result"
    }
   ],
   "source": [
    "feature = mpg[mpg.columns[1:5]]\n",
    "target = mpg['mpg']\n",
    "\n",
    "feature.head()"
   ],
   "metadata": {
    "collapsed": false,
    "ExecuteTime": {
     "end_time": "2024-02-28T11:31:53.052576900Z",
     "start_time": "2024-02-28T11:31:52.984053700Z"
    }
   },
   "id": "a003c603a663422e",
   "execution_count": 148
  },
  {
   "cell_type": "code",
   "outputs": [],
   "source": [
    "# 피처 - 타겟 관계 시각화 / 정수화\n",
    "# 매개변수 ; 행 번호, 열 번호, 타겟, 피처리스트, 상관계수 값\n",
    "# 리턴     ; 없음\n",
    "\n",
    "def print_feature(nrows, ncols, df, target, features, corrs):\n",
    "    for idx in range(len(features)):\n",
    "        plt.subplot(nrows, ncols, idx+1)\n",
    "        plt.scatter(df[target], df[features[idx]],label = f'corr: {corr[idx]:.2}')\n",
    "        plt.xlabel(target)\n",
    "        plt.ylabel(features[idx])\n",
    "        plt.legend\n",
    "    plt.tight_layout()\n",
    "    plt.show()\n",
    "\n",
    "# \n",
    "# plt.scatter(x = target, y = feature['acceleration'], label = 'acceleration')\n",
    "# plt.xlabel('mpg')\n",
    "# plt.ylabel(feature['acceleration'])\n",
    "# \n",
    "# plt.scatter(x = target, y = feature['model year'], label = 'model year')\n",
    "# plt.xlabel('mpg')\n",
    "# plt.ylabel(feature['model year'])\n",
    "# plt.legend()\n",
    "# \n",
    "# plt.show()"
   ],
   "metadata": {
    "collapsed": false,
    "ExecuteTime": {
     "end_time": "2024-02-28T11:31:53.076687400Z",
     "start_time": "2024-02-28T11:31:52.997411Z"
    }
   },
   "id": "f786809f6f154163",
   "execution_count": 149
  },
  {
   "cell_type": "code",
   "outputs": [
    {
     "data": {
      "text/plain": "[1.0,\n -0.7753962854205539,\n -0.8042028248058979,\n -0.7542761981708765,\n -0.8317409332443344,\n 0.42028891210165054,\n 0.5792671330833092,\n 0.5634503597738431]"
     },
     "execution_count": 150,
     "metadata": {},
     "output_type": "execute_result"
    }
   ],
   "source": [
    "corr = mpg.corr(numeric_only=True)['mpg'].to_list()\n",
    "corr"
   ],
   "metadata": {
    "collapsed": false,
    "ExecuteTime": {
     "end_time": "2024-02-28T11:31:53.110802600Z",
     "start_time": "2024-02-28T11:31:53.010001400Z"
    }
   },
   "id": "66e2ac46357410e2",
   "execution_count": 150
  },
  {
   "cell_type": "code",
   "outputs": [
    {
     "data": {
      "text/plain": "      mpg  cylinders  displacement  horsepower  weight  acceleration  \\\n0    18.0          8         307.0         130    3504          12.0   \n1    15.0          8         350.0         165    3693          11.5   \n2    18.0          8         318.0         150    3436          11.0   \n3    16.0          8         304.0         150    3433          12.0   \n4    17.0          8         302.0         140    3449          10.5   \n..    ...        ...           ...         ...     ...           ...   \n393  27.0          4         140.0          86    2790          15.6   \n394  44.0          4          97.0          52    2130          24.6   \n395  32.0          4         135.0          84    2295          11.6   \n396  28.0          4         120.0          79    2625          18.6   \n397  31.0          4         119.0          82    2720          19.4   \n\n     model year  origin                   car name  \n0            70       1  chevrolet chevelle malibu  \n1            70       1          buick skylark 320  \n2            70       1         plymouth satellite  \n3            70       1              amc rebel sst  \n4            70       1                ford torino  \n..          ...     ...                        ...  \n393          82       1            ford mustang gl  \n394          82       2                  vw pickup  \n395          82       1              dodge rampage  \n396          82       1                ford ranger  \n397          82       1                 chevy s-10  \n\n[398 rows x 9 columns]",
      "text/html": "<div>\n<style scoped>\n    .dataframe tbody tr th:only-of-type {\n        vertical-align: middle;\n    }\n\n    .dataframe tbody tr th {\n        vertical-align: top;\n    }\n\n    .dataframe thead th {\n        text-align: right;\n    }\n</style>\n<table border=\"1\" class=\"dataframe\">\n  <thead>\n    <tr style=\"text-align: right;\">\n      <th></th>\n      <th>mpg</th>\n      <th>cylinders</th>\n      <th>displacement</th>\n      <th>horsepower</th>\n      <th>weight</th>\n      <th>acceleration</th>\n      <th>model year</th>\n      <th>origin</th>\n      <th>car name</th>\n    </tr>\n  </thead>\n  <tbody>\n    <tr>\n      <th>0</th>\n      <td>18.0</td>\n      <td>8</td>\n      <td>307.0</td>\n      <td>130</td>\n      <td>3504</td>\n      <td>12.0</td>\n      <td>70</td>\n      <td>1</td>\n      <td>chevrolet chevelle malibu</td>\n    </tr>\n    <tr>\n      <th>1</th>\n      <td>15.0</td>\n      <td>8</td>\n      <td>350.0</td>\n      <td>165</td>\n      <td>3693</td>\n      <td>11.5</td>\n      <td>70</td>\n      <td>1</td>\n      <td>buick skylark 320</td>\n    </tr>\n    <tr>\n      <th>2</th>\n      <td>18.0</td>\n      <td>8</td>\n      <td>318.0</td>\n      <td>150</td>\n      <td>3436</td>\n      <td>11.0</td>\n      <td>70</td>\n      <td>1</td>\n      <td>plymouth satellite</td>\n    </tr>\n    <tr>\n      <th>3</th>\n      <td>16.0</td>\n      <td>8</td>\n      <td>304.0</td>\n      <td>150</td>\n      <td>3433</td>\n      <td>12.0</td>\n      <td>70</td>\n      <td>1</td>\n      <td>amc rebel sst</td>\n    </tr>\n    <tr>\n      <th>4</th>\n      <td>17.0</td>\n      <td>8</td>\n      <td>302.0</td>\n      <td>140</td>\n      <td>3449</td>\n      <td>10.5</td>\n      <td>70</td>\n      <td>1</td>\n      <td>ford torino</td>\n    </tr>\n    <tr>\n      <th>...</th>\n      <td>...</td>\n      <td>...</td>\n      <td>...</td>\n      <td>...</td>\n      <td>...</td>\n      <td>...</td>\n      <td>...</td>\n      <td>...</td>\n      <td>...</td>\n    </tr>\n    <tr>\n      <th>393</th>\n      <td>27.0</td>\n      <td>4</td>\n      <td>140.0</td>\n      <td>86</td>\n      <td>2790</td>\n      <td>15.6</td>\n      <td>82</td>\n      <td>1</td>\n      <td>ford mustang gl</td>\n    </tr>\n    <tr>\n      <th>394</th>\n      <td>44.0</td>\n      <td>4</td>\n      <td>97.0</td>\n      <td>52</td>\n      <td>2130</td>\n      <td>24.6</td>\n      <td>82</td>\n      <td>2</td>\n      <td>vw pickup</td>\n    </tr>\n    <tr>\n      <th>395</th>\n      <td>32.0</td>\n      <td>4</td>\n      <td>135.0</td>\n      <td>84</td>\n      <td>2295</td>\n      <td>11.6</td>\n      <td>82</td>\n      <td>1</td>\n      <td>dodge rampage</td>\n    </tr>\n    <tr>\n      <th>396</th>\n      <td>28.0</td>\n      <td>4</td>\n      <td>120.0</td>\n      <td>79</td>\n      <td>2625</td>\n      <td>18.6</td>\n      <td>82</td>\n      <td>1</td>\n      <td>ford ranger</td>\n    </tr>\n    <tr>\n      <th>397</th>\n      <td>31.0</td>\n      <td>4</td>\n      <td>119.0</td>\n      <td>82</td>\n      <td>2720</td>\n      <td>19.4</td>\n      <td>82</td>\n      <td>1</td>\n      <td>chevy s-10</td>\n    </tr>\n  </tbody>\n</table>\n<p>398 rows × 9 columns</p>\n</div>"
     },
     "execution_count": 151,
     "metadata": {},
     "output_type": "execute_result"
    }
   ],
   "source": [
    "mpg"
   ],
   "metadata": {
    "collapsed": false,
    "ExecuteTime": {
     "end_time": "2024-02-28T11:31:53.124786700Z",
     "start_time": "2024-02-28T11:31:53.034277700Z"
    }
   },
   "id": "fda960aacdcc8dd9",
   "execution_count": 151
  },
  {
   "cell_type": "code",
   "outputs": [
    {
     "data": {
      "text/plain": "(398, 9)"
     },
     "execution_count": 152,
     "metadata": {},
     "output_type": "execute_result"
    }
   ],
   "source": [
    "mpg.shape"
   ],
   "metadata": {
    "collapsed": false,
    "ExecuteTime": {
     "end_time": "2024-02-28T11:31:53.153226300Z",
     "start_time": "2024-02-28T11:31:53.040716Z"
    }
   },
   "id": "5fb59376bafd6759",
   "execution_count": 152
  },
  {
   "cell_type": "code",
   "outputs": [
    {
     "data": {
      "text/plain": "(398,)"
     },
     "execution_count": 153,
     "metadata": {},
     "output_type": "execute_result"
    }
   ],
   "source": [
    "target.shape"
   ],
   "metadata": {
    "collapsed": false,
    "ExecuteTime": {
     "end_time": "2024-02-28T11:31:53.172274300Z",
     "start_time": "2024-02-28T11:31:53.059859600Z"
    }
   },
   "id": "3571ebcb7fdfee5f",
   "execution_count": 153
  },
  {
   "cell_type": "code",
   "outputs": [
    {
     "data": {
      "text/plain": "Index(['cylinders', 'displacement', 'horsepower', 'weight'], dtype='object')"
     },
     "execution_count": 154,
     "metadata": {},
     "output_type": "execute_result"
    }
   ],
   "source": [
    "feature.columns"
   ],
   "metadata": {
    "collapsed": false,
    "ExecuteTime": {
     "end_time": "2024-02-28T11:31:53.283484300Z",
     "start_time": "2024-02-28T11:31:53.159824100Z"
    }
   },
   "id": "160c9904fb60143f",
   "execution_count": 154
  },
  {
   "cell_type": "code",
   "outputs": [
    {
     "data": {
      "text/plain": "(398, 4)"
     },
     "execution_count": 155,
     "metadata": {},
     "output_type": "execute_result"
    }
   ],
   "source": [
    "feature.shape"
   ],
   "metadata": {
    "collapsed": false,
    "ExecuteTime": {
     "end_time": "2024-02-28T11:31:53.327598100Z",
     "start_time": "2024-02-28T11:31:53.259601100Z"
    }
   },
   "id": "6d11677d22c1fefa",
   "execution_count": 155
  },
  {
   "cell_type": "code",
   "outputs": [
    {
     "data": {
      "text/plain": "<Figure size 640x480 with 4 Axes>",
      "image/png": "[encoded data removed]"
     },
     "metadata": {},
     "output_type": "display_data"
    }
   ],
   "source": [
    "print_feature(2,2, mpg,'mpg', feature.columns, corr1[1:])"
   ],
   "metadata": {
    "collapsed": false,
    "ExecuteTime": {
     "end_time": "2024-02-28T11:31:53.940181500Z",
     "start_time": "2024-02-28T11:31:53.349530900Z"
    }
   },
   "id": "a79e379b787b3793",
   "execution_count": 156
  },
  {
   "cell_type": "markdown",
   "source": [
    "cylinder => 버립시당"
   ],
   "metadata": {
    "collapsed": false
   },
   "id": "a3b159dfdab69d09"
  },
  {
   "cell_type": "code",
   "outputs": [
    {
     "data": {
      "text/plain": "     displacement  horsepower  weight\n0           307.0         130    3504\n1           350.0         165    3693\n2           318.0         150    3436\n3           304.0         150    3433\n4           302.0         140    3449\n..            ...         ...     ...\n393         140.0          86    2790\n394          97.0          52    2130\n395         135.0          84    2295\n396         120.0          79    2625\n397         119.0          82    2720\n\n[398 rows x 3 columns]",
      "text/html": "<div>\n<style scoped>\n    .dataframe tbody tr th:only-of-type {\n        vertical-align: middle;\n    }\n\n    .dataframe tbody tr th {\n        vertical-align: top;\n    }\n\n    .dataframe thead th {\n        text-align: right;\n    }\n</style>\n<table border=\"1\" class=\"dataframe\">\n  <thead>\n    <tr style=\"text-align: right;\">\n      <th></th>\n      <th>displacement</th>\n      <th>horsepower</th>\n      <th>weight</th>\n    </tr>\n  </thead>\n  <tbody>\n    <tr>\n      <th>0</th>\n      <td>307.0</td>\n      <td>130</td>\n      <td>3504</td>\n    </tr>\n    <tr>\n      <th>1</th>\n      <td>350.0</td>\n      <td>165</td>\n      <td>3693</td>\n    </tr>\n    <tr>\n      <th>2</th>\n      <td>318.0</td>\n      <td>150</td>\n      <td>3436</td>\n    </tr>\n    <tr>\n      <th>3</th>\n      <td>304.0</td>\n      <td>150</td>\n      <td>3433</td>\n    </tr>\n    <tr>\n      <th>4</th>\n      <td>302.0</td>\n      <td>140</td>\n      <td>3449</td>\n    </tr>\n    <tr>\n      <th>...</th>\n      <td>...</td>\n      <td>...</td>\n      <td>...</td>\n    </tr>\n    <tr>\n      <th>393</th>\n      <td>140.0</td>\n      <td>86</td>\n      <td>2790</td>\n    </tr>\n    <tr>\n      <th>394</th>\n      <td>97.0</td>\n      <td>52</td>\n      <td>2130</td>\n    </tr>\n    <tr>\n      <th>395</th>\n      <td>135.0</td>\n      <td>84</td>\n      <td>2295</td>\n    </tr>\n    <tr>\n      <th>396</th>\n      <td>120.0</td>\n      <td>79</td>\n      <td>2625</td>\n    </tr>\n    <tr>\n      <th>397</th>\n      <td>119.0</td>\n      <td>82</td>\n      <td>2720</td>\n    </tr>\n  </tbody>\n</table>\n<p>398 rows × 3 columns</p>\n</div>"
     },
     "execution_count": 157,
     "metadata": {},
     "output_type": "execute_result"
    }
   ],
   "source": [
    "feature = feature[feature.columns[1:5]]\n",
    "feature"
   ],
   "metadata": {
    "collapsed": false,
    "ExecuteTime": {
     "end_time": "2024-02-28T11:31:53.954060200Z",
     "start_time": "2024-02-28T11:31:53.936121300Z"
    }
   },
   "id": "dcaafea16d4b1e35",
   "execution_count": 157
  },
  {
   "cell_type": "code",
   "outputs": [
    {
     "data": {
      "text/plain": "(398, 3)"
     },
     "execution_count": 158,
     "metadata": {},
     "output_type": "execute_result"
    }
   ],
   "source": [
    "feature.shape"
   ],
   "metadata": {
    "collapsed": false,
    "ExecuteTime": {
     "end_time": "2024-02-28T11:31:54.014664700Z",
     "start_time": "2024-02-28T11:31:53.944760700Z"
    }
   },
   "id": "24799de22eb3db5a",
   "execution_count": 158
  },
  {
   "cell_type": "code",
   "outputs": [
    {
     "data": {
      "text/plain": "(398,)"
     },
     "execution_count": 159,
     "metadata": {},
     "output_type": "execute_result"
    }
   ],
   "source": [
    "target.shape"
   ],
   "metadata": {
    "collapsed": false,
    "ExecuteTime": {
     "end_time": "2024-02-28T11:31:54.015673300Z",
     "start_time": "2024-02-28T11:31:53.960077400Z"
    }
   },
   "id": "2602417568308b5f",
   "execution_count": 159
  },
  {
   "cell_type": "code",
   "outputs": [],
   "source": [],
   "metadata": {
    "collapsed": false,
    "ExecuteTime": {
     "end_time": "2024-02-28T11:31:54.015866100Z",
     "start_time": "2024-02-28T11:31:53.976993600Z"
    }
   },
   "id": "b49945c2895db292",
   "execution_count": 159
  },
  {
   "cell_type": "markdown",
   "source": [
    "## 학습 진행\n",
    "- 알고리즘 : 음의 곡선형 관계 => polynomial Regression: 다항회귀\n",
    "- 학습 데이터 준비 : feature / target 분리, 학습용 / 테스트용 데이터셋 분리\n",
    "- feature 범위 비교 : horsepower 최저값 - 46 (0 제외)\n",
    "                      horsepower 최대값 - 230\n",
    "                      weight 최저값 - 1643\n",
    "                      weight 최대값 - 4278\n",
    "==================> 피처 스케일링. "
   ],
   "metadata": {
    "collapsed": false
   },
   "id": "f8cceb7bd876ebd7"
  },
  {
   "cell_type": "code",
   "outputs": [],
   "source": [
    "x_train, x_test, y_train, y_test = train_test_split(feature, target)"
   ],
   "metadata": {
    "collapsed": false,
    "ExecuteTime": {
     "end_time": "2024-02-28T11:32:29.950280600Z",
     "start_time": "2024-02-28T11:32:29.940980400Z"
    }
   },
   "id": "f818dd4396dc24c2",
   "execution_count": 161
  },
  {
   "cell_type": "code",
   "outputs": [
    {
     "name": "stdout",
     "output_type": "stream",
     "text": [
      "[train] \n",
      "x_train ; (298, 3), y_train ; (298,) \n",
      "[test] \n",
      " x_test ; (100, 3), y_test ; (100,) \n"
     ]
    }
   ],
   "source": [
    "print(f'[train] \\nx_train ; {x_train.shape}, y_train ; {y_train.shape} ')\n",
    "print(f'[test] \\n x_test ; {x_test.shape}, y_test ; {y_test.shape} ')"
   ],
   "metadata": {
    "collapsed": false,
    "ExecuteTime": {
     "end_time": "2024-02-28T11:34:12.840530300Z",
     "start_time": "2024-02-28T11:34:12.818521300Z"
    }
   },
   "id": "1da11da3c3677b39",
   "execution_count": 163
  },
  {
   "cell_type": "markdown",
   "source": [
    "3 - 1. feature scaling : train data fit"
   ],
   "metadata": {
    "collapsed": false
   },
   "id": "2c58a5c42533b978"
  },
  {
   "cell_type": "code",
   "outputs": [
    {
     "data": {
      "text/plain": "StandardScaler()",
      "text/html": "<style>#sk-container-id-1 {color: black;}#sk-container-id-1 pre{padding: 0;}#sk-container-id-1 div.sk-toggleable {background-color: white;}#sk-container-id-1 label.sk-toggleable__label {cursor: pointer;display: block;width: 100%;margin-bottom: 0;padding: 0.3em;box-sizing: border-box;text-align: center;}#sk-container-id-1 label.sk-toggleable__label-arrow:before {content: \"▸\";float: left;margin-right: 0.25em;color: #696969;}#sk-container-id-1 label.sk-toggleable__label-arrow:hover:before {color: black;}#sk-container-id-1 div.sk-estimator:hover label.sk-toggleable__label-arrow:before {color: black;}#sk-container-id-1 div.sk-toggleable__content {max-height: 0;max-width: 0;overflow: hidden;text-align: left;background-color: #f0f8ff;}#sk-container-id-1 div.sk-toggleable__content pre {margin: 0.2em;color: black;border-radius: 0.25em;background-color: #f0f8ff;}#sk-container-id-1 input.sk-toggleable__control:checked~div.sk-toggleable__content {max-height: 200px;max-width: 100%;overflow: auto;}#sk-container-id-1 input.sk-toggleable__control:checked~label.sk-toggleable__label-arrow:before {content: \"▾\";}#sk-container-id-1 div.sk-estimator input.sk-toggleable__control:checked~label.sk-toggleable__label {background-color: #d4ebff;}#sk-container-id-1 div.sk-label input.sk-toggleable__control:checked~label.sk-toggleable__label {background-color: #d4ebff;}#sk-container-id-1 input.sk-hidden--visually {border: 0;clip: rect(1px 1px 1px 1px);clip: rect(1px, 1px, 1px, 1px);height: 1px;margin: -1px;overflow: hidden;padding: 0;position: absolute;width: 1px;}#sk-container-id-1 div.sk-estimator {font-family: monospace;background-color: #f0f8ff;border: 1px dotted black;border-radius: 0.25em;box-sizing: border-box;margin-bottom: 0.5em;}#sk-container-id-1 div.sk-estimator:hover {background-color: #d4ebff;}#sk-container-id-1 div.sk-parallel-item::after {content: \"\";width: 100%;border-bottom: 1px solid gray;flex-grow: 1;}#sk-container-id-1 div.sk-label:hover label.sk-toggleable__label {background-color: #d4ebff;}#sk-container-id-1 div.sk-serial::before {content: \"\";position: absolute;border-left: 1px solid gray;box-sizing: border-box;top: 0;bottom: 0;left: 50%;z-index: 0;}#sk-container-id-1 div.sk-serial {display: flex;flex-direction: column;align-items: center;background-color: white;padding-right: 0.2em;padding-left: 0.2em;position: relative;}#sk-container-id-1 div.sk-item {position: relative;z-index: 1;}#sk-container-id-1 div.sk-parallel {display: flex;align-items: stretch;justify-content: center;background-color: white;position: relative;}#sk-container-id-1 div.sk-item::before, #sk-container-id-1 div.sk-parallel-item::before {content: \"\";position: absolute;border-left: 1px solid gray;box-sizing: border-box;top: 0;bottom: 0;left: 50%;z-index: -1;}#sk-container-id-1 div.sk-parallel-item {display: flex;flex-direction: column;z-index: 1;position: relative;background-color: white;}#sk-container-id-1 div.sk-parallel-item:first-child::after {align-self: flex-end;width: 50%;}#sk-container-id-1 div.sk-parallel-item:last-child::after {align-self: flex-start;width: 50%;}#sk-container-id-1 div.sk-parallel-item:only-child::after {width: 0;}#sk-container-id-1 div.sk-dashed-wrapped {border: 1px dashed gray;margin: 0 0.4em 0.5em 0.4em;box-sizing: border-box;padding-bottom: 0.4em;background-color: white;}#sk-container-id-1 div.sk-label label {font-family: monospace;font-weight: bold;display: inline-block;line-height: 1.2em;}#sk-container-id-1 div.sk-label-container {text-align: center;}#sk-container-id-1 div.sk-container {/* jupyter's `normalize.less` sets `[hidden] { display: none; }` but bootstrap.min.css set `[hidden] { display: none !important; }` so we also need the `!important` here to be able to override the default hidden behavior on the sphinx rendered scikit-learn.org. See: https://github.com/scikit-learn/scikit-learn/issues/21755 */display: inline-block !important;position: relative;}#sk-container-id-1 div.sk-text-repr-fallback {display: none;}</style><div id=\"sk-container-id-1\" class=\"sk-top-container\"><div class=\"sk-text-repr-fallback\"><pre>StandardScaler()</pre><b>In a Jupyter environment, please rerun this cell to show the HTML representation or trust the notebook. <br />On GitHub, the HTML representation is unable to render, please try loading this page with nbviewer.org.</b></div><div class=\"sk-container\" hidden><div class=\"sk-item\"><div class=\"sk-estimator sk-toggleable\"><input class=\"sk-toggleable__control sk-hidden--visually\" id=\"sk-estimator-id-1\" type=\"checkbox\" checked><label for=\"sk-estimator-id-1\" class=\"sk-toggleable__label sk-toggleable__label-arrow\">StandardScaler</label><div class=\"sk-toggleable__content\"><pre>StandardScaler()</pre></div></div></div></div></div>"
     },
     "execution_count": 164,
     "metadata": {},
     "output_type": "execute_result"
    }
   ],
   "source": [
    "standard = StandardScaler()\n",
    "standard.fit(x_train)"
   ],
   "metadata": {
    "collapsed": false,
    "ExecuteTime": {
     "end_time": "2024-02-28T11:35:41.993959300Z",
     "start_time": "2024-02-28T11:35:41.945895200Z"
    }
   },
   "id": "57207d12795f0991",
   "execution_count": 164
  },
  {
   "cell_type": "code",
   "outputs": [
    {
     "data": {
      "text/plain": "MinMaxScaler()",
      "text/html": "<style>#sk-container-id-2 {color: black;}#sk-container-id-2 pre{padding: 0;}#sk-container-id-2 div.sk-toggleable {background-color: white;}#sk-container-id-2 label.sk-toggleable__label {cursor: pointer;display: block;width: 100%;margin-bottom: 0;padding: 0.3em;box-sizing: border-box;text-align: center;}#sk-container-id-2 label.sk-toggleable__label-arrow:before {content: \"▸\";float: left;margin-right: 0.25em;color: #696969;}#sk-container-id-2 label.sk-toggleable__label-arrow:hover:before {color: black;}#sk-container-id-2 div.sk-estimator:hover label.sk-toggleable__label-arrow:before {color: black;}#sk-container-id-2 div.sk-toggleable__content {max-height: 0;max-width: 0;overflow: hidden;text-align: left;background-color: #f0f8ff;}#sk-container-id-2 div.sk-toggleable__content pre {margin: 0.2em;color: black;border-radius: 0.25em;background-color: #f0f8ff;}#sk-container-id-2 input.sk-toggleable__control:checked~div.sk-toggleable__content {max-height: 200px;max-width: 100%;overflow: auto;}#sk-container-id-2 input.sk-toggleable__control:checked~label.sk-toggleable__label-arrow:before {content: \"▾\";}#sk-container-id-2 div.sk-estimator input.sk-toggleable__control:checked~label.sk-toggleable__label {background-color: #d4ebff;}#sk-container-id-2 div.sk-label input.sk-toggleable__control:checked~label.sk-toggleable__label {background-color: #d4ebff;}#sk-container-id-2 input.sk-hidden--visually {border: 0;clip: rect(1px 1px 1px 1px);clip: rect(1px, 1px, 1px, 1px);height: 1px;margin: -1px;overflow: hidden;padding: 0;position: absolute;width: 1px;}#sk-container-id-2 div.sk-estimator {font-family: monospace;background-color: #f0f8ff;border: 1px dotted black;border-radius: 0.25em;box-sizing: border-box;margin-bottom: 0.5em;}#sk-container-id-2 div.sk-estimator:hover {background-color: #d4ebff;}#sk-container-id-2 div.sk-parallel-item::after {content: \"\";width: 100%;border-bottom: 1px solid gray;flex-grow: 1;}#sk-container-id-2 div.sk-label:hover label.sk-toggleable__label {background-color: #d4ebff;}#sk-container-id-2 div.sk-serial::before {content: \"\";position: absolute;border-left: 1px solid gray;box-sizing: border-box;top: 0;bottom: 0;left: 50%;z-index: 0;}#sk-container-id-2 div.sk-serial {display: flex;flex-direction: column;align-items: center;background-color: white;padding-right: 0.2em;padding-left: 0.2em;position: relative;}#sk-container-id-2 div.sk-item {position: relative;z-index: 1;}#sk-container-id-2 div.sk-parallel {display: flex;align-items: stretch;justify-content: center;background-color: white;position: relative;}#sk-container-id-2 div.sk-item::before, #sk-container-id-2 div.sk-parallel-item::before {content: \"\";position: absolute;border-left: 1px solid gray;box-sizing: border-box;top: 0;bottom: 0;left: 50%;z-index: -1;}#sk-container-id-2 div.sk-parallel-item {display: flex;flex-direction: column;z-index: 1;position: relative;background-color: white;}#sk-container-id-2 div.sk-parallel-item:first-child::after {align-self: flex-end;width: 50%;}#sk-container-id-2 div.sk-parallel-item:last-child::after {align-self: flex-start;width: 50%;}#sk-container-id-2 div.sk-parallel-item:only-child::after {width: 0;}#sk-container-id-2 div.sk-dashed-wrapped {border: 1px dashed gray;margin: 0 0.4em 0.5em 0.4em;box-sizing: border-box;padding-bottom: 0.4em;background-color: white;}#sk-container-id-2 div.sk-label label {font-family: monospace;font-weight: bold;display: inline-block;line-height: 1.2em;}#sk-container-id-2 div.sk-label-container {text-align: center;}#sk-container-id-2 div.sk-container {/* jupyter's `normalize.less` sets `[hidden] { display: none; }` but bootstrap.min.css set `[hidden] { display: none !important; }` so we also need the `!important` here to be able to override the default hidden behavior on the sphinx rendered scikit-learn.org. See: https://github.com/scikit-learn/scikit-learn/issues/21755 */display: inline-block !important;position: relative;}#sk-container-id-2 div.sk-text-repr-fallback {display: none;}</style><div id=\"sk-container-id-2\" class=\"sk-top-container\"><div class=\"sk-text-repr-fallback\"><pre>MinMaxScaler()</pre><b>In a Jupyter environment, please rerun this cell to show the HTML representation or trust the notebook. <br />On GitHub, the HTML representation is unable to render, please try loading this page with nbviewer.org.</b></div><div class=\"sk-container\" hidden><div class=\"sk-item\"><div class=\"sk-estimator sk-toggleable\"><input class=\"sk-toggleable__control sk-hidden--visually\" id=\"sk-estimator-id-2\" type=\"checkbox\" checked><label for=\"sk-estimator-id-2\" class=\"sk-toggleable__label sk-toggleable__label-arrow\">MinMaxScaler</label><div class=\"sk-toggleable__content\"><pre>MinMaxScaler()</pre></div></div></div></div></div>"
     },
     "execution_count": 165,
     "metadata": {},
     "output_type": "execute_result"
    }
   ],
   "source": [
    "mmscaler = MinMaxScaler()  \n",
    "mmscaler.fit(x_train)\n"
   ],
   "metadata": {
    "collapsed": false,
    "ExecuteTime": {
     "end_time": "2024-02-28T11:36:16.229531100Z",
     "start_time": "2024-02-28T11:36:16.208530400Z"
    }
   },
   "id": "cb91486d6ca7efb0",
   "execution_count": 165
  },
  {
   "cell_type": "code",
   "outputs": [
    {
     "data": {
      "text/plain": "RobustScaler()",
      "text/html": "<style>#sk-container-id-3 {color: black;}#sk-container-id-3 pre{padding: 0;}#sk-container-id-3 div.sk-toggleable {background-color: white;}#sk-container-id-3 label.sk-toggleable__label {cursor: pointer;display: block;width: 100%;margin-bottom: 0;padding: 0.3em;box-sizing: border-box;text-align: center;}#sk-container-id-3 label.sk-toggleable__label-arrow:before {content: \"▸\";float: left;margin-right: 0.25em;color: #696969;}#sk-container-id-3 label.sk-toggleable__label-arrow:hover:before {color: black;}#sk-container-id-3 div.sk-estimator:hover label.sk-toggleable__label-arrow:before {color: black;}#sk-container-id-3 div.sk-toggleable__content {max-height: 0;max-width: 0;overflow: hidden;text-align: left;background-color: #f0f8ff;}#sk-container-id-3 div.sk-toggleable__content pre {margin: 0.2em;color: black;border-radius: 0.25em;background-color: #f0f8ff;}#sk-container-id-3 input.sk-toggleable__control:checked~div.sk-toggleable__content {max-height: 200px;max-width: 100%;overflow: auto;}#sk-container-id-3 input.sk-toggleable__control:checked~label.sk-toggleable__label-arrow:before {content: \"▾\";}#sk-container-id-3 div.sk-estimator input.sk-toggleable__control:checked~label.sk-toggleable__label {background-color: #d4ebff;}#sk-container-id-3 div.sk-label input.sk-toggleable__control:checked~label.sk-toggleable__label {background-color: #d4ebff;}#sk-container-id-3 input.sk-hidden--visually {border: 0;clip: rect(1px 1px 1px 1px);clip: rect(1px, 1px, 1px, 1px);height: 1px;margin: -1px;overflow: hidden;padding: 0;position: absolute;width: 1px;}#sk-container-id-3 div.sk-estimator {font-family: monospace;background-color: #f0f8ff;border: 1px dotted black;border-radius: 0.25em;box-sizing: border-box;margin-bottom: 0.5em;}#sk-container-id-3 div.sk-estimator:hover {background-color: #d4ebff;}#sk-container-id-3 div.sk-parallel-item::after {content: \"\";width: 100%;border-bottom: 1px solid gray;flex-grow: 1;}#sk-container-id-3 div.sk-label:hover label.sk-toggleable__label {background-color: #d4ebff;}#sk-container-id-3 div.sk-serial::before {content: \"\";position: absolute;border-left: 1px solid gray;box-sizing: border-box;top: 0;bottom: 0;left: 50%;z-index: 0;}#sk-container-id-3 div.sk-serial {display: flex;flex-direction: column;align-items: center;background-color: white;padding-right: 0.2em;padding-left: 0.2em;position: relative;}#sk-container-id-3 div.sk-item {position: relative;z-index: 1;}#sk-container-id-3 div.sk-parallel {display: flex;align-items: stretch;justify-content: center;background-color: white;position: relative;}#sk-container-id-3 div.sk-item::before, #sk-container-id-3 div.sk-parallel-item::before {content: \"\";position: absolute;border-left: 1px solid gray;box-sizing: border-box;top: 0;bottom: 0;left: 50%;z-index: -1;}#sk-container-id-3 div.sk-parallel-item {display: flex;flex-direction: column;z-index: 1;position: relative;background-color: white;}#sk-container-id-3 div.sk-parallel-item:first-child::after {align-self: flex-end;width: 50%;}#sk-container-id-3 div.sk-parallel-item:last-child::after {align-self: flex-start;width: 50%;}#sk-container-id-3 div.sk-parallel-item:only-child::after {width: 0;}#sk-container-id-3 div.sk-dashed-wrapped {border: 1px dashed gray;margin: 0 0.4em 0.5em 0.4em;box-sizing: border-box;padding-bottom: 0.4em;background-color: white;}#sk-container-id-3 div.sk-label label {font-family: monospace;font-weight: bold;display: inline-block;line-height: 1.2em;}#sk-container-id-3 div.sk-label-container {text-align: center;}#sk-container-id-3 div.sk-container {/* jupyter's `normalize.less` sets `[hidden] { display: none; }` but bootstrap.min.css set `[hidden] { display: none !important; }` so we also need the `!important` here to be able to override the default hidden behavior on the sphinx rendered scikit-learn.org. See: https://github.com/scikit-learn/scikit-learn/issues/21755 */display: inline-block !important;position: relative;}#sk-container-id-3 div.sk-text-repr-fallback {display: none;}</style><div id=\"sk-container-id-3\" class=\"sk-top-container\"><div class=\"sk-text-repr-fallback\"><pre>RobustScaler()</pre><b>In a Jupyter environment, please rerun this cell to show the HTML representation or trust the notebook. <br />On GitHub, the HTML representation is unable to render, please try loading this page with nbviewer.org.</b></div><div class=\"sk-container\" hidden><div class=\"sk-item\"><div class=\"sk-estimator sk-toggleable\"><input class=\"sk-toggleable__control sk-hidden--visually\" id=\"sk-estimator-id-3\" type=\"checkbox\" checked><label for=\"sk-estimator-id-3\" class=\"sk-toggleable__label sk-toggleable__label-arrow\">RobustScaler</label><div class=\"sk-toggleable__content\"><pre>RobustScaler()</pre></div></div></div></div></div>"
     },
     "execution_count": 166,
     "metadata": {},
     "output_type": "execute_result"
    }
   ],
   "source": [
    "robust = RobustScaler()\n",
    "robust.fit(x_train)"
   ],
   "metadata": {
    "collapsed": false,
    "ExecuteTime": {
     "end_time": "2024-02-28T11:36:31.292174200Z",
     "start_time": "2024-02-28T11:36:31.267064500Z"
    }
   },
   "id": "df754733bacaa0ff",
   "execution_count": 166
  },
  {
   "cell_type": "code",
   "outputs": [],
   "source": [
    "#3 version of scaled dataset\n",
    "standard_xtrain = standard.transform(x_train)\n",
    "standard_xtest = standard.transform(x_test)\n",
    "\n",
    "mmscaled_xtrain = mmscaler.transform(x_train)\n",
    "mmscaled_xtest = mmscaler.transform(x_test)\n",
    "\n",
    "robust_xtrain = robust.transform(x_train)\n",
    "robust_xtest = robust.transform(x_test)"
   ],
   "metadata": {
    "collapsed": false,
    "ExecuteTime": {
     "end_time": "2024-02-28T11:40:35.482284700Z",
     "start_time": "2024-02-28T11:40:35.461737600Z"
    }
   },
   "id": "306808d4115ae5b6",
   "execution_count": 167
  },
  {
   "cell_type": "markdown",
   "source": [
    "4. 학습 진행"
   ],
   "metadata": {
    "collapsed": false
   },
   "id": "2d2d1ea2f746062f"
  },
  {
   "cell_type": "code",
   "outputs": [],
   "source": [
    "from sklearn.neighbors import KNeighborsRegressor\n"
   ],
   "metadata": {
    "collapsed": false,
    "ExecuteTime": {
     "end_time": "2024-02-28T11:46:46.815218300Z",
     "start_time": "2024-02-28T11:46:46.758721500Z"
    }
   },
   "id": "b779878056a0b6a6",
   "execution_count": 173
  },
  {
   "cell_type": "code",
   "outputs": [],
   "source": [],
   "metadata": {
    "collapsed": false,
    "ExecuteTime": {
     "end_time": "2024-02-28T11:41:50.878568700Z",
     "start_time": "2024-02-28T11:41:50.855351300Z"
    }
   },
   "id": "c760a212e684e691",
   "execution_count": 168
  },
  {
   "cell_type": "code",
   "outputs": [],
   "source": [
    "def scores(feature, target):\n",
    "    xtrain, xtest, ytrain, ytest = train_test_split(feature, target)\n",
    "    standard_xtrain = standard.transform(xtrain)\n",
    "    standard_xtest = standard.transform(xtest)\n",
    "\n",
    "    mmscaled_xtrain = mmscaler.transform(xtrain)\n",
    "    mmscaled_xtest = mmscaler.transform(xtest)\n",
    "\n",
    "    robust_xtrain = robust.transform(xtrain)\n",
    "    robust_xtest = robust.transform(xtest)\n",
    "    \n",
    "    # 학습시키기\n",
    "    md1 = KNeighborsRegressor(n_neighbors=25)\n",
    "    md1.fit(standard_xtrain, ytrain)\n",
    "    \n",
    "    md2 = KNeighborsRegressor(n_neighbors=25)\n",
    "    md2.fit(mmscaled_xtrain, ytrain)\n",
    "    \n",
    "    md3 = KNeighborsRegressor(n_neighbors=25)\n",
    "    md3.fit(robust_xtrain, ytrain)\n",
    "    \n",
    "    # 테스트 진행\n",
    "    standard_train_score = md1.score(standard_xtrain, ytrain)\n",
    "    standard_test_score = md1.score(standard_xtest, ytest)\n",
    "    \n",
    "    mm_train_score = md2.score(mmscaled_xtrain, ytrain)\n",
    "    mm_test_score = md2.score(mmscaled_xtest, ytest)\n",
    "    \n",
    "    robust_train_score = md3.score(robust_xtrain, ytrain)\n",
    "    robust_test_score = md3.score(robust_xtest, ytest)\n",
    "    \n",
    "    # 각 툴을 사용하여 점수만 출력하기\n",
    "    print(f'standard : \\n trainscore: {standard_train_score}\\n testscore: {standard_test_score}\\n')\n",
    "    print(f'minmax : \\n trainscore: {mm_train_score}\\n testscore: {mm_test_score}\\n')\n",
    "    print(f'robust : \\n trainscore: {robust_train_score}\\n testscore: {robust_test_score}\\n')\n",
    "    \n",
    "    #과대적합 비교하여 적절한 모델 도출하기\n",
    "    accuracy_standard = abs(standard_train_score - standard_test_score)\n",
    "    accuracy_robust = abs(robust_train_score - robust_test_score)\n",
    "    accuracy_minmax = abs(mm_train_score - robust_test_score)\n",
    "    total = {'minmax':accuracy_minmax, 'robust':accuracy_robust, 'standard':accuracy_standard} \n",
    "    \n",
    "    total.keys() #key 나열\n",
    "    total. values() # value 나열\n",
    "    \n",
    "    print(f'{min(total)}: 차이 {min(total.values())}')"
   ],
   "metadata": {
    "collapsed": false,
    "ExecuteTime": {
     "end_time": "2024-02-28T12:10:13.132093200Z",
     "start_time": "2024-02-28T12:10:13.124390800Z"
    }
   },
   "id": "a41d80341a68a8da",
   "execution_count": 180
  },
  {
   "cell_type": "code",
   "outputs": [
    {
     "name": "stdout",
     "output_type": "stream",
     "text": [
      "standard : \n",
      " trainscore: 0.7575514204460303\n",
      " testscore: 0.757580901482035\n",
      "\n",
      "minmax : \n",
      " trainscore: 0.7572413055685017\n",
      " testscore: 0.7679646708539367\n",
      "\n",
      "robust : \n",
      " trainscore: 0.7566947053470029\n",
      " testscore: 0.7506258697595156\n",
      "\n",
      "minmax: 차이 2.9481036004752603e-05\n"
     ]
    }
   ],
   "source": [
    "scores(feature, target)"
   ],
   "metadata": {
    "collapsed": false,
    "ExecuteTime": {
     "end_time": "2024-02-28T12:10:13.649998300Z",
     "start_time": "2024-02-28T12:10:13.622822700Z"
    }
   },
   "id": "4803425213401034",
   "execution_count": 181
  },
  {
   "cell_type": "code",
   "outputs": [],
   "source": [],
   "metadata": {
    "collapsed": false
   },
   "id": "7269d112c3aead3e"
  }
 ],
 "metadata": {
  "kernelspec": {
   "display_name": "Python 3",
   "language": "python",
   "name": "python3"
  },
  "language_info": {
   "codemirror_mode": {
    "name": "ipython",
    "version": 2
   },
   "file_extension": ".py",
   "mimetype": "text/x-python",
   "name": "python",
   "nbconvert_exporter": "python",
   "pygments_lexer": "ipython2",
   "version": "2.7.6"
  }
 },
 "nbformat": 4,
 "nbformat_minor": 5
}
